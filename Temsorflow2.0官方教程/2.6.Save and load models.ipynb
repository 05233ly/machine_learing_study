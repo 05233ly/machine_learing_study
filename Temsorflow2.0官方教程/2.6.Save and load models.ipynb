{
 "cells": [
  {
   "cell_type": "markdown",
   "metadata": {},
   "source": [
    "可以在训练期间和之后保存模型进度。这意味着模型可以从中断的地方继续进行，避免了长时间的训练。保存还意味着您可以共享模型，而其他人可以重新创建您的作品。在发布研究模型和技术时，大多数机器学习从业者分享：\n",
    "\n",
    "* 创建模型的代码，以及\n",
    "* 模型的训练权重或参数\n",
    "\n",
    "共享这些数据可帮助其他人了解模型的工作原理，并使用新数据自己尝试。"
   ]
  },
  {
   "cell_type": "code",
   "execution_count": 2,
   "metadata": {},
   "outputs": [],
   "source": [
    "# Required to save models in HDF5 format\n",
    "# !pip install -q pyyaml h5py  "
   ]
  },
  {
   "cell_type": "code",
   "execution_count": 3,
   "metadata": {},
   "outputs": [
    {
     "name": "stdout",
     "output_type": "stream",
     "text": [
      "2.0.0\n"
     ]
    }
   ],
   "source": [
    "from __future__ import absolute_import, division, print_function, unicode_literals\n",
    "\n",
    "import os\n",
    "\n",
    "import tensorflow as tf\n",
    "from tensorflow import keras\n",
    "\n",
    "print(tf.version.VERSION)"
   ]
  },
  {
   "cell_type": "markdown",
   "metadata": {},
   "source": [
    "获取演示数据"
   ]
  },
  {
   "cell_type": "code",
   "execution_count": 4,
   "metadata": {},
   "outputs": [],
   "source": [
    "(train_images, train_labels), (test_images, test_labels) = tf.keras.datasets.mnist.load_data()\n",
    "\n",
    "train_labels = train_labels[:1000]\n",
    "test_labels = test_labels[:1000]\n",
    "\n",
    "train_images = train_images[:1000].reshape(-1, 28 * 28) / 255.0\n",
    "test_images = test_images[:1000].reshape(-1, 28 * 28) / 255.0"
   ]
  },
  {
   "cell_type": "markdown",
   "metadata": {},
   "source": [
    "定义简单模型"
   ]
  },
  {
   "cell_type": "code",
   "execution_count": 5,
   "metadata": {},
   "outputs": [
    {
     "name": "stdout",
     "output_type": "stream",
     "text": [
      "Model: \"sequential\"\n",
      "_________________________________________________________________\n",
      "Layer (type)                 Output Shape              Param #   \n",
      "=================================================================\n",
      "dense (Dense)                (None, 512)               401920    \n",
      "_________________________________________________________________\n",
      "dropout (Dropout)            (None, 512)               0         \n",
      "_________________________________________________________________\n",
      "dense_1 (Dense)              (None, 10)                5130      \n",
      "=================================================================\n",
      "Total params: 407,050\n",
      "Trainable params: 407,050\n",
      "Non-trainable params: 0\n",
      "_________________________________________________________________\n"
     ]
    }
   ],
   "source": [
    "# Define a simple sequential model\n",
    "def create_model():\n",
    "    model = tf.keras.models.Sequential([\n",
    "        keras.layers.Dense(512, activation='relu', input_shape=(784,)),\n",
    "        keras.layers.Dropout(0.2),\n",
    "        keras.layers.Dense(10, activation='softmax')\n",
    "    ])\n",
    "\n",
    "    model.compile(optimizer='adam',\n",
    "                loss='sparse_categorical_crossentropy',\n",
    "                metrics=['accuracy'])\n",
    "\n",
    "    return model\n",
    "\n",
    "# Create a basic model instance\n",
    "model = create_model()\n",
    "\n",
    "# Display the model's architecture\n",
    "model.summary()"
   ]
  },
  {
   "cell_type": "markdown",
   "metadata": {},
   "source": [
    "## 一、训练过程中保存权重参数"
   ]
  },
  {
   "cell_type": "markdown",
   "metadata": {},
   "source": [
    "定义保存路径，以及在训练期间执行保存训练参数"
   ]
  },
  {
   "cell_type": "code",
   "execution_count": 6,
   "metadata": {},
   "outputs": [
    {
     "name": "stdout",
     "output_type": "stream",
     "text": [
      "Train on 1000 samples, validate on 1000 samples\n",
      "Epoch 1/10\n",
      " 640/1000 [==================>...........] - ETA: 0s - loss: 1.4740 - accuracy: 0.5781     \n",
      "Epoch 00001: saving model to training_1/cp.ckpt\n",
      "1000/1000 [==============================] - 1s 1ms/sample - loss: 1.1959 - accuracy: 0.6690 - val_loss: 0.7248 - val_accuracy: 0.7790\n",
      "Epoch 2/10\n",
      " 640/1000 [==================>...........] - ETA: 0s - loss: 0.4633 - accuracy: 0.8734\n",
      "Epoch 00002: saving model to training_1/cp.ckpt\n",
      "1000/1000 [==============================] - 0s 201us/sample - loss: 0.4372 - accuracy: 0.8820 - val_loss: 0.5440 - val_accuracy: 0.8350\n",
      "Epoch 3/10\n",
      " 640/1000 [==================>...........] - ETA: 0s - loss: 0.2826 - accuracy: 0.9250\n",
      "Epoch 00003: saving model to training_1/cp.ckpt\n",
      "1000/1000 [==============================] - 0s 201us/sample - loss: 0.2889 - accuracy: 0.9260 - val_loss: 0.4745 - val_accuracy: 0.8480\n",
      "Epoch 4/10\n",
      " 608/1000 [=================>............] - ETA: 0s - loss: 0.2115 - accuracy: 0.9539\n",
      "Epoch 00004: saving model to training_1/cp.ckpt\n",
      "1000/1000 [==============================] - 0s 202us/sample - loss: 0.2246 - accuracy: 0.9500 - val_loss: 0.4385 - val_accuracy: 0.8520\n",
      "Epoch 5/10\n",
      " 608/1000 [=================>............] - ETA: 0s - loss: 0.1644 - accuracy: 0.9688\n",
      "Epoch 00005: saving model to training_1/cp.ckpt\n",
      "1000/1000 [==============================] - 0s 213us/sample - loss: 0.1576 - accuracy: 0.9640 - val_loss: 0.4174 - val_accuracy: 0.8670\n",
      "Epoch 6/10\n",
      " 640/1000 [==================>...........] - ETA: 0s - loss: 0.1178 - accuracy: 0.9781\n",
      "Epoch 00006: saving model to training_1/cp.ckpt\n",
      "1000/1000 [==============================] - 0s 225us/sample - loss: 0.1228 - accuracy: 0.9780 - val_loss: 0.3999 - val_accuracy: 0.8690\n",
      "Epoch 7/10\n",
      " 640/1000 [==================>...........] - ETA: 0s - loss: 0.0891 - accuracy: 0.9875\n",
      "Epoch 00007: saving model to training_1/cp.ckpt\n",
      "1000/1000 [==============================] - 0s 199us/sample - loss: 0.0889 - accuracy: 0.9870 - val_loss: 0.4042 - val_accuracy: 0.8610\n",
      "Epoch 8/10\n",
      " 640/1000 [==================>...........] - ETA: 0s - loss: 0.0761 - accuracy: 0.9891\n",
      "Epoch 00008: saving model to training_1/cp.ckpt\n",
      "1000/1000 [==============================] - 0s 198us/sample - loss: 0.0701 - accuracy: 0.9910 - val_loss: 0.4003 - val_accuracy: 0.8640\n",
      "Epoch 9/10\n",
      " 640/1000 [==================>...........] - ETA: 0s - loss: 0.0494 - accuracy: 0.9969\n",
      "Epoch 00009: saving model to training_1/cp.ckpt\n",
      "1000/1000 [==============================] - 0s 203us/sample - loss: 0.0521 - accuracy: 0.9960 - val_loss: 0.4059 - val_accuracy: 0.8670\n",
      "Epoch 10/10\n",
      " 640/1000 [==================>...........] - ETA: 0s - loss: 0.0383 - accuracy: 0.9984\n",
      "Epoch 00010: saving model to training_1/cp.ckpt\n",
      "1000/1000 [==============================] - 0s 189us/sample - loss: 0.0387 - accuracy: 0.9990 - val_loss: 0.4023 - val_accuracy: 0.8710\n"
     ]
    },
    {
     "data": {
      "text/plain": [
       "<tensorflow.python.keras.callbacks.History at 0x1e3efb59208>"
      ]
     },
     "execution_count": 6,
     "metadata": {},
     "output_type": "execute_result"
    }
   ],
   "source": [
    "checkpoint_path = \"training_1/cp.ckpt\"\n",
    "checkpoint_dir = os.path.dirname(checkpoint_path)\n",
    "\n",
    "# Create a callback that saves the model's weights\n",
    "cp_callback = tf.keras.callbacks.ModelCheckpoint(filepath=checkpoint_path,\n",
    "                                                 save_weights_only=True,\n",
    "                                                 verbose=1)\n",
    "\n",
    "# Train the model with the new callback\n",
    "model.fit(train_images, \n",
    "          train_labels,  \n",
    "          epochs=10,\n",
    "          validation_data=(test_images,test_labels),\n",
    "          callbacks=[cp_callback])  # Pass callback to training\n",
    "\n",
    "# This may generate warnings related to saving the state of the optimizer.\n",
    "# These warnings (and similar warnings throughout this notebook)\n",
    "# are in place to discourage outdated usage, and can be ignored."
   ]
  },
  {
   "cell_type": "code",
   "execution_count": 8,
   "metadata": {},
   "outputs": [
    {
     "name": "stdout",
     "output_type": "stream",
     "text": [
      " 驱动器 C 中的卷是 系统\n",
      " 卷的序列号是 0864-E2D5\n",
      "\n",
      " C:\\Users\\30660\\Documents\\Project\\python\\jupyter\\TensorFlow2.0官方\\training_1 的目录\n",
      "\n",
      "2019/10/14  19:18    <DIR>          .\n",
      "2019/10/14  19:18    <DIR>          ..\n",
      "2019/10/14  19:18                71 checkpoint\n",
      "2019/10/14  19:18             2,064 cp.ckpt.data-00000-of-00002\n",
      "2019/10/14  19:18         4,884,624 cp.ckpt.data-00001-of-00002\n",
      "2019/10/14  19:18             1,251 cp.ckpt.index\n",
      "               4 个文件      4,888,010 字节\n",
      "               2 个目录 819,545,059,328 可用字节\n"
     ]
    }
   ],
   "source": [
    "!dir {checkpoint_dir}"
   ]
  },
  {
   "cell_type": "markdown",
   "metadata": {},
   "source": [
    "未经训练的模型"
   ]
  },
  {
   "cell_type": "code",
   "execution_count": 9,
   "metadata": {},
   "outputs": [
    {
     "name": "stdout",
     "output_type": "stream",
     "text": [
      "1000/1 - 0s - loss: 2.3595 - accuracy: 0.0560\n",
      "Untrained model, accuracy:  5.60%\n"
     ]
    }
   ],
   "source": [
    "# Create a basic model instance\n",
    "model = create_model()\n",
    "\n",
    "# Evaluate the model\n",
    "loss, acc = model.evaluate(test_images,  test_labels, verbose=2)\n",
    "print(\"Untrained model, accuracy: {:5.2f}%\".format(100*acc))"
   ]
  },
  {
   "cell_type": "markdown",
   "metadata": {},
   "source": [
    "加载模型参数后"
   ]
  },
  {
   "cell_type": "code",
   "execution_count": 10,
   "metadata": {},
   "outputs": [
    {
     "name": "stdout",
     "output_type": "stream",
     "text": [
      "1000/1 - 0s - loss: 0.4233 - accuracy: 0.8710\n",
      "Restored model, accuracy: 87.10%\n"
     ]
    }
   ],
   "source": [
    "# Loads the weights\n",
    "model.load_weights(checkpoint_path)\n",
    "\n",
    "# Re-evaluate the model\n",
    "loss,acc = model.evaluate(test_images,  test_labels, verbose=2)\n",
    "print(\"Restored model, accuracy: {:5.2f}%\".format(100*acc))"
   ]
  },
  {
   "cell_type": "markdown",
   "metadata": {},
   "source": [
    "## 二、设定保存频率"
   ]
  },
  {
   "cell_type": "markdown",
   "metadata": {},
   "source": [
    "每五个时期保存一次，并且按照当前训练轮数命名保存"
   ]
  },
  {
   "cell_type": "code",
   "execution_count": 11,
   "metadata": {},
   "outputs": [
    {
     "name": "stdout",
     "output_type": "stream",
     "text": [
      "WARNING:tensorflow:`period` argument is deprecated. Please use `save_freq` to specify the frequency in number of samples seen.\n",
      "\n",
      "Epoch 00005: saving model to training_2/cp-0005.ckpt\n",
      "\n",
      "Epoch 00010: saving model to training_2/cp-0010.ckpt\n",
      "\n",
      "Epoch 00015: saving model to training_2/cp-0015.ckpt\n",
      "\n",
      "Epoch 00020: saving model to training_2/cp-0020.ckpt\n",
      "\n",
      "Epoch 00025: saving model to training_2/cp-0025.ckpt\n",
      "\n",
      "Epoch 00030: saving model to training_2/cp-0030.ckpt\n",
      "\n",
      "Epoch 00035: saving model to training_2/cp-0035.ckpt\n",
      "\n",
      "Epoch 00040: saving model to training_2/cp-0040.ckpt\n",
      "\n",
      "Epoch 00045: saving model to training_2/cp-0045.ckpt\n",
      "\n",
      "Epoch 00050: saving model to training_2/cp-0050.ckpt\n"
     ]
    },
    {
     "data": {
      "text/plain": [
       "<tensorflow.python.keras.callbacks.History at 0x1e3f77cda20>"
      ]
     },
     "execution_count": 11,
     "metadata": {},
     "output_type": "execute_result"
    }
   ],
   "source": [
    "# Include the epoch in the file name (uses `str.format`)\n",
    "checkpoint_path = \"training_2/cp-{epoch:04d}.ckpt\"\n",
    "checkpoint_dir = os.path.dirname(checkpoint_path)\n",
    "\n",
    "# Create a callback that saves the model's weights every 5 epochs\n",
    "cp_callback = tf.keras.callbacks.ModelCheckpoint(\n",
    "    filepath=checkpoint_path, \n",
    "    verbose=1, \n",
    "    save_weights_only=True,\n",
    "    save_freq=5)\n",
    "\n",
    "# Create a new model instance\n",
    "model = create_model()\n",
    "\n",
    "# Save the weights using the `checkpoint_path` format\n",
    "model.save_weights(checkpoint_path.format(epoch=0))\n",
    "\n",
    "# Train the model with the new callback\n",
    "model.fit(train_images, \n",
    "              train_labels,\n",
    "              epochs=50, \n",
    "              callbacks=[cp_callback],\n",
    "              validation_data=(test_images,test_labels),\n",
    "              verbose=0)"
   ]
  },
  {
   "cell_type": "code",
   "execution_count": 12,
   "metadata": {},
   "outputs": [
    {
     "name": "stdout",
     "output_type": "stream",
     "text": [
      " 驱动器 C 中的卷是 系统\n",
      " 卷的序列号是 0864-E2D5\n",
      "\n",
      " C:\\Users\\30660\\Documents\\Project\\python\\jupyter\\TensorFlow2.0官方\\training_2 的目录\n",
      "\n",
      "2019/10/14  19:19    <DIR>          .\n",
      "2019/10/14  19:19    <DIR>          ..\n",
      "2019/10/14  19:19                81 checkpoint\n",
      "2019/10/14  19:19               541 cp-0000.ckpt.data-00000-of-00002\n",
      "2019/10/14  19:19         1,628,200 cp-0000.ckpt.data-00001-of-00002\n",
      "2019/10/14  19:19               406 cp-0000.ckpt.index\n",
      "2019/10/14  19:19             2,076 cp-0005.ckpt.data-00000-of-00002\n",
      "2019/10/14  19:19         4,884,624 cp-0005.ckpt.data-00001-of-00002\n",
      "2019/10/14  19:19             1,251 cp-0005.ckpt.index\n",
      "2019/10/14  19:19             2,076 cp-0010.ckpt.data-00000-of-00002\n",
      "2019/10/14  19:19         4,884,624 cp-0010.ckpt.data-00001-of-00002\n",
      "2019/10/14  19:19             1,251 cp-0010.ckpt.index\n",
      "2019/10/14  19:19             2,076 cp-0015.ckpt.data-00000-of-00002\n",
      "2019/10/14  19:19         4,884,624 cp-0015.ckpt.data-00001-of-00002\n",
      "2019/10/14  19:19             1,251 cp-0015.ckpt.index\n",
      "2019/10/14  19:19             2,076 cp-0020.ckpt.data-00000-of-00002\n",
      "2019/10/14  19:19         4,884,624 cp-0020.ckpt.data-00001-of-00002\n",
      "2019/10/14  19:19             1,251 cp-0020.ckpt.index\n",
      "2019/10/14  19:19             2,076 cp-0025.ckpt.data-00000-of-00002\n",
      "2019/10/14  19:19         4,884,624 cp-0025.ckpt.data-00001-of-00002\n",
      "2019/10/14  19:19             1,251 cp-0025.ckpt.index\n",
      "2019/10/14  19:19             2,076 cp-0030.ckpt.data-00000-of-00002\n",
      "2019/10/14  19:19         4,884,624 cp-0030.ckpt.data-00001-of-00002\n",
      "2019/10/14  19:19             1,251 cp-0030.ckpt.index\n",
      "2019/10/14  19:19             2,076 cp-0035.ckpt.data-00000-of-00002\n",
      "2019/10/14  19:19         4,884,624 cp-0035.ckpt.data-00001-of-00002\n",
      "2019/10/14  19:19             1,251 cp-0035.ckpt.index\n",
      "2019/10/14  19:19             2,076 cp-0040.ckpt.data-00000-of-00002\n",
      "2019/10/14  19:19         4,884,624 cp-0040.ckpt.data-00001-of-00002\n",
      "2019/10/14  19:19             1,251 cp-0040.ckpt.index\n",
      "2019/10/14  19:19             2,076 cp-0045.ckpt.data-00000-of-00002\n",
      "2019/10/14  19:19         4,884,624 cp-0045.ckpt.data-00001-of-00002\n",
      "2019/10/14  19:19             1,251 cp-0045.ckpt.index\n",
      "2019/10/14  19:19             2,076 cp-0050.ckpt.data-00000-of-00002\n",
      "2019/10/14  19:19         4,884,624 cp-0050.ckpt.data-00001-of-00002\n",
      "2019/10/14  19:19             1,251 cp-0050.ckpt.index\n",
      "              34 个文件     50,508,738 字节\n",
      "               2 个目录 824,176,070,656 可用字节\n"
     ]
    }
   ],
   "source": [
    "!dir {checkpoint_dir}"
   ]
  },
  {
   "cell_type": "code",
   "execution_count": 13,
   "metadata": {},
   "outputs": [
    {
     "data": {
      "text/plain": [
       "'training_2\\\\cp-0050.ckpt'"
      ]
     },
     "execution_count": 13,
     "metadata": {},
     "output_type": "execute_result"
    }
   ],
   "source": [
    "latest = tf.train.latest_checkpoint(checkpoint_dir)\n",
    "latest"
   ]
  },
  {
   "cell_type": "markdown",
   "metadata": {},
   "source": [
    "重置模型，并进行测试"
   ]
  },
  {
   "cell_type": "code",
   "execution_count": 14,
   "metadata": {},
   "outputs": [
    {
     "name": "stdout",
     "output_type": "stream",
     "text": [
      "1000/1 - 0s - loss: 0.5096 - accuracy: 0.8750\n",
      "Restored model, accuracy: 87.50%\n"
     ]
    }
   ],
   "source": [
    "# Create a new model instance\n",
    "model = create_model()\n",
    "\n",
    "# Load the previously saved weights\n",
    "model.load_weights(latest)\n",
    "\n",
    "# Re-evaluate the model\n",
    "loss, acc = model.evaluate(test_images,  test_labels, verbose=2)\n",
    "print(\"Restored model, accuracy: {:5.2f}%\".format(100*acc))"
   ]
  },
  {
   "cell_type": "markdown",
   "metadata": {},
   "source": [
    "## 三、手动保存参数"
   ]
  },
  {
   "cell_type": "markdown",
   "metadata": {},
   "source": [
    "手动保存参数"
   ]
  },
  {
   "cell_type": "code",
   "execution_count": 15,
   "metadata": {},
   "outputs": [
    {
     "name": "stdout",
     "output_type": "stream",
     "text": [
      "1000/1 - 0s - loss: 0.5096 - accuracy: 0.8750\n",
      "Restored model, accuracy: 87.50%\n"
     ]
    }
   ],
   "source": [
    "# Save the weights\n",
    "model.save_weights('./checkpoints/my_checkpoint')\n",
    "\n",
    "# Create a new model instance\n",
    "model = create_model()\n",
    "\n",
    "# Restore the weights\n",
    "model.load_weights('./checkpoints/my_checkpoint')\n",
    "\n",
    "# Evaluate the model\n",
    "loss,acc = model.evaluate(test_images,  test_labels, verbose=2)\n",
    "print(\"Restored model, accuracy: {:5.2f}%\".format(100*acc))"
   ]
  },
  {
   "cell_type": "markdown",
   "metadata": {},
   "source": [
    "## 四、保存整个模型"
   ]
  },
  {
   "cell_type": "markdown",
   "metadata": {},
   "source": [
    "保存整个模型"
   ]
  },
  {
   "cell_type": "code",
   "execution_count": 16,
   "metadata": {},
   "outputs": [
    {
     "name": "stdout",
     "output_type": "stream",
     "text": [
      "WARNING:tensorflow:Unresolved object in checkpoint: (root).optimizer.iter\n",
      "WARNING:tensorflow:Unresolved object in checkpoint: (root).optimizer.beta_1\n",
      "WARNING:tensorflow:Unresolved object in checkpoint: (root).optimizer.beta_2\n",
      "WARNING:tensorflow:Unresolved object in checkpoint: (root).optimizer.decay\n",
      "WARNING:tensorflow:Unresolved object in checkpoint: (root).optimizer.learning_rate\n",
      "WARNING:tensorflow:A checkpoint was restored (e.g. tf.train.Checkpoint.restore or tf.keras.Model.load_weights) but not all checkpointed values were used. See above for specific issues. Use expect_partial() on the load status object, e.g. tf.train.Checkpoint.restore(...).expect_partial(), to silence these warnings, or use assert_consumed() to make the check explicit. See https://www.tensorflow.org/alpha/guide/checkpoints#loading_mechanics for details.\n",
      "WARNING:tensorflow:Unresolved object in checkpoint: (root).optimizer.iter\n",
      "WARNING:tensorflow:Unresolved object in checkpoint: (root).optimizer.beta_1\n",
      "WARNING:tensorflow:Unresolved object in checkpoint: (root).optimizer.beta_2\n",
      "WARNING:tensorflow:Unresolved object in checkpoint: (root).optimizer.decay\n",
      "WARNING:tensorflow:Unresolved object in checkpoint: (root).optimizer.learning_rate\n",
      "WARNING:tensorflow:A checkpoint was restored (e.g. tf.train.Checkpoint.restore or tf.keras.Model.load_weights) but not all checkpointed values were used. See above for specific issues. Use expect_partial() on the load status object, e.g. tf.train.Checkpoint.restore(...).expect_partial(), to silence these warnings, or use assert_consumed() to make the check explicit. See https://www.tensorflow.org/alpha/guide/checkpoints#loading_mechanics for details.\n",
      "Train on 1000 samples\n",
      "Epoch 1/5\n",
      "1000/1000 [==============================] - 0s 384us/sample - loss: 1.1750 - accuracy: 0.6770\n",
      "Epoch 2/5\n",
      "1000/1000 [==============================] - 0s 94us/sample - loss: 0.4168 - accuracy: 0.8860\n",
      "Epoch 3/5\n",
      "1000/1000 [==============================] - 0s 96us/sample - loss: 0.2785 - accuracy: 0.9200\n",
      "Epoch 4/5\n",
      "1000/1000 [==============================] - 0s 93us/sample - loss: 0.2001 - accuracy: 0.9510\n",
      "Epoch 5/5\n",
      "1000/1000 [==============================] - 0s 95us/sample - loss: 0.1568 - accuracy: 0.9670\n"
     ]
    }
   ],
   "source": [
    "# Create and train a new model instance.\n",
    "model = create_model()\n",
    "model.fit(train_images, train_labels, epochs=5)\n",
    "\n",
    "# Save the entire model to a HDF5 file.\n",
    "# The '.h5' extension indicates that the model shuold be saved to HDF5.\n",
    "model.save('my_model.h5') "
   ]
  },
  {
   "cell_type": "markdown",
   "metadata": {},
   "source": [
    "从保存的模型开始创建"
   ]
  },
  {
   "cell_type": "code",
   "execution_count": 17,
   "metadata": {},
   "outputs": [
    {
     "name": "stdout",
     "output_type": "stream",
     "text": [
      "Model: \"sequential_5\"\n",
      "_________________________________________________________________\n",
      "Layer (type)                 Output Shape              Param #   \n",
      "=================================================================\n",
      "dense_10 (Dense)             (None, 512)               401920    \n",
      "_________________________________________________________________\n",
      "dropout_5 (Dropout)          (None, 512)               0         \n",
      "_________________________________________________________________\n",
      "dense_11 (Dense)             (None, 10)                5130      \n",
      "=================================================================\n",
      "Total params: 407,050\n",
      "Trainable params: 407,050\n",
      "Non-trainable params: 0\n",
      "_________________________________________________________________\n"
     ]
    }
   ],
   "source": [
    "# Recreate the exact same model, including its weights and the optimizer\n",
    "new_model = tf.keras.models.load_model('my_model.h5')\n",
    "\n",
    "# Show the model architecture\n",
    "new_model.summary()"
   ]
  },
  {
   "cell_type": "markdown",
   "metadata": {},
   "source": [
    "检查性能"
   ]
  },
  {
   "cell_type": "code",
   "execution_count": 18,
   "metadata": {},
   "outputs": [
    {
     "name": "stdout",
     "output_type": "stream",
     "text": [
      "1000/1 - 0s - loss: 0.4943 - accuracy: 0.8570\n",
      "Restored model, accuracy: 85.70%\n"
     ]
    }
   ],
   "source": [
    "loss, acc = new_model.evaluate(test_images,  test_labels, verbose=2)\n",
    "print('Restored model, accuracy: {:5.2f}%'.format(100*acc))"
   ]
  },
  {
   "cell_type": "markdown",
   "metadata": {},
   "source": [
    "上面这种保存方式，可以保存一切，包括权重值，模型结构，和优化器配置"
   ]
  },
  {
   "cell_type": "markdown",
   "metadata": {},
   "source": [
    "## 五、不使用h5格式的文件保存"
   ]
  },
  {
   "cell_type": "markdown",
   "metadata": {},
   "source": [
    "SavedModel格式是一个包含protobuf二进制文件和Tensorflow检查点的目录。检查保存的模型目录："
   ]
  },
  {
   "cell_type": "code",
   "execution_count": 20,
   "metadata": {},
   "outputs": [
    {
     "name": "stdout",
     "output_type": "stream",
     "text": [
      "Train on 1000 samples\n",
      "Epoch 1/5\n",
      "1000/1000 [==============================] - 0s 460us/sample - loss: 1.1521 - accuracy: 0.6770\n",
      "Epoch 2/5\n",
      "1000/1000 [==============================] - 0s 96us/sample - loss: 0.4343 - accuracy: 0.8800\n",
      "Epoch 3/5\n",
      "1000/1000 [==============================] - 0s 95us/sample - loss: 0.2965 - accuracy: 0.9150\n",
      "Epoch 4/5\n",
      "1000/1000 [==============================] - 0s 94us/sample - loss: 0.2209 - accuracy: 0.9480\n",
      "Epoch 5/5\n",
      "1000/1000 [==============================] - 0s 95us/sample - loss: 0.1600 - accuracy: 0.9620\n",
      "INFO:tensorflow:Assets written to: saved_model/my_model\\assets\n"
     ]
    }
   ],
   "source": [
    "# Create and train a new model instance.\n",
    "model = create_model()\n",
    "model.fit(train_images, train_labels, epochs=5)\n",
    "\n",
    "# Save the entire model as a SavedModel.\n",
    "model.save('saved_model/my_model') "
   ]
  },
  {
   "cell_type": "code",
   "execution_count": 23,
   "metadata": {},
   "outputs": [
    {
     "name": "stdout",
     "output_type": "stream",
     "text": [
      " 驱动器 C 中的卷是 系统\n",
      " 卷的序列号是 0864-E2D5\n",
      "\n",
      " C:\\Users\\30660\\Documents\\Project\\python\\jupyter\\TensorFlow2.0官方\\saved_model 的目录\n",
      "\n",
      "2019/10/14  19:22    <DIR>          .\n",
      "2019/10/14  19:22    <DIR>          ..\n",
      "2019/10/14  19:22    <DIR>          .ipynb_checkpoints\n",
      "2019/10/14  19:22    <DIR>          my_model\n",
      "               0 个文件              0 字节\n",
      "               4 个目录 823,388,827,648 可用字节\n"
     ]
    }
   ],
   "source": [
    "# my_model directory\n",
    "!dir saved_model"
   ]
  },
  {
   "cell_type": "code",
   "execution_count": 24,
   "metadata": {},
   "outputs": [
    {
     "name": "stdout",
     "output_type": "stream",
     "text": [
      " 驱动器 C 中的卷是 系统\n",
      " 卷的序列号是 0864-E2D5\n",
      "\n",
      " C:\\Users\\30660\\Documents\\Project\\python\\jupyter\\TensorFlow2.0官方\\saved_model\\my_model 的目录\n",
      "\n",
      "2019/10/14  19:22    <DIR>          .\n",
      "2019/10/14  19:22    <DIR>          ..\n",
      "2019/10/14  19:22    <DIR>          assets\n",
      "2019/10/14  19:22            81,456 saved_model.pb\n",
      "2019/10/14  19:22    <DIR>          variables\n",
      "               1 个文件         81,456 字节\n",
      "               4 个目录 823,387,885,568 可用字节\n"
     ]
    }
   ],
   "source": [
    "# Contains an assets folder, saved_model.pb, and variables folder.\n",
    "!dir saved_model\\my_model"
   ]
  },
  {
   "cell_type": "markdown",
   "metadata": {},
   "source": [
    "加载模型"
   ]
  },
  {
   "cell_type": "code",
   "execution_count": 25,
   "metadata": {},
   "outputs": [
    {
     "name": "stdout",
     "output_type": "stream",
     "text": [
      "Model: \"sequential_7\"\n",
      "_________________________________________________________________\n",
      "Layer (type)                 Output Shape              Param #   \n",
      "=================================================================\n",
      "dense_14 (Dense)             (None, 512)               401920    \n",
      "_________________________________________________________________\n",
      "dropout_7 (Dropout)          (None, 512)               0         \n",
      "_________________________________________________________________\n",
      "dense_15 (Dense)             (None, 10)                5130      \n",
      "=================================================================\n",
      "Total params: 407,050\n",
      "Trainable params: 407,050\n",
      "Non-trainable params: 0\n",
      "_________________________________________________________________\n"
     ]
    }
   ],
   "source": [
    "new_model = tf.keras.models.load_model('saved_model/my_model')\n",
    "\n",
    "# Check its architecture\n",
    "new_model.summary()"
   ]
  },
  {
   "cell_type": "markdown",
   "metadata": {},
   "source": [
    "进行评估"
   ]
  },
  {
   "cell_type": "code",
   "execution_count": 26,
   "metadata": {},
   "outputs": [
    {
     "name": "stdout",
     "output_type": "stream",
     "text": [
      "1000/1 - 0s - loss: 0.4855 - accuracy: 0.8500\n",
      "Restored model, accuracy: 85.00%\n",
      "(1000, 10)\n"
     ]
    }
   ],
   "source": [
    "# Evaluate the restored model\n",
    "loss, acc = new_model.evaluate(test_images,  test_labels, verbose=2)\n",
    "print('Restored model, accuracy: {:5.2f}%'.format(100*acc))\n",
    "\n",
    "print(new_model.predict(test_images).shape)"
   ]
  },
  {
   "cell_type": "markdown",
   "metadata": {},
   "source": [
    "保存自定义对象\n",
    "如果使用的是SavedModel格式，则可以跳过此部分。HDF5和SavedModel之间的主要区别在于，HDF5使用对象配置保存模型体系结构，而SavedModel保存执行图。因此，SavedModels能够保存自定义对象，例如子类化模型和自定义层，而无需原始代码。\n",
    "\n",
    "要将自定义对象保存到HDF5，必须执行以下操作：\n",
    "\n",
    "1. get_config在您的对象中定义一个方法，以及一个可选的from_config类方法。\n",
    "    * get_config(self) 返回重新创建对象所需的参数的JSON可序列化字典。\n",
    "    * from_config(cls, config)使用返回的配置从get_config创建新对象。默认情况下，此函数将配置用作初始化kwargs（return cls(**config)）。\n",
    "2. custom_objects加载模型时，将对象传递给参数。参数必须是将字符串类名称映射到Python类的字典。例如tf.keras.models.load_model(path, custom_objects={'CustomLayer': CustomLayer})"
   ]
  },
  {
   "cell_type": "code",
   "execution_count": null,
   "metadata": {},
   "outputs": [],
   "source": []
  }
 ],
 "metadata": {
  "kernelspec": {
   "display_name": "Python 3",
   "language": "python",
   "name": "python3"
  },
  "language_info": {
   "codemirror_mode": {
    "name": "ipython",
    "version": 3
   },
   "file_extension": ".py",
   "mimetype": "text/x-python",
   "name": "python",
   "nbconvert_exporter": "python",
   "pygments_lexer": "ipython3",
   "version": "3.6.2"
  }
 },
 "nbformat": 4,
 "nbformat_minor": 2
}
