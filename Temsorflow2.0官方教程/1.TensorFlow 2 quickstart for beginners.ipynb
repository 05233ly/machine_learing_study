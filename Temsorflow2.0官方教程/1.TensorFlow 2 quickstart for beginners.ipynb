{
 "cells": [
  {
   "cell_type": "code",
   "execution_count": 1,
   "metadata": {},
   "outputs": [],
   "source": [
    "from __future__ import absolute_import, division, print_function, unicode_literals\n",
    "\n",
    "# Install TensorFlow\n",
    "\n",
    "import tensorflow as tf"
   ]
  },
  {
   "cell_type": "code",
   "execution_count": 2,
   "metadata": {},
   "outputs": [
    {
     "data": {
      "text/plain": [
       "'2.0.0'"
      ]
     },
     "execution_count": 2,
     "metadata": {},
     "output_type": "execute_result"
    }
   ],
   "source": [
    "tf.__version__"
   ]
  },
  {
   "cell_type": "code",
   "execution_count": 3,
   "metadata": {},
   "outputs": [],
   "source": [
    "mnist = tf.keras.datasets.mnist\n",
    "\n",
    "(x_train, y_train), (x_test, y_test) = mnist.load_data()\n",
    "x_train, x_test = x_train / 255.0, x_test / 255.0"
   ]
  },
  {
   "cell_type": "code",
   "execution_count": 7,
   "metadata": {},
   "outputs": [
    {
     "data": {
      "text/plain": [
       "5"
      ]
     },
     "execution_count": 7,
     "metadata": {},
     "output_type": "execute_result"
    }
   ],
   "source": [
    "y_train[0]"
   ]
  },
  {
   "cell_type": "code",
   "execution_count": 4,
   "metadata": {},
   "outputs": [],
   "source": [
    "model = tf.keras.models.Sequential([\n",
    "    tf.keras.layers.Flatten(input_shape=(28, 28)),\n",
    "    tf.keras.layers.Dense(128, activation='relu'),\n",
    "    tf.keras.layers.Dropout(0.2),\n",
    "    tf.keras.layers.Dense(10, activation='softmax')\n",
    "])\n",
    "\n",
    "model.compile(optimizer='adam',\n",
    "              loss='sparse_categorical_crossentropy',\n",
    "              metrics=['accuracy'])"
   ]
  },
  {
   "cell_type": "code",
   "execution_count": 6,
   "metadata": {},
   "outputs": [
    {
     "name": "stdout",
     "output_type": "stream",
     "text": [
      "Model: \"sequential\"\n",
      "_________________________________________________________________\n",
      "Layer (type)                 Output Shape              Param #   \n",
      "=================================================================\n",
      "flatten (Flatten)            (None, 784)               0         \n",
      "_________________________________________________________________\n",
      "dense (Dense)                (None, 128)               100480    \n",
      "_________________________________________________________________\n",
      "dropout (Dropout)            (None, 128)               0         \n",
      "_________________________________________________________________\n",
      "dense_1 (Dense)              (None, 10)                1290      \n",
      "=================================================================\n",
      "Total params: 101,770\n",
      "Trainable params: 101,770\n",
      "Non-trainable params: 0\n",
      "_________________________________________________________________\n"
     ]
    }
   ],
   "source": [
    "model.summary()"
   ]
  },
  {
   "cell_type": "code",
   "execution_count": 5,
   "metadata": {},
   "outputs": [
    {
     "name": "stdout",
     "output_type": "stream",
     "text": [
      "Train on 60000 samples\n",
      "Epoch 1/5\n",
      "60000/60000 [==============================] - 8s 135us/sample - loss: 0.2921 - accuracy: 0.9148\n",
      "Epoch 2/5\n",
      "60000/60000 [==============================] - 7s 115us/sample - loss: 0.1419 - accuracy: 0.9576\n",
      "Epoch 3/5\n",
      "60000/60000 [==============================] - 7s 111us/sample - loss: 0.1055 - accuracy: 0.9680\n",
      "Epoch 4/5\n",
      "60000/60000 [==============================] - 6s 108us/sample - loss: 0.0867 - accuracy: 0.9732\n",
      "Epoch 5/5\n",
      "60000/60000 [==============================] - 6s 106us/sample - loss: 0.0761 - accuracy: 0.9764\n",
      "10000/1 - 1s - loss: 0.0489 - accuracy: 0.9756\n"
     ]
    },
    {
     "data": {
      "text/plain": [
       "[0.07817721534094307, 0.9756]"
      ]
     },
     "execution_count": 5,
     "metadata": {},
     "output_type": "execute_result"
    }
   ],
   "source": [
    "model.fit(x_train, y_train, epochs=5)\n",
    "\n",
    "model.evaluate(x_test,  y_test, verbose=2)"
   ]
  },
  {
   "cell_type": "markdown",
   "metadata": {},
   "source": [
    "# 改"
   ]
  },
  {
   "cell_type": "code",
   "execution_count": 11,
   "metadata": {},
   "outputs": [],
   "source": [
    "model = tf.keras.models.Sequential([\n",
    "    tf.keras.layers.Flatten(input_shape=(28, 28)),\n",
    "    tf.keras.layers.Dense(1000),\n",
    "    tf.keras.layers.BatchNormalization(),\n",
    "    tf.keras.layers.ELU(),\n",
    "    tf.keras.layers.Dropout(0.5),\n",
    "    tf.keras.layers.Dense(666),\n",
    "    tf.keras.layers.BatchNormalization(),\n",
    "    tf.keras.layers.ELU(),\n",
    "    tf.keras.layers.Dropout(0.5),\n",
    "    tf.keras.layers.Dense(10, activation='softmax')\n",
    "])\n",
    "\n",
    "model.compile(optimizer='adam',\n",
    "              loss='sparse_categorical_crossentropy',\n",
    "              metrics=['accuracy'])"
   ]
  },
  {
   "cell_type": "code",
   "execution_count": 12,
   "metadata": {},
   "outputs": [
    {
     "name": "stdout",
     "output_type": "stream",
     "text": [
      "Model: \"sequential_2\"\n",
      "_________________________________________________________________\n",
      "Layer (type)                 Output Shape              Param #   \n",
      "=================================================================\n",
      "flatten_2 (Flatten)          (None, 784)               0         \n",
      "_________________________________________________________________\n",
      "dense_5 (Dense)              (None, 1000)              785000    \n",
      "_________________________________________________________________\n",
      "batch_normalization_2 (Batch (None, 1000)              4000      \n",
      "_________________________________________________________________\n",
      "elu_2 (ELU)                  (None, 1000)              0         \n",
      "_________________________________________________________________\n",
      "dropout_3 (Dropout)          (None, 1000)              0         \n",
      "_________________________________________________________________\n",
      "dense_6 (Dense)              (None, 666)               666666    \n",
      "_________________________________________________________________\n",
      "batch_normalization_3 (Batch (None, 666)               2664      \n",
      "_________________________________________________________________\n",
      "elu_3 (ELU)                  (None, 666)               0         \n",
      "_________________________________________________________________\n",
      "dropout_4 (Dropout)          (None, 666)               0         \n",
      "_________________________________________________________________\n",
      "dense_7 (Dense)              (None, 10)                6670      \n",
      "=================================================================\n",
      "Total params: 1,465,000\n",
      "Trainable params: 1,461,668\n",
      "Non-trainable params: 3,332\n",
      "_________________________________________________________________\n"
     ]
    }
   ],
   "source": [
    "model.summary()"
   ]
  },
  {
   "cell_type": "code",
   "execution_count": 13,
   "metadata": {
    "scrolled": false
   },
   "outputs": [
    {
     "name": "stdout",
     "output_type": "stream",
     "text": [
      "Train on 60000 samples\n",
      "Epoch 1/15\n",
      "60000/60000 [==============================] - 9s 156us/sample - loss: 0.3779 - accuracy: 0.8895\n",
      "Epoch 2/15\n",
      "60000/60000 [==============================] - 8s 138us/sample - loss: 0.2410 - accuracy: 0.9258\n",
      "Epoch 3/15\n",
      "60000/60000 [==============================] - 8s 136us/sample - loss: 0.2077 - accuracy: 0.9363\n",
      "Epoch 4/15\n",
      "60000/60000 [==============================] - 8s 140us/sample - loss: 0.1809 - accuracy: 0.9443\n",
      "Epoch 5/15\n",
      "60000/60000 [==============================] - 9s 142us/sample - loss: 0.1725 - accuracy: 0.9472\n",
      "Epoch 6/15\n",
      "60000/60000 [==============================] - 9s 143us/sample - loss: 0.1557 - accuracy: 0.9524\n",
      "Epoch 7/15\n",
      "60000/60000 [==============================] - 8s 141us/sample - loss: 0.1452 - accuracy: 0.9547\n",
      "Epoch 8/15\n",
      "60000/60000 [==============================] - 8s 141us/sample - loss: 0.1355 - accuracy: 0.9582\n",
      "Epoch 9/15\n",
      "60000/60000 [==============================] - 8s 141us/sample - loss: 0.1291 - accuracy: 0.9602\n",
      "Epoch 10/15\n",
      "60000/60000 [==============================] - 9s 142us/sample - loss: 0.1233 - accuracy: 0.9615\n",
      "Epoch 11/15\n",
      "60000/60000 [==============================] - 9s 142us/sample - loss: 0.1162 - accuracy: 0.9642\n",
      "Epoch 12/15\n",
      "60000/60000 [==============================] - 9s 142us/sample - loss: 0.1150 - accuracy: 0.9653\n",
      "Epoch 13/15\n",
      "60000/60000 [==============================] - 9s 142us/sample - loss: 0.1065 - accuracy: 0.9663\n",
      "Epoch 14/15\n",
      "60000/60000 [==============================] - 9s 143us/sample - loss: 0.1072 - accuracy: 0.9662\n",
      "Epoch 15/15\n",
      "60000/60000 [==============================] - 9s 145us/sample - loss: 0.1008 - accuracy: 0.9685\n",
      "10000/1 - 1s - loss: 0.0334 - accuracy: 0.9796\n"
     ]
    },
    {
     "data": {
      "text/plain": [
       "[0.06668000063904911, 0.9796]"
      ]
     },
     "execution_count": 13,
     "metadata": {},
     "output_type": "execute_result"
    }
   ],
   "source": [
    "model.fit(x_train, y_train, epochs=15)\n",
    "\n",
    "model.evaluate(x_test,  y_test, verbose=2)"
   ]
  },
  {
   "cell_type": "code",
   "execution_count": null,
   "metadata": {},
   "outputs": [],
   "source": []
  }
 ],
 "metadata": {
  "kernelspec": {
   "display_name": "Python 3",
   "language": "python",
   "name": "python3"
  },
  "language_info": {
   "codemirror_mode": {
    "name": "ipython",
    "version": 3
   },
   "file_extension": ".py",
   "mimetype": "text/x-python",
   "name": "python",
   "nbconvert_exporter": "python",
   "pygments_lexer": "ipython3",
   "version": "3.6.2"
  }
 },
 "nbformat": 4,
 "nbformat_minor": 2
}
