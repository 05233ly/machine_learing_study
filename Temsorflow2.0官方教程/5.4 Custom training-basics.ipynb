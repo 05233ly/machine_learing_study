{
 "cells": [
  {
   "cell_type": "markdown",
   "metadata": {},
   "source": [
    "在上一教程中，您介绍了用于自动区分的TensorFlow API-这是机器学习的基本构建块。在本教程中，您将使用之前教程中介绍的TensorFlow原语进行一些简单的机器学习。\n",
    "\n",
    "TensorFlow还包括tf.keras一个高级神经网络API，该API提供有用的抽象来减少样板，并在不牺牲灵活性和性能的情况下使TensorFlow易于使用。我们强烈建议您使用tf.Keras API进行开发。但是，在这个简短的教程中，您将学习如何从基本原理训练神经网络以建立牢固的基础。"
   ]
  },
  {
   "cell_type": "code",
   "execution_count": 1,
   "metadata": {},
   "outputs": [],
   "source": [
    "from __future__ import absolute_import, division, print_function, unicode_literals\n",
    "\n",
    "import tensorflow as tf"
   ]
  },
  {
   "cell_type": "code",
   "execution_count": 2,
   "metadata": {},
   "outputs": [],
   "source": [
    "import numpy as np"
   ]
  },
  {
   "cell_type": "markdown",
   "metadata": {},
   "source": [
    "变量\n",
    "\n",
    "TensorFlow中的Tensor是不可变的无状态对象。但是，机器学习模型必须具有变化的状态：随着模型的训练，用于计算预测的相同代码在时间上的行为应有所不同（希望损失更低！）。为了表示这种状态，需要在计算过程中改变它，您可以选择依赖Python是一种有状态的编程语言这一事实​​："
   ]
  },
  {
   "cell_type": "code",
   "execution_count": 3,
   "metadata": {},
   "outputs": [
    {
     "name": "stdout",
     "output_type": "stream",
     "text": [
      "tf.Tensor(\n",
      "[[2. 2. 2. 2. 2. 2. 2. 2. 2. 2.]\n",
      " [2. 2. 2. 2. 2. 2. 2. 2. 2. 2.]\n",
      " [2. 2. 2. 2. 2. 2. 2. 2. 2. 2.]\n",
      " [2. 2. 2. 2. 2. 2. 2. 2. 2. 2.]\n",
      " [2. 2. 2. 2. 2. 2. 2. 2. 2. 2.]\n",
      " [2. 2. 2. 2. 2. 2. 2. 2. 2. 2.]\n",
      " [2. 2. 2. 2. 2. 2. 2. 2. 2. 2.]\n",
      " [2. 2. 2. 2. 2. 2. 2. 2. 2. 2.]\n",
      " [2. 2. 2. 2. 2. 2. 2. 2. 2. 2.]\n",
      " [2. 2. 2. 2. 2. 2. 2. 2. 2. 2.]], shape=(10, 10), dtype=float32)\n"
     ]
    }
   ],
   "source": [
    "# Using Python state\n",
    "x = tf.zeros([10, 10])\n",
    "x += 2  # This is equivalent to x = x + 2, which does not mutate the original\n",
    "        # value of x\n",
    "print(x)"
   ]
  },
  {
   "cell_type": "markdown",
   "metadata": {},
   "source": [
    "TensorFlow内置了有状态操作，与使用低级Python表示状态相比，这些操作通常更容易。使用tf.Variable来表示一个模型权重。\n",
    "\n",
    "一个tf.Variable对象存储的值，并且隐式地从该存储值读出。有一些操作（tf.assign_sub，tf.scatter_update等）可操纵存储在TensorFlow变量中的值。"
   ]
  },
  {
   "cell_type": "code",
   "execution_count": 4,
   "metadata": {},
   "outputs": [],
   "source": [
    "v = tf.Variable(1.0)\n",
    "# Use Python's `assert` as a debugging statement to test the condition\n",
    "assert v.numpy() == 1.0\n",
    "\n",
    "# Reassign the value `v`\n",
    "v.assign(3.0)\n",
    "assert v.numpy() == 3.0\n",
    "\n",
    "# Use `v` in a TensorFlow `tf.square()` operation and reassign\n",
    "v.assign(tf.square(v))\n",
    "assert v.numpy() == 9.0"
   ]
  },
  {
   "cell_type": "markdown",
   "metadata": {},
   "source": [
    "计算tf.Variable梯度时会自动跟踪使用的计算。对于表示嵌入的变量，默认情况下，TensorFlow会进行稀疏更新，这将提高计算和内存效率。\n",
    "\n",
    "A tf.Variable也是一种向代码的读者显示状态是可变的方式。"
   ]
  },
  {
   "cell_type": "markdown",
   "metadata": {},
   "source": [
    "拟合线性模型\n",
    "让我们用你学到了远的概念Tensor，Variable和GradientTape-to建立和培养一个简单的模型。这通常涉及几个步骤：\n",
    "\n",
    "1. 定义模型。\n",
    "2. 定义损失函数。\n",
    "3. 获取培训数据。\n",
    "4. 遍历训练数据，并使用“优化器”调整变量以适合数据。\n",
    "\n",
    "在这里，您将创建一个简单的线性模型，f(x) = x * W + b该模型具有两个变量：（W权重）和b（偏差）。您将合成数据，以便训练有素的模型具有W = 3.0和b = 2.0。"
   ]
  },
  {
   "cell_type": "markdown",
   "metadata": {},
   "source": [
    "定义模型<br>\n",
    "让我们定义一个简单的类来封装变量和计算："
   ]
  },
  {
   "cell_type": "code",
   "execution_count": 5,
   "metadata": {},
   "outputs": [],
   "source": [
    "class Model(object):\n",
    "    def __init__(self):\n",
    "        # Initialize the weights to `5.0` and the bias to `0.0`\n",
    "        # In practice, these should be initialized to random values (for example, with `tf.random.normal`)\n",
    "        self.W = tf.Variable(5.0)\n",
    "        self.b = tf.Variable(0.0)\n",
    "\n",
    "    def __call__(self, x):\n",
    "        return self.W * x + self.b\n",
    "\n",
    "model = Model()\n",
    "\n",
    "assert model(3.0).numpy() == 15.0"
   ]
  },
  {
   "cell_type": "markdown",
   "metadata": {},
   "source": [
    "定义损失函数<br>\n",
    "损失函数衡量给定输入的模型输出与目标输出的匹配程度。目的是在训练过程中尽量减少这种差异。让我们使用标准的L2损失，也称为最小平方误差："
   ]
  },
  {
   "cell_type": "code",
   "execution_count": 6,
   "metadata": {},
   "outputs": [],
   "source": [
    "def loss(predicted_y, target_y):\n",
    "    return tf.reduce_mean(tf.square(predicted_y - target_y))"
   ]
  },
  {
   "cell_type": "markdown",
   "metadata": {},
   "source": [
    "获取训练数据<br>\n",
    "首先，通过向输入中添加随机高斯（Normal）噪声来合成训练数据："
   ]
  },
  {
   "cell_type": "code",
   "execution_count": 7,
   "metadata": {},
   "outputs": [],
   "source": [
    "TRUE_W = 3.0\n",
    "TRUE_b = 2.0\n",
    "NUM_EXAMPLES = 1000\n",
    "\n",
    "inputs  = tf.random.normal(shape=[NUM_EXAMPLES])\n",
    "noise   = tf.random.normal(shape=[NUM_EXAMPLES])\n",
    "outputs = inputs * TRUE_W + TRUE_b + noise"
   ]
  },
  {
   "cell_type": "markdown",
   "metadata": {},
   "source": [
    "在训练模型之前，通过以红色绘制模型的预测并以蓝色绘制训练数据来可视化损失值："
   ]
  },
  {
   "cell_type": "code",
   "execution_count": 8,
   "metadata": {},
   "outputs": [
    {
     "data": {
      "image/png": "[encoded data removed]",
      "text/plain": [
       "<Figure size 432x288 with 1 Axes>"
      ]
     },
     "metadata": {
      "needs_background": "light"
     },
     "output_type": "display_data"
    },
    {
     "name": "stdout",
     "output_type": "stream",
     "text": [
      "Current loss: 8.724603\n"
     ]
    }
   ],
   "source": [
    "import matplotlib.pyplot as plt\n",
    "%matplotlib inline\n",
    "plt.scatter(inputs, outputs, c='b')\n",
    "plt.scatter(inputs, model(inputs), c='r')\n",
    "plt.show()\n",
    "\n",
    "print('Current loss: %1.6f' % loss(model(inputs), outputs).numpy())"
   ]
  },
  {
   "cell_type": "markdown",
   "metadata": {},
   "source": [
    "定义训练循环<br>\n",
    "利用网络和训练数据，使用梯度下降训练模型以更新权重变量（W）和偏差变量（b）以减少损失。我们tf.train.Optimizer推荐的实现中包含了梯度下降方案的许多变体。但是，本着从第一条原则进行构建的精神，您将在这里借助tf.GradientTape自动微分和tf.assign_sub递减值（结合tf.assign和tf.sub）来实现基本数学："
   ]
  },
  {
   "cell_type": "code",
   "execution_count": 9,
   "metadata": {},
   "outputs": [],
   "source": [
    "def train(model, inputs, outputs, learning_rate):\n",
    "    with tf.GradientTape() as t:\n",
    "        current_loss = loss(model(inputs), outputs)\n",
    "    dW, db = t.gradient(current_loss, [model.W, model.b])\n",
    "    model.W.assign_sub(learning_rate * dW)\n",
    "    model.b.assign_sub(learning_rate * db)"
   ]
  },
  {
   "cell_type": "markdown",
   "metadata": {},
   "source": [
    "最后，让我们通过反复训练数据运行，看看W和b发展。"
   ]
  },
  {
   "cell_type": "code",
   "execution_count": 10,
   "metadata": {},
   "outputs": [
    {
     "name": "stdout",
     "output_type": "stream",
     "text": [
      "Epoch  0: W=5.00 b=0.00, loss=8.72460\n",
      "Epoch  1: W=4.59 b=0.37, loss=5.94735\n",
      "Epoch  2: W=4.26 b=0.67, loss=4.17319\n",
      "Epoch  3: W=4.00 b=0.91, loss=3.03942\n",
      "Epoch  4: W=3.79 b=1.11, loss=2.31464\n",
      "Epoch  5: W=3.63 b=1.27, loss=1.85116\n",
      "Epoch  6: W=3.50 b=1.39, loss=1.55467\n",
      "Epoch  7: W=3.40 b=1.50, loss=1.36495\n",
      "Epoch  8: W=3.32 b=1.58, loss=1.24351\n",
      "Epoch  9: W=3.25 b=1.65, loss=1.16576\n"
     ]
    },
    {
     "data": {
      "image/png": "[encoded data removed]",
      "text/plain": [
       "<Figure size 432x288 with 1 Axes>"
      ]
     },
     "metadata": {
      "needs_background": "light"
     },
     "output_type": "display_data"
    }
   ],
   "source": [
    "model = Model()\n",
    "\n",
    "# Collect the history of W-values and b-values to plot later\n",
    "Ws, bs = [], []\n",
    "epochs = range(10)\n",
    "for epoch in epochs:\n",
    "    Ws.append(model.W.numpy())\n",
    "    bs.append(model.b.numpy())\n",
    "    current_loss = loss(model(inputs), outputs)\n",
    "  \n",
    "    train(model, inputs, outputs, learning_rate=0.1)\n",
    "    print('Epoch %2d: W=%1.2f b=%1.2f, loss=%2.5f' %\n",
    "        (epoch, Ws[-1], bs[-1], current_loss))\n",
    "\n",
    "# Let's plot it all\n",
    "plt.plot(epochs, Ws, 'r',\n",
    "         epochs, bs, 'b')\n",
    "plt.plot([TRUE_W] * len(epochs), 'r--',\n",
    "         [TRUE_b] * len(epochs), 'b--')\n",
    "plt.legend(['W', 'b', 'True W', 'True b'])\n",
    "plt.show()"
   ]
  },
  {
   "cell_type": "code",
   "execution_count": 11,
   "metadata": {},
   "outputs": [
    {
     "data": {
      "image/png": "[encoded data removed]",
      "text/plain": [
       "<Figure size 432x288 with 1 Axes>"
      ]
     },
     "metadata": {
      "needs_background": "light"
     },
     "output_type": "display_data"
    },
    {
     "name": "stdout",
     "output_type": "stream",
     "text": [
      "Current loss: 1.115961\n"
     ]
    }
   ],
   "source": [
    "import matplotlib.pyplot as plt\n",
    "%matplotlib inline\n",
    "plt.scatter(inputs, outputs, c='b')\n",
    "plt.scatter(inputs, model(inputs), c='r')\n",
    "plt.show()\n",
    "\n",
    "print('Current loss: %1.6f' % loss(model(inputs), outputs).numpy())"
   ]
  },
  {
   "cell_type": "markdown",
   "metadata": {},
   "source": [
    "下一步<br>\n",
    "本教程用于tf.Variable构建和训练简单的线性模型。\n",
    "\n",
    "实际上，高级API（例如tf.keras）在构建神经网络时要方便得多。tf.keras提供了更高级别的构建块（称为“层”），用于保存和恢复状态的实用程序，一套损失函数，一套优化策略等。阅读TensorFlow Keras指南以了解更多信息。"
   ]
  },
  {
   "cell_type": "markdown",
   "metadata": {},
   "source": [
    "## 自己测试"
   ]
  },
  {
   "cell_type": "code",
   "execution_count": 34,
   "metadata": {},
   "outputs": [],
   "source": [
    "model=tf.keras.models.Sequential(tf.keras.layers.Dense(1))"
   ]
  },
  {
   "cell_type": "code",
   "execution_count": 35,
   "metadata": {},
   "outputs": [],
   "source": [
    "model.compile(optimizer='sgd',\n",
    "              loss='mse',\n",
    "              metrics=['mse'])"
   ]
  },
  {
   "cell_type": "code",
   "execution_count": 36,
   "metadata": {},
   "outputs": [
    {
     "name": "stdout",
     "output_type": "stream",
     "text": [
      "Train on 1000 samples\n",
      "Epoch 1/10\n",
      "1000/1000 [==============================] - 0s 339us/sample - loss: 10.0580 - mse: 10.0580\n",
      "Epoch 2/10\n",
      "1000/1000 [==============================] - 0s 122us/sample - loss: 3.2374 - mse: 3.2374\n",
      "Epoch 3/10\n",
      "1000/1000 [==============================] - 0s 113us/sample - loss: 1.5652 - mse: 1.5652\n",
      "Epoch 4/10\n",
      "1000/1000 [==============================] - 0s 126us/sample - loss: 1.1566 - mse: 1.1566\n",
      "Epoch 5/10\n",
      "1000/1000 [==============================] - 0s 128us/sample - loss: 1.0611 - mse: 1.0611\n",
      "Epoch 6/10\n",
      "1000/1000 [==============================] - 0s 120us/sample - loss: 1.0368 - mse: 1.0368\n",
      "Epoch 7/10\n",
      "1000/1000 [==============================] - 0s 118us/sample - loss: 1.0310 - mse: 1.0310\n",
      "Epoch 8/10\n",
      "1000/1000 [==============================] - 0s 126us/sample - loss: 1.0288 - mse: 1.0288\n",
      "Epoch 9/10\n",
      "1000/1000 [==============================] - 0s 123us/sample - loss: 1.0283 - mse: 1.0283\n",
      "Epoch 10/10\n",
      "1000/1000 [==============================] - 0s 129us/sample - loss: 1.0282 - mse: 1.0282\n"
     ]
    },
    {
     "data": {
      "text/plain": [
       "<tensorflow.python.keras.callbacks.History at 0x15d05bcc550>"
      ]
     },
     "execution_count": 36,
     "metadata": {},
     "output_type": "execute_result"
    }
   ],
   "source": [
    "model.fit(inputs,outputs,epochs=10)"
   ]
  },
  {
   "cell_type": "code",
   "execution_count": 40,
   "metadata": {},
   "outputs": [
    {
     "data": {
      "text/plain": [
       "array([[2.9908278]], dtype=float32)"
      ]
     },
     "execution_count": 40,
     "metadata": {},
     "output_type": "execute_result"
    }
   ],
   "source": [
    "model.layers[0].weights[0].numpy()"
   ]
  },
  {
   "cell_type": "code",
   "execution_count": 41,
   "metadata": {},
   "outputs": [
    {
     "data": {
      "text/plain": [
       "array([1.9202532], dtype=float32)"
      ]
     },
     "execution_count": 41,
     "metadata": {},
     "output_type": "execute_result"
    }
   ],
   "source": [
    "model.layers[0].weights[1].numpy()"
   ]
  },
  {
   "cell_type": "code",
   "execution_count": 43,
   "metadata": {},
   "outputs": [
    {
     "data": {
      "image/png": "[encoded data removed]",
      "text/plain": [
       "<Figure size 432x288 with 1 Axes>"
      ]
     },
     "metadata": {
      "needs_background": "light"
     },
     "output_type": "display_data"
    },
    {
     "name": "stdout",
     "output_type": "stream",
     "text": [
      "Current loss: 20.219213\n"
     ]
    }
   ],
   "source": [
    "import matplotlib.pyplot as plt\n",
    "%matplotlib inline\n",
    "plt.scatter(inputs, outputs, c='b')\n",
    "plt.scatter(inputs, model.predict(inputs), c='r')\n",
    "plt.show()\n",
    "\n",
    "print('Current loss: %1.6f' % loss(model.predict(inputs), outputs).numpy())"
   ]
  }
 ],
 "metadata": {
  "kernelspec": {
   "display_name": "Python 3",
   "language": "python",
   "name": "python3"
  },
  "language_info": {
   "codemirror_mode": {
    "name": "ipython",
    "version": 3
   },
   "file_extension": ".py",
   "mimetype": "text/x-python",
   "name": "python",
   "nbconvert_exporter": "python",
   "pygments_lexer": "ipython3",
   "version": "3.6.2"
  }
 },
 "nbformat": 4,
 "nbformat_minor": 2
}
