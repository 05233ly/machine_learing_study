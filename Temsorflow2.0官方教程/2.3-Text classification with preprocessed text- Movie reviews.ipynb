{
 "cells": [
  {
   "cell_type": "code",
   "execution_count": 1,
   "metadata": {},
   "outputs": [],
   "source": [
    "from __future__ import absolute_import, division, print_function, unicode_literals"
   ]
  },
  {
   "cell_type": "code",
   "execution_count": 2,
   "metadata": {},
   "outputs": [
    {
     "name": "stdout",
     "output_type": "stream",
     "text": [
      "2.0.0\n"
     ]
    }
   ],
   "source": [
    "from __future__ import absolute_import, division, print_function, unicode_literals\n",
    "\n",
    "import tensorflow as tf\n",
    "from tensorflow import keras\n",
    "\n",
    "import numpy as np\n",
    "\n",
    "print(tf.__version__)"
   ]
  },
  {
   "cell_type": "code",
   "execution_count": 3,
   "metadata": {},
   "outputs": [],
   "source": [
    "imdb = keras.datasets.imdb\n",
    "\n",
    "(train_data, train_labels), (test_data, test_labels) = imdb.load_data(num_words=10000)"
   ]
  },
  {
   "cell_type": "code",
   "execution_count": 4,
   "metadata": {},
   "outputs": [
    {
     "name": "stdout",
     "output_type": "stream",
     "text": [
      "Training entries: 25000, labels: 25000\n"
     ]
    }
   ],
   "source": [
    "print(\"Training entries: {}, labels: {}\".format(len(train_data), len(train_labels)))"
   ]
  },
  {
   "cell_type": "code",
   "execution_count": 5,
   "metadata": {},
   "outputs": [
    {
     "name": "stdout",
     "output_type": "stream",
     "text": [
      "[1, 14, 22, 16, 43, 530, 973, 1622, 1385, 65, 458, 4468, 66, 3941, 4, 173, 36, 256, 5, 25, 100, 43, 838, 112, 50, 670, 2, 9, 35, 480, 284, 5, 150, 4, 172, 112, 167, 2, 336, 385, 39, 4, 172, 4536, 1111, 17, 546, 38, 13, 447, 4, 192, 50, 16, 6, 147, 2025, 19, 14, 22, 4, 1920, 4613, 469, 4, 22, 71, 87, 12, 16, 43, 530, 38, 76, 15, 13, 1247, 4, 22, 17, 515, 17, 12, 16, 626, 18, 2, 5, 62, 386, 12, 8, 316, 8, 106, 5, 4, 2223, 5244, 16, 480, 66, 3785, 33, 4, 130, 12, 16, 38, 619, 5, 25, 124, 51, 36, 135, 48, 25, 1415, 33, 6, 22, 12, 215, 28, 77, 52, 5, 14, 407, 16, 82, 2, 8, 4, 107, 117, 5952, 15, 256, 4, 2, 7, 3766, 5, 723, 36, 71, 43, 530, 476, 26, 400, 317, 46, 7, 4, 2, 1029, 13, 104, 88, 4, 381, 15, 297, 98, 32, 2071, 56, 26, 141, 6, 194, 7486, 18, 4, 226, 22, 21, 134, 476, 26, 480, 5, 144, 30, 5535, 18, 51, 36, 28, 224, 92, 25, 104, 4, 226, 65, 16, 38, 1334, 88, 12, 16, 283, 5, 16, 4472, 113, 103, 32, 15, 16, 5345, 19, 178, 32]\n"
     ]
    }
   ],
   "source": [
    "print(train_data[0])"
   ]
  },
  {
   "cell_type": "code",
   "execution_count": 6,
   "metadata": {},
   "outputs": [
    {
     "data": {
      "text/plain": [
       "(218, 189)"
      ]
     },
     "execution_count": 6,
     "metadata": {},
     "output_type": "execute_result"
    }
   ],
   "source": [
    "len(train_data[0]), len(train_data[1])"
   ]
  },
  {
   "cell_type": "code",
   "execution_count": 8,
   "metadata": {},
   "outputs": [],
   "source": [
    "# 一个映射单词到整数索引的词典\n",
    "word_index = imdb.get_word_index()\n",
    "\n",
    "# 保留第一个索引\n",
    "word_index = {k:(v+3) for k,v in word_index.items()}\n",
    "word_index[\"<PAD>\"] = 0\n",
    "word_index[\"<START>\"] = 1\n",
    "word_index[\"<UNK>\"] = 2  # unknown\n",
    "word_index[\"<UNUSED>\"] = 3\n",
    "\n",
    "reverse_word_index = dict([(value, key) for (key, value) in word_index.items()])"
   ]
  },
  {
   "cell_type": "code",
   "execution_count": 9,
   "metadata": {},
   "outputs": [],
   "source": [
    "def decode_review(text):\n",
    "    return ' '.join([reverse_word_index.get(i, '?') for i in text])"
   ]
  },
  {
   "cell_type": "code",
   "execution_count": 8,
   "metadata": {},
   "outputs": [
    {
     "data": {
      "text/plain": [
       "\"<START> this film was just brilliant casting location scenery story direction everyone's really suited the part they played and you could just imagine being there robert <UNK> is an amazing actor and now the same being director <UNK> father came from the same scottish island as myself so i loved the fact there was a real connection with this film the witty remarks throughout the film were great it was just brilliant so much that i bought the film as soon as it was released for <UNK> and would recommend it to everyone to watch and the fly fishing was amazing really cried at the end it was so sad and you know what they say if you cry at a film it must have been good and this definitely was also <UNK> to the two little boy's that played the <UNK> of norman and paul they were just brilliant children are often left out of the <UNK> list i think because the stars that play them all grown up are such a big profile for the whole film but these children are amazing and should be praised for what they have done don't you think the whole story was so lovely because it was true and was someone's life after all that was shared with us all\""
      ]
     },
     "execution_count": 8,
     "metadata": {},
     "output_type": "execute_result"
    }
   ],
   "source": [
    "decode_review(train_data[0])"
   ]
  },
  {
   "cell_type": "code",
   "execution_count": 9,
   "metadata": {},
   "outputs": [],
   "source": [
    "train_data = keras.preprocessing.sequence.pad_sequences(train_data,\n",
    "                                                        value=word_index[\"<PAD>\"],\n",
    "                                                        padding='post',\n",
    "                                                        maxlen=256)\n",
    "\n",
    "test_data = keras.preprocessing.sequence.pad_sequences(test_data,\n",
    "                                                       value=word_index[\"<PAD>\"],\n",
    "                                                       padding='post',\n",
    "                                                       maxlen=256)"
   ]
  },
  {
   "cell_type": "code",
   "execution_count": 10,
   "metadata": {},
   "outputs": [
    {
     "data": {
      "text/plain": [
       "(256, 256)"
      ]
     },
     "execution_count": 10,
     "metadata": {},
     "output_type": "execute_result"
    }
   ],
   "source": [
    "len(train_data[0]), len(train_data[1])"
   ]
  },
  {
   "cell_type": "code",
   "execution_count": 11,
   "metadata": {},
   "outputs": [
    {
     "name": "stdout",
     "output_type": "stream",
     "text": [
      "[   1   14   22   16   43  530  973 1622 1385   65  458 4468   66 3941\n",
      "    4  173   36  256    5   25  100   43  838  112   50  670    2    9\n",
      "   35  480  284    5  150    4  172  112  167    2  336  385   39    4\n",
      "  172 4536 1111   17  546   38   13  447    4  192   50   16    6  147\n",
      " 2025   19   14   22    4 1920 4613  469    4   22   71   87   12   16\n",
      "   43  530   38   76   15   13 1247    4   22   17  515   17   12   16\n",
      "  626   18    2    5   62  386   12    8  316    8  106    5    4 2223\n",
      " 5244   16  480   66 3785   33    4  130   12   16   38  619    5   25\n",
      "  124   51   36  135   48   25 1415   33    6   22   12  215   28   77\n",
      "   52    5   14  407   16   82    2    8    4  107  117 5952   15  256\n",
      "    4    2    7 3766    5  723   36   71   43  530  476   26  400  317\n",
      "   46    7    4    2 1029   13  104   88    4  381   15  297   98   32\n",
      " 2071   56   26  141    6  194 7486   18    4  226   22   21  134  476\n",
      "   26  480    5  144   30 5535   18   51   36   28  224   92   25  104\n",
      "    4  226   65   16   38 1334   88   12   16  283    5   16 4472  113\n",
      "  103   32   15   16 5345   19  178   32    0    0    0    0    0    0\n",
      "    0    0    0    0    0    0    0    0    0    0    0    0    0    0\n",
      "    0    0    0    0    0    0    0    0    0    0    0    0    0    0\n",
      "    0    0    0    0]\n"
     ]
    }
   ],
   "source": [
    "print(train_data[0])"
   ]
  },
  {
   "cell_type": "code",
   "execution_count": 12,
   "metadata": {},
   "outputs": [
    {
     "name": "stdout",
     "output_type": "stream",
     "text": [
      "Model: \"sequential\"\n",
      "_________________________________________________________________\n",
      "Layer (type)                 Output Shape              Param #   \n",
      "=================================================================\n",
      "embedding (Embedding)        (None, None, 16)          160000    \n",
      "_________________________________________________________________\n",
      "global_average_pooling1d (Gl (None, 16)                0         \n",
      "_________________________________________________________________\n",
      "dense (Dense)                (None, 16)                272       \n",
      "_________________________________________________________________\n",
      "dense_1 (Dense)              (None, 1)                 17        \n",
      "=================================================================\n",
      "Total params: 160,289\n",
      "Trainable params: 160,289\n",
      "Non-trainable params: 0\n",
      "_________________________________________________________________\n"
     ]
    }
   ],
   "source": [
    "# 输入形状是用于电影评论的词汇数目（10,000 词）\n",
    "vocab_size = 10000\n",
    "\n",
    "model = keras.Sequential()\n",
    "model.add(keras.layers.Embedding(vocab_size, 16))\n",
    "model.add(keras.layers.GlobalAveragePooling1D())\n",
    "model.add(keras.layers.Dense(16, activation='relu'))\n",
    "model.add(keras.layers.Dense(1, activation='sigmoid'))\n",
    "\n",
    "model.summary()"
   ]
  },
  {
   "cell_type": "code",
   "execution_count": 13,
   "metadata": {},
   "outputs": [],
   "source": [
    "model.compile(optimizer='adam',\n",
    "              loss='binary_crossentropy',\n",
    "              metrics=['accuracy'])"
   ]
  },
  {
   "cell_type": "code",
   "execution_count": 14,
   "metadata": {},
   "outputs": [],
   "source": [
    "x_val = train_data[:10000]\n",
    "partial_x_train = train_data[10000:]\n",
    "\n",
    "y_val = train_labels[:10000]\n",
    "partial_y_train = train_labels[10000:]"
   ]
  },
  {
   "cell_type": "code",
   "execution_count": 15,
   "metadata": {},
   "outputs": [
    {
     "name": "stdout",
     "output_type": "stream",
     "text": [
      "Train on 15000 samples, validate on 10000 samples\n",
      "Epoch 1/40\n",
      "15000/15000 [==============================] - 2s 130us/sample - loss: 0.6914 - accuracy: 0.5464 - val_loss: 0.6886 - val_accuracy: 0.6714\n",
      "Epoch 2/40\n",
      "15000/15000 [==============================] - 1s 47us/sample - loss: 0.6834 - accuracy: 0.6848 - val_loss: 0.6782 - val_accuracy: 0.7115\n",
      "Epoch 3/40\n",
      "15000/15000 [==============================] - 1s 47us/sample - loss: 0.6679 - accuracy: 0.7395 - val_loss: 0.6598 - val_accuracy: 0.7391\n",
      "Epoch 4/40\n",
      "15000/15000 [==============================] - 1s 49us/sample - loss: 0.6426 - accuracy: 0.7685 - val_loss: 0.6321 - val_accuracy: 0.7682\n",
      "Epoch 5/40\n",
      "15000/15000 [==============================] - 1s 49us/sample - loss: 0.6076 - accuracy: 0.7942 - val_loss: 0.5965 - val_accuracy: 0.7898\n",
      "Epoch 6/40\n",
      "15000/15000 [==============================] - 1s 48us/sample - loss: 0.5656 - accuracy: 0.8132 - val_loss: 0.5559 - val_accuracy: 0.8107\n",
      "Epoch 7/40\n",
      "15000/15000 [==============================] - 1s 47us/sample - loss: 0.5198 - accuracy: 0.8351 - val_loss: 0.5145 - val_accuracy: 0.8223\n",
      "Epoch 8/40\n",
      "15000/15000 [==============================] - 1s 49us/sample - loss: 0.4742 - accuracy: 0.8515 - val_loss: 0.4749 - val_accuracy: 0.8378\n",
      "Epoch 9/40\n",
      "15000/15000 [==============================] - 1s 48us/sample - loss: 0.4323 - accuracy: 0.8657 - val_loss: 0.4402 - val_accuracy: 0.8438\n",
      "Epoch 10/40\n",
      "15000/15000 [==============================] - 1s 47us/sample - loss: 0.3951 - accuracy: 0.8741 - val_loss: 0.4112 - val_accuracy: 0.8518\n",
      "Epoch 11/40\n",
      "15000/15000 [==============================] - 1s 47us/sample - loss: 0.3635 - accuracy: 0.8841 - val_loss: 0.3863 - val_accuracy: 0.8586\n",
      "Epoch 12/40\n",
      "15000/15000 [==============================] - 1s 47us/sample - loss: 0.3366 - accuracy: 0.8905 - val_loss: 0.3681 - val_accuracy: 0.8635\n",
      "Epoch 13/40\n",
      "15000/15000 [==============================] - 1s 46us/sample - loss: 0.3134 - accuracy: 0.8953 - val_loss: 0.3511 - val_accuracy: 0.8698\n",
      "Epoch 14/40\n",
      "15000/15000 [==============================] - 1s 46us/sample - loss: 0.2940 - accuracy: 0.9005 - val_loss: 0.3381 - val_accuracy: 0.8730\n",
      "Epoch 15/40\n",
      "15000/15000 [==============================] - 1s 47us/sample - loss: 0.2766 - accuracy: 0.9074 - val_loss: 0.3282 - val_accuracy: 0.8740\n",
      "Epoch 16/40\n",
      "15000/15000 [==============================] - 1s 46us/sample - loss: 0.2610 - accuracy: 0.9106 - val_loss: 0.3205 - val_accuracy: 0.8745\n",
      "Epoch 17/40\n",
      "15000/15000 [==============================] - 1s 46us/sample - loss: 0.2473 - accuracy: 0.9157 - val_loss: 0.3118 - val_accuracy: 0.8793\n",
      "Epoch 18/40\n",
      "15000/15000 [==============================] - 1s 46us/sample - loss: 0.2347 - accuracy: 0.9216 - val_loss: 0.3060 - val_accuracy: 0.8796\n",
      "Epoch 19/40\n",
      "15000/15000 [==============================] - 1s 49us/sample - loss: 0.2229 - accuracy: 0.9259 - val_loss: 0.3021 - val_accuracy: 0.8792\n",
      "Epoch 20/40\n",
      "15000/15000 [==============================] - 1s 48us/sample - loss: 0.2125 - accuracy: 0.9283 - val_loss: 0.2974 - val_accuracy: 0.8823\n",
      "Epoch 21/40\n",
      "15000/15000 [==============================] - 1s 49us/sample - loss: 0.2024 - accuracy: 0.9321 - val_loss: 0.2936 - val_accuracy: 0.8836\n",
      "Epoch 22/40\n",
      "15000/15000 [==============================] - 1s 48us/sample - loss: 0.1937 - accuracy: 0.9361 - val_loss: 0.2916 - val_accuracy: 0.8842\n",
      "Epoch 23/40\n",
      "15000/15000 [==============================] - 1s 48us/sample - loss: 0.1851 - accuracy: 0.9398 - val_loss: 0.2890 - val_accuracy: 0.8840\n",
      "Epoch 24/40\n",
      "15000/15000 [==============================] - 1s 47us/sample - loss: 0.1771 - accuracy: 0.9437 - val_loss: 0.2874 - val_accuracy: 0.8838\n",
      "Epoch 25/40\n",
      "15000/15000 [==============================] - 1s 47us/sample - loss: 0.1697 - accuracy: 0.9457 - val_loss: 0.2878 - val_accuracy: 0.8838\n",
      "Epoch 26/40\n",
      "15000/15000 [==============================] - 1s 47us/sample - loss: 0.1628 - accuracy: 0.9491 - val_loss: 0.2867 - val_accuracy: 0.8851\n",
      "Epoch 27/40\n",
      "15000/15000 [==============================] - 1s 48us/sample - loss: 0.1560 - accuracy: 0.9513 - val_loss: 0.2864 - val_accuracy: 0.8857\n",
      "Epoch 28/40\n",
      "15000/15000 [==============================] - 1s 47us/sample - loss: 0.1496 - accuracy: 0.9542 - val_loss: 0.2861 - val_accuracy: 0.8867\n",
      "Epoch 29/40\n",
      "15000/15000 [==============================] - 1s 48us/sample - loss: 0.1435 - accuracy: 0.9573 - val_loss: 0.2873 - val_accuracy: 0.8856\n",
      "Epoch 30/40\n",
      "15000/15000 [==============================] - 1s 47us/sample - loss: 0.1378 - accuracy: 0.9599 - val_loss: 0.2879 - val_accuracy: 0.8866\n",
      "Epoch 31/40\n",
      "15000/15000 [==============================] - 1s 47us/sample - loss: 0.1325 - accuracy: 0.9623 - val_loss: 0.2900 - val_accuracy: 0.8859\n",
      "Epoch 32/40\n",
      "15000/15000 [==============================] - 1s 47us/sample - loss: 0.1272 - accuracy: 0.9636 - val_loss: 0.2908 - val_accuracy: 0.8864\n",
      "Epoch 33/40\n",
      "15000/15000 [==============================] - 1s 47us/sample - loss: 0.1222 - accuracy: 0.9662 - val_loss: 0.2926 - val_accuracy: 0.8858\n",
      "Epoch 34/40\n",
      "15000/15000 [==============================] - 1s 48us/sample - loss: 0.1179 - accuracy: 0.9668 - val_loss: 0.2963 - val_accuracy: 0.8837\n",
      "Epoch 35/40\n",
      "15000/15000 [==============================] - 1s 49us/sample - loss: 0.1135 - accuracy: 0.9685 - val_loss: 0.2968 - val_accuracy: 0.8850\n",
      "Epoch 36/40\n",
      "15000/15000 [==============================] - 1s 48us/sample - loss: 0.1085 - accuracy: 0.9709 - val_loss: 0.2991 - val_accuracy: 0.8846\n",
      "Epoch 37/40\n",
      "15000/15000 [==============================] - 1s 48us/sample - loss: 0.1047 - accuracy: 0.9723 - val_loss: 0.3014 - val_accuracy: 0.8838\n",
      "Epoch 38/40\n",
      "15000/15000 [==============================] - 1s 48us/sample - loss: 0.1005 - accuracy: 0.9731 - val_loss: 0.3051 - val_accuracy: 0.8832\n",
      "Epoch 39/40\n",
      "15000/15000 [==============================] - 1s 47us/sample - loss: 0.0966 - accuracy: 0.9747 - val_loss: 0.3076 - val_accuracy: 0.8830\n",
      "Epoch 40/40\n",
      "15000/15000 [==============================] - 1s 48us/sample - loss: 0.0928 - accuracy: 0.9765 - val_loss: 0.3101 - val_accuracy: 0.8834\n"
     ]
    }
   ],
   "source": [
    "history = model.fit(partial_x_train,\n",
    "                    partial_y_train,\n",
    "                    epochs=40,\n",
    "                    batch_size=512,\n",
    "                    validation_data=(x_val, y_val),\n",
    "                    verbose=1)"
   ]
  },
  {
   "cell_type": "code",
   "execution_count": 16,
   "metadata": {},
   "outputs": [
    {
     "name": "stdout",
     "output_type": "stream",
     "text": [
      "25000/1 - 1s - loss: 0.3390 - accuracy: 0.8710\n",
      "[0.3303561641788483, 0.87104]\n"
     ]
    }
   ],
   "source": [
    "results = model.evaluate(test_data,  test_labels, verbose=2)\n",
    "\n",
    "print(results)"
   ]
  },
  {
   "cell_type": "code",
   "execution_count": 17,
   "metadata": {},
   "outputs": [
    {
     "data": {
      "text/plain": [
       "dict_keys(['loss', 'accuracy', 'val_loss', 'val_accuracy'])"
      ]
     },
     "execution_count": 17,
     "metadata": {},
     "output_type": "execute_result"
    }
   ],
   "source": [
    "history_dict = history.history\n",
    "history_dict.keys()"
   ]
  },
  {
   "cell_type": "code",
   "execution_count": 18,
   "metadata": {},
   "outputs": [
    {
     "data": {
      "text/plain": [
       "<Figure size 640x480 with 1 Axes>"
      ]
     },
     "metadata": {},
     "output_type": "display_data"
    }
   ],
   "source": [
    "import matplotlib.pyplot as plt\n",
    "\n",
    "acc = history_dict['accuracy']\n",
    "val_acc = history_dict['val_accuracy']\n",
    "loss = history_dict['loss']\n",
    "val_loss = history_dict['val_loss']\n",
    "\n",
    "epochs = range(1, len(acc) + 1)\n",
    "\n",
    "# “bo”代表 \"蓝点\"\n",
    "plt.plot(epochs, loss, 'bo', label='Training loss')\n",
    "# b代表“蓝色实线”\n",
    "plt.plot(epochs, val_loss, 'b', label='Validation loss')\n",
    "plt.title('Training and validation loss')\n",
    "plt.xlabel('Epochs')\n",
    "plt.ylabel('Loss')\n",
    "plt.legend()\n",
    "\n",
    "plt.show()"
   ]
  },
  {
   "cell_type": "code",
   "execution_count": 19,
   "metadata": {},
   "outputs": [
    {
     "data": {
      "image/png": "[encoded data removed]",
      "text/plain": [
       "<Figure size 432x288 with 1 Axes>"
      ]
     },
     "metadata": {
      "needs_background": "light"
     },
     "output_type": "display_data"
    }
   ],
   "source": [
    "plt.clf()   # 清除数字\n",
    "\n",
    "plt.plot(epochs, acc, 'bo', label='Training acc')\n",
    "plt.plot(epochs, val_acc, 'b', label='Validation acc')\n",
    "plt.title('Training and validation accuracy')\n",
    "plt.xlabel('Epochs')\n",
    "plt.ylabel('Accuracy')\n",
    "plt.legend()\n",
    "\n",
    "plt.show()"
   ]
  },
  {
   "cell_type": "markdown",
   "metadata": {},
   "source": [
    "## 尝试Dropout"
   ]
  },
  {
   "cell_type": "code",
   "execution_count": 20,
   "metadata": {},
   "outputs": [
    {
     "name": "stdout",
     "output_type": "stream",
     "text": [
      "Model: \"sequential_1\"\n",
      "_________________________________________________________________\n",
      "Layer (type)                 Output Shape              Param #   \n",
      "=================================================================\n",
      "embedding_1 (Embedding)      (None, None, 16)          160000    \n",
      "_________________________________________________________________\n",
      "dropout (Dropout)            (None, None, 16)          0         \n",
      "_________________________________________________________________\n",
      "global_average_pooling1d_1 ( (None, 16)                0         \n",
      "_________________________________________________________________\n",
      "dense_2 (Dense)              (None, 16)                272       \n",
      "_________________________________________________________________\n",
      "dropout_1 (Dropout)          (None, 16)                0         \n",
      "_________________________________________________________________\n",
      "dense_3 (Dense)              (None, 1)                 17        \n",
      "=================================================================\n",
      "Total params: 160,289\n",
      "Trainable params: 160,289\n",
      "Non-trainable params: 0\n",
      "_________________________________________________________________\n"
     ]
    }
   ],
   "source": [
    "# 输入形状是用于电影评论的词汇数目（10,000 词）\n",
    "vocab_size = 10000\n",
    "\n",
    "model = keras.Sequential()\n",
    "model.add(keras.layers.Embedding(vocab_size, 16))\n",
    "model.add(keras.layers.Dropout(0.2))\n",
    "model.add(keras.layers.GlobalAveragePooling1D())\n",
    "model.add(keras.layers.Dense(16, activation='relu'))\n",
    "model.add(keras.layers.Dropout(0.2))\n",
    "model.add(keras.layers.Dense(1, activation='sigmoid'))\n",
    "\n",
    "model.summary()"
   ]
  },
  {
   "cell_type": "code",
   "execution_count": 21,
   "metadata": {},
   "outputs": [],
   "source": [
    "model.compile(optimizer='adam',\n",
    "              loss='binary_crossentropy',\n",
    "              metrics=['accuracy'])"
   ]
  },
  {
   "cell_type": "code",
   "execution_count": 22,
   "metadata": {},
   "outputs": [],
   "source": [
    "x_val = train_data[:10000]\n",
    "partial_x_train = train_data[10000:]\n",
    "\n",
    "y_val = train_labels[:10000]\n",
    "partial_y_train = train_labels[10000:]"
   ]
  },
  {
   "cell_type": "code",
   "execution_count": 23,
   "metadata": {},
   "outputs": [
    {
     "name": "stdout",
     "output_type": "stream",
     "text": [
      "Train on 15000 samples, validate on 10000 samples\n",
      "Epoch 1/40\n",
      "15000/15000 [==============================] - 1s 87us/sample - loss: 0.6922 - accuracy: 0.5449 - val_loss: 0.6905 - val_accuracy: 0.6997\n",
      "Epoch 2/40\n",
      "15000/15000 [==============================] - 1s 48us/sample - loss: 0.6877 - accuracy: 0.6483 - val_loss: 0.6843 - val_accuracy: 0.7524\n",
      "Epoch 3/40\n",
      "15000/15000 [==============================] - 1s 47us/sample - loss: 0.6785 - accuracy: 0.7217 - val_loss: 0.6725 - val_accuracy: 0.7504\n",
      "Epoch 4/40\n",
      "15000/15000 [==============================] - 1s 49us/sample - loss: 0.6619 - accuracy: 0.7455 - val_loss: 0.6529 - val_accuracy: 0.7680\n",
      "Epoch 5/40\n",
      "15000/15000 [==============================] - 1s 47us/sample - loss: 0.6367 - accuracy: 0.7632 - val_loss: 0.6249 - val_accuracy: 0.7832\n",
      "Epoch 6/40\n",
      "15000/15000 [==============================] - 1s 47us/sample - loss: 0.6033 - accuracy: 0.7782 - val_loss: 0.5902 - val_accuracy: 0.7959\n",
      "Epoch 7/40\n",
      "15000/15000 [==============================] - 1s 47us/sample - loss: 0.5651 - accuracy: 0.8013 - val_loss: 0.5528 - val_accuracy: 0.8128\n",
      "Epoch 8/40\n",
      "15000/15000 [==============================] - 1s 47us/sample - loss: 0.5229 - accuracy: 0.8178 - val_loss: 0.5136 - val_accuracy: 0.8251\n",
      "Epoch 9/40\n",
      "15000/15000 [==============================] - 1s 47us/sample - loss: 0.4830 - accuracy: 0.8341 - val_loss: 0.4768 - val_accuracy: 0.8363\n",
      "Epoch 10/40\n",
      "15000/15000 [==============================] - 1s 47us/sample - loss: 0.4470 - accuracy: 0.8441 - val_loss: 0.4443 - val_accuracy: 0.8461\n",
      "Epoch 11/40\n",
      "15000/15000 [==============================] - 1s 47us/sample - loss: 0.4136 - accuracy: 0.8574 - val_loss: 0.4169 - val_accuracy: 0.8531\n",
      "Epoch 12/40\n",
      "15000/15000 [==============================] - 1s 47us/sample - loss: 0.3862 - accuracy: 0.8635 - val_loss: 0.3936 - val_accuracy: 0.8585\n",
      "Epoch 13/40\n",
      "15000/15000 [==============================] - 1s 48us/sample - loss: 0.3600 - accuracy: 0.8751 - val_loss: 0.3744 - val_accuracy: 0.8636\n",
      "Epoch 14/40\n",
      "15000/15000 [==============================] - 1s 47us/sample - loss: 0.3397 - accuracy: 0.8825 - val_loss: 0.3594 - val_accuracy: 0.8661\n",
      "Epoch 15/40\n",
      "15000/15000 [==============================] - 1s 47us/sample - loss: 0.3212 - accuracy: 0.8869 - val_loss: 0.3452 - val_accuracy: 0.8691\n",
      "Epoch 16/40\n",
      "15000/15000 [==============================] - 1s 47us/sample - loss: 0.3037 - accuracy: 0.8923 - val_loss: 0.3336 - val_accuracy: 0.8712\n",
      "Epoch 17/40\n",
      "15000/15000 [==============================] - 1s 47us/sample - loss: 0.2892 - accuracy: 0.8939 - val_loss: 0.3241 - val_accuracy: 0.8761\n",
      "Epoch 18/40\n",
      "15000/15000 [==============================] - 1s 47us/sample - loss: 0.2752 - accuracy: 0.9016 - val_loss: 0.3155 - val_accuracy: 0.8764\n",
      "Epoch 19/40\n",
      "15000/15000 [==============================] - 1s 48us/sample - loss: 0.2640 - accuracy: 0.9019 - val_loss: 0.3100 - val_accuracy: 0.8777\n",
      "Epoch 20/40\n",
      "15000/15000 [==============================] - 1s 47us/sample - loss: 0.2511 - accuracy: 0.9079 - val_loss: 0.3032 - val_accuracy: 0.8806\n",
      "Epoch 21/40\n",
      "15000/15000 [==============================] - 1s 48us/sample - loss: 0.2397 - accuracy: 0.9167 - val_loss: 0.2981 - val_accuracy: 0.8817\n",
      "Epoch 22/40\n",
      "15000/15000 [==============================] - 1s 47us/sample - loss: 0.2301 - accuracy: 0.9173 - val_loss: 0.2945 - val_accuracy: 0.8827\n",
      "Epoch 23/40\n",
      "15000/15000 [==============================] - 1s 47us/sample - loss: 0.2217 - accuracy: 0.9217 - val_loss: 0.2920 - val_accuracy: 0.8822\n",
      "Epoch 24/40\n",
      "15000/15000 [==============================] - 1s 47us/sample - loss: 0.2125 - accuracy: 0.9251 - val_loss: 0.2888 - val_accuracy: 0.8848\n",
      "Epoch 25/40\n",
      "15000/15000 [==============================] - 1s 47us/sample - loss: 0.2063 - accuracy: 0.9265 - val_loss: 0.2864 - val_accuracy: 0.8845\n",
      "Epoch 26/40\n",
      "15000/15000 [==============================] - 1s 47us/sample - loss: 0.1976 - accuracy: 0.9313 - val_loss: 0.2854 - val_accuracy: 0.8837\n",
      "Epoch 27/40\n",
      "15000/15000 [==============================] - 1s 48us/sample - loss: 0.1896 - accuracy: 0.9358 - val_loss: 0.2836 - val_accuracy: 0.8864\n",
      "Epoch 28/40\n",
      "15000/15000 [==============================] - 1s 47us/sample - loss: 0.1848 - accuracy: 0.9385 - val_loss: 0.2827 - val_accuracy: 0.8861\n",
      "Epoch 29/40\n",
      "15000/15000 [==============================] - 1s 47us/sample - loss: 0.1779 - accuracy: 0.9394 - val_loss: 0.2828 - val_accuracy: 0.8856\n",
      "Epoch 30/40\n",
      "15000/15000 [==============================] - 1s 47us/sample - loss: 0.1727 - accuracy: 0.9412 - val_loss: 0.2823 - val_accuracy: 0.8862\n",
      "Epoch 31/40\n",
      "15000/15000 [==============================] - 1s 53us/sample - loss: 0.1656 - accuracy: 0.9458 - val_loss: 0.2824 - val_accuracy: 0.8868\n",
      "Epoch 32/40\n",
      "15000/15000 [==============================] - 1s 53us/sample - loss: 0.1586 - accuracy: 0.9491 - val_loss: 0.2829 - val_accuracy: 0.8863\n",
      "Epoch 33/40\n",
      "15000/15000 [==============================] - 1s 47us/sample - loss: 0.1560 - accuracy: 0.9502 - val_loss: 0.2834 - val_accuracy: 0.8879\n",
      "Epoch 34/40\n",
      "15000/15000 [==============================] - 1s 48us/sample - loss: 0.1494 - accuracy: 0.9529 - val_loss: 0.2851 - val_accuracy: 0.8851\n",
      "Epoch 35/40\n",
      "15000/15000 [==============================] - 1s 47us/sample - loss: 0.1437 - accuracy: 0.9546 - val_loss: 0.2854 - val_accuracy: 0.8867\n",
      "Epoch 36/40\n",
      "15000/15000 [==============================] - 1s 47us/sample - loss: 0.1408 - accuracy: 0.9569 - val_loss: 0.2870 - val_accuracy: 0.8857\n",
      "Epoch 37/40\n",
      "15000/15000 [==============================] - 1s 47us/sample - loss: 0.1344 - accuracy: 0.9574 - val_loss: 0.2898 - val_accuracy: 0.8854\n",
      "Epoch 38/40\n",
      "15000/15000 [==============================] - 1s 47us/sample - loss: 0.1316 - accuracy: 0.9589 - val_loss: 0.2896 - val_accuracy: 0.8863\n",
      "Epoch 39/40\n",
      "15000/15000 [==============================] - 1s 51us/sample - loss: 0.1272 - accuracy: 0.9614 - val_loss: 0.2918 - val_accuracy: 0.8857\n",
      "Epoch 40/40\n",
      "15000/15000 [==============================] - 1s 48us/sample - loss: 0.1248 - accuracy: 0.9633 - val_loss: 0.2939 - val_accuracy: 0.8859\n"
     ]
    }
   ],
   "source": [
    "history = model.fit(partial_x_train,\n",
    "                    partial_y_train,\n",
    "                    epochs=40,\n",
    "                    batch_size=512,\n",
    "                    validation_data=(x_val, y_val),\n",
    "                    verbose=1)"
   ]
  },
  {
   "cell_type": "code",
   "execution_count": 24,
   "metadata": {},
   "outputs": [
    {
     "name": "stdout",
     "output_type": "stream",
     "text": [
      "25000/1 - 1s - loss: 0.3343 - accuracy: 0.8760\n",
      "[0.31233349895000456, 0.87604]\n"
     ]
    }
   ],
   "source": [
    "results = model.evaluate(test_data,  test_labels, verbose=2)\n",
    "\n",
    "print(results)"
   ]
  },
  {
   "cell_type": "code",
   "execution_count": 25,
   "metadata": {},
   "outputs": [
    {
     "data": {
      "text/plain": [
       "dict_keys(['loss', 'accuracy', 'val_loss', 'val_accuracy'])"
      ]
     },
     "execution_count": 25,
     "metadata": {},
     "output_type": "execute_result"
    }
   ],
   "source": [
    "history_dict = history.history\n",
    "history_dict.keys()"
   ]
  },
  {
   "cell_type": "code",
   "execution_count": 26,
   "metadata": {},
   "outputs": [
    {
     "data": {
      "image/png": "[encoded data removed]",
      "text/plain": [
       "<Figure size 432x288 with 1 Axes>"
      ]
     },
     "metadata": {
      "needs_background": "light"
     },
     "output_type": "display_data"
    }
   ],
   "source": [
    "import matplotlib.pyplot as plt\n",
    "\n",
    "acc = history_dict['accuracy']\n",
    "val_acc = history_dict['val_accuracy']\n",
    "loss = history_dict['loss']\n",
    "val_loss = history_dict['val_loss']\n",
    "\n",
    "epochs = range(1, len(acc) + 1)\n",
    "\n",
    "# “bo”代表 \"蓝点\"\n",
    "plt.plot(epochs, loss, 'bo', label='Training loss')\n",
    "# b代表“蓝色实线”\n",
    "plt.plot(epochs, val_loss, 'b', label='Validation loss')\n",
    "plt.title('Training and validation loss')\n",
    "plt.xlabel('Epochs')\n",
    "plt.ylabel('Loss')\n",
    "plt.legend()\n",
    "\n",
    "plt.show()"
   ]
  },
  {
   "cell_type": "code",
   "execution_count": 27,
   "metadata": {},
   "outputs": [
    {
     "data": {
      "image/png": "[encoded data removed]",
      "text/plain": [
       "<Figure size 432x288 with 1 Axes>"
      ]
     },
     "metadata": {
      "needs_background": "light"
     },
     "output_type": "display_data"
    }
   ],
   "source": [
    "plt.clf()   # 清除数字\n",
    "\n",
    "plt.plot(epochs, acc, 'bo', label='Training acc')\n",
    "plt.plot(epochs, val_acc, 'b', label='Validation acc')\n",
    "plt.title('Training and validation accuracy')\n",
    "plt.xlabel('Epochs')\n",
    "plt.ylabel('Accuracy')\n",
    "plt.legend()\n",
    "\n",
    "plt.show()"
   ]
  },
  {
   "cell_type": "markdown",
   "metadata": {},
   "source": [
    "## 尝试栈式GRU"
   ]
  },
  {
   "cell_type": "code",
   "execution_count": 88,
   "metadata": {},
   "outputs": [
    {
     "name": "stdout",
     "output_type": "stream",
     "text": [
      "Model: \"sequential_10\"\n",
      "_________________________________________________________________\n",
      "Layer (type)                 Output Shape              Param #   \n",
      "=================================================================\n",
      "embedding_10 (Embedding)     (None, None, 64)          640000    \n",
      "_________________________________________________________________\n",
      "gru_10 (GRU)                 (None, None, 32)          9408      \n",
      "_________________________________________________________________\n",
      "gru_11 (GRU)                 (None, None, 32)          6336      \n",
      "_________________________________________________________________\n",
      "gru_12 (GRU)                 (None, 32)                6336      \n",
      "_________________________________________________________________\n",
      "dropout_12 (Dropout)         (None, 32)                0         \n",
      "_________________________________________________________________\n",
      "dense_14 (Dense)             (None, 1)                 33        \n",
      "=================================================================\n",
      "Total params: 662,113\n",
      "Trainable params: 662,113\n",
      "Non-trainable params: 0\n",
      "_________________________________________________________________\n"
     ]
    }
   ],
   "source": [
    "# 输入形状是用于电影评论的词汇数目（10,000 词）\n",
    "vocab_size = 10000\n",
    "data_dim = 64\n",
    "\n",
    "model = keras.Sequential()\n",
    "model.add(keras.layers.Embedding(vocab_size, data_dim))\n",
    "model.add(keras.layers.GRU(32, return_sequences=True,dropout=0.5))  # 返回维度为 32 的向量序列\n",
    "model.add(keras.layers.GRU(32, return_sequences=True,dropout=0.5))  # 返回维度为 32 的向量序列\n",
    "model.add(keras.layers.GRU(32,dropout=0.5))  # 返回维度为 32 的单个向量\n",
    "model.add(keras.layers.Dropout(0.5))\n",
    "model.add(keras.layers.Dense(1, activation='sigmoid'))\n",
    "\n",
    "model.summary()"
   ]
  },
  {
   "cell_type": "code",
   "execution_count": 89,
   "metadata": {},
   "outputs": [],
   "source": [
    "model.compile(optimizer='adam',\n",
    "              loss='binary_crossentropy',\n",
    "              metrics=['accuracy'])"
   ]
  },
  {
   "cell_type": "code",
   "execution_count": 90,
   "metadata": {},
   "outputs": [],
   "source": [
    "x_val = train_data[:10000]\n",
    "partial_x_train = train_data[10000:]\n",
    "\n",
    "y_val = train_labels[:10000]\n",
    "partial_y_train = train_labels[10000:]"
   ]
  },
  {
   "cell_type": "code",
   "execution_count": 91,
   "metadata": {},
   "outputs": [
    {
     "name": "stdout",
     "output_type": "stream",
     "text": [
      "Train on 15000 samples, validate on 10000 samples\n",
      "Epoch 1/40\n",
      "15000/15000 [==============================] - 7s 477us/sample - loss: 0.6932 - accuracy: 0.5082 - val_loss: 0.6928 - val_accuracy: 0.5088\n",
      "Epoch 2/40\n",
      "15000/15000 [==============================] - 3s 178us/sample - loss: 0.6923 - accuracy: 0.5239 - val_loss: 0.6918 - val_accuracy: 0.5062\n",
      "Epoch 3/40\n",
      "15000/15000 [==============================] - 3s 173us/sample - loss: 0.6865 - accuracy: 0.5402 - val_loss: 0.6749 - val_accuracy: 0.5519\n",
      "Epoch 4/40\n",
      "15000/15000 [==============================] - 3s 175us/sample - loss: 0.6493 - accuracy: 0.5773 - val_loss: 0.6472 - val_accuracy: 0.5741\n",
      "Epoch 5/40\n",
      "15000/15000 [==============================] - 3s 174us/sample - loss: 0.6031 - accuracy: 0.6156 - val_loss: 0.6439 - val_accuracy: 0.5842\n",
      "Epoch 6/40\n",
      "15000/15000 [==============================] - 3s 172us/sample - loss: 0.5955 - accuracy: 0.6559 - val_loss: 0.6431 - val_accuracy: 0.6039\n",
      "Epoch 7/40\n",
      "15000/15000 [==============================] - 3s 173us/sample - loss: 0.5706 - accuracy: 0.6522 - val_loss: 0.6457 - val_accuracy: 0.6205\n",
      "Epoch 8/40\n",
      "15000/15000 [==============================] - 3s 175us/sample - loss: 0.4802 - accuracy: 0.7421 - val_loss: 0.4689 - val_accuracy: 0.8421\n",
      "Epoch 9/40\n",
      "15000/15000 [==============================] - 3s 176us/sample - loss: 0.3280 - accuracy: 0.8797 - val_loss: 0.3585 - val_accuracy: 0.8571\n",
      "Epoch 10/40\n",
      "15000/15000 [==============================] - 3s 174us/sample - loss: 0.2503 - accuracy: 0.9129 - val_loss: 0.3554 - val_accuracy: 0.8589\n",
      "Epoch 11/40\n",
      "15000/15000 [==============================] - 3s 175us/sample - loss: 0.1991 - accuracy: 0.9363 - val_loss: 0.4342 - val_accuracy: 0.8686\n",
      "Epoch 12/40\n",
      "15000/15000 [==============================] - 3s 174us/sample - loss: 0.1744 - accuracy: 0.9445 - val_loss: 0.4097 - val_accuracy: 0.8656\n",
      "Epoch 13/40\n",
      "15000/15000 [==============================] - 3s 174us/sample - loss: 0.1415 - accuracy: 0.9573 - val_loss: 0.4303 - val_accuracy: 0.8649\n",
      "Epoch 14/40\n",
      "15000/15000 [==============================] - 3s 174us/sample - loss: 0.1300 - accuracy: 0.9618 - val_loss: 0.4545 - val_accuracy: 0.8622\n",
      "Epoch 15/40\n",
      "15000/15000 [==============================] - 3s 173us/sample - loss: 0.1167 - accuracy: 0.9671 - val_loss: 0.4973 - val_accuracy: 0.8466\n",
      "Epoch 16/40\n",
      "15000/15000 [==============================] - 3s 174us/sample - loss: 0.1078 - accuracy: 0.9705 - val_loss: 0.4308 - val_accuracy: 0.8605\n",
      "Epoch 17/40\n",
      "15000/15000 [==============================] - 3s 174us/sample - loss: 0.1027 - accuracy: 0.9706 - val_loss: 0.4447 - val_accuracy: 0.8597\n",
      "Epoch 18/40\n",
      "15000/15000 [==============================] - 3s 174us/sample - loss: 0.0959 - accuracy: 0.9731 - val_loss: 0.5554 - val_accuracy: 0.8631\n",
      "Epoch 19/40\n",
      "15000/15000 [==============================] - 3s 174us/sample - loss: 0.0703 - accuracy: 0.9825 - val_loss: 0.5448 - val_accuracy: 0.8611\n",
      "Epoch 20/40\n",
      "15000/15000 [==============================] - 3s 175us/sample - loss: 0.0678 - accuracy: 0.9826 - val_loss: 0.5274 - val_accuracy: 0.8596\n",
      "Epoch 21/40\n",
      "15000/15000 [==============================] - 3s 175us/sample - loss: 0.0582 - accuracy: 0.9862 - val_loss: 0.5761 - val_accuracy: 0.8524\n",
      "Epoch 22/40\n",
      "15000/15000 [==============================] - 3s 175us/sample - loss: 0.0801 - accuracy: 0.9781 - val_loss: 0.6572 - val_accuracy: 0.8617\n",
      "Epoch 23/40\n",
      "15000/15000 [==============================] - 3s 175us/sample - loss: 0.0625 - accuracy: 0.9855 - val_loss: 0.5688 - val_accuracy: 0.8584\n",
      "Epoch 24/40\n",
      "15000/15000 [==============================] - 3s 175us/sample - loss: 0.0606 - accuracy: 0.9849 - val_loss: 0.5322 - val_accuracy: 0.8588\n",
      "Epoch 25/40\n",
      "15000/15000 [==============================] - 3s 177us/sample - loss: 0.0500 - accuracy: 0.9880 - val_loss: 0.6148 - val_accuracy: 0.8603\n",
      "Epoch 26/40\n",
      "15000/15000 [==============================] - 3s 176us/sample - loss: 0.0410 - accuracy: 0.9915 - val_loss: 0.7074 - val_accuracy: 0.8597\n",
      "Epoch 27/40\n",
      "15000/15000 [==============================] - 3s 176us/sample - loss: 0.0422 - accuracy: 0.9905 - val_loss: 0.6339 - val_accuracy: 0.8588\n",
      "Epoch 28/40\n",
      "15000/15000 [==============================] - 3s 177us/sample - loss: 0.0424 - accuracy: 0.9907 - val_loss: 0.6478 - val_accuracy: 0.8590\n",
      "Epoch 29/40\n",
      "15000/15000 [==============================] - 3s 177us/sample - loss: 0.0426 - accuracy: 0.9902 - val_loss: 0.6975 - val_accuracy: 0.8595\n",
      "Epoch 30/40\n",
      "15000/15000 [==============================] - 3s 176us/sample - loss: 0.0399 - accuracy: 0.9908 - val_loss: 0.6924 - val_accuracy: 0.8602\n",
      "Epoch 31/40\n",
      "15000/15000 [==============================] - 3s 175us/sample - loss: 0.0426 - accuracy: 0.9898 - val_loss: 0.7278 - val_accuracy: 0.8587\n",
      "Epoch 32/40\n",
      "15000/15000 [==============================] - 3s 177us/sample - loss: 0.0438 - accuracy: 0.9897 - val_loss: 0.6415 - val_accuracy: 0.8586\n",
      "Epoch 33/40\n",
      "15000/15000 [==============================] - 3s 175us/sample - loss: 0.0355 - accuracy: 0.9921 - val_loss: 0.6041 - val_accuracy: 0.8581\n",
      "Epoch 34/40\n",
      "15000/15000 [==============================] - 3s 176us/sample - loss: 0.0356 - accuracy: 0.9923 - val_loss: 0.7134 - val_accuracy: 0.8603\n",
      "Epoch 35/40\n",
      "15000/15000 [==============================] - 3s 174us/sample - loss: 0.0338 - accuracy: 0.9931 - val_loss: 0.6844 - val_accuracy: 0.8579\n",
      "Epoch 36/40\n",
      "15000/15000 [==============================] - 3s 175us/sample - loss: 0.0422 - accuracy: 0.9901 - val_loss: 0.6189 - val_accuracy: 0.8561\n",
      "Epoch 37/40\n",
      "15000/15000 [==============================] - 3s 175us/sample - loss: 0.0340 - accuracy: 0.9926 - val_loss: 0.7137 - val_accuracy: 0.8590\n",
      "Epoch 38/40\n",
      "15000/15000 [==============================] - 3s 176us/sample - loss: 0.0335 - accuracy: 0.9931 - val_loss: 0.6413 - val_accuracy: 0.8578\n",
      "Epoch 39/40\n",
      "15000/15000 [==============================] - 3s 176us/sample - loss: 0.0299 - accuracy: 0.9935 - val_loss: 0.7510 - val_accuracy: 0.8560\n",
      "Epoch 40/40\n",
      "15000/15000 [==============================] - 3s 176us/sample - loss: 0.0316 - accuracy: 0.9935 - val_loss: 0.6950 - val_accuracy: 0.8604\n"
     ]
    }
   ],
   "source": [
    "history = model.fit(partial_x_train,\n",
    "                    partial_y_train,\n",
    "                    epochs=40,\n",
    "                    batch_size=512,\n",
    "                    validation_data=(x_val, y_val),\n",
    "                    verbose=1)"
   ]
  },
  {
   "cell_type": "code",
   "execution_count": 92,
   "metadata": {},
   "outputs": [
    {
     "name": "stdout",
     "output_type": "stream",
     "text": [
      "25000/1 - 10s - loss: 0.7689 - accuracy: 0.8438\n",
      "[0.7659599613553285, 0.8438]\n"
     ]
    }
   ],
   "source": [
    "results = model.evaluate(test_data,  test_labels, verbose=2)\n",
    "\n",
    "print(results)"
   ]
  },
  {
   "cell_type": "code",
   "execution_count": 93,
   "metadata": {},
   "outputs": [
    {
     "data": {
      "text/plain": [
       "dict_keys(['loss', 'accuracy', 'val_loss', 'val_accuracy'])"
      ]
     },
     "execution_count": 93,
     "metadata": {},
     "output_type": "execute_result"
    }
   ],
   "source": [
    "history_dict = history.history\n",
    "history_dict.keys()"
   ]
  },
  {
   "cell_type": "code",
   "execution_count": 94,
   "metadata": {},
   "outputs": [
    {
     "data": {
      "image/png": "[encoded data removed]",
      "text/plain": [
       "<Figure size 432x288 with 1 Axes>"
      ]
     },
     "metadata": {
      "needs_background": "light"
     },
     "output_type": "display_data"
    }
   ],
   "source": [
    "import matplotlib.pyplot as plt\n",
    "\n",
    "acc = history_dict['accuracy']\n",
    "val_acc = history_dict['val_accuracy']\n",
    "loss = history_dict['loss']\n",
    "val_loss = history_dict['val_loss']\n",
    "\n",
    "epochs = range(1, len(acc) + 1)\n",
    "\n",
    "# “bo”代表 \"蓝点\"\n",
    "plt.plot(epochs, loss, 'bo', label='Training loss')\n",
    "# b代表“蓝色实线”\n",
    "plt.plot(epochs, val_loss, 'b', label='Validation loss')\n",
    "plt.title('Training and validation loss')\n",
    "plt.xlabel('Epochs')\n",
    "plt.ylabel('Loss')\n",
    "plt.legend()\n",
    "\n",
    "plt.show()"
   ]
  },
  {
   "cell_type": "code",
   "execution_count": 95,
   "metadata": {},
   "outputs": [
    {
     "data": {
      "image/png": "[encoded data removed]",
      "text/plain": [
       "<Figure size 432x288 with 1 Axes>"
      ]
     },
     "metadata": {
      "needs_background": "light"
     },
     "output_type": "display_data"
    }
   ],
   "source": [
    "plt.clf()   # 清除数字\n",
    "\n",
    "plt.plot(epochs, acc, 'bo', label='Training acc')\n",
    "plt.plot(epochs, val_acc, 'b', label='Validation acc')\n",
    "plt.title('Training and validation accuracy')\n",
    "plt.xlabel('Epochs')\n",
    "plt.ylabel('Accuracy')\n",
    "plt.legend()\n",
    "\n",
    "plt.show()"
   ]
  },
  {
   "cell_type": "code",
   "execution_count": null,
   "metadata": {},
   "outputs": [],
   "source": []
  }
 ],
 "metadata": {
  "kernelspec": {
   "display_name": "Python 3",
   "language": "python",
   "name": "python3"
  },
  "language_info": {
   "codemirror_mode": {
    "name": "ipython",
    "version": 3
   },
   "file_extension": ".py",
   "mimetype": "text/x-python",
   "name": "python",
   "nbconvert_exporter": "python",
   "pygments_lexer": "ipython3",
   "version": "3.6.2"
  }
 },
 "nbformat": 4,
 "nbformat_minor": 2
}
