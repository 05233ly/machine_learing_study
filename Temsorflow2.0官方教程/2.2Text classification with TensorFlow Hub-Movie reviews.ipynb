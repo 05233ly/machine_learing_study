{
 "cells": [
  {
   "cell_type": "code",
   "execution_count": 4,
   "metadata": {},
   "outputs": [
    {
     "name": "stdout",
     "output_type": "stream",
     "text": [
      "Version:  2.0.0\n",
      "Eager mode:  True\n",
      "Hub version:  0.6.0\n",
      "GPU is available\n"
     ]
    }
   ],
   "source": [
    "from __future__ import absolute_import, division, print_function, unicode_literals\n",
    "\n",
    "import numpy as np\n",
    "\n",
    "import tensorflow as tf\n",
    "\n",
    "import tensorflow_hub as hub\n",
    "import tensorflow_datasets as tfds\n",
    "\n",
    "print(\"Version: \", tf.__version__)\n",
    "print(\"Eager mode: \", tf.executing_eagerly())\n",
    "print(\"Hub version: \", hub.__version__)\n",
    "print(\"GPU is\", \"available\" if tf.config.experimental.list_physical_devices(\"GPU\") else \"NOT AVAILABLE\")"
   ]
  },
  {
   "cell_type": "code",
   "execution_count": null,
   "metadata": {},
   "outputs": [],
   "source": [
    "# fashion_mnist = tf.keras.datasets.imdb"
   ]
  },
  {
   "cell_type": "code",
   "execution_count": 2,
   "metadata": {},
   "outputs": [
    {
     "data": {
      "text/plain": [
       "['abstract_reasoning',\n",
       " 'aflw2k3d',\n",
       " 'amazon_us_reviews',\n",
       " 'bair_robot_pushing_small',\n",
       " 'bigearthnet',\n",
       " 'binarized_mnist',\n",
       " 'binary_alpha_digits',\n",
       " 'caltech101',\n",
       " 'caltech_birds2010',\n",
       " 'caltech_birds2011',\n",
       " 'cats_vs_dogs',\n",
       " 'celeb_a',\n",
       " 'celeb_a_hq',\n",
       " 'chexpert',\n",
       " 'cifar10',\n",
       " 'cifar100',\n",
       " 'cifar10_corrupted',\n",
       " 'clevr',\n",
       " 'cnn_dailymail',\n",
       " 'coco',\n",
       " 'coco2014',\n",
       " 'coil100',\n",
       " 'colorectal_histology',\n",
       " 'colorectal_histology_large',\n",
       " 'curated_breast_imaging_ddsm',\n",
       " 'cycle_gan',\n",
       " 'deep_weeds',\n",
       " 'definite_pronoun_resolution',\n",
       " 'diabetic_retinopathy_detection',\n",
       " 'downsampled_imagenet',\n",
       " 'dsprites',\n",
       " 'dtd',\n",
       " 'dummy_dataset_shared_generator',\n",
       " 'dummy_mnist',\n",
       " 'emnist',\n",
       " 'eurosat',\n",
       " 'fashion_mnist',\n",
       " 'flores',\n",
       " 'food101',\n",
       " 'gap',\n",
       " 'glue',\n",
       " 'groove',\n",
       " 'higgs',\n",
       " 'horses_or_humans',\n",
       " 'image_label_folder',\n",
       " 'imagenet2012',\n",
       " 'imagenet2012_corrupted',\n",
       " 'imdb_reviews',\n",
       " 'iris',\n",
       " 'kitti',\n",
       " 'kmnist',\n",
       " 'lfw',\n",
       " 'lm1b',\n",
       " 'lsun',\n",
       " 'mnist',\n",
       " 'mnist_corrupted',\n",
       " 'moving_mnist',\n",
       " 'multi_nli',\n",
       " 'nsynth',\n",
       " 'omniglot',\n",
       " 'open_images_v4',\n",
       " 'oxford_flowers102',\n",
       " 'oxford_iiit_pet',\n",
       " 'para_crawl',\n",
       " 'patch_camelyon',\n",
       " 'pet_finder',\n",
       " 'quickdraw_bitmap',\n",
       " 'resisc45',\n",
       " 'rock_paper_scissors',\n",
       " 'rock_you',\n",
       " 'scene_parse150',\n",
       " 'shapes3d',\n",
       " 'smallnorb',\n",
       " 'snli',\n",
       " 'so2sat',\n",
       " 'squad',\n",
       " 'stanford_dogs',\n",
       " 'stanford_online_products',\n",
       " 'starcraft_video',\n",
       " 'sun397',\n",
       " 'super_glue',\n",
       " 'svhn_cropped',\n",
       " 'ted_hrlr_translate',\n",
       " 'ted_multi_translate',\n",
       " 'tf_flowers',\n",
       " 'titanic',\n",
       " 'trivia_qa',\n",
       " 'uc_merced',\n",
       " 'ucf101',\n",
       " 'visual_domain_decathlon',\n",
       " 'voc2007',\n",
       " 'wikipedia',\n",
       " 'wmt14_translate',\n",
       " 'wmt15_translate',\n",
       " 'wmt16_translate',\n",
       " 'wmt17_translate',\n",
       " 'wmt18_translate',\n",
       " 'wmt19_translate',\n",
       " 'wmt_t2t_translate',\n",
       " 'wmt_translate',\n",
       " 'xnli']"
      ]
     },
     "execution_count": 2,
     "metadata": {},
     "output_type": "execute_result"
    }
   ],
   "source": [
    "tfds.list_builders()"
   ]
  },
  {
   "cell_type": "code",
   "execution_count": 4,
   "metadata": {},
   "outputs": [
    {
     "name": "stdout",
     "output_type": "stream",
     "text": [
      "Downloading and preparing dataset imdb_reviews (80.23 MiB) to C:\\Users\\30660\\tensorflow_datasets\\imdb_reviews\\plain_text\\0.1.0...\n"
     ]
    },
    {
     "data": {
      "application/vnd.jupyter.widget-view+json": {
       "model_id": "b550c69e60384d03adae3873aeef1b3a",
       "version_major": 2,
       "version_minor": 0
      },
      "text/plain": [
       "HBox(children=(IntProgress(value=1, bar_style='info', description='Dl Completed...', max=1, style=ProgressStyl…"
      ]
     },
     "metadata": {},
     "output_type": "display_data"
    },
    {
     "data": {
      "application/vnd.jupyter.widget-view+json": {
       "model_id": "ef7b8836bc964498af0ce95912d6392c",
       "version_major": 2,
       "version_minor": 0
      },
      "text/plain": [
       "HBox(children=(IntProgress(value=1, bar_style='info', description='Dl Size...', max=1, style=ProgressStyle(des…"
      ]
     },
     "metadata": {},
     "output_type": "display_data"
    },
    {
     "name": "stdout",
     "output_type": "stream",
     "text": [
      "\n",
      "\n",
      "\n",
      "\n"
     ]
    },
    {
     "data": {
      "application/vnd.jupyter.widget-view+json": {
       "model_id": "",
       "version_major": 2,
       "version_minor": 0
      },
      "text/plain": [
       "HBox(children=(IntProgress(value=1, bar_style='info', max=1), HTML(value='')))"
      ]
     },
     "metadata": {},
     "output_type": "display_data"
    },
    {
     "name": "stdout",
     "output_type": "stream",
     "text": [
      "\r"
     ]
    },
    {
     "data": {
      "application/vnd.jupyter.widget-view+json": {
       "model_id": "",
       "version_major": 2,
       "version_minor": 0
      },
      "text/plain": [
       "HBox(children=(IntProgress(value=0, description='Shuffling...', max=10, style=ProgressStyle(description_width=…"
      ]
     },
     "metadata": {},
     "output_type": "display_data"
    },
    {
     "name": "stdout",
     "output_type": "stream",
     "text": [
      "WARNING:tensorflow:From c:\\users\\30660\\anaconda3\\envs\\pytorch\\lib\\site-packages\\tensorflow_datasets\\core\\file_format_adapter.py:209: tf_record_iterator (from tensorflow.python.lib.io.tf_record) is deprecated and will be removed in a future version.\n",
      "Instructions for updating:\n",
      "Use eager execution and: \n",
      "`tf.data.TFRecordDataset(path)`\n"
     ]
    },
    {
     "name": "stderr",
     "output_type": "stream",
     "text": [
      "WARNING:tensorflow:From c:\\users\\30660\\anaconda3\\envs\\pytorch\\lib\\site-packages\\tensorflow_datasets\\core\\file_format_adapter.py:209: tf_record_iterator (from tensorflow.python.lib.io.tf_record) is deprecated and will be removed in a future version.\n",
      "Instructions for updating:\n",
      "Use eager execution and: \n",
      "`tf.data.TFRecordDataset(path)`\n"
     ]
    },
    {
     "data": {
      "application/vnd.jupyter.widget-view+json": {
       "model_id": "",
       "version_major": 2,
       "version_minor": 0
      },
      "text/plain": [
       "HBox(children=(IntProgress(value=1, bar_style='info', description='Reading...', max=1, style=ProgressStyle(des…"
      ]
     },
     "metadata": {},
     "output_type": "display_data"
    },
    {
     "data": {
      "application/vnd.jupyter.widget-view+json": {
       "model_id": "",
       "version_major": 2,
       "version_minor": 0
      },
      "text/plain": [
       "HBox(children=(IntProgress(value=0, description='Writing...', max=2500, style=ProgressStyle(description_width=…"
      ]
     },
     "metadata": {},
     "output_type": "display_data"
    },
    {
     "data": {
      "application/vnd.jupyter.widget-view+json": {
       "model_id": "",
       "version_major": 2,
       "version_minor": 0
      },
      "text/plain": [
       "HBox(children=(IntProgress(value=1, bar_style='info', description='Reading...', max=1, style=ProgressStyle(des…"
      ]
     },
     "metadata": {},
     "output_type": "display_data"
    },
    {
     "data": {
      "application/vnd.jupyter.widget-view+json": {
       "model_id": "",
       "version_major": 2,
       "version_minor": 0
      },
      "text/plain": [
       "HBox(children=(IntProgress(value=0, description='Writing...', max=2500, style=ProgressStyle(description_width=…"
      ]
     },
     "metadata": {},
     "output_type": "display_data"
    },
    {
     "data": {
      "application/vnd.jupyter.widget-view+json": {
       "model_id": "",
       "version_major": 2,
       "version_minor": 0
      },
      "text/plain": [
       "HBox(children=(IntProgress(value=1, bar_style='info', description='Reading...', max=1, style=ProgressStyle(des…"
      ]
     },
     "metadata": {},
     "output_type": "display_data"
    },
    {
     "data": {
      "application/vnd.jupyter.widget-view+json": {
       "model_id": "",
       "version_major": 2,
       "version_minor": 0
      },
      "text/plain": [
       "HBox(children=(IntProgress(value=0, description='Writing...', max=2500, style=ProgressStyle(description_width=…"
      ]
     },
     "metadata": {},
     "output_type": "display_data"
    },
    {
     "data": {
      "application/vnd.jupyter.widget-view+json": {
       "model_id": "",
       "version_major": 2,
       "version_minor": 0
      },
      "text/plain": [
       "HBox(children=(IntProgress(value=1, bar_style='info', description='Reading...', max=1, style=ProgressStyle(des…"
      ]
     },
     "metadata": {},
     "output_type": "display_data"
    },
    {
     "data": {
      "application/vnd.jupyter.widget-view+json": {
       "model_id": "",
       "version_major": 2,
       "version_minor": 0
      },
      "text/plain": [
       "HBox(children=(IntProgress(value=0, description='Writing...', max=2500, style=ProgressStyle(description_width=…"
      ]
     },
     "metadata": {},
     "output_type": "display_data"
    },
    {
     "data": {
      "application/vnd.jupyter.widget-view+json": {
       "model_id": "",
       "version_major": 2,
       "version_minor": 0
      },
      "text/plain": [
       "HBox(children=(IntProgress(value=1, bar_style='info', description='Reading...', max=1, style=ProgressStyle(des…"
      ]
     },
     "metadata": {},
     "output_type": "display_data"
    },
    {
     "data": {
      "application/vnd.jupyter.widget-view+json": {
       "model_id": "",
       "version_major": 2,
       "version_minor": 0
      },
      "text/plain": [
       "HBox(children=(IntProgress(value=0, description='Writing...', max=2500, style=ProgressStyle(description_width=…"
      ]
     },
     "metadata": {},
     "output_type": "display_data"
    },
    {
     "data": {
      "application/vnd.jupyter.widget-view+json": {
       "model_id": "",
       "version_major": 2,
       "version_minor": 0
      },
      "text/plain": [
       "HBox(children=(IntProgress(value=1, bar_style='info', description='Reading...', max=1, style=ProgressStyle(des…"
      ]
     },
     "metadata": {},
     "output_type": "display_data"
    },
    {
     "data": {
      "application/vnd.jupyter.widget-view+json": {
       "model_id": "",
       "version_major": 2,
       "version_minor": 0
      },
      "text/plain": [
       "HBox(children=(IntProgress(value=0, description='Writing...', max=2500, style=ProgressStyle(description_width=…"
      ]
     },
     "metadata": {},
     "output_type": "display_data"
    },
    {
     "data": {
      "application/vnd.jupyter.widget-view+json": {
       "model_id": "",
       "version_major": 2,
       "version_minor": 0
      },
      "text/plain": [
       "HBox(children=(IntProgress(value=1, bar_style='info', description='Reading...', max=1, style=ProgressStyle(des…"
      ]
     },
     "metadata": {},
     "output_type": "display_data"
    },
    {
     "data": {
      "application/vnd.jupyter.widget-view+json": {
       "model_id": "",
       "version_major": 2,
       "version_minor": 0
      },
      "text/plain": [
       "HBox(children=(IntProgress(value=0, description='Writing...', max=2500, style=ProgressStyle(description_width=…"
      ]
     },
     "metadata": {},
     "output_type": "display_data"
    },
    {
     "data": {
      "application/vnd.jupyter.widget-view+json": {
       "model_id": "",
       "version_major": 2,
       "version_minor": 0
      },
      "text/plain": [
       "HBox(children=(IntProgress(value=1, bar_style='info', description='Reading...', max=1, style=ProgressStyle(des…"
      ]
     },
     "metadata": {},
     "output_type": "display_data"
    },
    {
     "data": {
      "application/vnd.jupyter.widget-view+json": {
       "model_id": "",
       "version_major": 2,
       "version_minor": 0
      },
      "text/plain": [
       "HBox(children=(IntProgress(value=0, description='Writing...', max=2500, style=ProgressStyle(description_width=…"
      ]
     },
     "metadata": {},
     "output_type": "display_data"
    },
    {
     "data": {
      "application/vnd.jupyter.widget-view+json": {
       "model_id": "",
       "version_major": 2,
       "version_minor": 0
      },
      "text/plain": [
       "HBox(children=(IntProgress(value=1, bar_style='info', description='Reading...', max=1, style=ProgressStyle(des…"
      ]
     },
     "metadata": {},
     "output_type": "display_data"
    },
    {
     "data": {
      "application/vnd.jupyter.widget-view+json": {
       "model_id": "",
       "version_major": 2,
       "version_minor": 0
      },
      "text/plain": [
       "HBox(children=(IntProgress(value=0, description='Writing...', max=2500, style=ProgressStyle(description_width=…"
      ]
     },
     "metadata": {},
     "output_type": "display_data"
    },
    {
     "data": {
      "application/vnd.jupyter.widget-view+json": {
       "model_id": "",
       "version_major": 2,
       "version_minor": 0
      },
      "text/plain": [
       "HBox(children=(IntProgress(value=1, bar_style='info', description='Reading...', max=1, style=ProgressStyle(des…"
      ]
     },
     "metadata": {},
     "output_type": "display_data"
    },
    {
     "data": {
      "application/vnd.jupyter.widget-view+json": {
       "model_id": "",
       "version_major": 2,
       "version_minor": 0
      },
      "text/plain": [
       "HBox(children=(IntProgress(value=0, description='Writing...', max=2500, style=ProgressStyle(description_width=…"
      ]
     },
     "metadata": {},
     "output_type": "display_data"
    },
    {
     "name": "stdout",
     "output_type": "stream",
     "text": [
      "\r"
     ]
    },
    {
     "data": {
      "application/vnd.jupyter.widget-view+json": {
       "model_id": "",
       "version_major": 2,
       "version_minor": 0
      },
      "text/plain": [
       "HBox(children=(IntProgress(value=1, bar_style='info', max=1), HTML(value='')))"
      ]
     },
     "metadata": {},
     "output_type": "display_data"
    },
    {
     "name": "stdout",
     "output_type": "stream",
     "text": [
      "\r"
     ]
    },
    {
     "data": {
      "application/vnd.jupyter.widget-view+json": {
       "model_id": "",
       "version_major": 2,
       "version_minor": 0
      },
      "text/plain": [
       "HBox(children=(IntProgress(value=0, description='Shuffling...', max=10, style=ProgressStyle(description_width=…"
      ]
     },
     "metadata": {},
     "output_type": "display_data"
    },
    {
     "data": {
      "application/vnd.jupyter.widget-view+json": {
       "model_id": "",
       "version_major": 2,
       "version_minor": 0
      },
      "text/plain": [
       "HBox(children=(IntProgress(value=1, bar_style='info', description='Reading...', max=1, style=ProgressStyle(des…"
      ]
     },
     "metadata": {},
     "output_type": "display_data"
    },
    {
     "data": {
      "application/vnd.jupyter.widget-view+json": {
       "model_id": "",
       "version_major": 2,
       "version_minor": 0
      },
      "text/plain": [
       "HBox(children=(IntProgress(value=0, description='Writing...', max=2500, style=ProgressStyle(description_width=…"
      ]
     },
     "metadata": {},
     "output_type": "display_data"
    },
    {
     "data": {
      "application/vnd.jupyter.widget-view+json": {
       "model_id": "",
       "version_major": 2,
       "version_minor": 0
      },
      "text/plain": [
       "HBox(children=(IntProgress(value=1, bar_style='info', description='Reading...', max=1, style=ProgressStyle(des…"
      ]
     },
     "metadata": {},
     "output_type": "display_data"
    },
    {
     "data": {
      "application/vnd.jupyter.widget-view+json": {
       "model_id": "",
       "version_major": 2,
       "version_minor": 0
      },
      "text/plain": [
       "HBox(children=(IntProgress(value=0, description='Writing...', max=2500, style=ProgressStyle(description_width=…"
      ]
     },
     "metadata": {},
     "output_type": "display_data"
    },
    {
     "data": {
      "application/vnd.jupyter.widget-view+json": {
       "model_id": "",
       "version_major": 2,
       "version_minor": 0
      },
      "text/plain": [
       "HBox(children=(IntProgress(value=1, bar_style='info', description='Reading...', max=1, style=ProgressStyle(des…"
      ]
     },
     "metadata": {},
     "output_type": "display_data"
    },
    {
     "data": {
      "application/vnd.jupyter.widget-view+json": {
       "model_id": "",
       "version_major": 2,
       "version_minor": 0
      },
      "text/plain": [
       "HBox(children=(IntProgress(value=0, description='Writing...', max=2500, style=ProgressStyle(description_width=…"
      ]
     },
     "metadata": {},
     "output_type": "display_data"
    },
    {
     "data": {
      "application/vnd.jupyter.widget-view+json": {
       "model_id": "",
       "version_major": 2,
       "version_minor": 0
      },
      "text/plain": [
       "HBox(children=(IntProgress(value=1, bar_style='info', description='Reading...', max=1, style=ProgressStyle(des…"
      ]
     },
     "metadata": {},
     "output_type": "display_data"
    },
    {
     "data": {
      "application/vnd.jupyter.widget-view+json": {
       "model_id": "",
       "version_major": 2,
       "version_minor": 0
      },
      "text/plain": [
       "HBox(children=(IntProgress(value=0, description='Writing...', max=2500, style=ProgressStyle(description_width=…"
      ]
     },
     "metadata": {},
     "output_type": "display_data"
    },
    {
     "data": {
      "application/vnd.jupyter.widget-view+json": {
       "model_id": "",
       "version_major": 2,
       "version_minor": 0
      },
      "text/plain": [
       "HBox(children=(IntProgress(value=1, bar_style='info', description='Reading...', max=1, style=ProgressStyle(des…"
      ]
     },
     "metadata": {},
     "output_type": "display_data"
    },
    {
     "data": {
      "application/vnd.jupyter.widget-view+json": {
       "model_id": "",
       "version_major": 2,
       "version_minor": 0
      },
      "text/plain": [
       "HBox(children=(IntProgress(value=0, description='Writing...', max=2500, style=ProgressStyle(description_width=…"
      ]
     },
     "metadata": {},
     "output_type": "display_data"
    },
    {
     "data": {
      "application/vnd.jupyter.widget-view+json": {
       "model_id": "",
       "version_major": 2,
       "version_minor": 0
      },
      "text/plain": [
       "HBox(children=(IntProgress(value=1, bar_style='info', description='Reading...', max=1, style=ProgressStyle(des…"
      ]
     },
     "metadata": {},
     "output_type": "display_data"
    },
    {
     "data": {
      "application/vnd.jupyter.widget-view+json": {
       "model_id": "",
       "version_major": 2,
       "version_minor": 0
      },
      "text/plain": [
       "HBox(children=(IntProgress(value=0, description='Writing...', max=2500, style=ProgressStyle(description_width=…"
      ]
     },
     "metadata": {},
     "output_type": "display_data"
    },
    {
     "data": {
      "application/vnd.jupyter.widget-view+json": {
       "model_id": "",
       "version_major": 2,
       "version_minor": 0
      },
      "text/plain": [
       "HBox(children=(IntProgress(value=1, bar_style='info', description='Reading...', max=1, style=ProgressStyle(des…"
      ]
     },
     "metadata": {},
     "output_type": "display_data"
    },
    {
     "data": {
      "application/vnd.jupyter.widget-view+json": {
       "model_id": "",
       "version_major": 2,
       "version_minor": 0
      },
      "text/plain": [
       "HBox(children=(IntProgress(value=0, description='Writing...', max=2500, style=ProgressStyle(description_width=…"
      ]
     },
     "metadata": {},
     "output_type": "display_data"
    },
    {
     "data": {
      "application/vnd.jupyter.widget-view+json": {
       "model_id": "",
       "version_major": 2,
       "version_minor": 0
      },
      "text/plain": [
       "HBox(children=(IntProgress(value=1, bar_style='info', description='Reading...', max=1, style=ProgressStyle(des…"
      ]
     },
     "metadata": {},
     "output_type": "display_data"
    },
    {
     "data": {
      "application/vnd.jupyter.widget-view+json": {
       "model_id": "",
       "version_major": 2,
       "version_minor": 0
      },
      "text/plain": [
       "HBox(children=(IntProgress(value=0, description='Writing...', max=2500, style=ProgressStyle(description_width=…"
      ]
     },
     "metadata": {},
     "output_type": "display_data"
    },
    {
     "data": {
      "application/vnd.jupyter.widget-view+json": {
       "model_id": "",
       "version_major": 2,
       "version_minor": 0
      },
      "text/plain": [
       "HBox(children=(IntProgress(value=1, bar_style='info', description='Reading...', max=1, style=ProgressStyle(des…"
      ]
     },
     "metadata": {},
     "output_type": "display_data"
    },
    {
     "data": {
      "application/vnd.jupyter.widget-view+json": {
       "model_id": "",
       "version_major": 2,
       "version_minor": 0
      },
      "text/plain": [
       "HBox(children=(IntProgress(value=0, description='Writing...', max=2500, style=ProgressStyle(description_width=…"
      ]
     },
     "metadata": {},
     "output_type": "display_data"
    },
    {
     "data": {
      "application/vnd.jupyter.widget-view+json": {
       "model_id": "",
       "version_major": 2,
       "version_minor": 0
      },
      "text/plain": [
       "HBox(children=(IntProgress(value=1, bar_style='info', description='Reading...', max=1, style=ProgressStyle(des…"
      ]
     },
     "metadata": {},
     "output_type": "display_data"
    },
    {
     "data": {
      "application/vnd.jupyter.widget-view+json": {
       "model_id": "",
       "version_major": 2,
       "version_minor": 0
      },
      "text/plain": [
       "HBox(children=(IntProgress(value=0, description='Writing...', max=2500, style=ProgressStyle(description_width=…"
      ]
     },
     "metadata": {},
     "output_type": "display_data"
    },
    {
     "name": "stdout",
     "output_type": "stream",
     "text": [
      "\r"
     ]
    },
    {
     "data": {
      "application/vnd.jupyter.widget-view+json": {
       "model_id": "",
       "version_major": 2,
       "version_minor": 0
      },
      "text/plain": [
       "HBox(children=(IntProgress(value=1, bar_style='info', max=1), HTML(value='')))"
      ]
     },
     "metadata": {},
     "output_type": "display_data"
    },
    {
     "name": "stdout",
     "output_type": "stream",
     "text": [
      "\r"
     ]
    },
    {
     "data": {
      "application/vnd.jupyter.widget-view+json": {
       "model_id": "",
       "version_major": 2,
       "version_minor": 0
      },
      "text/plain": [
       "HBox(children=(IntProgress(value=0, description='Shuffling...', max=20, style=ProgressStyle(description_width=…"
      ]
     },
     "metadata": {},
     "output_type": "display_data"
    },
    {
     "data": {
      "application/vnd.jupyter.widget-view+json": {
       "model_id": "",
       "version_major": 2,
       "version_minor": 0
      },
      "text/plain": [
       "HBox(children=(IntProgress(value=1, bar_style='info', description='Reading...', max=1, style=ProgressStyle(des…"
      ]
     },
     "metadata": {},
     "output_type": "display_data"
    },
    {
     "data": {
      "application/vnd.jupyter.widget-view+json": {
       "model_id": "",
       "version_major": 2,
       "version_minor": 0
      },
      "text/plain": [
       "HBox(children=(IntProgress(value=0, description='Writing...', max=2500, style=ProgressStyle(description_width=…"
      ]
     },
     "metadata": {},
     "output_type": "display_data"
    },
    {
     "data": {
      "application/vnd.jupyter.widget-view+json": {
       "model_id": "",
       "version_major": 2,
       "version_minor": 0
      },
      "text/plain": [
       "HBox(children=(IntProgress(value=1, bar_style='info', description='Reading...', max=1, style=ProgressStyle(des…"
      ]
     },
     "metadata": {},
     "output_type": "display_data"
    },
    {
     "data": {
      "application/vnd.jupyter.widget-view+json": {
       "model_id": "",
       "version_major": 2,
       "version_minor": 0
      },
      "text/plain": [
       "HBox(children=(IntProgress(value=0, description='Writing...', max=2500, style=ProgressStyle(description_width=…"
      ]
     },
     "metadata": {},
     "output_type": "display_data"
    },
    {
     "data": {
      "application/vnd.jupyter.widget-view+json": {
       "model_id": "",
       "version_major": 2,
       "version_minor": 0
      },
      "text/plain": [
       "HBox(children=(IntProgress(value=1, bar_style='info', description='Reading...', max=1, style=ProgressStyle(des…"
      ]
     },
     "metadata": {},
     "output_type": "display_data"
    },
    {
     "data": {
      "application/vnd.jupyter.widget-view+json": {
       "model_id": "",
       "version_major": 2,
       "version_minor": 0
      },
      "text/plain": [
       "HBox(children=(IntProgress(value=0, description='Writing...', max=2500, style=ProgressStyle(description_width=…"
      ]
     },
     "metadata": {},
     "output_type": "display_data"
    },
    {
     "data": {
      "application/vnd.jupyter.widget-view+json": {
       "model_id": "",
       "version_major": 2,
       "version_minor": 0
      },
      "text/plain": [
       "HBox(children=(IntProgress(value=1, bar_style='info', description='Reading...', max=1, style=ProgressStyle(des…"
      ]
     },
     "metadata": {},
     "output_type": "display_data"
    },
    {
     "data": {
      "application/vnd.jupyter.widget-view+json": {
       "model_id": "",
       "version_major": 2,
       "version_minor": 0
      },
      "text/plain": [
       "HBox(children=(IntProgress(value=0, description='Writing...', max=2500, style=ProgressStyle(description_width=…"
      ]
     },
     "metadata": {},
     "output_type": "display_data"
    },
    {
     "data": {
      "application/vnd.jupyter.widget-view+json": {
       "model_id": "",
       "version_major": 2,
       "version_minor": 0
      },
      "text/plain": [
       "HBox(children=(IntProgress(value=1, bar_style='info', description='Reading...', max=1, style=ProgressStyle(des…"
      ]
     },
     "metadata": {},
     "output_type": "display_data"
    },
    {
     "data": {
      "application/vnd.jupyter.widget-view+json": {
       "model_id": "",
       "version_major": 2,
       "version_minor": 0
      },
      "text/plain": [
       "HBox(children=(IntProgress(value=0, description='Writing...', max=2500, style=ProgressStyle(description_width=…"
      ]
     },
     "metadata": {},
     "output_type": "display_data"
    },
    {
     "data": {
      "application/vnd.jupyter.widget-view+json": {
       "model_id": "",
       "version_major": 2,
       "version_minor": 0
      },
      "text/plain": [
       "HBox(children=(IntProgress(value=1, bar_style='info', description='Reading...', max=1, style=ProgressStyle(des…"
      ]
     },
     "metadata": {},
     "output_type": "display_data"
    },
    {
     "data": {
      "application/vnd.jupyter.widget-view+json": {
       "model_id": "",
       "version_major": 2,
       "version_minor": 0
      },
      "text/plain": [
       "HBox(children=(IntProgress(value=0, description='Writing...', max=2500, style=ProgressStyle(description_width=…"
      ]
     },
     "metadata": {},
     "output_type": "display_data"
    },
    {
     "data": {
      "application/vnd.jupyter.widget-view+json": {
       "model_id": "",
       "version_major": 2,
       "version_minor": 0
      },
      "text/plain": [
       "HBox(children=(IntProgress(value=1, bar_style='info', description='Reading...', max=1, style=ProgressStyle(des…"
      ]
     },
     "metadata": {},
     "output_type": "display_data"
    },
    {
     "data": {
      "application/vnd.jupyter.widget-view+json": {
       "model_id": "",
       "version_major": 2,
       "version_minor": 0
      },
      "text/plain": [
       "HBox(children=(IntProgress(value=0, description='Writing...', max=2500, style=ProgressStyle(description_width=…"
      ]
     },
     "metadata": {},
     "output_type": "display_data"
    },
    {
     "data": {
      "application/vnd.jupyter.widget-view+json": {
       "model_id": "",
       "version_major": 2,
       "version_minor": 0
      },
      "text/plain": [
       "HBox(children=(IntProgress(value=1, bar_style='info', description='Reading...', max=1, style=ProgressStyle(des…"
      ]
     },
     "metadata": {},
     "output_type": "display_data"
    },
    {
     "data": {
      "application/vnd.jupyter.widget-view+json": {
       "model_id": "",
       "version_major": 2,
       "version_minor": 0
      },
      "text/plain": [
       "HBox(children=(IntProgress(value=0, description='Writing...', max=2500, style=ProgressStyle(description_width=…"
      ]
     },
     "metadata": {},
     "output_type": "display_data"
    },
    {
     "data": {
      "application/vnd.jupyter.widget-view+json": {
       "model_id": "",
       "version_major": 2,
       "version_minor": 0
      },
      "text/plain": [
       "HBox(children=(IntProgress(value=1, bar_style='info', description='Reading...', max=1, style=ProgressStyle(des…"
      ]
     },
     "metadata": {},
     "output_type": "display_data"
    },
    {
     "data": {
      "application/vnd.jupyter.widget-view+json": {
       "model_id": "",
       "version_major": 2,
       "version_minor": 0
      },
      "text/plain": [
       "HBox(children=(IntProgress(value=0, description='Writing...', max=2500, style=ProgressStyle(description_width=…"
      ]
     },
     "metadata": {},
     "output_type": "display_data"
    },
    {
     "data": {
      "application/vnd.jupyter.widget-view+json": {
       "model_id": "",
       "version_major": 2,
       "version_minor": 0
      },
      "text/plain": [
       "HBox(children=(IntProgress(value=1, bar_style='info', description='Reading...', max=1, style=ProgressStyle(des…"
      ]
     },
     "metadata": {},
     "output_type": "display_data"
    },
    {
     "data": {
      "application/vnd.jupyter.widget-view+json": {
       "model_id": "",
       "version_major": 2,
       "version_minor": 0
      },
      "text/plain": [
       "HBox(children=(IntProgress(value=0, description='Writing...', max=2500, style=ProgressStyle(description_width=…"
      ]
     },
     "metadata": {},
     "output_type": "display_data"
    },
    {
     "data": {
      "application/vnd.jupyter.widget-view+json": {
       "model_id": "",
       "version_major": 2,
       "version_minor": 0
      },
      "text/plain": [
       "HBox(children=(IntProgress(value=1, bar_style='info', description='Reading...', max=1, style=ProgressStyle(des…"
      ]
     },
     "metadata": {},
     "output_type": "display_data"
    },
    {
     "data": {
      "application/vnd.jupyter.widget-view+json": {
       "model_id": "",
       "version_major": 2,
       "version_minor": 0
      },
      "text/plain": [
       "HBox(children=(IntProgress(value=0, description='Writing...', max=2500, style=ProgressStyle(description_width=…"
      ]
     },
     "metadata": {},
     "output_type": "display_data"
    },
    {
     "data": {
      "application/vnd.jupyter.widget-view+json": {
       "model_id": "",
       "version_major": 2,
       "version_minor": 0
      },
      "text/plain": [
       "HBox(children=(IntProgress(value=1, bar_style='info', description='Reading...', max=1, style=ProgressStyle(des…"
      ]
     },
     "metadata": {},
     "output_type": "display_data"
    },
    {
     "data": {
      "application/vnd.jupyter.widget-view+json": {
       "model_id": "",
       "version_major": 2,
       "version_minor": 0
      },
      "text/plain": [
       "HBox(children=(IntProgress(value=0, description='Writing...', max=2500, style=ProgressStyle(description_width=…"
      ]
     },
     "metadata": {},
     "output_type": "display_data"
    },
    {
     "data": {
      "application/vnd.jupyter.widget-view+json": {
       "model_id": "",
       "version_major": 2,
       "version_minor": 0
      },
      "text/plain": [
       "HBox(children=(IntProgress(value=1, bar_style='info', description='Reading...', max=1, style=ProgressStyle(des…"
      ]
     },
     "metadata": {},
     "output_type": "display_data"
    },
    {
     "data": {
      "application/vnd.jupyter.widget-view+json": {
       "model_id": "",
       "version_major": 2,
       "version_minor": 0
      },
      "text/plain": [
       "HBox(children=(IntProgress(value=0, description='Writing...', max=2500, style=ProgressStyle(description_width=…"
      ]
     },
     "metadata": {},
     "output_type": "display_data"
    },
    {
     "data": {
      "application/vnd.jupyter.widget-view+json": {
       "model_id": "",
       "version_major": 2,
       "version_minor": 0
      },
      "text/plain": [
       "HBox(children=(IntProgress(value=1, bar_style='info', description='Reading...', max=1, style=ProgressStyle(des…"
      ]
     },
     "metadata": {},
     "output_type": "display_data"
    },
    {
     "data": {
      "application/vnd.jupyter.widget-view+json": {
       "model_id": "",
       "version_major": 2,
       "version_minor": 0
      },
      "text/plain": [
       "HBox(children=(IntProgress(value=0, description='Writing...', max=2500, style=ProgressStyle(description_width=…"
      ]
     },
     "metadata": {},
     "output_type": "display_data"
    },
    {
     "data": {
      "application/vnd.jupyter.widget-view+json": {
       "model_id": "",
       "version_major": 2,
       "version_minor": 0
      },
      "text/plain": [
       "HBox(children=(IntProgress(value=1, bar_style='info', description='Reading...', max=1, style=ProgressStyle(des…"
      ]
     },
     "metadata": {},
     "output_type": "display_data"
    },
    {
     "data": {
      "application/vnd.jupyter.widget-view+json": {
       "model_id": "",
       "version_major": 2,
       "version_minor": 0
      },
      "text/plain": [
       "HBox(children=(IntProgress(value=0, description='Writing...', max=2500, style=ProgressStyle(description_width=…"
      ]
     },
     "metadata": {},
     "output_type": "display_data"
    },
    {
     "data": {
      "application/vnd.jupyter.widget-view+json": {
       "model_id": "",
       "version_major": 2,
       "version_minor": 0
      },
      "text/plain": [
       "HBox(children=(IntProgress(value=1, bar_style='info', description='Reading...', max=1, style=ProgressStyle(des…"
      ]
     },
     "metadata": {},
     "output_type": "display_data"
    },
    {
     "data": {
      "application/vnd.jupyter.widget-view+json": {
       "model_id": "",
       "version_major": 2,
       "version_minor": 0
      },
      "text/plain": [
       "HBox(children=(IntProgress(value=0, description='Writing...', max=2500, style=ProgressStyle(description_width=…"
      ]
     },
     "metadata": {},
     "output_type": "display_data"
    },
    {
     "data": {
      "application/vnd.jupyter.widget-view+json": {
       "model_id": "",
       "version_major": 2,
       "version_minor": 0
      },
      "text/plain": [
       "HBox(children=(IntProgress(value=1, bar_style='info', description='Reading...', max=1, style=ProgressStyle(des…"
      ]
     },
     "metadata": {},
     "output_type": "display_data"
    },
    {
     "data": {
      "application/vnd.jupyter.widget-view+json": {
       "model_id": "",
       "version_major": 2,
       "version_minor": 0
      },
      "text/plain": [
       "HBox(children=(IntProgress(value=0, description='Writing...', max=2500, style=ProgressStyle(description_width=…"
      ]
     },
     "metadata": {},
     "output_type": "display_data"
    },
    {
     "data": {
      "application/vnd.jupyter.widget-view+json": {
       "model_id": "",
       "version_major": 2,
       "version_minor": 0
      },
      "text/plain": [
       "HBox(children=(IntProgress(value=1, bar_style='info', description='Reading...', max=1, style=ProgressStyle(des…"
      ]
     },
     "metadata": {},
     "output_type": "display_data"
    },
    {
     "data": {
      "application/vnd.jupyter.widget-view+json": {
       "model_id": "",
       "version_major": 2,
       "version_minor": 0
      },
      "text/plain": [
       "HBox(children=(IntProgress(value=0, description='Writing...', max=2500, style=ProgressStyle(description_width=…"
      ]
     },
     "metadata": {},
     "output_type": "display_data"
    },
    {
     "data": {
      "application/vnd.jupyter.widget-view+json": {
       "model_id": "",
       "version_major": 2,
       "version_minor": 0
      },
      "text/plain": [
       "HBox(children=(IntProgress(value=1, bar_style='info', description='Reading...', max=1, style=ProgressStyle(des…"
      ]
     },
     "metadata": {},
     "output_type": "display_data"
    },
    {
     "data": {
      "application/vnd.jupyter.widget-view+json": {
       "model_id": "",
       "version_major": 2,
       "version_minor": 0
      },
      "text/plain": [
       "HBox(children=(IntProgress(value=0, description='Writing...', max=2500, style=ProgressStyle(description_width=…"
      ]
     },
     "metadata": {},
     "output_type": "display_data"
    },
    {
     "data": {
      "application/vnd.jupyter.widget-view+json": {
       "model_id": "",
       "version_major": 2,
       "version_minor": 0
      },
      "text/plain": [
       "HBox(children=(IntProgress(value=1, bar_style='info', description='Reading...', max=1, style=ProgressStyle(des…"
      ]
     },
     "metadata": {},
     "output_type": "display_data"
    },
    {
     "data": {
      "application/vnd.jupyter.widget-view+json": {
       "model_id": "",
       "version_major": 2,
       "version_minor": 0
      },
      "text/plain": [
       "HBox(children=(IntProgress(value=0, description='Writing...', max=2500, style=ProgressStyle(description_width=…"
      ]
     },
     "metadata": {},
     "output_type": "display_data"
    },
    {
     "name": "stdout",
     "output_type": "stream",
     "text": [
      "Dataset imdb_reviews downloaded and prepared to C:\\Users\\30660\\tensorflow_datasets\\imdb_reviews\\plain_text\\0.1.0. Subsequent calls will reuse this data.\n"
     ]
    }
   ],
   "source": [
    "# Split the training set into 60% and 40%, so we'll end up with 15,000 examples\n",
    "# for training, 10,000 examples for validation and 25,000 examples for testing.\n",
    "train_validation_split = tfds.Split.TRAIN.subsplit([6, 4])\n",
    "\n",
    "(train_data, validation_data), test_data = tfds.load(\n",
    "    name=\"imdb_reviews\", \n",
    "    split=(train_validation_split, tfds.Split.TEST),\n",
    "    as_supervised=True)"
   ]
  },
  {
   "cell_type": "code",
   "execution_count": 5,
   "metadata": {},
   "outputs": [
    {
     "data": {
      "text/plain": [
       "<tf.Tensor: id=219, shape=(10,), dtype=string, numpy=\n",
       "array([b\"As a lifelong fan of Dickens, I have invariably been disappointed by adaptations of his novels.<br /><br />Although his works presented an extremely accurate re-telling of human life at every level in Victorian Britain, throughout them all was a pervasive thread of humour that could be both playful or sarcastic as the narrative dictated. In a way, he was a literary caricaturist and cartoonist. He could be serious and hilarious in the same sentence. He pricked pride, lampooned arrogance, celebrated modesty, and empathised with loneliness and poverty. It may be a clich\\xc3\\xa9, but he was a people's writer.<br /><br />And it is the comedy that is so often missing from his interpretations. At the time of writing, Oliver Twist is being dramatised in serial form on BBC television. All of the misery and cruelty is their, but non of the humour, irony, and savage lampoonery. The result is just a dark, dismal experience: the story penned by a journalist rather than a novelist. It's not really Dickens at all.<br /><br />'Oliver!', on the other hand, is much closer to the mark. The mockery of officialdom is perfectly interpreted, from the blustering beadle to the drunken magistrate. The classic stand-off between the beadle and Mr Brownlow, in which the law is described as 'a ass, a idiot' couldn't have been better done. Harry Secombe is an ideal choice.<br /><br />But the blinding cruelty is also there, the callous indifference of the state, the cold, hunger, poverty and loneliness are all presented just as surely as The Master would have wished.<br /><br />And then there is crime. Ron Moody is a treasure as the sleazy Jewish fence, whilst Oliver Reid has Bill Sykes to perfection.<br /><br />Perhaps not surprisingly, Lionel Bart - himself a Jew from London's east-end - takes a liberty with Fagin by re-interpreting him as a much more benign fellow than was Dicken's original. In the novel, he was utterly ruthless, sending some of his own boys to the gallows in order to protect himself (though he was also caught and hanged). Whereas in the movie, he is presented as something of a wayward father-figure, a sort of charitable thief rather than a corrupter of children, the latter being a long-standing anti-semitic sentiment. Otherwise, very few liberties are taken with Dickens's original. All of the most memorable elements are included. Just enough menace and violence is retained to ensure narrative fidelity whilst at the same time allowing for children' sensibilities. Nancy is still beaten to death, Bullseye narrowly escapes drowning, and Bill Sykes gets a faithfully graphic come-uppance.<br /><br />Every song is excellent, though they do incline towards schmaltz. Mark Lester mimes his wonderfully. Both his and my favourite scene is the one in which the world comes alive to 'who will buy'. It's schmaltzy, but it's Dickens through and through.<br /><br />I could go on. I could commend the wonderful set-pieces, the contrast of the rich and poor. There is top-quality acting from more British regulars than you could shake a stick at.<br /><br />I ought to give it 10 points, but I'm feeling more like Scrooge today. Soak it up with your Christmas dinner. No original has been better realised.\",\n",
       "       b\"Oh yeah! Jenna Jameson did it again! Yeah Baby! This movie rocks. It was one of the 1st movies i saw of her. And i have to say i feel in love with her, she was great in this move.<br /><br />Her performance was outstanding and what i liked the most was the scenery and the wardrobe it was amazing you can tell that they put a lot into the movie the girls cloth were amazing.<br /><br />I hope this comment helps and u can buy the movie, the storyline is awesome is very unique and i'm sure u are going to like it. Jenna amazed us once more and no wonder the movie won so many awards. Her make-up and wardrobe is very very sexy and the girls on girls scene is amazing. specially the one where she looks like an angel. It's a must see and i hope u share my interests\",\n",
       "       b\"I saw this film on True Movies (which automatically made me sceptical) but actually - it was good. Why? Not because of the amazing plot twists or breathtaking dialogue (of which there is little) but because actually, despite what people say I thought the film was accurate in it's depiction of teenagers dealing with pregnancy.<br /><br />It's NOT Dawson's Creek, they're not graceful, cool witty characters who breeze through sexuality with effortless knowledge. They're kids and they act like kids would. <br /><br />They're blunt, awkward and annoyingly confused about everything. Yes, this could be by accident and they could just be bad actors but I don't think so. Dermot Mulroney gives (when not trying to be cool) a very believable performance and I loved him for it. Patricia Arquette IS whiny and annoying, but she was pregnant and a teenagers? The combination of the two isn't exactly lavender on your pillow. The plot was VERY predictable and but so what? I believed them, his stress and inability to cope - her brave, yet slightly misguided attempts to bring them closer together. I think the characters, acted by anyone else, WOULD indeed have been annoying and unbelievable but they weren't. It reflects the surreality of the situation they're in, that he's sitting in class and she walks on campus with the baby. I felt angry at her for that, I felt angry at him for being such a child and for blaming her. I felt it all.<br /><br />In the end, I loved it and would recommend it.<br /><br />Watch out for the scene where Dermot Mulroney runs from the disastrous counselling session - career performance.\",\n",
       "       b'This was a wonderfully clever and entertaining movie that I shall never tire of watching many, many times. The casting was magnificent in matching up the young with the older characters. There are those of us out here who really do appreciate good actors and an intelligent story format. As for Judi Dench, she is beautiful and a gift to any kind of production in which she stars. I always make a point to see Judi Dench in all her performances. She is a superb actress and a pleasure to watch as each transformation of her character comes to life. I can only be grateful when I see such an outstanding picture for most of the motion pictures made more recently lack good characters, good scripts and good acting. The movie public needs heroes, not deviant manikins, who lack ingenuity and talent. How wonderful to see old favorites like Leslie Caron, Olympia Dukakis and Cleo Laine. I would like to see this movie win the awards it deserves. Thank you again for a tremendous night of entertainment. I congratulate the writer, director, producer, and all those who did such a fine job.',\n",
       "       b'I have no idea what the other reviewer is talking about- this was a wonderful movie, and created a sense of the era that feels like time travel. The characters are truly young, Mary is a strong match for Byron, Claire is juvenile and a tad annoying, Polidori is a convincing beaten-down sycophant... all are beautiful, curious, and decadent... not the frightening wrecks they are in Gothic.<br /><br />Gothic works as an independent piece of shock film, and I loved it for different reasons, but this works like a Merchant and Ivory film, and was from my readings the best capture of what the summer must have felt like. Romantic, yes, but completely rekindles my interest in the lives of Shelley and Byron every time I think about the film. One of my all-time favorites.',\n",
       "       b\"This was soul-provoking! I am an Iranian, and living in th 21st century, I didn't know that such big tribes have been living in such conditions at the time of my grandfather!<br /><br />You see that today, or even in 1925, on one side of the world a lady or a baby could have everything served for him or her clean and on-demand, but here 80 years ago, people ventured their life to go to somewhere with more grass. It's really interesting that these Persians bear those difficulties to find pasture for their sheep, but they lose many the sheep on their way.<br /><br />I praise the Americans who accompanied this tribe, they were as tough as Bakhtiari people.\",\n",
       "       b'Just because someone is under the age of 10 does not mean they are stupid. If your child likes this film you\\'d better have him/her tested. I am continually amazed at how so many people can be involved in something that turns out so bad. This \"film\" is a showcase for digital wizardry AND NOTHING ELSE. The writing is horrid. I can\\'t remember when I\\'ve heard such bad dialogue. The songs are beyond wretched. The acting is sub-par but then the actors were not given much. Who decided to employ Joey Fatone? He cannot sing and he is ugly as sin.<br /><br />The worst thing is the obviousness of it all. It is as if the writers went out of their way to make it all as stupid as possible. Great children\\'s movies are wicked, smart and full of wit - films like Shrek and Toy Story in recent years, Willie Wonka and The Witches to mention two of the past. But in the continual dumbing-down of American more are flocking to dreck like Finding Nemo (yes, that\\'s right), the recent Charlie & The Chocolate Factory and eye-crossing trash like Red Riding Hood.',\n",
       "       b\"I absolutely LOVED this movie when I was a kid. I cried every time I watched it. It wasn't weird to me. I totally identified with the characters. I would love to see it again (and hope I wont be disappointed!). Pufnstuf rocks!!!! I was really drawn in to the fantasy world. And to me the movie was loooong. I wonder if I ever saw the series and have confused them? The acting I thought was strong. I loved Jack Wilde. He was so dreamy to an 10 year old (when I first saw the movie, not in 1970. I can still remember the characters vividly. The flute was totally believable and I can still 'feel' the evil woods. Witchy poo was scary - I wouldn't want to cross her path.\",\n",
       "       b'A very close and sharp discription of the bubbling and dynamic emotional world of specialy one 18year old guy, that makes his first experiences in his gay love to an other boy, during an vacation with a part of his family.<br /><br />I liked this film because of his extremly clear and surrogated storytelling , with all this \"Sound-close-ups\" and quiet moments wich had been full of intensive moods.<br /><br />',\n",
       "       b\"This is the most depressing film I have ever seen. I first saw it as a child and even thinking about it now really upsets me. I know it was set in a time when life was hard and I know these people were poor and the crops were vital. Yes, I get all that. What I find hard to take is I can't remember one single light moment in the entire film. Maybe it was true to life, I don't know. I'm quite sure the acting was top notch and the direction and quality of filming etc etc was wonderful and I know that every film can't have a happy ending but as a family film it is dire in my opinion.<br /><br />I wouldn't recommend it to anyone who wants to be entertained by a film. I can't stress enough how this film affected me as a child. I was talking about it recently and all the sad memories came flooding back. I think it would have all but the heartless reaching for the Prozac.\"],\n",
       "      dtype=object)>"
      ]
     },
     "execution_count": 5,
     "metadata": {},
     "output_type": "execute_result"
    }
   ],
   "source": [
    "train_examples_batch, train_labels_batch = next(iter(train_data.batch(10)))\n",
    "train_examples_batch"
   ]
  },
  {
   "cell_type": "code",
   "execution_count": 6,
   "metadata": {},
   "outputs": [
    {
     "data": {
      "text/plain": [
       "<tf.Tensor: id=220, shape=(10,), dtype=int64, numpy=array([1, 1, 1, 1, 1, 1, 0, 1, 1, 0], dtype=int64)>"
      ]
     },
     "execution_count": 6,
     "metadata": {},
     "output_type": "execute_result"
    }
   ],
   "source": [
    "train_labels_batch"
   ]
  },
  {
   "cell_type": "code",
   "execution_count": 7,
   "metadata": {},
   "outputs": [
    {
     "data": {
      "text/plain": [
       "<tf.Tensor: id=402, shape=(3, 20), dtype=float32, numpy=\n",
       "array([[ 3.9819887 , -4.4838037 ,  5.177359  , -2.3643482 , -3.2938678 ,\n",
       "        -3.5364532 , -2.4786978 ,  2.5525482 ,  6.688532  , -2.3076782 ,\n",
       "        -1.9807833 ,  1.1315885 , -3.0339816 , -0.7604128 , -5.743445  ,\n",
       "         3.4242578 ,  4.790099  , -4.03061   , -5.992149  , -1.7297493 ],\n",
       "       [ 3.4232912 , -4.230874  ,  4.1488533 , -0.29553518, -6.802391  ,\n",
       "        -2.5163853 , -4.4002395 ,  1.905792  ,  4.7512794 , -0.40538004,\n",
       "        -4.3401685 ,  1.0361497 ,  0.9744097 ,  0.71507156, -6.2657013 ,\n",
       "         0.16533905,  4.560262  , -1.3106939 , -3.1121316 , -2.1338716 ],\n",
       "       [ 3.8508697 , -5.003031  ,  4.8700504 , -0.04324996, -5.893603  ,\n",
       "        -5.2983093 , -4.004676  ,  4.1236343 ,  6.267754  ,  0.11632943,\n",
       "        -3.5934832 ,  0.8023905 ,  0.56146765,  0.9192484 , -7.3066816 ,\n",
       "         2.8202746 ,  6.2000837 , -3.5709393 , -4.564525  , -2.305622  ]],\n",
       "      dtype=float32)>"
      ]
     },
     "execution_count": 7,
     "metadata": {},
     "output_type": "execute_result"
    }
   ],
   "source": [
    "embedding = \"https://hub.tensorflow.google.cn/google/tf2-preview/gnews-swivel-20dim/1\"\n",
    "hub_layer = hub.KerasLayer(embedding, input_shape=[], \n",
    "                           dtype=tf.string, trainable=True)\n",
    "hub_layer(train_examples_batch[:3])"
   ]
  },
  {
   "cell_type": "code",
   "execution_count": 8,
   "metadata": {},
   "outputs": [
    {
     "name": "stdout",
     "output_type": "stream",
     "text": [
      "Model: \"sequential\"\n",
      "_________________________________________________________________\n",
      "Layer (type)                 Output Shape              Param #   \n",
      "=================================================================\n",
      "keras_layer (KerasLayer)     (None, 20)                400020    \n",
      "_________________________________________________________________\n",
      "dense (Dense)                (None, 16)                336       \n",
      "_________________________________________________________________\n",
      "dense_1 (Dense)              (None, 1)                 17        \n",
      "=================================================================\n",
      "Total params: 400,373\n",
      "Trainable params: 400,373\n",
      "Non-trainable params: 0\n",
      "_________________________________________________________________\n"
     ]
    }
   ],
   "source": [
    "model = tf.keras.Sequential()\n",
    "model.add(hub_layer)\n",
    "model.add(tf.keras.layers.Dense(16, activation='relu'))\n",
    "model.add(tf.keras.layers.Dense(1, activation='sigmoid'))\n",
    "\n",
    "model.summary()"
   ]
  },
  {
   "cell_type": "code",
   "execution_count": 9,
   "metadata": {},
   "outputs": [],
   "source": [
    "model.compile(optimizer='adam',\n",
    "              loss='binary_crossentropy',\n",
    "              metrics=['accuracy'])"
   ]
  },
  {
   "cell_type": "code",
   "execution_count": 10,
   "metadata": {},
   "outputs": [
    {
     "name": "stdout",
     "output_type": "stream",
     "text": [
      "Epoch 1/20\n",
      "30/30 [==============================].7356 - accuracy: 0.56 - 1s 725ms/step - loss: 0.7413 - accuracy: 0.555 - 2s 508ms/step - loss: 0.7380 - accuracy: 0.558 - 2s 403ms/step - loss: 0.7443 - accuracy: 0.545 - 2s 335ms/step - loss: 0.7411 - accuracy: 0.544 - 2s 289ms/step - loss: 0.7417 - accuracy: 0.540 - 2s 257ms/step - loss: 0.7438 - accuracy: 0.536 - 2s 232ms/step - loss: 0.7402 - accuracy: 0.538 - 2s 214ms/step - loss: 0.7395 - accuracy: 0.537 - 2s 199ms/step - loss: 0.7383 - accuracy: 0.536 - 2s 186ms/step - loss: 0.7351 - accuracy: 0.537 - 2s 176ms/step - loss: 0.7361 - accuracy: 0.535 - 2s 167ms/step - loss: 0.7318 - accuracy: 0.541 - 2s 159ms/step - loss: 0.7283 - accuracy: 0.543 - 2s 153ms/step - loss: 0.7270 - accuracy: 0.545 - 2s 147ms/step - loss: 0.7251 - accuracy: 0.547 - 2s 142ms/step - loss: 0.7226 - accuracy: 0.550 - 2s 137ms/step - loss: 0.7202 - accuracy: 0.552 - 3s 133ms/step - loss: 0.7181 - accuracy: 0.554 - 3s 129ms/step - loss: 0.7151 - accuracy: 0.556 - 3s 126ms/step - loss: 0.7133 - accuracy: 0.560 - 3s 123ms/step - loss: 0.7120 - accuracy: 0.560 - 3s 120ms/step - loss: 0.7104 - accuracy: 0.561 - 3s 118ms/step - loss: 0.7085 - accuracy: 0.563 - 3s 115ms/step - loss: 0.7065 - accuracy: 0.566 - 3s 113ms/step - loss: 0.7056 - accuracy: 0.566 - 3s 111ms/step - loss: 0.7046 - accuracy: 0.568 - 3s 109ms/step - loss: 0.7033 - accuracy: 0.569 - 3s 108ms/step - loss: 0.7025 - accuracy: 0.571 - 3s 105ms/step - loss: 0.7006 - accuracy: 0.571 - 5s 158ms/step - loss: 0.7006 - accuracy: 0.5718 - val_loss: 0.0000e+00 - val_accuracy: 0.0000e+00\n",
      "Epoch 2/20\n",
      "30/30 [==============================] - ETA: 10s - loss: 0.6378 - accuracy: 0.644 - ETA: 5s - loss: 0.6516 - accuracy: 0.627 - ETA: 3s - loss: 0.6506 - accuracy: 0.62 - ETA: 3s - loss: 0.6513 - accuracy: 0.62 - ETA: 2s - loss: 0.6490 - accuracy: 0.62 - ETA: 2s - loss: 0.6438 - accuracy: 0.63 - ETA: 1s - loss: 0.6418 - accuracy: 0.63 - ETA: 1s - loss: 0.6433 - accuracy: 0.63 - ETA: 1s - loss: 0.6414 - accuracy: 0.63 - ETA: 1s - loss: 0.6415 - accuracy: 0.63 - ETA: 1s - loss: 0.6407 - accuracy: 0.63 - ETA: 0s - loss: 0.6438 - accuracy: 0.63 - ETA: 0s - loss: 0.6432 - accuracy: 0.63 - ETA: 0s - loss: 0.6429 - accuracy: 0.63 - ETA: 0s - loss: 0.6417 - accuracy: 0.63 - ETA: 0s - loss: 0.6422 - accuracy: 0.63 - ETA: 0s - loss: 0.6428 - accuracy: 0.63 - ETA: 0s - loss: 0.6416 - accuracy: 0.63 - ETA: 0s - loss: 0.6406 - accuracy: 0.63 - 4s 126ms/step - loss: 0.6377 - accuracy: 0.6471 - val_loss: 0.6098 - val_accuracy: 0.6698\n",
      "Epoch 3/20\n",
      "30/30 [==============================] - ETA: 10s - loss: 0.6157 - accuracy: 0.660 - ETA: 5s - loss: 0.6112 - accuracy: 0.661 - ETA: 3s - loss: 0.6060 - accuracy: 0.66 - ETA: 3s - loss: 0.6055 - accuracy: 0.66 - ETA: 2s - loss: 0.6063 - accuracy: 0.66 - ETA: 2s - loss: 0.6068 - accuracy: 0.67 - ETA: 1s - loss: 0.6056 - accuracy: 0.67 - ETA: 1s - loss: 0.6045 - accuracy: 0.67 - ETA: 1s - loss: 0.6022 - accuracy: 0.67 - ETA: 1s - loss: 0.6010 - accuracy: 0.67 - ETA: 0s - loss: 0.6031 - accuracy: 0.67 - ETA: 0s - loss: 0.6018 - accuracy: 0.67 - ETA: 0s - loss: 0.6005 - accuracy: 0.68 - ETA: 0s - loss: 0.6009 - accuracy: 0.67 - ETA: 0s - loss: 0.6006 - accuracy: 0.68 - ETA: 0s - loss: 0.6008 - accuracy: 0.68 - ETA: 0s - loss: 0.5995 - accuracy: 0.68 - ETA: 0s - loss: 0.5985 - accuracy: 0.68 - ETA: 0s - loss: 0.5971 - accuracy: 0.68 - 4s 122ms/step - loss: 0.5944 - accuracy: 0.6891 - val_loss: 0.5735 - val_accuracy: 0.7072\n",
      "Epoch 4/20\n",
      "30/30 [==============================] - ETA: 10s - loss: 0.5718 - accuracy: 0.697 - ETA: 5s - loss: 0.5771 - accuracy: 0.686 - ETA: 3s - loss: 0.5738 - accuracy: 0.69 - ETA: 3s - loss: 0.5697 - accuracy: 0.70 - ETA: 2s - loss: 0.5732 - accuracy: 0.70 - ETA: 2s - loss: 0.5690 - accuracy: 0.70 - ETA: 1s - loss: 0.5664 - accuracy: 0.71 - ETA: 1s - loss: 0.5663 - accuracy: 0.71 - ETA: 1s - loss: 0.5655 - accuracy: 0.70 - ETA: 1s - loss: 0.5638 - accuracy: 0.71 - ETA: 1s - loss: 0.5650 - accuracy: 0.70 - ETA: 0s - loss: 0.5627 - accuracy: 0.71 - ETA: 0s - loss: 0.5623 - accuracy: 0.71 - ETA: 0s - loss: 0.5611 - accuracy: 0.71 - ETA: 0s - loss: 0.5612 - accuracy: 0.71 - ETA: 0s - loss: 0.5616 - accuracy: 0.71 - ETA: 0s - loss: 0.5608 - accuracy: 0.71 - ETA: 0s - loss: 0.5589 - accuracy: 0.71 - ETA: 0s - loss: 0.5584 - accuracy: 0.71 - 4s 124ms/step - loss: 0.5557 - accuracy: 0.7253 - val_loss: 0.5399 - val_accuracy: 0.7384\n",
      "Epoch 5/20\n",
      "30/30 [==============================] - ETA: 12s - loss: 0.5371 - accuracy: 0.740 - ETA: 6s - loss: 0.5293 - accuracy: 0.747 - ETA: 4s - loss: 0.5281 - accuracy: 0.74 - ETA: 3s - loss: 0.5295 - accuracy: 0.74 - ETA: 2s - loss: 0.5289 - accuracy: 0.74 - ETA: 2s - loss: 0.5312 - accuracy: 0.74 - ETA: 2s - loss: 0.5308 - accuracy: 0.74 - ETA: 1s - loss: 0.5304 - accuracy: 0.74 - ETA: 1s - loss: 0.5295 - accuracy: 0.74 - ETA: 1s - loss: 0.5264 - accuracy: 0.74 - ETA: 1s - loss: 0.5260 - accuracy: 0.74 - ETA: 0s - loss: 0.5250 - accuracy: 0.75 - ETA: 0s - loss: 0.5226 - accuracy: 0.75 - ETA: 0s - loss: 0.5215 - accuracy: 0.75 - ETA: 0s - loss: 0.5206 - accuracy: 0.75 - ETA: 0s - loss: 0.5199 - accuracy: 0.75 - ETA: 0s - loss: 0.5185 - accuracy: 0.75 - ETA: 0s - loss: 0.5187 - accuracy: 0.75 - ETA: 0s - loss: 0.5178 - accuracy: 0.75 - 4s 127ms/step - loss: 0.5159 - accuracy: 0.7576 - val_loss: 0.5009 - val_accuracy: 0.7701\n",
      "Epoch 6/20\n",
      "30/30 [==============================] - ETA: 12s - loss: 0.4692 - accuracy: 0.789 - ETA: 6s - loss: 0.4814 - accuracy: 0.786 - ETA: 4s - loss: 0.4742 - accuracy: 0.80 - ETA: 3s - loss: 0.4765 - accuracy: 0.79 - ETA: 2s - loss: 0.4797 - accuracy: 0.78 - ETA: 2s - loss: 0.4784 - accuracy: 0.78 - ETA: 2s - loss: 0.4791 - accuracy: 0.78 - ETA: 1s - loss: 0.4780 - accuracy: 0.78 - ETA: 1s - loss: 0.4795 - accuracy: 0.78 - ETA: 1s - loss: 0.4785 - accuracy: 0.78 - ETA: 1s - loss: 0.4784 - accuracy: 0.78 - ETA: 0s - loss: 0.4785 - accuracy: 0.78 - ETA: 0s - loss: 0.4776 - accuracy: 0.78 - ETA: 0s - loss: 0.4771 - accuracy: 0.78 - ETA: 0s - loss: 0.4772 - accuracy: 0.78 - ETA: 0s - loss: 0.4790 - accuracy: 0.78 - ETA: 0s - loss: 0.4769 - accuracy: 0.78 - ETA: 0s - loss: 0.4775 - accuracy: 0.78 - ETA: 0s - loss: 0.4773 - accuracy: 0.78 - 4s 128ms/step - loss: 0.4748 - accuracy: 0.7878 - val_loss: 0.4640 - val_accuracy: 0.7933\n",
      "Epoch 7/20\n",
      "30/30 [==============================] - ETA: 12s - loss: 0.4534 - accuracy: 0.794 - ETA: 6s - loss: 0.4323 - accuracy: 0.816 - ETA: 4s - loss: 0.4462 - accuracy: 0.80 - ETA: 3s - loss: 0.4492 - accuracy: 0.80 - ETA: 2s - loss: 0.4498 - accuracy: 0.80 - ETA: 2s - loss: 0.4450 - accuracy: 0.80 - ETA: 2s - loss: 0.4442 - accuracy: 0.80 - ETA: 1s - loss: 0.4429 - accuracy: 0.80 - ETA: 1s - loss: 0.4390 - accuracy: 0.81 - ETA: 1s - loss: 0.4382 - accuracy: 0.81 - ETA: 1s - loss: 0.4401 - accuracy: 0.80 - ETA: 0s - loss: 0.4412 - accuracy: 0.80 - ETA: 0s - loss: 0.4404 - accuracy: 0.80 - ETA: 0s - loss: 0.4408 - accuracy: 0.80 - ETA: 0s - loss: 0.4399 - accuracy: 0.80 - ETA: 0s - loss: 0.4403 - accuracy: 0.80 - ETA: 0s - loss: 0.4380 - accuracy: 0.80 - ETA: 0s - loss: 0.4385 - accuracy: 0.80 - ETA: 0s - loss: 0.4384 - accuracy: 0.80 - 4s 130ms/step - loss: 0.4356 - accuracy: 0.8129 - val_loss: 0.4329 - val_accuracy: 0.8096\n",
      "Epoch 8/20\n",
      "30/30 [==============================] - ETA: 10s - loss: 0.3956 - accuracy: 0.828 - ETA: 5s - loss: 0.3973 - accuracy: 0.826 - ETA: 3s - loss: 0.4005 - accuracy: 0.82 - ETA: 3s - loss: 0.4006 - accuracy: 0.82 - ETA: 2s - loss: 0.4028 - accuracy: 0.82 - ETA: 2s - loss: 0.4014 - accuracy: 0.82 - ETA: 1s - loss: 0.4005 - accuracy: 0.83 - ETA: 1s - loss: 0.3981 - accuracy: 0.83 - ETA: 1s - loss: 0.3950 - accuracy: 0.83 - ETA: 1s - loss: 0.3956 - accuracy: 0.83 - ETA: 1s - loss: 0.3979 - accuracy: 0.83 - ETA: 0s - loss: 0.3975 - accuracy: 0.83 - ETA: 0s - loss: 0.3994 - accuracy: 0.83 - ETA: 0s - loss: 0.4018 - accuracy: 0.82 - ETA: 0s - loss: 0.3995 - accuracy: 0.83 - ETA: 0s - loss: 0.3994 - accuracy: 0.82 - ETA: 0s - loss: 0.4020 - accuracy: 0.82 - ETA: 0s - loss: 0.4010 - accuracy: 0.82 - ETA: 0s - loss: 0.4001 - accuracy: 0.82 - 4s 124ms/step - loss: 0.3980 - accuracy: 0.8317 - val_loss: 0.4054 - val_accuracy: 0.8234\n"
     ]
    },
    {
     "name": "stdout",
     "output_type": "stream",
     "text": [
      "Epoch 9/20\n",
      "30/30 [==============================] - ETA: 10s - loss: 0.4071 - accuracy: 0.834 - ETA: 5s - loss: 0.4056 - accuracy: 0.823 - ETA: 4s - loss: 0.3921 - accuracy: 0.83 - ETA: 3s - loss: 0.3896 - accuracy: 0.83 - ETA: 2s - loss: 0.3867 - accuracy: 0.83 - ETA: 2s - loss: 0.3861 - accuracy: 0.83 - ETA: 1s - loss: 0.3867 - accuracy: 0.83 - ETA: 1s - loss: 0.3829 - accuracy: 0.83 - ETA: 1s - loss: 0.3817 - accuracy: 0.84 - ETA: 1s - loss: 0.3779 - accuracy: 0.84 - ETA: 1s - loss: 0.3765 - accuracy: 0.84 - ETA: 0s - loss: 0.3755 - accuracy: 0.84 - ETA: 0s - loss: 0.3740 - accuracy: 0.84 - ETA: 0s - loss: 0.3721 - accuracy: 0.84 - ETA: 0s - loss: 0.3707 - accuracy: 0.84 - ETA: 0s - loss: 0.3689 - accuracy: 0.84 - ETA: 0s - loss: 0.3688 - accuracy: 0.84 - ETA: 0s - loss: 0.3679 - accuracy: 0.84 - ETA: 0s - loss: 0.3661 - accuracy: 0.85 - 4s 125ms/step - loss: 0.3651 - accuracy: 0.8503 - val_loss: 0.3849 - val_accuracy: 0.8310\n",
      "Epoch 10/20\n",
      "30/30 [==============================] - ETA: 12s - loss: 0.3496 - accuracy: 0.855 - ETA: 6s - loss: 0.3487 - accuracy: 0.859 - ETA: 4s - loss: 0.3439 - accuracy: 0.86 - ETA: 3s - loss: 0.3452 - accuracy: 0.86 - ETA: 2s - loss: 0.3484 - accuracy: 0.85 - ETA: 2s - loss: 0.3472 - accuracy: 0.86 - ETA: 2s - loss: 0.3481 - accuracy: 0.85 - ETA: 1s - loss: 0.3490 - accuracy: 0.85 - ETA: 1s - loss: 0.3457 - accuracy: 0.85 - ETA: 1s - loss: 0.3478 - accuracy: 0.85 - ETA: 1s - loss: 0.3472 - accuracy: 0.85 - ETA: 0s - loss: 0.3467 - accuracy: 0.85 - ETA: 0s - loss: 0.3446 - accuracy: 0.85 - ETA: 0s - loss: 0.3428 - accuracy: 0.86 - ETA: 0s - loss: 0.3428 - accuracy: 0.86 - ETA: 0s - loss: 0.3443 - accuracy: 0.86 - ETA: 0s - loss: 0.3436 - accuracy: 0.86 - ETA: 0s - loss: 0.3446 - accuracy: 0.85 - ETA: 0s - loss: 0.3442 - accuracy: 0.86 - 4s 127ms/step - loss: 0.3414 - accuracy: 0.8646 - val_loss: 0.3646 - val_accuracy: 0.8407\n",
      "Epoch 11/20\n",
      "30/30 [==============================] - ETA: 10s - loss: 0.3283 - accuracy: 0.877 - ETA: 5s - loss: 0.3176 - accuracy: 0.874 - ETA: 3s - loss: 0.3231 - accuracy: 0.87 - ETA: 3s - loss: 0.3358 - accuracy: 0.86 - ETA: 2s - loss: 0.3306 - accuracy: 0.86 - ETA: 2s - loss: 0.3326 - accuracy: 0.86 - ETA: 1s - loss: 0.3252 - accuracy: 0.86 - ETA: 1s - loss: 0.3249 - accuracy: 0.86 - ETA: 1s - loss: 0.3210 - accuracy: 0.87 - ETA: 1s - loss: 0.3212 - accuracy: 0.87 - ETA: 1s - loss: 0.3210 - accuracy: 0.87 - ETA: 0s - loss: 0.3200 - accuracy: 0.87 - ETA: 0s - loss: 0.3170 - accuracy: 0.87 - ETA: 0s - loss: 0.3149 - accuracy: 0.87 - ETA: 0s - loss: 0.3133 - accuracy: 0.87 - ETA: 0s - loss: 0.3124 - accuracy: 0.87 - ETA: 0s - loss: 0.3132 - accuracy: 0.87 - ETA: 0s - loss: 0.3135 - accuracy: 0.87 - ETA: 0s - loss: 0.3120 - accuracy: 0.87 - 4s 124ms/step - loss: 0.3121 - accuracy: 0.8761 - val_loss: 0.3494 - val_accuracy: 0.8484\n",
      "Epoch 12/20\n",
      "30/30 [==============================] - ETA: 10s - loss: 0.2681 - accuracy: 0.906 - ETA: 5s - loss: 0.2988 - accuracy: 0.890 - ETA: 4s - loss: 0.2960 - accuracy: 0.89 - ETA: 3s - loss: 0.3062 - accuracy: 0.88 - ETA: 2s - loss: 0.3071 - accuracy: 0.87 - ETA: 2s - loss: 0.3020 - accuracy: 0.88 - ETA: 1s - loss: 0.2978 - accuracy: 0.88 - ETA: 1s - loss: 0.2980 - accuracy: 0.88 - ETA: 1s - loss: 0.2959 - accuracy: 0.88 - ETA: 1s - loss: 0.2940 - accuracy: 0.88 - ETA: 1s - loss: 0.2928 - accuracy: 0.88 - ETA: 0s - loss: 0.2943 - accuracy: 0.88 - ETA: 0s - loss: 0.2941 - accuracy: 0.88 - ETA: 0s - loss: 0.2960 - accuracy: 0.88 - ETA: 0s - loss: 0.2932 - accuracy: 0.88 - ETA: 0s - loss: 0.2935 - accuracy: 0.88 - ETA: 0s - loss: 0.2934 - accuracy: 0.88 - ETA: 0s - loss: 0.2927 - accuracy: 0.88 - ETA: 0s - loss: 0.2939 - accuracy: 0.88 - 4s 124ms/step - loss: 0.2928 - accuracy: 0.8861 - val_loss: 0.3372 - val_accuracy: 0.8545\n",
      "Epoch 13/20\n",
      "30/30 [==============================] - ETA: 10s - loss: 0.3045 - accuracy: 0.877 - ETA: 5s - loss: 0.2923 - accuracy: 0.887 - ETA: 3s - loss: 0.2990 - accuracy: 0.88 - ETA: 3s - loss: 0.3033 - accuracy: 0.88 - ETA: 2s - loss: 0.2999 - accuracy: 0.88 - ETA: 2s - loss: 0.2953 - accuracy: 0.88 - ETA: 1s - loss: 0.2944 - accuracy: 0.88 - ETA: 1s - loss: 0.2893 - accuracy: 0.88 - ETA: 1s - loss: 0.2850 - accuracy: 0.89 - ETA: 1s - loss: 0.2856 - accuracy: 0.88 - ETA: 1s - loss: 0.2837 - accuracy: 0.88 - ETA: 0s - loss: 0.2840 - accuracy: 0.88 - ETA: 0s - loss: 0.2802 - accuracy: 0.88 - ETA: 0s - loss: 0.2812 - accuracy: 0.88 - ETA: 0s - loss: 0.2811 - accuracy: 0.89 - ETA: 0s - loss: 0.2782 - accuracy: 0.89 - ETA: 0s - loss: 0.2784 - accuracy: 0.89 - ETA: 0s - loss: 0.2762 - accuracy: 0.89 - ETA: 0s - loss: 0.2750 - accuracy: 0.89 - 4s 125ms/step - loss: 0.2734 - accuracy: 0.8949 - val_loss: 0.3264 - val_accuracy: 0.8605\n",
      "Epoch 14/20\n",
      "30/30 [==============================] - ETA: 9s - loss: 0.2206 - accuracy: 0.91 - ETA: 5s - loss: 0.2255 - accuracy: 0.91 - ETA: 3s - loss: 0.2361 - accuracy: 0.90 - ETA: 3s - loss: 0.2418 - accuracy: 0.90 - ETA: 2s - loss: 0.2434 - accuracy: 0.90 - ETA: 2s - loss: 0.2507 - accuracy: 0.90 - ETA: 1s - loss: 0.2520 - accuracy: 0.90 - ETA: 1s - loss: 0.2534 - accuracy: 0.90 - ETA: 1s - loss: 0.2538 - accuracy: 0.90 - ETA: 1s - loss: 0.2535 - accuracy: 0.90 - ETA: 0s - loss: 0.2528 - accuracy: 0.90 - ETA: 0s - loss: 0.2526 - accuracy: 0.90 - ETA: 0s - loss: 0.2514 - accuracy: 0.90 - ETA: 0s - loss: 0.2498 - accuracy: 0.90 - ETA: 0s - loss: 0.2505 - accuracy: 0.90 - ETA: 0s - loss: 0.2510 - accuracy: 0.90 - ETA: 0s - loss: 0.2498 - accuracy: 0.90 - ETA: 0s - loss: 0.2513 - accuracy: 0.90 - ETA: 0s - loss: 0.2530 - accuracy: 0.90 - 4s 124ms/step - loss: 0.2528 - accuracy: 0.9049 - val_loss: 0.3180 - val_accuracy: 0.8651\n",
      "Epoch 15/20\n",
      "30/30 [==============================] - ETA: 10s - loss: 0.2357 - accuracy: 0.925 - ETA: 5s - loss: 0.2337 - accuracy: 0.920 - ETA: 3s - loss: 0.2377 - accuracy: 0.91 - ETA: 3s - loss: 0.2466 - accuracy: 0.91 - ETA: 2s - loss: 0.2413 - accuracy: 0.91 - ETA: 2s - loss: 0.2422 - accuracy: 0.91 - ETA: 1s - loss: 0.2445 - accuracy: 0.91 - ETA: 1s - loss: 0.2429 - accuracy: 0.91 - ETA: 1s - loss: 0.2401 - accuracy: 0.91 - ETA: 1s - loss: 0.2391 - accuracy: 0.91 - ETA: 1s - loss: 0.2407 - accuracy: 0.91 - ETA: 0s - loss: 0.2395 - accuracy: 0.91 - ETA: 0s - loss: 0.2403 - accuracy: 0.91 - ETA: 0s - loss: 0.2389 - accuracy: 0.91 - ETA: 0s - loss: 0.2382 - accuracy: 0.91 - ETA: 0s - loss: 0.2372 - accuracy: 0.91 - ETA: 0s - loss: 0.2381 - accuracy: 0.91 - ETA: 0s - loss: 0.2379 - accuracy: 0.91 - ETA: 0s - loss: 0.2366 - accuracy: 0.91 - 4s 125ms/step - loss: 0.2365 - accuracy: 0.9117 - val_loss: 0.3123 - val_accuracy: 0.8661\n",
      "Epoch 16/20\n",
      "30/30 [==============================] - ETA: 11s - loss: 0.2520 - accuracy: 0.902 - ETA: 5s - loss: 0.2411 - accuracy: 0.910 - ETA: 4s - loss: 0.2390 - accuracy: 0.90 - ETA: 3s - loss: 0.2372 - accuracy: 0.90 - ETA: 2s - loss: 0.2323 - accuracy: 0.91 - ETA: 2s - loss: 0.2286 - accuracy: 0.91 - ETA: 1s - loss: 0.2243 - accuracy: 0.91 - ETA: 1s - loss: 0.2245 - accuracy: 0.91 - ETA: 1s - loss: 0.2226 - accuracy: 0.91 - ETA: 1s - loss: 0.2224 - accuracy: 0.91 - ETA: 1s - loss: 0.2233 - accuracy: 0.91 - ETA: 0s - loss: 0.2219 - accuracy: 0.91 - ETA: 0s - loss: 0.2216 - accuracy: 0.91 - ETA: 0s - loss: 0.2198 - accuracy: 0.91 - ETA: 0s - loss: 0.2199 - accuracy: 0.91 - ETA: 0s - loss: 0.2189 - accuracy: 0.91 - ETA: 0s - loss: 0.2213 - accuracy: 0.91 - ETA: 0s - loss: 0.2213 - accuracy: 0.91 - ETA: 0s - loss: 0.2195 - accuracy: 0.91 - 4s 126ms/step - loss: 0.2201 - accuracy: 0.9184 - val_loss: 0.3094 - val_accuracy: 0.8671\n",
      "Epoch 17/20\n",
      "30/30 [==============================] - ETA: 11s - loss: 0.2304 - accuracy: 0.906 - ETA: 6s - loss: 0.2213 - accuracy: 0.915 - ETA: 4s - loss: 0.2210 - accuracy: 0.91 - ETA: 3s - loss: 0.2194 - accuracy: 0.91 - ETA: 2s - loss: 0.2146 - accuracy: 0.92 - ETA: 2s - loss: 0.2147 - accuracy: 0.92 - ETA: 1s - loss: 0.2135 - accuracy: 0.92 - ETA: 1s - loss: 0.2144 - accuracy: 0.92 - ETA: 1s - loss: 0.2127 - accuracy: 0.92 - ETA: 1s - loss: 0.2094 - accuracy: 0.92 - ETA: 1s - loss: 0.2108 - accuracy: 0.92 - ETA: 0s - loss: 0.2106 - accuracy: 0.92 - ETA: 0s - loss: 0.2109 - accuracy: 0.92 - ETA: 0s - loss: 0.2118 - accuracy: 0.92 - ETA: 0s - loss: 0.2107 - accuracy: 0.92 - ETA: 0s - loss: 0.2110 - accuracy: 0.92 - ETA: 0s - loss: 0.2103 - accuracy: 0.92 - ETA: 0s - loss: 0.2099 - accuracy: 0.92 - ETA: 0s - loss: 0.2103 - accuracy: 0.92 - 4s 127ms/step - loss: 0.2094 - accuracy: 0.9243 - val_loss: 0.3023 - val_accuracy: 0.8732\n",
      "Epoch 18/20\n",
      "30/30 [==============================] - ETA: 10s - loss: 0.2045 - accuracy: 0.939 - ETA: 5s - loss: 0.2014 - accuracy: 0.930 - ETA: 3s - loss: 0.2004 - accuracy: 0.93 - ETA: 3s - loss: 0.2011 - accuracy: 0.93 - ETA: 2s - loss: 0.1945 - accuracy: 0.93 - ETA: 2s - loss: 0.1948 - accuracy: 0.93 - ETA: 1s - loss: 0.1939 - accuracy: 0.93 - ETA: 1s - loss: 0.1923 - accuracy: 0.93 - ETA: 1s - loss: 0.1920 - accuracy: 0.93 - ETA: 1s - loss: 0.1943 - accuracy: 0.93 - ETA: 1s - loss: 0.1934 - accuracy: 0.93 - ETA: 0s - loss: 0.1973 - accuracy: 0.93 - ETA: 0s - loss: 0.1956 - accuracy: 0.93 - ETA: 0s - loss: 0.1937 - accuracy: 0.93 - ETA: 0s - loss: 0.1924 - accuracy: 0.93 - ETA: 0s - loss: 0.1940 - accuracy: 0.93 - ETA: 0s - loss: 0.1947 - accuracy: 0.93 - ETA: 0s - loss: 0.1963 - accuracy: 0.93 - ETA: 0s - loss: 0.1976 - accuracy: 0.93 - 4s 125ms/step - loss: 0.1962 - accuracy: 0.9321 - val_loss: 0.3005 - val_accuracy: 0.8736\n",
      "Epoch 19/20\n",
      "30/30 [==============================] - ETA: 10s - loss: 0.1910 - accuracy: 0.927 - ETA: 5s - loss: 0.2164 - accuracy: 0.921 - ETA: 4s - loss: 0.2051 - accuracy: 0.92 - ETA: 3s - loss: 0.2002 - accuracy: 0.93 - ETA: 2s - loss: 0.1921 - accuracy: 0.93 - ETA: 2s - loss: 0.1955 - accuracy: 0.93 - ETA: 1s - loss: 0.1951 - accuracy: 0.93 - ETA: 1s - loss: 0.1955 - accuracy: 0.93 - ETA: 1s - loss: 0.1935 - accuracy: 0.93 - ETA: 1s - loss: 0.1917 - accuracy: 0.93 - ETA: 1s - loss: 0.1900 - accuracy: 0.93 - ETA: 0s - loss: 0.1900 - accuracy: 0.93 - ETA: 0s - loss: 0.1891 - accuracy: 0.93 - ETA: 0s - loss: 0.1900 - accuracy: 0.93 - ETA: 0s - loss: 0.1886 - accuracy: 0.93 - ETA: 0s - loss: 0.1864 - accuracy: 0.93 - ETA: 0s - loss: 0.1854 - accuracy: 0.93 - ETA: 0s - loss: 0.1836 - accuracy: 0.93 - ETA: 0s - loss: 0.1835 - accuracy: 0.93 - 4s 125ms/step - loss: 0.1829 - accuracy: 0.9383 - val_loss: 0.2989 - val_accuracy: 0.8753\n",
      "Epoch 20/20\n",
      "30/30 [==============================] - ETA: 12s - loss: 0.1768 - accuracy: 0.941 - ETA: 6s - loss: 0.1722 - accuracy: 0.943 - ETA: 4s - loss: 0.1722 - accuracy: 0.94 - ETA: 3s - loss: 0.1737 - accuracy: 0.94 - ETA: 2s - loss: 0.1721 - accuracy: 0.94 - ETA: 2s - loss: 0.1729 - accuracy: 0.94 - ETA: 1s - loss: 0.1734 - accuracy: 0.94 - ETA: 1s - loss: 0.1739 - accuracy: 0.94 - ETA: 1s - loss: 0.1715 - accuracy: 0.94 - ETA: 1s - loss: 0.1724 - accuracy: 0.94 - ETA: 1s - loss: 0.1699 - accuracy: 0.94 - ETA: 0s - loss: 0.1683 - accuracy: 0.94 - ETA: 0s - loss: 0.1692 - accuracy: 0.94 - ETA: 0s - loss: 0.1686 - accuracy: 0.94 - ETA: 0s - loss: 0.1685 - accuracy: 0.94 - ETA: 0s - loss: 0.1679 - accuracy: 0.94 - ETA: 0s - loss: 0.1666 - accuracy: 0.94 - ETA: 0s - loss: 0.1663 - accuracy: 0.94 - ETA: 0s - loss: 0.1681 - accuracy: 0.94 - 4s 129ms/step - loss: 0.1690 - accuracy: 0.9414 - val_loss: 0.2965 - val_accuracy: 0.8752\n"
     ]
    }
   ],
   "source": [
    "history = model.fit(train_data.shuffle(10000).batch(512),\n",
    "                    epochs=20,\n",
    "                    validation_data=validation_data.batch(512),\n",
    "                    verbose=1)"
   ]
  },
  {
   "cell_type": "code",
   "execution_count": 11,
   "metadata": {},
   "outputs": [
    {
     "name": "stdout",
     "output_type": "stream",
     "text": [
      "49/49 - 3s - loss: 0.3212 - accuracy: 0.8595\n",
      "loss: 0.321\n",
      "accuracy: 0.860\n"
     ]
    }
   ],
   "source": [
    "results = model.evaluate(test_data.batch(512), verbose=2)\n",
    "for name, value in zip(model.metrics_names, results):\n",
    "    print(\"%s: %.3f\" % (name, value))"
   ]
  },
  {
   "cell_type": "code",
   "execution_count": null,
   "metadata": {},
   "outputs": [],
   "source": []
  },
  {
   "cell_type": "code",
   "execution_count": 12,
   "metadata": {},
   "outputs": [
    {
     "data": {
      "text/plain": [
       "<tf.Tensor: id=4995, shape=(3, 50), dtype=float32, numpy=\n",
       "array([[ 1.4732717 ,  0.42393148,  0.16215092,  0.5873862 ,  0.1513372 ,\n",
       "        -0.5062546 , -0.21033262, -0.33339503, -0.7381036 ,  0.29208365,\n",
       "        -0.35330555, -0.02719353, -0.25117522,  0.28229505, -0.05980197,\n",
       "        -0.73671365, -0.55260205,  0.08691197,  0.08244086, -1.3579206 ,\n",
       "         0.3993887 , -0.5992716 ,  0.73926276,  0.64969933, -0.32441717,\n",
       "         0.33525264, -1.1349468 ,  0.1502967 ,  0.8454977 , -1.1183991 ,\n",
       "        -0.8927187 ,  0.9534588 ,  0.22556058, -0.66705996, -0.65366906,\n",
       "         0.46913755,  0.5412825 , -0.20910901,  0.31495017, -0.91272557,\n",
       "         0.02957173,  0.1557533 , -0.6307922 ,  0.43090525, -0.46083456,\n",
       "        -1.018203  , -0.44839182, -0.35512343, -0.41938427,  0.10584122],\n",
       "       [ 0.42595312,  0.41425827,  0.05380295,  0.65693736,  0.02124309,\n",
       "        -0.34377313,  0.27501962, -0.29560134, -0.8899341 ,  0.4253666 ,\n",
       "        -0.03075071,  0.15959139,  0.05135492,  0.41358554, -0.18948269,\n",
       "        -0.29669785, -0.0527271 ,  0.20711857,  0.17791842, -0.88236904,\n",
       "        -0.10125547, -0.2817679 ,  0.530722  ,  0.15064907, -0.47843954,\n",
       "        -0.12719475, -1.1635325 , -0.07020512,  0.41874135, -0.14874929,\n",
       "        -0.45107752,  0.48977408,  0.58515495, -0.1977401 , -0.43619454,\n",
       "         0.2391829 ,  0.60983413, -0.26845714,  0.17957966, -0.8037251 ,\n",
       "        -0.01302063,  0.18136978, -0.37247276,  0.2534943 , -0.25402808,\n",
       "        -0.07823166, -0.5517427 , -0.51032007, -0.15106294,  0.21213137],\n",
       "       [ 1.0508971 , -0.02472762, -0.2889559 ,  0.5889418 , -0.03798377,\n",
       "        -0.29440773, -0.1329268 , -0.5226637 , -0.8212161 ,  0.5177914 ,\n",
       "         0.12073117,  0.03027585, -0.18059365,  0.59125143, -0.54887545,\n",
       "        -0.38819507, -0.5384929 , -0.02554299,  0.15888335, -1.0084438 ,\n",
       "         0.19287407, -0.1280046 ,  0.82028925,  0.04899129, -0.32338923,\n",
       "         0.15702201, -1.2276914 ,  0.34233692,  0.38967273, -0.62300867,\n",
       "        -0.7660911 ,  0.526528  ,  0.6486929 , -0.18408903, -0.5879329 ,\n",
       "         0.51379204,  0.62958086,  0.0794523 ,  0.11350444, -0.39243022,\n",
       "         0.13337943,  0.44772545, -0.34122738,  0.137325  , -0.2557612 ,\n",
       "        -0.06313477, -0.6483203 , -0.50904435, -0.17163587, -0.08192848]],\n",
       "      dtype=float32)>"
      ]
     },
     "execution_count": 12,
     "metadata": {},
     "output_type": "execute_result"
    }
   ],
   "source": [
    "embedding = \"https://hub.tensorflow.google.cn/google/tf2-preview/nnlm-en-dim50/1\"\n",
    "hub_layer = hub.KerasLayer(embedding, input_shape=[], \n",
    "                           dtype=tf.string, trainable=True)\n",
    "hub_layer(train_examples_batch[:3])"
   ]
  },
  {
   "cell_type": "code",
   "execution_count": 13,
   "metadata": {},
   "outputs": [
    {
     "name": "stdout",
     "output_type": "stream",
     "text": [
      "Model: \"sequential_1\"\n",
      "_________________________________________________________________\n",
      "Layer (type)                 Output Shape              Param #   \n",
      "=================================================================\n",
      "keras_layer_1 (KerasLayer)   (None, 50)                48190600  \n",
      "_________________________________________________________________\n",
      "dense_2 (Dense)              (None, 16)                816       \n",
      "_________________________________________________________________\n",
      "dense_3 (Dense)              (None, 1)                 17        \n",
      "=================================================================\n",
      "Total params: 48,191,433\n",
      "Trainable params: 48,191,433\n",
      "Non-trainable params: 0\n",
      "_________________________________________________________________\n"
     ]
    }
   ],
   "source": [
    "model = tf.keras.Sequential()\n",
    "model.add(hub_layer)\n",
    "model.add(tf.keras.layers.Dense(16, activation='relu'))\n",
    "model.add(tf.keras.layers.Dense(1, activation='sigmoid'))\n",
    "\n",
    "model.summary()"
   ]
  },
  {
   "cell_type": "code",
   "execution_count": 14,
   "metadata": {},
   "outputs": [],
   "source": [
    "model.compile(optimizer='adam',\n",
    "              loss='binary_crossentropy',\n",
    "              metrics=['accuracy'])"
   ]
  },
  {
   "cell_type": "code",
   "execution_count": 15,
   "metadata": {},
   "outputs": [
    {
     "name": "stdout",
     "output_type": "stream",
     "text": [
      "Epoch 1/20\n",
      "30/30 [==============================].7146 - accuracy: 0.51 - 1s 643ms/step - loss: 0.7101 - accuracy: 0.520 - 1s 466ms/step - loss: 0.7071 - accuracy: 0.518 - 2s 376ms/step - loss: 0.7033 - accuracy: 0.523 - 2s 321ms/step - loss: 0.7010 - accuracy: 0.520 - 2s 283ms/step - loss: 0.6985 - accuracy: 0.529 - 2s 256ms/step - loss: 0.6960 - accuracy: 0.535 - 2s 237ms/step - loss: 0.6945 - accuracy: 0.537 - 2s 221ms/step - loss: 0.6928 - accuracy: 0.542 - 2s 208ms/step - loss: 0.6907 - accuracy: 0.550 - 2s 197ms/step - loss: 0.6897 - accuracy: 0.552 - 2s 187ms/step - loss: 0.6884 - accuracy: 0.555 - 2s 180ms/step - loss: 0.6863 - accuracy: 0.562 - 2s 173ms/step - loss: 0.6850 - accuracy: 0.567 - 3s 167ms/step - loss: 0.6831 - accuracy: 0.574 - 3s 163ms/step - loss: 0.6812 - accuracy: 0.581 - 3s 158ms/step - loss: 0.6796 - accuracy: 0.588 - 3s 155ms/step - loss: 0.6780 - accuracy: 0.594 - 3s 151ms/step - loss: 0.6761 - accuracy: 0.598 - 3s 148ms/step - loss: 0.6747 - accuracy: 0.603 - 3s 145ms/step - loss: 0.6727 - accuracy: 0.608 - 3s 143ms/step - loss: 0.6715 - accuracy: 0.611 - 3s 140ms/step - loss: 0.6698 - accuracy: 0.616 - 3s 138ms/step - loss: 0.6679 - accuracy: 0.620 - 3s 136ms/step - loss: 0.6663 - accuracy: 0.624 - 3s 134ms/step - loss: 0.6649 - accuracy: 0.627 - 4s 133ms/step - loss: 0.6636 - accuracy: 0.630 - 4s 131ms/step - loss: 0.6620 - accuracy: 0.633 - 4s 130ms/step - loss: 0.6608 - accuracy: 0.635 - 4s 127ms/step - loss: 0.6599 - accuracy: 0.636 - 5s 182ms/step - loss: 0.6599 - accuracy: 0.6361 - val_loss: 0.0000e+00 - val_accuracy: 0.0000e+00\n",
      "Epoch 2/20\n",
      "30/30 [==============================] - ETA: 12s - loss: 0.6007 - accuracy: 0.748 - ETA: 7s - loss: 0.5987 - accuracy: 0.758 - ETA: 5s - loss: 0.5941 - accuracy: 0.76 - ETA: 4s - loss: 0.5936 - accuracy: 0.76 - ETA: 3s - loss: 0.5898 - accuracy: 0.76 - ETA: 2s - loss: 0.5851 - accuracy: 0.77 - ETA: 2s - loss: 0.5838 - accuracy: 0.77 - ETA: 2s - loss: 0.5819 - accuracy: 0.77 - ETA: 1s - loss: 0.5801 - accuracy: 0.77 - ETA: 1s - loss: 0.5796 - accuracy: 0.77 - ETA: 1s - loss: 0.5775 - accuracy: 0.77 - ETA: 1s - loss: 0.5758 - accuracy: 0.77 - ETA: 0s - loss: 0.5730 - accuracy: 0.77 - ETA: 0s - loss: 0.5731 - accuracy: 0.77 - ETA: 0s - loss: 0.5707 - accuracy: 0.77 - ETA: 0s - loss: 0.5681 - accuracy: 0.77 - ETA: 0s - loss: 0.5665 - accuracy: 0.78 - ETA: 0s - loss: 0.5659 - accuracy: 0.78 - ETA: 0s - loss: 0.5645 - accuracy: 0.78 - 5s 162ms/step - loss: 0.5586 - accuracy: 0.7890 - val_loss: 0.5059 - val_accuracy: 0.7994\n",
      "Epoch 3/20\n",
      "30/30 [==============================] - ETA: 13s - loss: 0.4690 - accuracy: 0.857 - ETA: 7s - loss: 0.4733 - accuracy: 0.852 - ETA: 5s - loss: 0.4755 - accuracy: 0.83 - ETA: 4s - loss: 0.4698 - accuracy: 0.84 - ETA: 3s - loss: 0.4663 - accuracy: 0.84 - ETA: 2s - loss: 0.4657 - accuracy: 0.84 - ETA: 2s - loss: 0.4633 - accuracy: 0.84 - ETA: 2s - loss: 0.4618 - accuracy: 0.84 - ETA: 1s - loss: 0.4625 - accuracy: 0.84 - ETA: 1s - loss: 0.4584 - accuracy: 0.84 - ETA: 1s - loss: 0.4553 - accuracy: 0.84 - ETA: 1s - loss: 0.4546 - accuracy: 0.84 - ETA: 1s - loss: 0.4529 - accuracy: 0.84 - ETA: 0s - loss: 0.4508 - accuracy: 0.84 - ETA: 0s - loss: 0.4484 - accuracy: 0.84 - ETA: 0s - loss: 0.4472 - accuracy: 0.84 - ETA: 0s - loss: 0.4461 - accuracy: 0.84 - ETA: 0s - loss: 0.4442 - accuracy: 0.84 - ETA: 0s - loss: 0.4427 - accuracy: 0.84 - 5s 163ms/step - loss: 0.4366 - accuracy: 0.8523 - val_loss: 0.4110 - val_accuracy: 0.8397\n",
      "Epoch 4/20\n",
      "30/30 [==============================] - ETA: 13s - loss: 0.3595 - accuracy: 0.888 - ETA: 7s - loss: 0.3473 - accuracy: 0.893 - ETA: 5s - loss: 0.3410 - accuracy: 0.89 - ETA: 4s - loss: 0.3406 - accuracy: 0.89 - ETA: 3s - loss: 0.3422 - accuracy: 0.88 - ETA: 2s - loss: 0.3412 - accuracy: 0.88 - ETA: 2s - loss: 0.3428 - accuracy: 0.88 - ETA: 2s - loss: 0.3436 - accuracy: 0.88 - ETA: 1s - loss: 0.3416 - accuracy: 0.88 - ETA: 1s - loss: 0.3399 - accuracy: 0.88 - ETA: 1s - loss: 0.3395 - accuracy: 0.88 - ETA: 1s - loss: 0.3383 - accuracy: 0.88 - ETA: 1s - loss: 0.3387 - accuracy: 0.88 - ETA: 0s - loss: 0.3381 - accuracy: 0.88 - ETA: 0s - loss: 0.3371 - accuracy: 0.88 - ETA: 0s - loss: 0.3352 - accuracy: 0.88 - ETA: 0s - loss: 0.3345 - accuracy: 0.88 - ETA: 0s - loss: 0.3326 - accuracy: 0.88 - ETA: 0s - loss: 0.3306 - accuracy: 0.88 - 5s 165ms/step - loss: 0.3265 - accuracy: 0.8925 - val_loss: 0.3499 - val_accuracy: 0.8605\n",
      "Epoch 5/20\n",
      "30/30 [==============================] - ETA: 14s - loss: 0.2583 - accuracy: 0.919 - ETA: 7s - loss: 0.2670 - accuracy: 0.914 - ETA: 5s - loss: 0.2660 - accuracy: 0.91 - ETA: 4s - loss: 0.2615 - accuracy: 0.91 - ETA: 3s - loss: 0.2584 - accuracy: 0.91 - ETA: 2s - loss: 0.2557 - accuracy: 0.91 - ETA: 2s - loss: 0.2526 - accuracy: 0.91 - ETA: 2s - loss: 0.2522 - accuracy: 0.91 - ETA: 1s - loss: 0.2505 - accuracy: 0.92 - ETA: 1s - loss: 0.2510 - accuracy: 0.91 - ETA: 1s - loss: 0.2503 - accuracy: 0.92 - ETA: 1s - loss: 0.2510 - accuracy: 0.92 - ETA: 1s - loss: 0.2503 - accuracy: 0.92 - ETA: 0s - loss: 0.2481 - accuracy: 0.92 - ETA: 0s - loss: 0.2486 - accuracy: 0.92 - ETA: 0s - loss: 0.2480 - accuracy: 0.92 - ETA: 0s - loss: 0.2485 - accuracy: 0.92 - ETA: 0s - loss: 0.2484 - accuracy: 0.92 - ETA: 0s - loss: 0.2481 - accuracy: 0.92 - 5s 163ms/step - loss: 0.2455 - accuracy: 0.9233 - val_loss: 0.3168 - val_accuracy: 0.8707\n",
      "Epoch 6/20\n",
      "30/30 [==============================] - ETA: 11s - loss: 0.1829 - accuracy: 0.951 - ETA: 6s - loss: 0.1938 - accuracy: 0.944 - ETA: 4s - loss: 0.1875 - accuracy: 0.94 - ETA: 3s - loss: 0.1868 - accuracy: 0.94 - ETA: 3s - loss: 0.1865 - accuracy: 0.94 - ETA: 2s - loss: 0.1851 - accuracy: 0.94 - ETA: 2s - loss: 0.1895 - accuracy: 0.94 - ETA: 1s - loss: 0.1883 - accuracy: 0.94 - ETA: 1s - loss: 0.1881 - accuracy: 0.94 - ETA: 1s - loss: 0.1891 - accuracy: 0.94 - ETA: 1s - loss: 0.1866 - accuracy: 0.94 - ETA: 1s - loss: 0.1859 - accuracy: 0.94 - ETA: 0s - loss: 0.1851 - accuracy: 0.94 - ETA: 0s - loss: 0.1863 - accuracy: 0.94 - ETA: 0s - loss: 0.1865 - accuracy: 0.94 - ETA: 0s - loss: 0.1874 - accuracy: 0.94 - ETA: 0s - loss: 0.1883 - accuracy: 0.94 - ETA: 0s - loss: 0.1867 - accuracy: 0.94 - ETA: 0s - loss: 0.1870 - accuracy: 0.94 - 5s 156ms/step - loss: 0.1850 - accuracy: 0.9465 - val_loss: 0.3002 - val_accuracy: 0.8752\n",
      "Epoch 7/20\n",
      "30/30 [==============================] - ETA: 13s - loss: 0.1559 - accuracy: 0.959 - ETA: 7s - loss: 0.1470 - accuracy: 0.965 - ETA: 5s - loss: 0.1493 - accuracy: 0.96 - ETA: 4s - loss: 0.1432 - accuracy: 0.96 - ETA: 3s - loss: 0.1443 - accuracy: 0.96 - ETA: 2s - loss: 0.1414 - accuracy: 0.96 - ETA: 2s - loss: 0.1403 - accuracy: 0.96 - ETA: 2s - loss: 0.1420 - accuracy: 0.96 - ETA: 1s - loss: 0.1407 - accuracy: 0.96 - ETA: 1s - loss: 0.1416 - accuracy: 0.96 - ETA: 1s - loss: 0.1419 - accuracy: 0.96 - ETA: 1s - loss: 0.1425 - accuracy: 0.96 - ETA: 1s - loss: 0.1429 - accuracy: 0.96 - ETA: 0s - loss: 0.1415 - accuracy: 0.96 - ETA: 0s - loss: 0.1423 - accuracy: 0.96 - ETA: 0s - loss: 0.1404 - accuracy: 0.96 - ETA: 0s - loss: 0.1397 - accuracy: 0.96 - ETA: 0s - loss: 0.1404 - accuracy: 0.96 - ETA: 0s - loss: 0.1394 - accuracy: 0.96 - 5s 159ms/step - loss: 0.1377 - accuracy: 0.9651 - val_loss: 0.2951 - val_accuracy: 0.8763\n",
      "Epoch 8/20\n",
      "30/30 [==============================] - ETA: 11s - loss: 0.1031 - accuracy: 0.982 - ETA: 6s - loss: 0.1052 - accuracy: 0.977 - ETA: 4s - loss: 0.1073 - accuracy: 0.97 - ETA: 3s - loss: 0.1055 - accuracy: 0.97 - ETA: 3s - loss: 0.1054 - accuracy: 0.97 - ETA: 2s - loss: 0.1061 - accuracy: 0.97 - ETA: 2s - loss: 0.1059 - accuracy: 0.97 - ETA: 1s - loss: 0.1036 - accuracy: 0.97 - ETA: 1s - loss: 0.1037 - accuracy: 0.97 - ETA: 1s - loss: 0.1044 - accuracy: 0.97 - ETA: 1s - loss: 0.1039 - accuracy: 0.97 - ETA: 1s - loss: 0.1039 - accuracy: 0.97 - ETA: 0s - loss: 0.1028 - accuracy: 0.97 - ETA: 0s - loss: 0.1019 - accuracy: 0.97 - ETA: 0s - loss: 0.1018 - accuracy: 0.97 - ETA: 0s - loss: 0.1016 - accuracy: 0.97 - ETA: 0s - loss: 0.1031 - accuracy: 0.97 - ETA: 0s - loss: 0.1024 - accuracy: 0.97 - ETA: 0s - loss: 0.1014 - accuracy: 0.97 - 5s 154ms/step - loss: 0.1006 - accuracy: 0.9779 - val_loss: 0.2966 - val_accuracy: 0.8767\n"
     ]
    },
    {
     "name": "stdout",
     "output_type": "stream",
     "text": [
      "Epoch 9/20\n",
      "30/30 [==============================] - ETA: 11s - loss: 0.0800 - accuracy: 0.988 - ETA: 6s - loss: 0.0794 - accuracy: 0.987 - ETA: 4s - loss: 0.0831 - accuracy: 0.98 - ETA: 3s - loss: 0.0830 - accuracy: 0.98 - ETA: 3s - loss: 0.0791 - accuracy: 0.98 - ETA: 2s - loss: 0.0784 - accuracy: 0.98 - ETA: 2s - loss: 0.0800 - accuracy: 0.98 - ETA: 1s - loss: 0.0809 - accuracy: 0.98 - ETA: 1s - loss: 0.0783 - accuracy: 0.98 - ETA: 1s - loss: 0.0783 - accuracy: 0.98 - ETA: 1s - loss: 0.0784 - accuracy: 0.98 - ETA: 1s - loss: 0.0776 - accuracy: 0.98 - ETA: 0s - loss: 0.0770 - accuracy: 0.98 - ETA: 0s - loss: 0.0764 - accuracy: 0.98 - ETA: 0s - loss: 0.0758 - accuracy: 0.98 - ETA: 0s - loss: 0.0752 - accuracy: 0.98 - ETA: 0s - loss: 0.0753 - accuracy: 0.98 - ETA: 0s - loss: 0.0748 - accuracy: 0.98 - ETA: 0s - loss: 0.0741 - accuracy: 0.98 - 5s 157ms/step - loss: 0.0738 - accuracy: 0.9876 - val_loss: 0.3039 - val_accuracy: 0.8758\n",
      "Epoch 10/20\n",
      "30/30 [==============================] - ETA: 13s - loss: 0.0621 - accuracy: 0.994 - ETA: 7s - loss: 0.0544 - accuracy: 0.994 - ETA: 5s - loss: 0.0556 - accuracy: 0.99 - ETA: 4s - loss: 0.0570 - accuracy: 0.99 - ETA: 3s - loss: 0.0571 - accuracy: 0.99 - ETA: 2s - loss: 0.0556 - accuracy: 0.99 - ETA: 2s - loss: 0.0554 - accuracy: 0.99 - ETA: 2s - loss: 0.0558 - accuracy: 0.99 - ETA: 1s - loss: 0.0563 - accuracy: 0.99 - ETA: 1s - loss: 0.0562 - accuracy: 0.99 - ETA: 1s - loss: 0.0561 - accuracy: 0.99 - ETA: 1s - loss: 0.0565 - accuracy: 0.99 - ETA: 0s - loss: 0.0566 - accuracy: 0.99 - ETA: 0s - loss: 0.0562 - accuracy: 0.99 - ETA: 0s - loss: 0.0561 - accuracy: 0.99 - ETA: 0s - loss: 0.0556 - accuracy: 0.99 - ETA: 0s - loss: 0.0560 - accuracy: 0.99 - ETA: 0s - loss: 0.0553 - accuracy: 0.99 - ETA: 0s - loss: 0.0551 - accuracy: 0.99 - 5s 157ms/step - loss: 0.0545 - accuracy: 0.9941 - val_loss: 0.3121 - val_accuracy: 0.8753\n",
      "Epoch 11/20\n",
      "30/30 [==============================] - ETA: 13s - loss: 0.0349 - accuracy: 0.998 - ETA: 7s - loss: 0.0370 - accuracy: 0.999 - ETA: 5s - loss: 0.0394 - accuracy: 0.99 - ETA: 4s - loss: 0.0383 - accuracy: 0.99 - ETA: 3s - loss: 0.0377 - accuracy: 0.99 - ETA: 2s - loss: 0.0382 - accuracy: 0.99 - ETA: 2s - loss: 0.0394 - accuracy: 0.99 - ETA: 2s - loss: 0.0394 - accuracy: 0.99 - ETA: 1s - loss: 0.0417 - accuracy: 0.99 - ETA: 1s - loss: 0.0417 - accuracy: 0.99 - ETA: 1s - loss: 0.0424 - accuracy: 0.99 - ETA: 1s - loss: 0.0423 - accuracy: 0.99 - ETA: 1s - loss: 0.0423 - accuracy: 0.99 - ETA: 0s - loss: 0.0415 - accuracy: 0.99 - ETA: 0s - loss: 0.0416 - accuracy: 0.99 - ETA: 0s - loss: 0.0418 - accuracy: 0.99 - ETA: 0s - loss: 0.0413 - accuracy: 0.99 - ETA: 0s - loss: 0.0409 - accuracy: 0.99 - ETA: 0s - loss: 0.0407 - accuracy: 0.99 - 5s 164ms/step - loss: 0.0403 - accuracy: 0.9969 - val_loss: 0.3241 - val_accuracy: 0.8745\n",
      "Epoch 12/20\n",
      "30/30 [==============================] - ETA: 12s - loss: 0.0292 - accuracy: 1.000 - ETA: 6s - loss: 0.0295 - accuracy: 0.999 - ETA: 4s - loss: 0.0312 - accuracy: 0.99 - ETA: 4s - loss: 0.0309 - accuracy: 0.99 - ETA: 3s - loss: 0.0305 - accuracy: 0.99 - ETA: 2s - loss: 0.0304 - accuracy: 0.99 - ETA: 2s - loss: 0.0301 - accuracy: 0.99 - ETA: 2s - loss: 0.0319 - accuracy: 0.99 - ETA: 1s - loss: 0.0310 - accuracy: 0.99 - ETA: 1s - loss: 0.0307 - accuracy: 0.99 - ETA: 1s - loss: 0.0303 - accuracy: 0.99 - ETA: 1s - loss: 0.0301 - accuracy: 0.99 - ETA: 1s - loss: 0.0298 - accuracy: 0.99 - ETA: 0s - loss: 0.0295 - accuracy: 0.99 - ETA: 0s - loss: 0.0295 - accuracy: 0.99 - ETA: 0s - loss: 0.0300 - accuracy: 0.99 - ETA: 0s - loss: 0.0299 - accuracy: 0.99 - ETA: 0s - loss: 0.0297 - accuracy: 0.99 - ETA: 0s - loss: 0.0295 - accuracy: 0.99 - 5s 169ms/step - loss: 0.0295 - accuracy: 0.9984 - val_loss: 0.3352 - val_accuracy: 0.8712\n",
      "Epoch 13/20\n",
      "30/30 [==============================] - ETA: 13s - loss: 0.0215 - accuracy: 1.000 - ETA: 7s - loss: 0.0211 - accuracy: 1.000 - ETA: 5s - loss: 0.0206 - accuracy: 1.00 - ETA: 4s - loss: 0.0210 - accuracy: 1.00 - ETA: 3s - loss: 0.0214 - accuracy: 1.00 - ETA: 2s - loss: 0.0215 - accuracy: 0.99 - ETA: 2s - loss: 0.0215 - accuracy: 0.99 - ETA: 2s - loss: 0.0218 - accuracy: 0.99 - ETA: 1s - loss: 0.0217 - accuracy: 0.99 - ETA: 1s - loss: 0.0217 - accuracy: 0.99 - ETA: 1s - loss: 0.0218 - accuracy: 0.99 - ETA: 1s - loss: 0.0217 - accuracy: 0.99 - ETA: 1s - loss: 0.0217 - accuracy: 0.99 - ETA: 0s - loss: 0.0222 - accuracy: 0.99 - ETA: 0s - loss: 0.0221 - accuracy: 0.99 - ETA: 0s - loss: 0.0221 - accuracy: 0.99 - ETA: 0s - loss: 0.0220 - accuracy: 0.99 - ETA: 0s - loss: 0.0219 - accuracy: 0.99 - ETA: 0s - loss: 0.0218 - accuracy: 0.99 - 6s 208ms/step - loss: 0.0220 - accuracy: 0.9990 - val_loss: 0.3471 - val_accuracy: 0.8710\n",
      "Epoch 14/20\n",
      "30/30 [==============================] - ETA: 13s - loss: 0.0226 - accuracy: 0.996 - ETA: 7s - loss: 0.0205 - accuracy: 0.998 - ETA: 5s - loss: 0.0195 - accuracy: 0.99 - ETA: 4s - loss: 0.0198 - accuracy: 0.99 - ETA: 3s - loss: 0.0193 - accuracy: 0.99 - ETA: 2s - loss: 0.0188 - accuracy: 0.99 - ETA: 2s - loss: 0.0188 - accuracy: 0.99 - ETA: 2s - loss: 0.0187 - accuracy: 0.99 - ETA: 1s - loss: 0.0199 - accuracy: 0.99 - ETA: 1s - loss: 0.0195 - accuracy: 0.99 - ETA: 1s - loss: 0.0196 - accuracy: 0.99 - ETA: 1s - loss: 0.0192 - accuracy: 0.99 - ETA: 1s - loss: 0.0191 - accuracy: 0.99 - ETA: 0s - loss: 0.0188 - accuracy: 0.99 - ETA: 0s - loss: 0.0187 - accuracy: 0.99 - ETA: 0s - loss: 0.0186 - accuracy: 0.99 - ETA: 0s - loss: 0.0184 - accuracy: 0.99 - ETA: 0s - loss: 0.0183 - accuracy: 0.99 - ETA: 0s - loss: 0.0182 - accuracy: 0.99 - 5s 163ms/step - loss: 0.0179 - accuracy: 0.9993 - val_loss: 0.3598 - val_accuracy: 0.8686\n",
      "Epoch 15/20\n",
      "30/30 [==============================] - ETA: 14s - loss: 0.0137 - accuracy: 1.000 - ETA: 7s - loss: 0.0139 - accuracy: 1.000 - ETA: 5s - loss: 0.0134 - accuracy: 1.00 - ETA: 4s - loss: 0.0138 - accuracy: 1.00 - ETA: 3s - loss: 0.0136 - accuracy: 1.00 - ETA: 3s - loss: 0.0137 - accuracy: 0.99 - ETA: 2s - loss: 0.0136 - accuracy: 0.99 - ETA: 2s - loss: 0.0135 - accuracy: 0.99 - ETA: 1s - loss: 0.0139 - accuracy: 0.99 - ETA: 1s - loss: 0.0139 - accuracy: 0.99 - ETA: 1s - loss: 0.0138 - accuracy: 0.99 - ETA: 1s - loss: 0.0136 - accuracy: 0.99 - ETA: 1s - loss: 0.0137 - accuracy: 0.99 - ETA: 0s - loss: 0.0138 - accuracy: 0.99 - ETA: 0s - loss: 0.0138 - accuracy: 0.99 - ETA: 0s - loss: 0.0138 - accuracy: 0.99 - ETA: 0s - loss: 0.0137 - accuracy: 0.99 - ETA: 0s - loss: 0.0136 - accuracy: 0.99 - ETA: 0s - loss: 0.0137 - accuracy: 0.99 - 5s 167ms/step - loss: 0.0136 - accuracy: 0.9997 - val_loss: 0.3705 - val_accuracy: 0.8679\n",
      "Epoch 16/20\n",
      "30/30 [==============================] - ETA: 14s - loss: 0.0107 - accuracy: 1.000 - ETA: 7s - loss: 0.0104 - accuracy: 1.000 - ETA: 5s - loss: 0.0109 - accuracy: 1.00 - ETA: 4s - loss: 0.0110 - accuracy: 1.00 - ETA: 3s - loss: 0.0110 - accuracy: 1.00 - ETA: 3s - loss: 0.0109 - accuracy: 1.00 - ETA: 2s - loss: 0.0106 - accuracy: 1.00 - ETA: 2s - loss: 0.0107 - accuracy: 1.00 - ETA: 1s - loss: 0.0106 - accuracy: 1.00 - ETA: 1s - loss: 0.0105 - accuracy: 1.00 - ETA: 1s - loss: 0.0104 - accuracy: 1.00 - ETA: 1s - loss: 0.0104 - accuracy: 1.00 - ETA: 1s - loss: 0.0104 - accuracy: 1.00 - ETA: 0s - loss: 0.0103 - accuracy: 1.00 - ETA: 0s - loss: 0.0104 - accuracy: 1.00 - ETA: 0s - loss: 0.0103 - accuracy: 1.00 - ETA: 0s - loss: 0.0103 - accuracy: 1.00 - ETA: 0s - loss: 0.0104 - accuracy: 1.00 - ETA: 0s - loss: 0.0104 - accuracy: 1.00 - 5s 167ms/step - loss: 0.0106 - accuracy: 0.9999 - val_loss: 0.3813 - val_accuracy: 0.8685\n",
      "Epoch 17/20\n",
      "30/30 [==============================] - ETA: 14s - loss: 0.0098 - accuracy: 1.000 - ETA: 8s - loss: 0.0101 - accuracy: 1.000 - ETA: 5s - loss: 0.0098 - accuracy: 1.00 - ETA: 4s - loss: 0.0096 - accuracy: 1.00 - ETA: 3s - loss: 0.0096 - accuracy: 1.00 - ETA: 3s - loss: 0.0097 - accuracy: 1.00 - ETA: 2s - loss: 0.0096 - accuracy: 1.00 - ETA: 2s - loss: 0.0095 - accuracy: 1.00 - ETA: 1s - loss: 0.0095 - accuracy: 1.00 - ETA: 1s - loss: 0.0093 - accuracy: 1.00 - ETA: 1s - loss: 0.0093 - accuracy: 1.00 - ETA: 1s - loss: 0.0093 - accuracy: 1.00 - ETA: 1s - loss: 0.0092 - accuracy: 1.00 - ETA: 0s - loss: 0.0091 - accuracy: 1.00 - ETA: 0s - loss: 0.0090 - accuracy: 1.00 - ETA: 0s - loss: 0.0088 - accuracy: 1.00 - ETA: 0s - loss: 0.0088 - accuracy: 1.00 - ETA: 0s - loss: 0.0088 - accuracy: 1.00 - ETA: 0s - loss: 0.0087 - accuracy: 1.00 - 5s 169ms/step - loss: 0.0088 - accuracy: 0.9999 - val_loss: 0.3900 - val_accuracy: 0.8686\n",
      "Epoch 18/20\n",
      "30/30 [==============================] - ETA: 15s - loss: 0.0076 - accuracy: 1.000 - ETA: 8s - loss: 0.0074 - accuracy: 1.000 - ETA: 5s - loss: 0.0073 - accuracy: 1.00 - ETA: 4s - loss: 0.0076 - accuracy: 1.00 - ETA: 3s - loss: 0.0076 - accuracy: 1.00 - ETA: 3s - loss: 0.0075 - accuracy: 1.00 - ETA: 2s - loss: 0.0074 - accuracy: 1.00 - ETA: 2s - loss: 0.0075 - accuracy: 1.00 - ETA: 2s - loss: 0.0074 - accuracy: 1.00 - ETA: 1s - loss: 0.0074 - accuracy: 1.00 - ETA: 1s - loss: 0.0074 - accuracy: 1.00 - ETA: 1s - loss: 0.0073 - accuracy: 1.00 - ETA: 1s - loss: 0.0073 - accuracy: 1.00 - ETA: 0s - loss: 0.0073 - accuracy: 1.00 - ETA: 0s - loss: 0.0072 - accuracy: 1.00 - ETA: 0s - loss: 0.0072 - accuracy: 1.00 - ETA: 0s - loss: 0.0072 - accuracy: 1.00 - ETA: 0s - loss: 0.0072 - accuracy: 1.00 - ETA: 0s - loss: 0.0072 - accuracy: 1.00 - 5s 168ms/step - loss: 0.0074 - accuracy: 0.9999 - val_loss: 0.3994 - val_accuracy: 0.8671\n",
      "Epoch 19/20\n",
      "30/30 [==============================] - ETA: 14s - loss: 0.0067 - accuracy: 1.000 - ETA: 7s - loss: 0.0063 - accuracy: 1.000 - ETA: 5s - loss: 0.0062 - accuracy: 1.00 - ETA: 4s - loss: 0.0062 - accuracy: 1.00 - ETA: 3s - loss: 0.0060 - accuracy: 1.00 - ETA: 3s - loss: 0.0061 - accuracy: 1.00 - ETA: 2s - loss: 0.0061 - accuracy: 1.00 - ETA: 2s - loss: 0.0060 - accuracy: 1.00 - ETA: 1s - loss: 0.0061 - accuracy: 1.00 - ETA: 1s - loss: 0.0061 - accuracy: 1.00 - ETA: 1s - loss: 0.0062 - accuracy: 1.00 - ETA: 1s - loss: 0.0062 - accuracy: 1.00 - ETA: 1s - loss: 0.0062 - accuracy: 1.00 - ETA: 0s - loss: 0.0062 - accuracy: 1.00 - ETA: 0s - loss: 0.0061 - accuracy: 1.00 - ETA: 0s - loss: 0.0061 - accuracy: 1.00 - ETA: 0s - loss: 0.0062 - accuracy: 1.00 - ETA: 0s - loss: 0.0062 - accuracy: 1.00 - ETA: 0s - loss: 0.0061 - accuracy: 1.00 - 5s 168ms/step - loss: 0.0062 - accuracy: 0.9999 - val_loss: 0.4078 - val_accuracy: 0.8659\n",
      "Epoch 20/20\n",
      "30/30 [==============================] - ETA: 15s - loss: 0.0054 - accuracy: 1.000 - ETA: 8s - loss: 0.0052 - accuracy: 1.000 - ETA: 5s - loss: 0.0054 - accuracy: 1.00 - ETA: 4s - loss: 0.0054 - accuracy: 1.00 - ETA: 3s - loss: 0.0053 - accuracy: 1.00 - ETA: 3s - loss: 0.0053 - accuracy: 1.00 - ETA: 2s - loss: 0.0053 - accuracy: 1.00 - ETA: 2s - loss: 0.0054 - accuracy: 1.00 - ETA: 1s - loss: 0.0054 - accuracy: 1.00 - ETA: 1s - loss: 0.0054 - accuracy: 1.00 - ETA: 1s - loss: 0.0053 - accuracy: 1.00 - ETA: 1s - loss: 0.0053 - accuracy: 1.00 - ETA: 1s - loss: 0.0053 - accuracy: 1.00 - ETA: 0s - loss: 0.0053 - accuracy: 1.00 - ETA: 0s - loss: 0.0053 - accuracy: 1.00 - ETA: 0s - loss: 0.0053 - accuracy: 1.00 - ETA: 0s - loss: 0.0052 - accuracy: 1.00 - ETA: 0s - loss: 0.0052 - accuracy: 1.00 - ETA: 0s - loss: 0.0052 - accuracy: 1.00 - 5s 170ms/step - loss: 0.0053 - accuracy: 0.9999 - val_loss: 0.4158 - val_accuracy: 0.8662\n"
     ]
    }
   ],
   "source": [
    "history = model.fit(train_data.shuffle(10000).batch(512),\n",
    "                    epochs=20,\n",
    "                    validation_data=validation_data.batch(512),\n",
    "                    verbose=1)"
   ]
  },
  {
   "cell_type": "code",
   "execution_count": 16,
   "metadata": {},
   "outputs": [
    {
     "name": "stdout",
     "output_type": "stream",
     "text": [
      "49/49 - 3s - loss: 0.4661 - accuracy: 0.8483\n",
      "loss: 0.466\n",
      "accuracy: 0.848\n"
     ]
    }
   ],
   "source": [
    "results = model.evaluate(test_data.batch(512), verbose=2)\n",
    "for name, value in zip(model.metrics_names, results):\n",
    "    print(\"%s: %.3f\" % (name, value))"
   ]
  },
  {
   "cell_type": "code",
   "execution_count": null,
   "metadata": {},
   "outputs": [],
   "source": []
  },
  {
   "cell_type": "code",
   "execution_count": null,
   "metadata": {},
   "outputs": [],
   "source": []
  },
  {
   "cell_type": "code",
   "execution_count": 26,
   "metadata": {},
   "outputs": [
    {
     "data": {
      "text/plain": [
       "TensorShape([3, 50])"
      ]
     },
     "execution_count": 26,
     "metadata": {},
     "output_type": "execute_result"
    }
   ],
   "source": [
    "# embedding = \"https://hub.tensorflow.google.cn/google/tf2-preview/nnlm-en-dim128/1\"\n",
    "embedding = r\"C:\\model\\tfhub_modules\\5cf6e1111d63a20038f955024d33f59b34048893\"\n",
    "hub_layer = hub.KerasLayer(embedding, input_shape=[], \n",
    "                           dtype=tf.string, trainable=True)\n",
    "hub_layer(train_examples_batch[:3]).shape"
   ]
  },
  {
   "cell_type": "code",
   "execution_count": 27,
   "metadata": {},
   "outputs": [
    {
     "name": "stdout",
     "output_type": "stream",
     "text": [
      "Model: \"sequential_3\"\n",
      "_________________________________________________________________\n",
      "Layer (type)                 Output Shape              Param #   \n",
      "=================================================================\n",
      "keras_layer_3 (KerasLayer)   (None, 50)                48190600  \n",
      "_________________________________________________________________\n",
      "dense_6 (Dense)              (None, 16)                816       \n",
      "_________________________________________________________________\n",
      "dense_7 (Dense)              (None, 1)                 17        \n",
      "=================================================================\n",
      "Total params: 48,191,433\n",
      "Trainable params: 48,191,433\n",
      "Non-trainable params: 0\n",
      "_________________________________________________________________\n"
     ]
    }
   ],
   "source": [
    "model = tf.keras.Sequential()\n",
    "model.add(hub_layer)\n",
    "model.add(tf.keras.layers.Dense(16, activation='relu'))\n",
    "model.add(tf.keras.layers.Dense(1, activation='sigmoid'))\n",
    "\n",
    "model.summary()"
   ]
  },
  {
   "cell_type": "code",
   "execution_count": 28,
   "metadata": {},
   "outputs": [],
   "source": [
    "model.compile(optimizer='adam',\n",
    "              loss='binary_crossentropy',\n",
    "              metrics=['accuracy'])"
   ]
  },
  {
   "cell_type": "code",
   "execution_count": 29,
   "metadata": {},
   "outputs": [
    {
     "name": "stdout",
     "output_type": "stream",
     "text": [
      "Epoch 1/20\n",
      "30/30 [==============================].7130 - accuracy: 0.45 - 1s 600ms/step - loss: 0.7028 - accuracy: 0.498 - 1s 433ms/step - loss: 0.7016 - accuracy: 0.496 - 1s 351ms/step - loss: 0.6992 - accuracy: 0.500 - 1s 300ms/step - loss: 0.6962 - accuracy: 0.506 - 2s 265ms/step - loss: 0.6950 - accuracy: 0.512 - 2s 240ms/step - loss: 0.6936 - accuracy: 0.519 - 2s 222ms/step - loss: 0.6923 - accuracy: 0.525 - 2s 208ms/step - loss: 0.6901 - accuracy: 0.535 - 2s 196ms/step - loss: 0.6889 - accuracy: 0.538 - 2s 186ms/step - loss: 0.6875 - accuracy: 0.543 - 2s 177ms/step - loss: 0.6859 - accuracy: 0.550 - 2s 171ms/step - loss: 0.6840 - accuracy: 0.557 - 2s 164ms/step - loss: 0.6824 - accuracy: 0.561 - 2s 159ms/step - loss: 0.6805 - accuracy: 0.568 - 2s 154ms/step - loss: 0.6785 - accuracy: 0.575 - 3s 150ms/step - loss: 0.6780 - accuracy: 0.578 - 3s 147ms/step - loss: 0.6768 - accuracy: 0.580 - 3s 144ms/step - loss: 0.6751 - accuracy: 0.586 - 3s 141ms/step - loss: 0.6736 - accuracy: 0.590 - 3s 138ms/step - loss: 0.6720 - accuracy: 0.594 - 3s 136ms/step - loss: 0.6706 - accuracy: 0.597 - 3s 134ms/step - loss: 0.6692 - accuracy: 0.600 - 3s 132ms/step - loss: 0.6678 - accuracy: 0.604 - 3s 130ms/step - loss: 0.6662 - accuracy: 0.607 - 3s 128ms/step - loss: 0.6652 - accuracy: 0.608 - 3s 127ms/step - loss: 0.6638 - accuracy: 0.611 - 4s 125ms/step - loss: 0.6622 - accuracy: 0.613 - 4s 124ms/step - loss: 0.6606 - accuracy: 0.616 - 4s 122ms/step - loss: 0.6599 - accuracy: 0.617 - 5s 172ms/step - loss: 0.6599 - accuracy: 0.6172 - val_loss: 0.0000e+00 - val_accuracy: 0.0000e+00\n",
      "Epoch 2/20\n",
      "30/30 [==============================] - ETA: 12s - loss: 0.6076 - accuracy: 0.714 - ETA: 6s - loss: 0.6040 - accuracy: 0.716 - ETA: 4s - loss: 0.5996 - accuracy: 0.72 - ETA: 3s - loss: 0.6009 - accuracy: 0.71 - ETA: 3s - loss: 0.5998 - accuracy: 0.72 - ETA: 2s - loss: 0.5954 - accuracy: 0.72 - ETA: 2s - loss: 0.5956 - accuracy: 0.72 - ETA: 2s - loss: 0.5936 - accuracy: 0.72 - ETA: 1s - loss: 0.5914 - accuracy: 0.72 - ETA: 1s - loss: 0.5894 - accuracy: 0.73 - ETA: 1s - loss: 0.5861 - accuracy: 0.73 - ETA: 1s - loss: 0.5860 - accuracy: 0.73 - ETA: 0s - loss: 0.5834 - accuracy: 0.73 - ETA: 0s - loss: 0.5820 - accuracy: 0.73 - ETA: 0s - loss: 0.5802 - accuracy: 0.74 - ETA: 0s - loss: 0.5783 - accuracy: 0.74 - ETA: 0s - loss: 0.5768 - accuracy: 0.74 - ETA: 0s - loss: 0.5749 - accuracy: 0.74 - ETA: 0s - loss: 0.5723 - accuracy: 0.75 - 5s 154ms/step - loss: 0.5662 - accuracy: 0.7654 - val_loss: 0.5126 - val_accuracy: 0.7886\n",
      "Epoch 3/20\n",
      "30/30 [==============================] - ETA: 10s - loss: 0.4938 - accuracy: 0.812 - ETA: 5s - loss: 0.4887 - accuracy: 0.809 - ETA: 4s - loss: 0.4749 - accuracy: 0.82 - ETA: 3s - loss: 0.4747 - accuracy: 0.82 - ETA: 2s - loss: 0.4767 - accuracy: 0.81 - ETA: 2s - loss: 0.4768 - accuracy: 0.82 - ETA: 2s - loss: 0.4736 - accuracy: 0.82 - ETA: 1s - loss: 0.4709 - accuracy: 0.82 - ETA: 1s - loss: 0.4701 - accuracy: 0.82 - ETA: 1s - loss: 0.4686 - accuracy: 0.82 - ETA: 1s - loss: 0.4643 - accuracy: 0.82 - ETA: 1s - loss: 0.4632 - accuracy: 0.83 - ETA: 0s - loss: 0.4616 - accuracy: 0.83 - ETA: 0s - loss: 0.4595 - accuracy: 0.83 - ETA: 0s - loss: 0.4567 - accuracy: 0.83 - ETA: 0s - loss: 0.4556 - accuracy: 0.83 - ETA: 0s - loss: 0.4534 - accuracy: 0.83 - ETA: 0s - loss: 0.4525 - accuracy: 0.83 - ETA: 0s - loss: 0.4505 - accuracy: 0.83 - 4s 150ms/step - loss: 0.4440 - accuracy: 0.8416 - val_loss: 0.4126 - val_accuracy: 0.8437\n",
      "Epoch 4/20\n",
      "30/30 [==============================] - ETA: 10s - loss: 0.3671 - accuracy: 0.873 - ETA: 6s - loss: 0.3585 - accuracy: 0.877 - ETA: 4s - loss: 0.3575 - accuracy: 0.87 - ETA: 3s - loss: 0.3588 - accuracy: 0.87 - ETA: 2s - loss: 0.3553 - accuracy: 0.88 - ETA: 2s - loss: 0.3558 - accuracy: 0.88 - ETA: 2s - loss: 0.3518 - accuracy: 0.88 - ETA: 1s - loss: 0.3527 - accuracy: 0.88 - ETA: 1s - loss: 0.3523 - accuracy: 0.88 - ETA: 1s - loss: 0.3487 - accuracy: 0.88 - ETA: 1s - loss: 0.3467 - accuracy: 0.88 - ETA: 1s - loss: 0.3476 - accuracy: 0.88 - ETA: 0s - loss: 0.3470 - accuracy: 0.88 - ETA: 0s - loss: 0.3461 - accuracy: 0.88 - ETA: 0s - loss: 0.3431 - accuracy: 0.88 - ETA: 0s - loss: 0.3403 - accuracy: 0.88 - ETA: 0s - loss: 0.3379 - accuracy: 0.88 - ETA: 0s - loss: 0.3364 - accuracy: 0.88 - ETA: 0s - loss: 0.3349 - accuracy: 0.88 - 5s 151ms/step - loss: 0.3296 - accuracy: 0.8920 - val_loss: 0.3458 - val_accuracy: 0.8607\n",
      "Epoch 5/20\n",
      "30/30 [==============================] - ETA: 11s - loss: 0.2758 - accuracy: 0.906 - ETA: 6s - loss: 0.2590 - accuracy: 0.918 - ETA: 4s - loss: 0.2579 - accuracy: 0.91 - ETA: 3s - loss: 0.2567 - accuracy: 0.91 - ETA: 2s - loss: 0.2551 - accuracy: 0.91 - ETA: 2s - loss: 0.2570 - accuracy: 0.91 - ETA: 2s - loss: 0.2537 - accuracy: 0.92 - ETA: 1s - loss: 0.2501 - accuracy: 0.92 - ETA: 1s - loss: 0.2476 - accuracy: 0.92 - ETA: 1s - loss: 0.2475 - accuracy: 0.92 - ETA: 1s - loss: 0.2441 - accuracy: 0.92 - ETA: 1s - loss: 0.2413 - accuracy: 0.92 - ETA: 0s - loss: 0.2420 - accuracy: 0.92 - ETA: 0s - loss: 0.2423 - accuracy: 0.92 - ETA: 0s - loss: 0.2408 - accuracy: 0.92 - ETA: 0s - loss: 0.2406 - accuracy: 0.92 - ETA: 0s - loss: 0.2413 - accuracy: 0.92 - ETA: 0s - loss: 0.2426 - accuracy: 0.92 - ETA: 0s - loss: 0.2410 - accuracy: 0.92 - 5s 152ms/step - loss: 0.2390 - accuracy: 0.9239 - val_loss: 0.3159 - val_accuracy: 0.8683\n",
      "Epoch 6/20\n",
      "30/30 [==============================] - ETA: 10s - loss: 0.2009 - accuracy: 0.943 - ETA: 5s - loss: 0.1924 - accuracy: 0.943 - ETA: 4s - loss: 0.1892 - accuracy: 0.94 - ETA: 3s - loss: 0.1869 - accuracy: 0.94 - ETA: 2s - loss: 0.1870 - accuracy: 0.94 - ETA: 2s - loss: 0.1903 - accuracy: 0.94 - ETA: 2s - loss: 0.1898 - accuracy: 0.94 - ETA: 1s - loss: 0.1868 - accuracy: 0.94 - ETA: 1s - loss: 0.1869 - accuracy: 0.94 - ETA: 1s - loss: 0.1877 - accuracy: 0.94 - ETA: 1s - loss: 0.1860 - accuracy: 0.94 - ETA: 1s - loss: 0.1841 - accuracy: 0.94 - ETA: 0s - loss: 0.1833 - accuracy: 0.94 - ETA: 0s - loss: 0.1828 - accuracy: 0.94 - ETA: 0s - loss: 0.1828 - accuracy: 0.94 - ETA: 0s - loss: 0.1816 - accuracy: 0.94 - ETA: 0s - loss: 0.1800 - accuracy: 0.94 - ETA: 0s - loss: 0.1780 - accuracy: 0.94 - ETA: 0s - loss: 0.1781 - accuracy: 0.94 - 4s 150ms/step - loss: 0.1771 - accuracy: 0.9485 - val_loss: 0.2980 - val_accuracy: 0.8768\n",
      "Epoch 7/20\n",
      "30/30 [==============================] - ETA: 13s - loss: 0.1349 - accuracy: 0.968 - ETA: 7s - loss: 0.1335 - accuracy: 0.963 - ETA: 5s - loss: 0.1348 - accuracy: 0.96 - ETA: 4s - loss: 0.1334 - accuracy: 0.96 - ETA: 3s - loss: 0.1293 - accuracy: 0.96 - ETA: 2s - loss: 0.1292 - accuracy: 0.96 - ETA: 2s - loss: 0.1299 - accuracy: 0.96 - ETA: 2s - loss: 0.1327 - accuracy: 0.96 - ETA: 1s - loss: 0.1322 - accuracy: 0.96 - ETA: 1s - loss: 0.1307 - accuracy: 0.96 - ETA: 1s - loss: 0.1310 - accuracy: 0.96 - ETA: 1s - loss: 0.1322 - accuracy: 0.96 - ETA: 0s - loss: 0.1308 - accuracy: 0.96 - ETA: 0s - loss: 0.1315 - accuracy: 0.96 - ETA: 0s - loss: 0.1312 - accuracy: 0.96 - ETA: 0s - loss: 0.1302 - accuracy: 0.96 - ETA: 0s - loss: 0.1302 - accuracy: 0.96 - ETA: 0s - loss: 0.1293 - accuracy: 0.96 - ETA: 0s - loss: 0.1292 - accuracy: 0.96 - 5s 155ms/step - loss: 0.1290 - accuracy: 0.9664 - val_loss: 0.2944 - val_accuracy: 0.8764\n",
      "Epoch 8/20\n",
      "30/30 [==============================] - ETA: 10s - loss: 0.1090 - accuracy: 0.972 - ETA: 6s - loss: 0.1013 - accuracy: 0.979 - ETA: 4s - loss: 0.0991 - accuracy: 0.98 - ETA: 3s - loss: 0.0960 - accuracy: 0.98 - ETA: 2s - loss: 0.0985 - accuracy: 0.97 - ETA: 2s - loss: 0.0972 - accuracy: 0.97 - ETA: 2s - loss: 0.0969 - accuracy: 0.97 - ETA: 1s - loss: 0.0997 - accuracy: 0.97 - ETA: 1s - loss: 0.0998 - accuracy: 0.97 - ETA: 1s - loss: 0.0999 - accuracy: 0.97 - ETA: 1s - loss: 0.0992 - accuracy: 0.97 - ETA: 1s - loss: 0.0988 - accuracy: 0.97 - ETA: 0s - loss: 0.0980 - accuracy: 0.97 - ETA: 0s - loss: 0.0977 - accuracy: 0.97 - ETA: 0s - loss: 0.0964 - accuracy: 0.97 - ETA: 0s - loss: 0.0972 - accuracy: 0.97 - ETA: 0s - loss: 0.0968 - accuracy: 0.97 - ETA: 0s - loss: 0.0969 - accuracy: 0.97 - ETA: 0s - loss: 0.0959 - accuracy: 0.97 - 5s 152ms/step - loss: 0.0959 - accuracy: 0.9787 - val_loss: 0.2971 - val_accuracy: 0.8777\n"
     ]
    },
    {
     "name": "stdout",
     "output_type": "stream",
     "text": [
      "Epoch 9/20\n",
      "30/30 [==============================] - ETA: 11s - loss: 0.0677 - accuracy: 0.996 - ETA: 6s - loss: 0.0674 - accuracy: 0.993 - ETA: 4s - loss: 0.0702 - accuracy: 0.99 - ETA: 3s - loss: 0.0705 - accuracy: 0.98 - ETA: 3s - loss: 0.0743 - accuracy: 0.98 - ETA: 2s - loss: 0.0717 - accuracy: 0.98 - ETA: 2s - loss: 0.0711 - accuracy: 0.98 - ETA: 1s - loss: 0.0711 - accuracy: 0.98 - ETA: 1s - loss: 0.0730 - accuracy: 0.98 - ETA: 1s - loss: 0.0734 - accuracy: 0.98 - ETA: 1s - loss: 0.0730 - accuracy: 0.98 - ETA: 1s - loss: 0.0732 - accuracy: 0.98 - ETA: 0s - loss: 0.0733 - accuracy: 0.98 - ETA: 0s - loss: 0.0719 - accuracy: 0.98 - ETA: 0s - loss: 0.0712 - accuracy: 0.98 - ETA: 0s - loss: 0.0704 - accuracy: 0.98 - ETA: 0s - loss: 0.0706 - accuracy: 0.98 - ETA: 0s - loss: 0.0714 - accuracy: 0.98 - ETA: 0s - loss: 0.0712 - accuracy: 0.98 - 5s 150ms/step - loss: 0.0706 - accuracy: 0.9884 - val_loss: 0.3073 - val_accuracy: 0.8765\n",
      "Epoch 10/20\n",
      "30/30 [==============================] - ETA: 12s - loss: 0.0526 - accuracy: 0.996 - ETA: 7s - loss: 0.0524 - accuracy: 0.995 - ETA: 5s - loss: 0.0522 - accuracy: 0.99 - ETA: 4s - loss: 0.0521 - accuracy: 0.99 - ETA: 3s - loss: 0.0520 - accuracy: 0.99 - ETA: 2s - loss: 0.0525 - accuracy: 0.99 - ETA: 2s - loss: 0.0552 - accuracy: 0.99 - ETA: 2s - loss: 0.0543 - accuracy: 0.99 - ETA: 1s - loss: 0.0530 - accuracy: 0.99 - ETA: 1s - loss: 0.0519 - accuracy: 0.99 - ETA: 1s - loss: 0.0517 - accuracy: 0.99 - ETA: 1s - loss: 0.0512 - accuracy: 0.99 - ETA: 0s - loss: 0.0505 - accuracy: 0.99 - ETA: 0s - loss: 0.0511 - accuracy: 0.99 - ETA: 0s - loss: 0.0507 - accuracy: 0.99 - ETA: 0s - loss: 0.0502 - accuracy: 0.99 - ETA: 0s - loss: 0.0503 - accuracy: 0.99 - ETA: 0s - loss: 0.0501 - accuracy: 0.99 - ETA: 0s - loss: 0.0503 - accuracy: 0.99 - 5s 155ms/step - loss: 0.0503 - accuracy: 0.9935 - val_loss: 0.3167 - val_accuracy: 0.8766\n",
      "Epoch 11/20\n",
      "30/30 [==============================] - ETA: 12s - loss: 0.0325 - accuracy: 1.000 - ETA: 6s - loss: 0.0338 - accuracy: 1.000 - ETA: 4s - loss: 0.0339 - accuracy: 0.99 - ETA: 3s - loss: 0.0349 - accuracy: 0.99 - ETA: 3s - loss: 0.0378 - accuracy: 0.99 - ETA: 2s - loss: 0.0365 - accuracy: 0.99 - ETA: 2s - loss: 0.0363 - accuracy: 0.99 - ETA: 2s - loss: 0.0368 - accuracy: 0.99 - ETA: 1s - loss: 0.0362 - accuracy: 0.99 - ETA: 1s - loss: 0.0360 - accuracy: 0.99 - ETA: 1s - loss: 0.0357 - accuracy: 0.99 - ETA: 1s - loss: 0.0371 - accuracy: 0.99 - ETA: 0s - loss: 0.0368 - accuracy: 0.99 - ETA: 0s - loss: 0.0364 - accuracy: 0.99 - ETA: 0s - loss: 0.0369 - accuracy: 0.99 - ETA: 0s - loss: 0.0364 - accuracy: 0.99 - ETA: 0s - loss: 0.0365 - accuracy: 0.99 - ETA: 0s - loss: 0.0364 - accuracy: 0.99 - ETA: 0s - loss: 0.0363 - accuracy: 0.99 - 5s 155ms/step - loss: 0.0362 - accuracy: 0.9971 - val_loss: 0.3296 - val_accuracy: 0.8751\n",
      "Epoch 12/20\n",
      "30/30 [==============================] - ETA: 10s - loss: 0.0282 - accuracy: 1.000 - ETA: 5s - loss: 0.0265 - accuracy: 0.999 - ETA: 4s - loss: 0.0277 - accuracy: 0.99 - ETA: 3s - loss: 0.0274 - accuracy: 0.99 - ETA: 2s - loss: 0.0272 - accuracy: 0.99 - ETA: 2s - loss: 0.0266 - accuracy: 0.99 - ETA: 2s - loss: 0.0262 - accuracy: 0.99 - ETA: 1s - loss: 0.0260 - accuracy: 0.99 - ETA: 1s - loss: 0.0257 - accuracy: 0.99 - ETA: 1s - loss: 0.0269 - accuracy: 0.99 - ETA: 1s - loss: 0.0265 - accuracy: 0.99 - ETA: 1s - loss: 0.0263 - accuracy: 0.99 - ETA: 0s - loss: 0.0262 - accuracy: 0.99 - ETA: 0s - loss: 0.0269 - accuracy: 0.99 - ETA: 0s - loss: 0.0267 - accuracy: 0.99 - ETA: 0s - loss: 0.0267 - accuracy: 0.99 - ETA: 0s - loss: 0.0268 - accuracy: 0.99 - ETA: 0s - loss: 0.0267 - accuracy: 0.99 - ETA: 0s - loss: 0.0265 - accuracy: 0.99 - 5s 150ms/step - loss: 0.0263 - accuracy: 0.9987 - val_loss: 0.3461 - val_accuracy: 0.8743\n",
      "Epoch 13/20\n",
      "30/30 [==============================] - ETA: 10s - loss: 0.0168 - accuracy: 1.000 - ETA: 5s - loss: 0.0193 - accuracy: 0.999 - ETA: 4s - loss: 0.0194 - accuracy: 0.99 - ETA: 3s - loss: 0.0203 - accuracy: 0.99 - ETA: 2s - loss: 0.0204 - accuracy: 0.99 - ETA: 2s - loss: 0.0199 - accuracy: 0.99 - ETA: 2s - loss: 0.0200 - accuracy: 0.99 - ETA: 1s - loss: 0.0195 - accuracy: 0.99 - ETA: 1s - loss: 0.0200 - accuracy: 0.99 - ETA: 1s - loss: 0.0194 - accuracy: 0.99 - ETA: 1s - loss: 0.0194 - accuracy: 0.99 - ETA: 1s - loss: 0.0192 - accuracy: 0.99 - ETA: 0s - loss: 0.0192 - accuracy: 0.99 - ETA: 0s - loss: 0.0190 - accuracy: 0.99 - ETA: 0s - loss: 0.0190 - accuracy: 0.99 - ETA: 0s - loss: 0.0188 - accuracy: 0.99 - ETA: 0s - loss: 0.0190 - accuracy: 0.99 - ETA: 0s - loss: 0.0191 - accuracy: 0.99 - ETA: 0s - loss: 0.0199 - accuracy: 0.99 - 5s 150ms/step - loss: 0.0198 - accuracy: 0.9992 - val_loss: 0.3564 - val_accuracy: 0.8731\n",
      "Epoch 14/20\n",
      "30/30 [==============================] - ETA: 12s - loss: 0.0133 - accuracy: 1.000 - ETA: 6s - loss: 0.0135 - accuracy: 1.000 - ETA: 4s - loss: 0.0145 - accuracy: 1.00 - ETA: 3s - loss: 0.0140 - accuracy: 1.00 - ETA: 3s - loss: 0.0142 - accuracy: 0.99 - ETA: 2s - loss: 0.0138 - accuracy: 0.99 - ETA: 2s - loss: 0.0138 - accuracy: 0.99 - ETA: 2s - loss: 0.0139 - accuracy: 0.99 - ETA: 1s - loss: 0.0142 - accuracy: 0.99 - ETA: 1s - loss: 0.0142 - accuracy: 0.99 - ETA: 1s - loss: 0.0150 - accuracy: 0.99 - ETA: 1s - loss: 0.0151 - accuracy: 0.99 - ETA: 0s - loss: 0.0149 - accuracy: 0.99 - ETA: 0s - loss: 0.0147 - accuracy: 0.99 - ETA: 0s - loss: 0.0147 - accuracy: 0.99 - ETA: 0s - loss: 0.0147 - accuracy: 0.99 - ETA: 0s - loss: 0.0147 - accuracy: 0.99 - ETA: 0s - loss: 0.0146 - accuracy: 0.99 - ETA: 0s - loss: 0.0145 - accuracy: 0.99 - 5s 154ms/step - loss: 0.0146 - accuracy: 0.9995 - val_loss: 0.3688 - val_accuracy: 0.8719\n",
      "Epoch 15/20\n",
      "30/30 [==============================] - ETA: 13s - loss: 0.0119 - accuracy: 1.000 - ETA: 7s - loss: 0.0128 - accuracy: 0.999 - ETA: 5s - loss: 0.0120 - accuracy: 0.99 - ETA: 4s - loss: 0.0120 - accuracy: 0.99 - ETA: 3s - loss: 0.0117 - accuracy: 0.99 - ETA: 2s - loss: 0.0112 - accuracy: 0.99 - ETA: 2s - loss: 0.0113 - accuracy: 0.99 - ETA: 2s - loss: 0.0123 - accuracy: 0.99 - ETA: 1s - loss: 0.0120 - accuracy: 0.99 - ETA: 1s - loss: 0.0116 - accuracy: 0.99 - ETA: 1s - loss: 0.0116 - accuracy: 0.99 - ETA: 1s - loss: 0.0115 - accuracy: 0.99 - ETA: 0s - loss: 0.0115 - accuracy: 0.99 - ETA: 0s - loss: 0.0123 - accuracy: 0.99 - ETA: 0s - loss: 0.0124 - accuracy: 0.99 - ETA: 0s - loss: 0.0125 - accuracy: 0.99 - ETA: 0s - loss: 0.0124 - accuracy: 0.99 - ETA: 0s - loss: 0.0123 - accuracy: 0.99 - ETA: 0s - loss: 0.0122 - accuracy: 0.99 - 5s 156ms/step - loss: 0.0120 - accuracy: 0.9996 - val_loss: 0.3830 - val_accuracy: 0.8717\n",
      "Epoch 16/20\n",
      "30/30 [==============================] - ETA: 10s - loss: 0.0085 - accuracy: 1.000 - ETA: 5s - loss: 0.0088 - accuracy: 1.000 - ETA: 4s - loss: 0.0090 - accuracy: 1.00 - ETA: 3s - loss: 0.0087 - accuracy: 1.00 - ETA: 2s - loss: 0.0087 - accuracy: 1.00 - ETA: 2s - loss: 0.0086 - accuracy: 1.00 - ETA: 2s - loss: 0.0089 - accuracy: 1.00 - ETA: 1s - loss: 0.0089 - accuracy: 1.00 - ETA: 1s - loss: 0.0089 - accuracy: 1.00 - ETA: 1s - loss: 0.0087 - accuracy: 1.00 - ETA: 1s - loss: 0.0087 - accuracy: 1.00 - ETA: 1s - loss: 0.0087 - accuracy: 1.00 - ETA: 0s - loss: 0.0091 - accuracy: 0.99 - ETA: 0s - loss: 0.0090 - accuracy: 0.99 - ETA: 0s - loss: 0.0089 - accuracy: 0.99 - ETA: 0s - loss: 0.0089 - accuracy: 0.99 - ETA: 0s - loss: 0.0089 - accuracy: 0.99 - ETA: 0s - loss: 0.0089 - accuracy: 0.99 - ETA: 0s - loss: 0.0090 - accuracy: 0.99 - 5s 150ms/step - loss: 0.0091 - accuracy: 0.9998 - val_loss: 0.3929 - val_accuracy: 0.8705\n",
      "Epoch 17/20\n",
      "30/30 [==============================] - ETA: 11s - loss: 0.0066 - accuracy: 1.000 - ETA: 6s - loss: 0.0072 - accuracy: 1.000 - ETA: 4s - loss: 0.0072 - accuracy: 1.00 - ETA: 3s - loss: 0.0072 - accuracy: 1.00 - ETA: 2s - loss: 0.0074 - accuracy: 1.00 - ETA: 2s - loss: 0.0073 - accuracy: 1.00 - ETA: 2s - loss: 0.0071 - accuracy: 1.00 - ETA: 1s - loss: 0.0072 - accuracy: 1.00 - ETA: 1s - loss: 0.0071 - accuracy: 1.00 - ETA: 1s - loss: 0.0074 - accuracy: 0.99 - ETA: 1s - loss: 0.0073 - accuracy: 0.99 - ETA: 1s - loss: 0.0074 - accuracy: 0.99 - ETA: 0s - loss: 0.0073 - accuracy: 0.99 - ETA: 0s - loss: 0.0072 - accuracy: 0.99 - ETA: 0s - loss: 0.0072 - accuracy: 0.99 - ETA: 0s - loss: 0.0071 - accuracy: 0.99 - ETA: 0s - loss: 0.0071 - accuracy: 0.99 - ETA: 0s - loss: 0.0071 - accuracy: 0.99 - ETA: 0s - loss: 0.0071 - accuracy: 0.99 - 5s 150ms/step - loss: 0.0072 - accuracy: 0.9999 - val_loss: 0.4043 - val_accuracy: 0.8702\n",
      "Epoch 18/20\n",
      "30/30 [==============================] - ETA: 13s - loss: 0.0066 - accuracy: 1.000 - ETA: 7s - loss: 0.0062 - accuracy: 1.000 - ETA: 5s - loss: 0.0060 - accuracy: 1.00 - ETA: 4s - loss: 0.0061 - accuracy: 1.00 - ETA: 3s - loss: 0.0061 - accuracy: 1.00 - ETA: 2s - loss: 0.0059 - accuracy: 1.00 - ETA: 2s - loss: 0.0060 - accuracy: 1.00 - ETA: 2s - loss: 0.0061 - accuracy: 1.00 - ETA: 1s - loss: 0.0060 - accuracy: 1.00 - ETA: 1s - loss: 0.0060 - accuracy: 1.00 - ETA: 1s - loss: 0.0060 - accuracy: 1.00 - ETA: 1s - loss: 0.0070 - accuracy: 0.99 - ETA: 0s - loss: 0.0068 - accuracy: 0.99 - ETA: 0s - loss: 0.0067 - accuracy: 0.99 - ETA: 0s - loss: 0.0066 - accuracy: 0.99 - ETA: 0s - loss: 0.0066 - accuracy: 0.99 - ETA: 0s - loss: 0.0066 - accuracy: 0.99 - ETA: 0s - loss: 0.0065 - accuracy: 0.99 - ETA: 0s - loss: 0.0064 - accuracy: 0.99 - 5s 155ms/step - loss: 0.0063 - accuracy: 0.9999 - val_loss: 0.4147 - val_accuracy: 0.8698\n",
      "Epoch 19/20\n",
      "30/30 [==============================] - ETA: 10s - loss: 0.0052 - accuracy: 1.000 - ETA: 6s - loss: 0.0052 - accuracy: 1.000 - ETA: 4s - loss: 0.0052 - accuracy: 1.00 - ETA: 3s - loss: 0.0050 - accuracy: 1.00 - ETA: 2s - loss: 0.0051 - accuracy: 1.00 - ETA: 2s - loss: 0.0051 - accuracy: 1.00 - ETA: 2s - loss: 0.0051 - accuracy: 1.00 - ETA: 1s - loss: 0.0050 - accuracy: 1.00 - ETA: 1s - loss: 0.0050 - accuracy: 1.00 - ETA: 1s - loss: 0.0049 - accuracy: 1.00 - ETA: 1s - loss: 0.0049 - accuracy: 1.00 - ETA: 1s - loss: 0.0049 - accuracy: 1.00 - ETA: 0s - loss: 0.0050 - accuracy: 1.00 - ETA: 0s - loss: 0.0049 - accuracy: 1.00 - ETA: 0s - loss: 0.0049 - accuracy: 1.00 - ETA: 0s - loss: 0.0049 - accuracy: 1.00 - ETA: 0s - loss: 0.0048 - accuracy: 1.00 - ETA: 0s - loss: 0.0049 - accuracy: 1.00 - ETA: 0s - loss: 0.0049 - accuracy: 1.00 - 5s 150ms/step - loss: 0.0050 - accuracy: 0.9999 - val_loss: 0.4243 - val_accuracy: 0.8689\n",
      "Epoch 20/20\n",
      "30/30 [==============================] - ETA: 12s - loss: 0.0048 - accuracy: 1.000 - ETA: 6s - loss: 0.0042 - accuracy: 1.000 - ETA: 5s - loss: 0.0045 - accuracy: 1.00 - ETA: 3s - loss: 0.0044 - accuracy: 1.00 - ETA: 3s - loss: 0.0043 - accuracy: 1.00 - ETA: 2s - loss: 0.0042 - accuracy: 1.00 - ETA: 2s - loss: 0.0042 - accuracy: 1.00 - ETA: 2s - loss: 0.0042 - accuracy: 1.00 - ETA: 1s - loss: 0.0042 - accuracy: 1.00 - ETA: 1s - loss: 0.0042 - accuracy: 1.00 - ETA: 1s - loss: 0.0042 - accuracy: 1.00 - ETA: 1s - loss: 0.0041 - accuracy: 1.00 - ETA: 0s - loss: 0.0042 - accuracy: 1.00 - ETA: 0s - loss: 0.0041 - accuracy: 1.00 - ETA: 0s - loss: 0.0041 - accuracy: 1.00 - ETA: 0s - loss: 0.0040 - accuracy: 1.00 - ETA: 0s - loss: 0.0041 - accuracy: 1.00 - ETA: 0s - loss: 0.0041 - accuracy: 1.00 - ETA: 0s - loss: 0.0041 - accuracy: 1.00 - 5s 153ms/step - loss: 0.0042 - accuracy: 0.9999 - val_loss: 0.4326 - val_accuracy: 0.8689\n"
     ]
    }
   ],
   "source": [
    "history = model.fit(train_data.shuffle(10000).batch(512),\n",
    "                    epochs=20,\n",
    "                    validation_data=validation_data.batch(512),\n",
    "                    verbose=1)"
   ]
  },
  {
   "cell_type": "code",
   "execution_count": 30,
   "metadata": {},
   "outputs": [
    {
     "name": "stdout",
     "output_type": "stream",
     "text": [
      "49/49 - 3s - loss: 0.4866 - accuracy: 0.8472\n",
      "loss: 0.487\n",
      "accuracy: 0.847\n"
     ]
    }
   ],
   "source": [
    "results = model.evaluate(test_data.batch(512), verbose=2)\n",
    "for name, value in zip(model.metrics_names, results):\n",
    "    print(\"%s: %.3f\" % (name, value))"
   ]
  },
  {
   "cell_type": "code",
   "execution_count": null,
   "metadata": {},
   "outputs": [],
   "source": []
  }
 ],
 "metadata": {
  "kernelspec": {
   "display_name": "Python 3",
   "language": "python",
   "name": "python3"
  },
  "language_info": {
   "codemirror_mode": {
    "name": "ipython",
    "version": 3
   },
   "file_extension": ".py",
   "mimetype": "text/x-python",
   "name": "python",
   "nbconvert_exporter": "python",
   "pygments_lexer": "ipython3",
   "version": "3.6.2"
  }
 },
 "nbformat": 4,
 "nbformat_minor": 2
}
