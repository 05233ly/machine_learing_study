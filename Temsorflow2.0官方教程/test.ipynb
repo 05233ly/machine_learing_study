{
 "cells": [
  {
   "cell_type": "code",
   "execution_count": 1,
   "metadata": {},
   "outputs": [],
   "source": [
    "import os\n",
    "import tensorflow as tf\n",
    "from tensorflow import keras\n",
    "from tensorflow.keras import layers, optimizers, datasets\n",
    "from tensorflow.keras.layers import Dense, Dropout, Flatten\n",
    "from tensorflow.keras.layers import Conv2D, MaxPooling2D\n",
    "import numpy as np\n",
    "\n",
    "def mnist_dataset():\n",
    "    (x, y), (x_test, y_test) = datasets.mnist.load_data()\n",
    "    \n",
    "    ds = tf.data.Dataset.from_tensor_slices((x, y))\n",
    "    ds = ds.map(prepare_mnist_features_and_labels)\n",
    "    ds = ds.take(20000).shuffle(20000).batch(100)\n",
    "    \n",
    "    test_ds = tf.data.Dataset.from_tensor_slices((x_test, y_test))\n",
    "    test_ds = test_ds.map(prepare_mnist_features_and_labels)\n",
    "    test_ds = test_ds.take(20000).shuffle(20000).batch(20000)\n",
    "    return ds, test_ds\n",
    "\n",
    "def prepare_mnist_features_and_labels(x, y):\n",
    "    x = tf.cast(x, tf.float32) / 255.0\n",
    "    y = tf.cast(y, tf.int64)\n",
    "    return x, y"
   ]
  },
  {
   "cell_type": "code",
   "execution_count": 7,
   "metadata": {},
   "outputs": [],
   "source": [
    "model = keras.Sequential([\n",
    "    Flatten(),\n",
    "    layers.Dense(1000, activation='relu'),\n",
    "    layers.Dense(666, activation='relu'), #N*128\n",
    "    layers.Dense(10,activation='softmax')]) #N*10\n",
    "optimizer = optimizers.Adam()"
   ]
  },
  {
   "cell_type": "code",
   "execution_count": 9,
   "metadata": {},
   "outputs": [],
   "source": [
    "model.compile(optimizer=optimizer,\n",
    "              loss='sparse_categorical_crossentropy',\n",
    "              metrics=['accuracy'])\n",
    "train_ds, test_ds = mnist_dataset()"
   ]
  },
  {
   "cell_type": "code",
   "execution_count": 10,
   "metadata": {},
   "outputs": [
    {
     "name": "stdout",
     "output_type": "stream",
     "text": [
      "Epoch 1/5\n",
      "200/200 [==============================] - 2s 11ms/step - loss: 0.3006 - accuracy: 0.9103\n",
      "Epoch 2/5\n",
      "200/200 [==============================] - 2s 9ms/step - loss: 0.1076 - accuracy: 0.9675\n",
      "Epoch 3/5\n",
      "200/200 [==============================] - 2s 8ms/step - loss: 0.0566 - accuracy: 0.9823\n",
      "Epoch 4/5\n",
      "200/200 [==============================] - 2s 8ms/step - loss: 0.0425 - accuracy: 0.9865\n",
      "Epoch 5/5\n",
      "200/200 [==============================] - 2s 8ms/step - loss: 0.0292 - accuracy: 0.9901\n",
      "1/1 [==============================] - 1s 533ms/step - loss: 0.1086 - accuracy: 0.9701\n"
     ]
    },
    {
     "data": {
      "text/plain": [
       "[0.1085866317152977, 0.9701]"
      ]
     },
     "execution_count": 10,
     "metadata": {},
     "output_type": "execute_result"
    }
   ],
   "source": [
    "model.fit(train_ds, epochs=5)\n",
    "model.evaluate(test_ds)"
   ]
  },
  {
   "cell_type": "code",
   "execution_count": null,
   "metadata": {},
   "outputs": [],
   "source": []
  }
 ],
 "metadata": {
  "kernelspec": {
   "display_name": "Python 3",
   "language": "python",
   "name": "python3"
  },
  "language_info": {
   "codemirror_mode": {
    "name": "ipython",
    "version": 3
   },
   "file_extension": ".py",
   "mimetype": "text/x-python",
   "name": "python",
   "nbconvert_exporter": "python",
   "pygments_lexer": "ipython3",
   "version": "3.6.2"
  }
 },
 "nbformat": 4,
 "nbformat_minor": 2
}
