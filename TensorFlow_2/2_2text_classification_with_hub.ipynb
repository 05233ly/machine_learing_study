{
  "nbformat": 4,
  "nbformat_minor": 0,
  "metadata": {
    "colab": {
      "name": "2.2text_classification_with_hub.ipynb",
      "provenance": [],
      "collapsed_sections": [],
      "toc_visible": true,
      "include_colab_link": true
    },
    "kernelspec": {
      "name": "python3",
      "display_name": "Python 3"
    },
    "language_info": {
      "codemirror_mode": {
        "name": "ipython",
        "version": 3
      },
      "file_extension": ".py",
      "mimetype": "text/x-python",
      "name": "python",
      "nbconvert_exporter": "python",
      "pygments_lexer": "ipython3",
      "version": "3.6.2"
    },
    "accelerator": "GPU"
  },
  "cells": [
    {
      "cell_type": "markdown",
      "metadata": {
        "id": "view-in-github",
        "colab_type": "text"
      },
      "source": [
        "<a href=\"https://colab.research.google.com/github/shazhongcheng/machine_learing_study/blob/master/TensorFlow_2/2_2text_classification_with_hub.ipynb\" target=\"_parent\"><img src=\"https://colab.research.google.com/assets/colab-badge.svg\" alt=\"Open In Colab\"/></a>"
      ]
    },
    {
      "cell_type": "markdown",
      "metadata": {
        "colab_type": "text",
        "id": "Ic4_occAAiAT"
      },
      "source": [
        "##### Copyright 2019 The TensorFlow Authors."
      ]
    },
    {
      "cell_type": "code",
      "metadata": {
        "cellView": "form",
        "colab_type": "code",
        "id": "ioaprt5q5US7",
        "colab": {}
      },
      "source": [
        "#@title Licensed under the Apache License, Version 2.0 (the \"License\");\n",
        "# you may not use this file except in compliance with the License.\n",
        "# You may obtain a copy of the License at\n",
        "#\n",
        "# https://www.apache.org/licenses/LICENSE-2.0\n",
        "#\n",
        "# Unless required by applicable law or agreed to in writing, software\n",
        "# distributed under the License is distributed on an \"AS IS\" BASIS,\n",
        "# WITHOUT WARRANTIES OR CONDITIONS OF ANY KIND, either express or implied.\n",
        "# See the License for the specific language governing permissions and\n",
        "# limitations under the License."
      ],
      "execution_count": 0,
      "outputs": []
    },
    {
      "cell_type": "markdown",
      "metadata": {
        "colab_type": "text",
        "id": "ItXfxkxvosLH"
      },
      "source": [
        "# 使用 Keras 和 Tensorflow Hub 对电影评论进行文本分类"
      ]
    },
    {
      "cell_type": "markdown",
      "metadata": {
        "colab_type": "text",
        "id": "hKY4XMc9o8iB"
      },
      "source": [
        "<table class=\"tfo-notebook-buttons\" align=\"left\">\n",
        "  <td>\n",
        "    <a target=\"_blank\" href=\"https://tensorflow.google.cn/tutorials/keras/text_classification_with_hub\"><img src=\"https://tensorflow.google.cn/images/tf_logo_32px.png\" />在 tensorFlow.google.cn 上查看</a>\n",
        "  </td>\n",
        "  <td>\n",
        "    <a target=\"_blank\" href=\"https://colab.research.google.com/github/tensorflow/docs/blob/master/site/zh-cn/tutorials/keras/text_classification_with_hub.ipynb\"><img src=\"https://tensorflow.google.cn/images/colab_logo_32px.png\" />在 Google Colab 中运行</a>\n",
        "  </td>\n",
        "  <td>\n",
        "    <a target=\"_blank\" href=\"https://github.com/tensorflow/docs/blob/master/site/zh-cn/tutorials/keras/text_classification_with_hub.ipynb\"><img src=\"https://tensorflow.google.cn/images/GitHub-Mark-32px.png\" />在 GitHub 上查看源代码</a>\n",
        "  </td>\n",
        "  <td>\n",
        "    <a href=\"https://storage.googleapis.com/tensorflow_docs/docs/site/zh-cn/tutorials/keras/text_classification_with_hub.ipynb\"><img src=\"https://tensorflow.google.cn/images/download_logo_32px.png\" />下载 notebook</a>\n",
        "  </td>\n",
        "</table>"
      ]
    },
    {
      "cell_type": "markdown",
      "metadata": {
        "id": "eDesG2pcNY-E",
        "colab_type": "text"
      },
      "source": [
        "Note: 我们的 TensorFlow 社区翻译了这些文档。因为社区翻译是尽力而为， 所以无法保证它们是最准确的，并且反映了最新的\n",
        "[官方英文文档](https://www.tensorflow.org/?hl=en)。如果您有改进此翻译的建议， 请提交 pull request 到\n",
        "[tensorflow/docs](https://github.com/tensorflow/docs) GitHub 仓库。要志愿地撰写或者审核译文，请加入\n",
        "[docs-zh-cn@tensorflow.org Google Group](https://groups.google.com/a/tensorflow.org/forum/#!forum/docs-zh-cn)。"
      ]
    },
    {
      "cell_type": "markdown",
      "metadata": {
        "colab_type": "text",
        "id": "Eg62Pmz3o83v"
      },
      "source": [
        "\n",
        "此笔记本（notebook）使用评论文本将影评分为*积极（positive）*或*消极（nagetive）*两类。这是一个*二元（binary）*或者二分类问题，一种重要且应用广泛的机器学习问题。\n",
        "\n",
        "本教程演示了使用 Tensorflow Hub 和 Keras 进行迁移学习的基本应用。\n",
        "\n",
        "我们将使用来源于[网络电影数据库（Internet Movie Database）](https://www.imdb.com/)的 [IMDB 数据集（IMDB dataset）](https://www.tensorflow.org/api_docs/python/tf/keras/datasets/imdb)，其包含 50,000 条影评文本。从该数据集切割出的 25,000 条评论用作训练，另外 25,000 条用作测试。训练集与测试集是*平衡的（balanced）*，意味着它们包含相等数量的积极和消极评论。\n",
        "\n",
        "此笔记本（notebook）使用了 [tf.keras](https://www.tensorflow.org/guide/keras)，它是一个 Tensorflow 中用于构建和训练模型的高级API，此外还使用了 [TensorFlow Hub](https://www.tensorflow.org/hub)，一个用于迁移学习的库和平台。有关使用 `tf.keras` 进行文本分类的更高级教程，请参阅 [MLCC文本分类指南（MLCC Text Classification Guide）](https://developers.google.com/machine-learning/guides/text-classification/)。"
      ]
    },
    {
      "cell_type": "code",
      "metadata": {
        "colab_type": "code",
        "id": "2ew7HTbPpCJH",
        "colab": {}
      },
      "source": [
        "from __future__ import absolute_import, division, print_function, unicode_literals\n",
        "\n",
        "import numpy as np\n",
        "\n",
        "try:\n",
        "  # Colab only\n",
        "  %tensorflow_version 2.x\n",
        "except Exception:\n",
        "    pass\n",
        "import tensorflow as tf\n",
        "\n",
        "import tensorflow_hub as hub\n",
        "import tensorflow_datasets as tfds\n",
        "\n",
        "print(\"Version: \", tf.__version__)\n",
        "print(\"Eager mode: \", tf.executing_eagerly())\n",
        "print(\"Hub version: \", hub.__version__)\n",
        "print(\"GPU is\", \"available\" if tf.config.experimental.list_physical_devices(\"GPU\") else \"NOT AVAILABLE\")"
      ],
      "execution_count": 0,
      "outputs": []
    },
    {
      "cell_type": "markdown",
      "metadata": {
        "colab_type": "text",
        "id": "iAsKG535pHep"
      },
      "source": [
        "## 下载 IMDB 数据集\n",
        "IMDB数据集可以在 [Tensorflow 数据集](https://github.com/tensorflow/datasets)处获取。以下代码将 IMDB 数据集下载至您的机器（或 colab 运行时环境）中："
      ]
    },
    {
      "cell_type": "code",
      "metadata": {
        "colab_type": "code",
        "id": "zXXx5Oc3pOmN",
        "colab": {}
      },
      "source": [
        "# 将训练集按照 6:4 的比例进行切割，从而最终我们将得到 15,000\n",
        "# 个训练样本, 10,000 个验证样本以及 25,000 个测试样本\n",
        "train_validation_split = tfds.Split.TRAIN.subsplit([6, 4])\n",
        "\n",
        "(train_data, validation_data), test_data = tfds.load(\n",
        "    name=\"imdb_reviews\", \n",
        "    split=(train_validation_split, tfds.Split.TEST),\n",
        "    as_supervised=True)"
      ],
      "execution_count": 0,
      "outputs": []
    },
    {
      "cell_type": "markdown",
      "metadata": {
        "colab_type": "text",
        "id": "l50X3GfjpU4r"
      },
      "source": [
        "## 探索数据\n",
        "\n",
        "让我们花一点时间来了解数据的格式。每一个样本都是一个表示电影评论和相应标签的句子。该句子不以任何方式进行预处理。标签是一个值为 0 或 1 的整数，其中 0 代表消极评论，1 代表积极评论。\n",
        "\n",
        "我们来打印下前十个样本。"
      ]
    },
    {
      "cell_type": "code",
      "metadata": {
        "colab_type": "code",
        "id": "QtTS4kpEpjbi",
        "colab": {}
      },
      "source": [
        "train_examples_batch, train_labels_batch = next(iter(train_data.batch(10)))\n",
        "train_examples_batch"
      ],
      "execution_count": 0,
      "outputs": []
    },
    {
      "cell_type": "markdown",
      "metadata": {
        "colab_type": "text",
        "id": "IFtaCHTdc-GY"
      },
      "source": [
        "我们再打印下前十个标签。"
      ]
    },
    {
      "cell_type": "code",
      "metadata": {
        "colab_type": "code",
        "id": "tvAjVXOWc6Mj",
        "colab": {}
      },
      "source": [
        "train_labels_batch"
      ],
      "execution_count": 0,
      "outputs": []
    },
    {
      "cell_type": "markdown",
      "metadata": {
        "colab_type": "text",
        "id": "LLC02j2g-llC"
      },
      "source": [
        "## 构建模型\n",
        "\n",
        "神经网络由堆叠的层来构建，这需要从三个主要方面来进行体系结构决策：\n",
        "\n",
        "* 如何表示文本？\n",
        "* 模型里有多少层？\n",
        "* 每个层里有多少*隐层单元（hidden units）*？\n",
        "\n",
        "本示例中，输入数据由句子组成。预测的标签为 0 或 1。\n",
        "\n",
        "表示文本的一种方式是将句子转换为嵌入向量（embeddings vectors）。我们可以使用一个预先训练好的文本嵌入（text embedding）作为首层，这将具有三个优点：\n",
        "\n",
        "* 我们不必担心文本预处理\n",
        "* 我们可以从迁移学习中受益\n",
        "* 嵌入具有固定长度，更易于处理\n",
        "\n",
        "针对此示例我们将使用 [TensorFlow Hub](https://www.tensorflow.org/hub) 中名为 [google/tf2-preview/gnews-swivel-20dim/1](https://tfhub.dev/google/tf2-preview/gnews-swivel-20dim/1) 的一种**预训练文本嵌入（text embedding）模型** 。\n",
        "\n",
        "为了达到本教程的目的还有其他三种预训练模型可供测试：\n",
        "\n",
        "* [google/tf2-preview/gnews-swivel-20dim-with-oov/1](https://tfhub.dev/google/tf2-preview/gnews-swivel-20dim-with-oov/1) ——类似 [google/tf2-preview/gnews-swivel-20dim/1](https://tfhub.dev/google/tf2-preview/gnews-swivel-20dim/1)，但 2.5%的词汇转换为未登录词桶（OOV buckets）。如果任务的词汇与模型的词汇没有完全重叠，这将会有所帮助。\n",
        "* [google/tf2-preview/nnlm-en-dim50/1](https://tfhub.dev/google/tf2-preview/nnlm-en-dim50/1) ——一个拥有约 1M 词汇量且维度为 50 的更大的模型。\n",
        "* [google/tf2-preview/nnlm-en-dim128/1](https://tfhub.dev/google/tf2-preview/nnlm-en-dim128/1) ——拥有约 1M 词汇量且维度为128的更大的模型。"
      ]
    },
    {
      "cell_type": "markdown",
      "metadata": {
        "colab_type": "text",
        "id": "In2nDpTLkgKa"
      },
      "source": [
        "让我们首先创建一个使用 Tensorflow Hub 模型嵌入（embed）语句的Keras层，并在几个输入样本中进行尝试。请注意无论输入文本的长度如何，嵌入（embeddings）输出的形状都是：`(num_examples, embedding_dimension)`。\n"
      ]
    },
    {
      "cell_type": "code",
      "metadata": {
        "colab_type": "code",
        "id": "_NUbzVeYkgcO",
        "colab": {}
      },
      "source": [
        "embedding = \"https://tfhub.dev/google/tf2-preview/gnews-swivel-20dim/1\"\n",
        "hub_layer = hub.KerasLayer(embedding, input_shape=[], \n",
        "                           dtype=tf.string, trainable=True)\n",
        "hub_layer(train_examples_batch[:3])"
      ],
      "execution_count": 0,
      "outputs": []
    },
    {
      "cell_type": "markdown",
      "metadata": {
        "colab_type": "text",
        "id": "dfSbV6igl1EH"
      },
      "source": [
        "现在让我们构建完整模型："
      ]
    },
    {
      "cell_type": "code",
      "metadata": {
        "colab_type": "code",
        "id": "xpKOoWgu-llD",
        "colab": {}
      },
      "source": [
        "model = tf.keras.Sequential()\n",
        "model.add(hub_layer)\n",
        "model.add(tf.keras.layers.Dense(16, activation='relu'))\n",
        "model.add(tf.keras.layers.Dense(1, activation='sigmoid'))\n",
        "\n",
        "model.summary()"
      ],
      "execution_count": 0,
      "outputs": []
    },
    {
      "cell_type": "markdown",
      "metadata": {
        "colab_type": "text",
        "id": "6PbKQ6mucuKL"
      },
      "source": [
        "层按顺序堆叠以构建分类器：\n",
        "\n",
        "1. 第一层是 Tensorflow Hub 层。这一层使用一个预训练的保存好的模型来将句子映射为嵌入向量（embedding vector）。我们所使用的预训练文本嵌入（embedding）模型([google/tf2-preview/gnews-swivel-20dim/1](https://tfhub.dev/google/tf2-preview/gnews-swivel-20dim/1))将句子切割为符号，嵌入（embed）每个符号然后进行合并。最终得到的维度是：`(num_examples, embedding_dimension)`。\n",
        "2. 该定长输出向量通过一个有 16 个隐层单元的全连接层（`Dense`）进行管道传输。\n",
        "3. 最后一层与单个输出结点紧密相连。使用 `Sigmoid` 激活函数，其函数值为介于 0 与 1 之间的浮点数，表示概率或置信水平。\n",
        "\n",
        "让我们编译模型。"
      ]
    },
    {
      "cell_type": "markdown",
      "metadata": {
        "colab_type": "text",
        "id": "L4EqVWg4-llM"
      },
      "source": [
        "### 损失函数与优化器\n",
        "\n",
        "一个模型需要损失函数和优化器来进行训练。由于这是一个二分类问题且模型输出概率值（一个使用 sigmoid 激活函数的单一单元层），我们将使用 `binary_crossentropy` 损失函数。\n",
        "\n",
        "这不是损失函数的唯一选择，例如，您可以选择 `mean_squared_error` 。但是，一般来说 `binary_crossentropy` 更适合处理概率——它能够度量概率分布之间的“距离”，或者在我们的示例中，指的是度量 ground-truth 分布与预测值之间的“距离”。\n",
        "\n",
        "稍后，当我们研究回归问题（例如，预测房价）时，我们将介绍如何使用另一种叫做均方误差的损失函数。\n",
        "\n",
        "现在，配置模型来使用优化器和损失函数："
      ]
    },
    {
      "cell_type": "code",
      "metadata": {
        "colab_type": "code",
        "id": "Mr0GP-cQ-llN",
        "colab": {}
      },
      "source": [
        "model.compile(optimizer='adam',\n",
        "              loss='binary_crossentropy',\n",
        "              metrics=['accuracy'])"
      ],
      "execution_count": 0,
      "outputs": []
    },
    {
      "cell_type": "markdown",
      "metadata": {
        "colab_type": "text",
        "id": "35jv_fzP-llU"
      },
      "source": [
        "## 训练模型\n",
        "\n",
        "以 512 个样本的 mini-batch 大小迭代 20 个 epoch 来训练模型。 这是指对 `x_train` 和 `y_train` 张量中所有样本的的 20 次迭代。在训练过程中，监测来自验证集的 10,000 个样本上的损失值（loss）和准确率（accuracy）："
      ]
    },
    {
      "cell_type": "code",
      "metadata": {
        "colab_type": "code",
        "id": "tXSGrjWZ-llW",
        "colab": {}
      },
      "source": [
        "history = model.fit(train_data.shuffle(10000).batch(512),\n",
        "                    epochs=20,\n",
        "                    validation_data=validation_data.batch(512),\n",
        "                    verbose=1)"
      ],
      "execution_count": 0,
      "outputs": []
    },
    {
      "cell_type": "markdown",
      "metadata": {
        "colab_type": "text",
        "id": "9EEGuDVuzb5r"
      },
      "source": [
        "## 评估模型\n",
        "\n",
        "我们来看下模型的表现如何。将返回两个值。损失值（loss）（一个表示误差的数字，值越低越好）与准确率（accuracy）。"
      ]
    },
    {
      "cell_type": "code",
      "metadata": {
        "colab_type": "code",
        "id": "zOMKywn4zReN",
        "colab": {}
      },
      "source": [
        "results = model.evaluate(test_data.batch(512), verbose=2)\n",
        "for name, value in zip(model.metrics_names, results):\n",
        "  print(\"%s: %.3f\" % (name, value))"
      ],
      "execution_count": 0,
      "outputs": []
    },
    {
      "cell_type": "markdown",
      "metadata": {
        "colab_type": "text",
        "id": "z1iEXVTR0Z2t"
      },
      "source": [
        "这种十分朴素的方法得到了约 87% 的准确率（accuracy）。若采用更好的方法，模型的准确率应当接近 95%。"
      ]
    },
    {
      "cell_type": "markdown",
      "metadata": {
        "colab_type": "text",
        "id": "5KggXVeL-llZ"
      },
      "source": [
        "## 进一步阅读\n",
        "\n",
        "有关使用字符串输入的更一般方法，以及对训练期间准确率（accuracy）和损失值（loss）更详细的分析，请参阅[此处](https://www.tensorflow.org/tutorials/keras/basic_text_classification)。"
      ]
    },
    {
      "cell_type": "markdown",
      "metadata": {
        "id": "0RBiK9J_Wp5r",
        "colab_type": "text"
      },
      "source": [
        "## 尝试LSTM"
      ]
    },
    {
      "cell_type": "code",
      "metadata": {
        "id": "Lw20wJOaWdWT",
        "colab_type": "code",
        "colab": {}
      },
      "source": [
        "embedding = \"https://tfhub.dev/google/tf2-preview/gnews-swivel-20dim/1\"\n",
        "hub_layer = hub.KerasLayer(embedding, input_shape=[], \n",
        "                           dtype=tf.string, trainable=True)\n",
        "hub_layer(train_examples_batch[:3])"
      ],
      "execution_count": 0,
      "outputs": []
    },
    {
      "cell_type": "code",
      "metadata": {
        "id": "muNBH1dfWdwB",
        "colab_type": "code",
        "colab": {}
      },
      "source": [
        "model = tf.keras.Sequential()\n",
        "model.add(hub_layer)\n",
        "model.add(tf.keras.layers.Reshape((-1,1)))\n",
        "model.add(tf.keras.layers.Dropout(0.2))\n",
        "model.add(tf.keras.layers.LSTM(32))\n",
        "model.add(tf.keras.layers.Dropout(0.2))\n",
        "model.add(tf.keras.layers.Dense(1, activation='sigmoid'))\n",
        "\n",
        "model.summary()"
      ],
      "execution_count": 0,
      "outputs": []
    },
    {
      "cell_type": "code",
      "metadata": {
        "id": "mzcsJlmPWd4c",
        "colab_type": "code",
        "colab": {}
      },
      "source": [
        "model.compile(optimizer='adam',\n",
        "              loss='binary_crossentropy',\n",
        "              metrics=['accuracy'])\n",
        "\n",
        "history = model.fit(train_data.shuffle(10000).batch(512),\n",
        "                    epochs=20,\n",
        "                    validation_data=validation_data.batch(512),\n",
        "                    verbose=1)"
      ],
      "execution_count": 0,
      "outputs": []
    },
    {
      "cell_type": "code",
      "metadata": {
        "id": "EG_9CVc-WmMO",
        "colab_type": "code",
        "colab": {}
      },
      "source": [
        "results = model.evaluate(test_data.batch(512), verbose=2)\n",
        "for name, value in zip(model.metrics_names, results):\n",
        "  print(\"%s: %.3f\" % (name, value))"
      ],
      "execution_count": 0,
      "outputs": []
    },
    {
      "cell_type": "markdown",
      "metadata": {
        "colab_type": "text",
        "id": "R0MZNhJtdxiB"
      },
      "source": [
        "## 尝试LSTM增加epoch\n"
      ]
    },
    {
      "cell_type": "code",
      "metadata": {
        "colab_type": "code",
        "id": "79H3AwzGdxiC",
        "colab": {
          "base_uri": "https://localhost:8080/",
          "height": 255
        },
        "outputId": "21181e3b-a8b4-42db-9567-9e240c238348"
      },
      "source": [
        "embedding = \"https://tfhub.dev/google/tf2-preview/gnews-swivel-20dim/1\"\n",
        "hub_layer = hub.KerasLayer(embedding, input_shape=[], \n",
        "                           dtype=tf.string, trainable=True)\n",
        "hub_layer(train_examples_batch[:3])"
      ],
      "execution_count": 25,
      "outputs": [
        {
          "output_type": "execute_result",
          "data": {
            "text/plain": [
              "<tf.Tensor: id=24626, shape=(3, 20), dtype=float32, numpy=\n",
              "array([[ 3.9819887 , -4.4838037 ,  5.177359  , -2.3643482 , -3.2938678 ,\n",
              "        -3.5364532 , -2.4786978 ,  2.5525482 ,  6.688532  , -2.3076782 ,\n",
              "        -1.9807833 ,  1.1315885 , -3.0339816 , -0.7604128 , -5.743445  ,\n",
              "         3.4242578 ,  4.790099  , -4.03061   , -5.992149  , -1.7297493 ],\n",
              "       [ 3.4232912 , -4.230874  ,  4.1488533 , -0.29553518, -6.802391  ,\n",
              "        -2.5163853 , -4.4002395 ,  1.905792  ,  4.7512794 , -0.40538004,\n",
              "        -4.3401685 ,  1.0361497 ,  0.9744097 ,  0.71507156, -6.2657013 ,\n",
              "         0.16533905,  4.560262  , -1.3106939 , -3.1121316 , -2.1338716 ],\n",
              "       [ 3.8508697 , -5.003031  ,  4.8700504 , -0.04324996, -5.893603  ,\n",
              "        -5.2983093 , -4.004676  ,  4.1236343 ,  6.267754  ,  0.11632943,\n",
              "        -3.5934832 ,  0.8023905 ,  0.56146765,  0.9192484 , -7.3066816 ,\n",
              "         2.8202746 ,  6.2000837 , -3.5709393 , -4.564525  , -2.305622  ]],\n",
              "      dtype=float32)>"
            ]
          },
          "metadata": {
            "tags": []
          },
          "execution_count": 25
        }
      ]
    },
    {
      "cell_type": "code",
      "metadata": {
        "colab_type": "code",
        "id": "lSPXaVUkdxiE",
        "colab": {
          "base_uri": "https://localhost:8080/",
          "height": 357
        },
        "outputId": "ddf15423-8146-48b9-8de6-b8af7bbbcd3b"
      },
      "source": [
        "model = tf.keras.Sequential()\n",
        "model.add(hub_layer)\n",
        "model.add(tf.keras.layers.Reshape((-1,1)))\n",
        "model.add(tf.keras.layers.Dropout(0.2))\n",
        "model.add(tf.keras.layers.LSTM(32))\n",
        "model.add(tf.keras.layers.Dropout(0.2))\n",
        "model.add(tf.keras.layers.Dense(1, activation='sigmoid'))\n",
        "\n",
        "model.summary()"
      ],
      "execution_count": 26,
      "outputs": [
        {
          "output_type": "stream",
          "text": [
            "Model: \"sequential_4\"\n",
            "_________________________________________________________________\n",
            "Layer (type)                 Output Shape              Param #   \n",
            "=================================================================\n",
            "keras_layer_5 (KerasLayer)   (None, 20)                400020    \n",
            "_________________________________________________________________\n",
            "reshape_4 (Reshape)          (None, None, 1)           0         \n",
            "_________________________________________________________________\n",
            "dropout_8 (Dropout)          (None, None, 1)           0         \n",
            "_________________________________________________________________\n",
            "lstm (LSTM)                  (None, 32)                4352      \n",
            "_________________________________________________________________\n",
            "dropout_9 (Dropout)          (None, 32)                0         \n",
            "_________________________________________________________________\n",
            "dense_4 (Dense)              (None, 1)                 33        \n",
            "=================================================================\n",
            "Total params: 404,405\n",
            "Trainable params: 404,405\n",
            "Non-trainable params: 0\n",
            "_________________________________________________________________\n"
          ],
          "name": "stdout"
        }
      ]
    },
    {
      "cell_type": "code",
      "metadata": {
        "colab_type": "code",
        "id": "lJjdohuvdxiF",
        "colab": {
          "base_uri": "https://localhost:8080/",
          "height": 1000
        },
        "outputId": "5041d6d2-75a6-4c0d-a3c9-d47d307381cd"
      },
      "source": [
        "model.compile(optimizer='adam',\n",
        "              loss='binary_crossentropy',\n",
        "              metrics=['accuracy'])\n",
        "\n",
        "history = model.fit(train_data.shuffle(10000).batch(512),\n",
        "                    epochs=40,\n",
        "                    validation_data=validation_data.batch(512),\n",
        "                    verbose=1)"
      ],
      "execution_count": 28,
      "outputs": [
        {
          "output_type": "stream",
          "text": [
            "Epoch 1/40\n",
            "30/30 [==============================] - 11s 367ms/step - loss: 0.6954 - accuracy: 0.5245 - val_loss: 0.0000e+00 - val_accuracy: 0.0000e+00\n",
            "Epoch 2/40\n",
            "30/30 [==============================] - 9s 298ms/step - loss: 0.6831 - accuracy: 0.5669 - val_loss: 0.6668 - val_accuracy: 0.6494\n",
            "Epoch 3/40\n",
            "30/30 [==============================] - 9s 291ms/step - loss: 0.6638 - accuracy: 0.6068 - val_loss: 0.6282 - val_accuracy: 0.6653\n",
            "Epoch 4/40\n",
            "30/30 [==============================] - 9s 294ms/step - loss: 0.6330 - accuracy: 0.6485 - val_loss: 0.5795 - val_accuracy: 0.7236\n",
            "Epoch 5/40\n",
            "30/30 [==============================] - 9s 292ms/step - loss: 0.5994 - accuracy: 0.6843 - val_loss: 0.5460 - val_accuracy: 0.7462\n",
            "Epoch 6/40\n",
            "30/30 [==============================] - 9s 295ms/step - loss: 0.5830 - accuracy: 0.7007 - val_loss: 0.5060 - val_accuracy: 0.7650\n",
            "Epoch 7/40\n",
            "30/30 [==============================] - 9s 292ms/step - loss: 0.5485 - accuracy: 0.7320 - val_loss: 0.4836 - val_accuracy: 0.7785\n",
            "Epoch 8/40\n",
            "30/30 [==============================] - 9s 293ms/step - loss: 0.5138 - accuracy: 0.7551 - val_loss: 0.4416 - val_accuracy: 0.8099\n",
            "Epoch 9/40\n",
            "30/30 [==============================] - 9s 295ms/step - loss: 0.4902 - accuracy: 0.7670 - val_loss: 0.4230 - val_accuracy: 0.8124\n",
            "Epoch 10/40\n",
            "30/30 [==============================] - 9s 294ms/step - loss: 0.4589 - accuracy: 0.7905 - val_loss: 0.3978 - val_accuracy: 0.8285\n",
            "Epoch 11/40\n",
            "30/30 [==============================] - 9s 294ms/step - loss: 0.4314 - accuracy: 0.8050 - val_loss: 0.3921 - val_accuracy: 0.8265\n",
            "Epoch 12/40\n",
            "30/30 [==============================] - 9s 296ms/step - loss: 0.4120 - accuracy: 0.8182 - val_loss: 0.3713 - val_accuracy: 0.8373\n",
            "Epoch 13/40\n",
            "30/30 [==============================] - 9s 296ms/step - loss: 0.3901 - accuracy: 0.8289 - val_loss: 0.3617 - val_accuracy: 0.8426\n",
            "Epoch 14/40\n",
            "30/30 [==============================] - 9s 291ms/step - loss: 0.3642 - accuracy: 0.8413 - val_loss: 0.3561 - val_accuracy: 0.8464\n",
            "Epoch 15/40\n",
            "30/30 [==============================] - 9s 295ms/step - loss: 0.3564 - accuracy: 0.8481 - val_loss: 0.3440 - val_accuracy: 0.8526\n",
            "Epoch 16/40\n",
            "30/30 [==============================] - 9s 299ms/step - loss: 0.3423 - accuracy: 0.8552 - val_loss: 0.3388 - val_accuracy: 0.8537\n",
            "Epoch 17/40\n",
            "30/30 [==============================] - 9s 301ms/step - loss: 0.3267 - accuracy: 0.8644 - val_loss: 0.3319 - val_accuracy: 0.8586\n",
            "Epoch 18/40\n",
            "30/30 [==============================] - 9s 294ms/step - loss: 0.3177 - accuracy: 0.8686 - val_loss: 0.3356 - val_accuracy: 0.8556\n",
            "Epoch 19/40\n",
            "30/30 [==============================] - 9s 307ms/step - loss: 0.3041 - accuracy: 0.8773 - val_loss: 0.3273 - val_accuracy: 0.8629\n",
            "Epoch 20/40\n",
            "30/30 [==============================] - 9s 294ms/step - loss: 0.3052 - accuracy: 0.8734 - val_loss: 0.3221 - val_accuracy: 0.8620\n",
            "Epoch 21/40\n",
            "30/30 [==============================] - 9s 292ms/step - loss: 0.2837 - accuracy: 0.8833 - val_loss: 0.3166 - val_accuracy: 0.8669\n",
            "Epoch 22/40\n",
            "30/30 [==============================] - 9s 299ms/step - loss: 0.2842 - accuracy: 0.8868 - val_loss: 0.3157 - val_accuracy: 0.8682\n",
            "Epoch 23/40\n",
            "30/30 [==============================] - 9s 298ms/step - loss: 0.2758 - accuracy: 0.8893 - val_loss: 0.3145 - val_accuracy: 0.8690\n",
            "Epoch 24/40\n",
            "30/30 [==============================] - 9s 295ms/step - loss: 0.2658 - accuracy: 0.8919 - val_loss: 0.3107 - val_accuracy: 0.8690\n",
            "Epoch 25/40\n",
            "30/30 [==============================] - 9s 292ms/step - loss: 0.2583 - accuracy: 0.8957 - val_loss: 0.3100 - val_accuracy: 0.8699\n",
            "Epoch 26/40\n",
            "30/30 [==============================] - 9s 299ms/step - loss: 0.2591 - accuracy: 0.8970 - val_loss: 0.3105 - val_accuracy: 0.8717\n",
            "Epoch 27/40\n",
            "30/30 [==============================] - 9s 299ms/step - loss: 0.2437 - accuracy: 0.9028 - val_loss: 0.3128 - val_accuracy: 0.8717\n",
            "Epoch 28/40\n",
            "30/30 [==============================] - 9s 297ms/step - loss: 0.2429 - accuracy: 0.9051 - val_loss: 0.3153 - val_accuracy: 0.8683\n",
            "Epoch 29/40\n",
            "30/30 [==============================] - 9s 304ms/step - loss: 0.2322 - accuracy: 0.9059 - val_loss: 0.3073 - val_accuracy: 0.8753\n",
            "Epoch 30/40\n",
            "30/30 [==============================] - 10s 320ms/step - loss: 0.2277 - accuracy: 0.9113 - val_loss: 0.3069 - val_accuracy: 0.8750\n",
            "Epoch 31/40\n",
            "30/30 [==============================] - 10s 323ms/step - loss: 0.2251 - accuracy: 0.9142 - val_loss: 0.3066 - val_accuracy: 0.8745\n",
            "Epoch 32/40\n",
            "30/30 [==============================] - 9s 312ms/step - loss: 0.2210 - accuracy: 0.9140 - val_loss: 0.3140 - val_accuracy: 0.8715\n",
            "Epoch 33/40\n",
            "30/30 [==============================] - 10s 327ms/step - loss: 0.2111 - accuracy: 0.9178 - val_loss: 0.3080 - val_accuracy: 0.8738\n",
            "Epoch 34/40\n",
            "30/30 [==============================] - 10s 324ms/step - loss: 0.2089 - accuracy: 0.9201 - val_loss: 0.3188 - val_accuracy: 0.8702\n",
            "Epoch 35/40\n",
            "30/30 [==============================] - 9s 313ms/step - loss: 0.2029 - accuracy: 0.9223 - val_loss: 0.3106 - val_accuracy: 0.8776\n",
            "Epoch 36/40\n",
            "30/30 [==============================] - 9s 311ms/step - loss: 0.2017 - accuracy: 0.9232 - val_loss: 0.3117 - val_accuracy: 0.8782\n",
            "Epoch 37/40\n",
            "30/30 [==============================] - 9s 309ms/step - loss: 0.1936 - accuracy: 0.9265 - val_loss: 0.3116 - val_accuracy: 0.8781\n",
            "Epoch 38/40\n",
            "30/30 [==============================] - 9s 302ms/step - loss: 0.1884 - accuracy: 0.9285 - val_loss: 0.3132 - val_accuracy: 0.8780\n",
            "Epoch 39/40\n",
            "30/30 [==============================] - 9s 303ms/step - loss: 0.1856 - accuracy: 0.9291 - val_loss: 0.3182 - val_accuracy: 0.8746\n",
            "Epoch 40/40\n",
            "30/30 [==============================] - 10s 323ms/step - loss: 0.1853 - accuracy: 0.9313 - val_loss: 0.3173 - val_accuracy: 0.8765\n"
          ],
          "name": "stdout"
        }
      ]
    },
    {
      "cell_type": "code",
      "metadata": {
        "colab_type": "code",
        "id": "pwmkPwJ0dxiH",
        "colab": {
          "base_uri": "https://localhost:8080/",
          "height": 68
        },
        "outputId": "c35cdb56-c03a-4c25-ec67-f405d399b1bf"
      },
      "source": [
        "results = model.evaluate(test_data.batch(512), verbose=2)\n",
        "for name, value in zip(model.metrics_names, results):\n",
        "  print(\"%s: %.3f\" % (name, value))"
      ],
      "execution_count": 29,
      "outputs": [
        {
          "output_type": "stream",
          "text": [
            "49/49 - 6s - loss: 0.3349 - accuracy: 0.8676\n",
            "loss: 0.335\n",
            "accuracy: 0.868\n"
          ],
          "name": "stdout"
        }
      ]
    },
    {
      "cell_type": "markdown",
      "metadata": {
        "colab_type": "text",
        "id": "QQEITO8JZs9O"
      },
      "source": [
        "## 尝试LSTM2"
      ]
    },
    {
      "cell_type": "code",
      "metadata": {
        "colab_type": "code",
        "id": "RDq-f76rZs9P",
        "colab": {}
      },
      "source": [
        "embedding = \"https://tfhub.dev/google/tf2-preview/nnlm-en-dim128/1\"\n",
        "hub_layer = hub.KerasLayer(embedding, input_shape=[], \n",
        "                           dtype=tf.string, trainable=True)\n",
        "hub_layer(train_examples_batch[:3])"
      ],
      "execution_count": 0,
      "outputs": []
    },
    {
      "cell_type": "code",
      "metadata": {
        "colab_type": "code",
        "id": "H2aNqAIAZs9R",
        "colab": {}
      },
      "source": [
        "model = tf.keras.Sequential()\n",
        "model.add(hub_layer)\n",
        "model.add(tf.keras.layers.Reshape((-1,1)))\n",
        "model.add(tf.keras.layers.Dropout(0.5))\n",
        "model.add(tf.keras.layers.LSTM(32))\n",
        "model.add(tf.keras.layers.Dropout(0.5))\n",
        "model.add(tf.keras.layers.Dense(1, activation='sigmoid'))\n",
        "\n",
        "model.summary()"
      ],
      "execution_count": 0,
      "outputs": []
    },
    {
      "cell_type": "code",
      "metadata": {
        "colab_type": "code",
        "id": "thzSx0JDZs9T",
        "colab": {}
      },
      "source": [
        "model.compile(optimizer='adam',\n",
        "              loss='binary_crossentropy',\n",
        "              metrics=['accuracy'])\n",
        "\n",
        "history = model.fit(train_data.shuffle(10000).batch(512),\n",
        "                    epochs=20,\n",
        "                    validation_data=validation_data.batch(512),\n",
        "                    verbose=1)"
      ],
      "execution_count": 0,
      "outputs": []
    },
    {
      "cell_type": "code",
      "metadata": {
        "colab_type": "code",
        "id": "cAJ08nN8Zs9V",
        "colab": {}
      },
      "source": [
        "results = model.evaluate(test_data.batch(512), verbose=2)\n",
        "for name, value in zip(model.metrics_names, results):\n",
        "  print(\"%s: %.3f\" % (name, value))"
      ],
      "execution_count": 0,
      "outputs": []
    },
    {
      "cell_type": "markdown",
      "metadata": {
        "colab_type": "text",
        "id": "SdICVFnIcx8Z"
      },
      "source": [
        "## 尝试GRU"
      ]
    },
    {
      "cell_type": "code",
      "metadata": {
        "colab_type": "code",
        "id": "10KTsBcxcx8a",
        "colab": {}
      },
      "source": [
        "embedding = \"https://tfhub.dev/google/tf2-preview/nnlm-en-dim128/1\"\n",
        "hub_layer = hub.KerasLayer(embedding, input_shape=[], \n",
        "                           dtype=tf.string, trainable=True)\n",
        "# hub_layer(train_examples_batch[:3])"
      ],
      "execution_count": 0,
      "outputs": []
    },
    {
      "cell_type": "code",
      "metadata": {
        "colab_type": "code",
        "id": "3kpBwM0ocx8c",
        "colab": {
          "base_uri": "https://localhost:8080/",
          "height": 357
        },
        "outputId": "89412ad4-b2f5-41f9-8be5-92b8e2da019b"
      },
      "source": [
        "model = tf.keras.Sequential()\n",
        "model.add(hub_layer)\n",
        "model.add(tf.keras.layers.Reshape((-1,1)))\n",
        "model.add(tf.keras.layers.Dropout(0.5))\n",
        "model.add(tf.keras.layers.GRU(16))\n",
        "model.add(tf.keras.layers.Dropout(0.5))\n",
        "model.add(tf.keras.layers.Dense(1, activation='sigmoid'))\n",
        "\n",
        "model.summary()"
      ],
      "execution_count": 38,
      "outputs": [
        {
          "output_type": "stream",
          "text": [
            "Model: \"sequential_5\"\n",
            "_________________________________________________________________\n",
            "Layer (type)                 Output Shape              Param #   \n",
            "=================================================================\n",
            "keras_layer_5 (KerasLayer)   (None, 128)               124642688 \n",
            "_________________________________________________________________\n",
            "reshape_2 (Reshape)          (None, None, 1)           0         \n",
            "_________________________________________________________________\n",
            "dropout_4 (Dropout)          (None, None, 1)           0         \n",
            "_________________________________________________________________\n",
            "gru (GRU)                    (None, 16)                912       \n",
            "_________________________________________________________________\n",
            "dropout_5 (Dropout)          (None, 16)                0         \n",
            "_________________________________________________________________\n",
            "dense_8 (Dense)              (None, 1)                 17        \n",
            "=================================================================\n",
            "Total params: 124,643,617\n",
            "Trainable params: 124,643,617\n",
            "Non-trainable params: 0\n",
            "_________________________________________________________________\n"
          ],
          "name": "stdout"
        }
      ]
    },
    {
      "cell_type": "code",
      "metadata": {
        "colab_type": "code",
        "id": "FdNNus54cx8d",
        "colab": {
          "base_uri": "https://localhost:8080/",
          "height": 697
        },
        "outputId": "0deb235c-b46c-4df3-ac82-2d2f10419d83"
      },
      "source": [
        "model.compile(optimizer='adam',\n",
        "              loss='binary_crossentropy',\n",
        "              metrics=['accuracy'])\n",
        "\n",
        "history = model.fit(train_data.shuffle(10000).batch(512),\n",
        "                    epochs=20,\n",
        "                    validation_data=validation_data.batch(512),\n",
        "                    verbose=1)"
      ],
      "execution_count": 39,
      "outputs": [
        {
          "output_type": "stream",
          "text": [
            "Epoch 1/20\n",
            "30/30 [==============================] - 14s 464ms/step - loss: 0.6926 - accuracy: 0.5092 - val_loss: 0.0000e+00 - val_accuracy: 0.0000e+00\n",
            "Epoch 2/20\n",
            "30/30 [==============================] - 12s 383ms/step - loss: 0.6874 - accuracy: 0.6049 - val_loss: 0.6773 - val_accuracy: 0.7058\n",
            "Epoch 3/20\n",
            "30/30 [==============================] - 12s 392ms/step - loss: 0.6591 - accuracy: 0.7137 - val_loss: 0.6000 - val_accuracy: 0.7535\n",
            "Epoch 4/20\n",
            "30/30 [==============================] - 12s 385ms/step - loss: 0.5309 - accuracy: 0.7793 - val_loss: 0.4032 - val_accuracy: 0.8349\n",
            "Epoch 5/20\n",
            "30/30 [==============================] - 12s 389ms/step - loss: 0.3707 - accuracy: 0.8626 - val_loss: 0.3459 - val_accuracy: 0.8574\n",
            "Epoch 6/20\n",
            "30/30 [==============================] - 11s 382ms/step - loss: 0.2773 - accuracy: 0.9063 - val_loss: 0.3180 - val_accuracy: 0.8684\n",
            "Epoch 7/20\n",
            "30/30 [==============================] - 12s 384ms/step - loss: 0.2145 - accuracy: 0.9324 - val_loss: 0.3526 - val_accuracy: 0.8602\n",
            "Epoch 8/20\n",
            "30/30 [==============================] - 12s 392ms/step - loss: 0.1763 - accuracy: 0.9460 - val_loss: 0.3301 - val_accuracy: 0.8717\n",
            "Epoch 9/20\n",
            "30/30 [==============================] - 12s 387ms/step - loss: 0.1486 - accuracy: 0.9558 - val_loss: 0.3569 - val_accuracy: 0.8670\n",
            "Epoch 10/20\n",
            "30/30 [==============================] - 12s 386ms/step - loss: 0.1171 - accuracy: 0.9689 - val_loss: 0.3707 - val_accuracy: 0.8681\n",
            "Epoch 11/20\n",
            "30/30 [==============================] - 12s 385ms/step - loss: 0.1000 - accuracy: 0.9751 - val_loss: 0.4100 - val_accuracy: 0.8655\n",
            "Epoch 12/20\n",
            "30/30 [==============================] - 11s 380ms/step - loss: 0.0834 - accuracy: 0.9790 - val_loss: 0.3890 - val_accuracy: 0.8703\n",
            "Epoch 13/20\n",
            "30/30 [==============================] - 12s 388ms/step - loss: 0.0708 - accuracy: 0.9838 - val_loss: 0.4353 - val_accuracy: 0.8668\n",
            "Epoch 14/20\n",
            "30/30 [==============================] - 12s 388ms/step - loss: 0.0589 - accuracy: 0.9858 - val_loss: 0.4419 - val_accuracy: 0.8681\n",
            "Epoch 15/20\n",
            "30/30 [==============================] - 11s 383ms/step - loss: 0.0547 - accuracy: 0.9875 - val_loss: 0.5088 - val_accuracy: 0.8630\n",
            "Epoch 16/20\n",
            "30/30 [==============================] - 12s 386ms/step - loss: 0.0484 - accuracy: 0.9883 - val_loss: 0.5255 - val_accuracy: 0.8626\n",
            "Epoch 17/20\n",
            "30/30 [==============================] - 12s 390ms/step - loss: 0.0426 - accuracy: 0.9905 - val_loss: 0.5210 - val_accuracy: 0.8649\n",
            "Epoch 18/20\n",
            "30/30 [==============================] - 12s 388ms/step - loss: 0.0394 - accuracy: 0.9917 - val_loss: 0.5669 - val_accuracy: 0.8598\n",
            "Epoch 19/20\n",
            "30/30 [==============================] - 12s 388ms/step - loss: 0.0323 - accuracy: 0.9937 - val_loss: 0.5539 - val_accuracy: 0.8619\n",
            "Epoch 20/20\n",
            "30/30 [==============================] - 12s 391ms/step - loss: 0.0260 - accuracy: 0.9947 - val_loss: 0.5319 - val_accuracy: 0.8664\n"
          ],
          "name": "stdout"
        }
      ]
    },
    {
      "cell_type": "code",
      "metadata": {
        "colab_type": "code",
        "id": "Fj60vMTRcx8g",
        "colab": {
          "base_uri": "https://localhost:8080/",
          "height": 68
        },
        "outputId": "f99e25e0-115c-4aba-9bb1-d57393fb95b1"
      },
      "source": [
        "results = model.evaluate(test_data.batch(512), verbose=2)\n",
        "for name, value in zip(model.metrics_names, results):\n",
        "  print(\"%s: %.3f\" % (name, value))"
      ],
      "execution_count": 40,
      "outputs": [
        {
          "output_type": "stream",
          "text": [
            "49/49 - 6s - loss: 0.5893 - accuracy: 0.8501\n",
            "loss: 0.589\n",
            "accuracy: 0.850\n"
          ],
          "name": "stdout"
        }
      ]
    },
    {
      "cell_type": "markdown",
      "metadata": {
        "colab_type": "text",
        "id": "RBYu0mM5fS_p"
      },
      "source": [
        "## 尝试GRU2"
      ]
    },
    {
      "cell_type": "code",
      "metadata": {
        "colab_type": "code",
        "id": "c-CZLKgvfS_q",
        "colab": {}
      },
      "source": [
        "embedding = \"https://tfhub.dev/google/tf2-preview/nnlm-en-dim128/1\"\n",
        "hub_layer = hub.KerasLayer(embedding, input_shape=[], \n",
        "                           dtype=tf.string, trainable=True)\n",
        "# hub_layer(train_examples_batch[:3])"
      ],
      "execution_count": 0,
      "outputs": []
    },
    {
      "cell_type": "code",
      "metadata": {
        "colab_type": "code",
        "outputId": "32da352d-b3b1-4d84-8e91-13aa41fcb951",
        "id": "ikmH1FAtfS_s",
        "colab": {
          "base_uri": "https://localhost:8080/",
          "height": 357
        }
      },
      "source": [
        "model = tf.keras.Sequential()\n",
        "model.add(hub_layer)\n",
        "model.add(tf.keras.layers.Reshape((-1,1)))\n",
        "model.add(tf.keras.layers.Dropout(0.5))\n",
        "model.add(tf.keras.layers.GRU(8))\n",
        "model.add(tf.keras.layers.Dropout(0.5))\n",
        "model.add(tf.keras.layers.Dense(1, activation='sigmoid'))\n",
        "\n",
        "model.summary()"
      ],
      "execution_count": 42,
      "outputs": [
        {
          "output_type": "stream",
          "text": [
            "Model: \"sequential_6\"\n",
            "_________________________________________________________________\n",
            "Layer (type)                 Output Shape              Param #   \n",
            "=================================================================\n",
            "keras_layer_6 (KerasLayer)   (None, 128)               124642688 \n",
            "_________________________________________________________________\n",
            "reshape_3 (Reshape)          (None, None, 1)           0         \n",
            "_________________________________________________________________\n",
            "dropout_6 (Dropout)          (None, None, 1)           0         \n",
            "_________________________________________________________________\n",
            "gru_1 (GRU)                  (None, 8)                 264       \n",
            "_________________________________________________________________\n",
            "dropout_7 (Dropout)          (None, 8)                 0         \n",
            "_________________________________________________________________\n",
            "dense_9 (Dense)              (None, 1)                 9         \n",
            "=================================================================\n",
            "Total params: 124,642,961\n",
            "Trainable params: 124,642,961\n",
            "Non-trainable params: 0\n",
            "_________________________________________________________________\n"
          ],
          "name": "stdout"
        }
      ]
    },
    {
      "cell_type": "code",
      "metadata": {
        "colab_type": "code",
        "outputId": "bd657a03-e214-461e-d900-0b5e673cc4f9",
        "id": "CTWcMQpWfS_u",
        "colab": {
          "base_uri": "https://localhost:8080/",
          "height": 697
        }
      },
      "source": [
        "model.compile(optimizer='adam',\n",
        "              loss='binary_crossentropy',\n",
        "              metrics=['accuracy'])\n",
        "\n",
        "history = model.fit(train_data.shuffle(10000).batch(512),\n",
        "                    epochs=20,\n",
        "                    validation_data=validation_data.batch(512),\n",
        "                    verbose=1)"
      ],
      "execution_count": 43,
      "outputs": [
        {
          "output_type": "stream",
          "text": [
            "Epoch 1/20\n",
            "30/30 [==============================] - 14s 471ms/step - loss: 0.6932 - accuracy: 0.5033 - val_loss: 0.0000e+00 - val_accuracy: 0.0000e+00\n",
            "Epoch 2/20\n",
            "30/30 [==============================] - 12s 388ms/step - loss: 0.6907 - accuracy: 0.5517 - val_loss: 0.6874 - val_accuracy: 0.6538\n",
            "Epoch 3/20\n",
            "30/30 [==============================] - 12s 391ms/step - loss: 0.6831 - accuracy: 0.6292 - val_loss: 0.6750 - val_accuracy: 0.7329\n",
            "Epoch 4/20\n",
            "30/30 [==============================] - 12s 393ms/step - loss: 0.6637 - accuracy: 0.7049 - val_loss: 0.6448 - val_accuracy: 0.7674\n",
            "Epoch 5/20\n",
            "30/30 [==============================] - 12s 394ms/step - loss: 0.6227 - accuracy: 0.7551 - val_loss: 0.5807 - val_accuracy: 0.7892\n",
            "Epoch 6/20\n",
            "30/30 [==============================] - 12s 395ms/step - loss: 0.5422 - accuracy: 0.7953 - val_loss: 0.4743 - val_accuracy: 0.8126\n",
            "Epoch 7/20\n",
            "30/30 [==============================] - 12s 392ms/step - loss: 0.4394 - accuracy: 0.8365 - val_loss: 0.3755 - val_accuracy: 0.8446\n",
            "Epoch 8/20\n",
            "30/30 [==============================] - 12s 390ms/step - loss: 0.3402 - accuracy: 0.8786 - val_loss: 0.3251 - val_accuracy: 0.8643\n",
            "Epoch 9/20\n",
            "30/30 [==============================] - 12s 390ms/step - loss: 0.2710 - accuracy: 0.9082 - val_loss: 0.3180 - val_accuracy: 0.8722\n",
            "Epoch 10/20\n",
            "30/30 [==============================] - 12s 394ms/step - loss: 0.2239 - accuracy: 0.9297 - val_loss: 0.3119 - val_accuracy: 0.8747\n",
            "Epoch 11/20\n",
            "30/30 [==============================] - 12s 386ms/step - loss: 0.1855 - accuracy: 0.9462 - val_loss: 0.3266 - val_accuracy: 0.8731\n",
            "Epoch 12/20\n",
            "30/30 [==============================] - 12s 398ms/step - loss: 0.1530 - accuracy: 0.9543 - val_loss: 0.3543 - val_accuracy: 0.8684\n",
            "Epoch 13/20\n",
            "30/30 [==============================] - 12s 393ms/step - loss: 0.1338 - accuracy: 0.9637 - val_loss: 0.3625 - val_accuracy: 0.8703\n",
            "Epoch 14/20\n",
            "30/30 [==============================] - 12s 388ms/step - loss: 0.1150 - accuracy: 0.9711 - val_loss: 0.3894 - val_accuracy: 0.8676\n",
            "Epoch 15/20\n",
            "30/30 [==============================] - 12s 394ms/step - loss: 0.1006 - accuracy: 0.9763 - val_loss: 0.4015 - val_accuracy: 0.8663\n",
            "Epoch 16/20\n",
            "30/30 [==============================] - 12s 392ms/step - loss: 0.0906 - accuracy: 0.9775 - val_loss: 0.4316 - val_accuracy: 0.8614\n",
            "Epoch 17/20\n",
            "30/30 [==============================] - 12s 398ms/step - loss: 0.0872 - accuracy: 0.9793 - val_loss: 0.4243 - val_accuracy: 0.8652\n",
            "Epoch 18/20\n",
            "30/30 [==============================] - 12s 399ms/step - loss: 0.0737 - accuracy: 0.9829 - val_loss: 0.4349 - val_accuracy: 0.8676\n",
            "Epoch 19/20\n",
            "30/30 [==============================] - 12s 393ms/step - loss: 0.0722 - accuracy: 0.9847 - val_loss: 0.4507 - val_accuracy: 0.8659\n",
            "Epoch 20/20\n",
            "30/30 [==============================] - 12s 394ms/step - loss: 0.0612 - accuracy: 0.9873 - val_loss: 0.4856 - val_accuracy: 0.8623\n"
          ],
          "name": "stdout"
        }
      ]
    },
    {
      "cell_type": "code",
      "metadata": {
        "colab_type": "code",
        "id": "lSEWSRztfS_w",
        "colab": {
          "base_uri": "https://localhost:8080/",
          "height": 68
        },
        "outputId": "d03d4244-75b3-413d-d5ff-aa716d5caa32"
      },
      "source": [
        "results = model.evaluate(test_data.batch(512), verbose=2)\n",
        "for name, value in zip(model.metrics_names, results):\n",
        "  print(\"%s: %.3f\" % (name, value))"
      ],
      "execution_count": 44,
      "outputs": [
        {
          "output_type": "stream",
          "text": [
            "49/49 - 6s - loss: 0.5427 - accuracy: 0.8462\n",
            "loss: 0.543\n",
            "accuracy: 0.846\n"
          ],
          "name": "stdout"
        }
      ]
    },
    {
      "cell_type": "markdown",
      "metadata": {
        "colab_type": "text",
        "id": "tLsttqrlfkcK"
      },
      "source": [
        "## 回归原始"
      ]
    },
    {
      "cell_type": "code",
      "metadata": {
        "colab_type": "code",
        "id": "7c3yoBT6fkcL",
        "colab": {}
      },
      "source": [
        "embedding = \"https://tfhub.dev/google/tf2-preview/nnlm-en-dim128/1\"\n",
        "hub_layer = hub.KerasLayer(embedding, input_shape=[], \n",
        "                           dtype=tf.string, trainable=True)\n",
        "# hub_layer(train_examples_batch[:3])"
      ],
      "execution_count": 0,
      "outputs": []
    },
    {
      "cell_type": "code",
      "metadata": {
        "colab_type": "code",
        "id": "3QGaVr5ffkcN",
        "colab": {
          "base_uri": "https://localhost:8080/",
          "height": 323
        },
        "outputId": "6d734048-e729-4dac-bfb6-0bdf4f461574"
      },
      "source": [
        "model = tf.keras.Sequential()\n",
        "model.add(hub_layer)\n",
        "model.add(tf.keras.layers.Dropout(0.5))\n",
        "model.add(tf.keras.layers.Dense(16, activation='relu'))\n",
        "model.add(tf.keras.layers.Dropout(0.5))\n",
        "model.add(tf.keras.layers.Dense(1, activation='sigmoid'))\n",
        "\n",
        "model.summary()"
      ],
      "execution_count": 50,
      "outputs": [
        {
          "output_type": "stream",
          "text": [
            "Model: \"sequential_9\"\n",
            "_________________________________________________________________\n",
            "Layer (type)                 Output Shape              Param #   \n",
            "=================================================================\n",
            "keras_layer_8 (KerasLayer)   (None, 128)               124642688 \n",
            "_________________________________________________________________\n",
            "dropout_11 (Dropout)         (None, 128)               0         \n",
            "_________________________________________________________________\n",
            "dense_14 (Dense)             (None, 16)                2064      \n",
            "_________________________________________________________________\n",
            "dropout_12 (Dropout)         (None, 16)                0         \n",
            "_________________________________________________________________\n",
            "dense_15 (Dense)             (None, 1)                 17        \n",
            "=================================================================\n",
            "Total params: 124,644,769\n",
            "Trainable params: 124,644,769\n",
            "Non-trainable params: 0\n",
            "_________________________________________________________________\n"
          ],
          "name": "stdout"
        }
      ]
    },
    {
      "cell_type": "code",
      "metadata": {
        "colab_type": "code",
        "id": "GfD1OMfCfkcO",
        "colab": {
          "base_uri": "https://localhost:8080/",
          "height": 697
        },
        "outputId": "7f39f2b1-a979-4d5c-90fb-afebfaa2b68b"
      },
      "source": [
        "model.compile(optimizer='adam',\n",
        "              loss='binary_crossentropy',\n",
        "              metrics=['accuracy'])\n",
        "\n",
        "history = model.fit(train_data.shuffle(10000).batch(512),\n",
        "                    epochs=20,\n",
        "                    validation_data=validation_data.batch(512),\n",
        "                    verbose=1)"
      ],
      "execution_count": 51,
      "outputs": [
        {
          "output_type": "stream",
          "text": [
            "Epoch 1/20\n",
            "30/30 [==============================] - 13s 426ms/step - loss: 0.6813 - accuracy: 0.5595 - val_loss: 0.0000e+00 - val_accuracy: 0.0000e+00\n",
            "Epoch 2/20\n",
            "30/30 [==============================] - 12s 384ms/step - loss: 0.6230 - accuracy: 0.6794 - val_loss: 0.5178 - val_accuracy: 0.7840\n",
            "Epoch 3/20\n",
            "30/30 [==============================] - 12s 389ms/step - loss: 0.4997 - accuracy: 0.7803 - val_loss: 0.4012 - val_accuracy: 0.8421\n",
            "Epoch 4/20\n",
            "30/30 [==============================] - 11s 382ms/step - loss: 0.3851 - accuracy: 0.8489 - val_loss: 0.3364 - val_accuracy: 0.8633\n",
            "Epoch 5/20\n",
            "30/30 [==============================] - 12s 389ms/step - loss: 0.3044 - accuracy: 0.8902 - val_loss: 0.3123 - val_accuracy: 0.8694\n",
            "Epoch 6/20\n",
            "30/30 [==============================] - 12s 397ms/step - loss: 0.2493 - accuracy: 0.9164 - val_loss: 0.2948 - val_accuracy: 0.8764\n",
            "Epoch 7/20\n",
            "30/30 [==============================] - 12s 411ms/step - loss: 0.1974 - accuracy: 0.9374 - val_loss: 0.2892 - val_accuracy: 0.8802\n",
            "Epoch 8/20\n",
            "30/30 [==============================] - 11s 381ms/step - loss: 0.1571 - accuracy: 0.9516 - val_loss: 0.2923 - val_accuracy: 0.8789\n",
            "Epoch 9/20\n",
            "30/30 [==============================] - 12s 384ms/step - loss: 0.1316 - accuracy: 0.9614 - val_loss: 0.3017 - val_accuracy: 0.8797\n",
            "Epoch 10/20\n",
            "30/30 [==============================] - 12s 386ms/step - loss: 0.1073 - accuracy: 0.9713 - val_loss: 0.3129 - val_accuracy: 0.8788\n",
            "Epoch 11/20\n",
            "30/30 [==============================] - 12s 391ms/step - loss: 0.0881 - accuracy: 0.9787 - val_loss: 0.3281 - val_accuracy: 0.8751\n",
            "Epoch 12/20\n",
            "30/30 [==============================] - 12s 396ms/step - loss: 0.0745 - accuracy: 0.9820 - val_loss: 0.3420 - val_accuracy: 0.8769\n",
            "Epoch 13/20\n",
            "30/30 [==============================] - 12s 394ms/step - loss: 0.0610 - accuracy: 0.9871 - val_loss: 0.3599 - val_accuracy: 0.8768\n",
            "Epoch 14/20\n",
            "30/30 [==============================] - 12s 384ms/step - loss: 0.0525 - accuracy: 0.9875 - val_loss: 0.3796 - val_accuracy: 0.8759\n",
            "Epoch 15/20\n",
            "30/30 [==============================] - 12s 391ms/step - loss: 0.0468 - accuracy: 0.9903 - val_loss: 0.3947 - val_accuracy: 0.8754\n",
            "Epoch 16/20\n",
            "30/30 [==============================] - 12s 391ms/step - loss: 0.0430 - accuracy: 0.9917 - val_loss: 0.4110 - val_accuracy: 0.8753\n",
            "Epoch 17/20\n",
            "30/30 [==============================] - 12s 387ms/step - loss: 0.0345 - accuracy: 0.9938 - val_loss: 0.4342 - val_accuracy: 0.8724\n",
            "Epoch 18/20\n",
            "30/30 [==============================] - 12s 391ms/step - loss: 0.0301 - accuracy: 0.9939 - val_loss: 0.4585 - val_accuracy: 0.8693\n",
            "Epoch 19/20\n",
            "30/30 [==============================] - 12s 395ms/step - loss: 0.0295 - accuracy: 0.9945 - val_loss: 0.4663 - val_accuracy: 0.8710\n",
            "Epoch 20/20\n",
            "30/30 [==============================] - 12s 391ms/step - loss: 0.0261 - accuracy: 0.9958 - val_loss: 0.4794 - val_accuracy: 0.8712\n"
          ],
          "name": "stdout"
        }
      ]
    },
    {
      "cell_type": "code",
      "metadata": {
        "colab_type": "code",
        "id": "j9OAWJhkfkcQ",
        "colab": {
          "base_uri": "https://localhost:8080/",
          "height": 68
        },
        "outputId": "67f7afcd-eaab-42b5-cbc4-84b7fcc40cde"
      },
      "source": [
        "results = model.evaluate(test_data.batch(512), verbose=2)\n",
        "for name, value in zip(model.metrics_names, results):\n",
        "  print(\"%s: %.3f\" % (name, value))"
      ],
      "execution_count": 52,
      "outputs": [
        {
          "output_type": "stream",
          "text": [
            "49/49 - 6s - loss: 0.5385 - accuracy: 0.8570\n",
            "loss: 0.538\n",
            "accuracy: 0.857\n"
          ],
          "name": "stdout"
        }
      ]
    },
    {
      "cell_type": "markdown",
      "metadata": {
        "colab_type": "text",
        "id": "mV2NkcsjiYX3"
      },
      "source": [
        "## 尝试GRU+正则化"
      ]
    },
    {
      "cell_type": "code",
      "metadata": {
        "id": "rdnyLo1yjyKL",
        "colab_type": "code",
        "colab": {}
      },
      "source": [
        "from tensorflow.compat.v2.keras import regularizers"
      ],
      "execution_count": 0,
      "outputs": []
    },
    {
      "cell_type": "code",
      "metadata": {
        "colab_type": "code",
        "id": "TQovJ4zwiYX6",
        "colab": {}
      },
      "source": [
        "embedding = \"https://tfhub.dev/google/tf2-preview/nnlm-en-dim128/1\"\n",
        "hub_layer = hub.KerasLayer(embedding, input_shape=[], \n",
        "                           dtype=tf.string, trainable=True)\n",
        "# hub_layer(train_examples_batch[:3])"
      ],
      "execution_count": 0,
      "outputs": []
    },
    {
      "cell_type": "code",
      "metadata": {
        "colab_type": "code",
        "outputId": "a279bb08-5433-4e75-ece2-f6a618fe7c8e",
        "id": "xMXGlOfSiYX8",
        "colab": {
          "base_uri": "https://localhost:8080/",
          "height": 357
        }
      },
      "source": [
        "model = tf.keras.Sequential()\n",
        "model.add(hub_layer)\n",
        "model.add(tf.keras.layers.Reshape((-1,1)))\n",
        "model.add(tf.keras.layers.Dropout(0.5))\n",
        "model.add(tf.keras.layers.GRU(32,\n",
        "                kernel_regularizer=regularizers.l1_l2(l1=0.01, l2=0.01),\n",
        "                activity_regularizer=regularizers.l1_l2(l1=0.01, l2=0.01),\n",
        "                dropout=0.5,\n",
        "#                 recurrent_dropout=0.5\n",
        "                             ))\n",
        "model.add(tf.keras.layers.Dropout(0.5))\n",
        "model.add(tf.keras.layers.Dense(1, activation='sigmoid'))\n",
        "\n",
        "model.summary()"
      ],
      "execution_count": 18,
      "outputs": [
        {
          "output_type": "stream",
          "text": [
            "Model: \"sequential_3\"\n",
            "_________________________________________________________________\n",
            "Layer (type)                 Output Shape              Param #   \n",
            "=================================================================\n",
            "keras_layer_3 (KerasLayer)   (None, 128)               124642688 \n",
            "_________________________________________________________________\n",
            "reshape_3 (Reshape)          (None, None, 1)           0         \n",
            "_________________________________________________________________\n",
            "dropout_6 (Dropout)          (None, None, 1)           0         \n",
            "_________________________________________________________________\n",
            "gru_3 (GRU)                  (None, 32)                3360      \n",
            "_________________________________________________________________\n",
            "dropout_7 (Dropout)          (None, 32)                0         \n",
            "_________________________________________________________________\n",
            "dense_3 (Dense)              (None, 1)                 33        \n",
            "=================================================================\n",
            "Total params: 124,646,081\n",
            "Trainable params: 124,646,081\n",
            "Non-trainable params: 0\n",
            "_________________________________________________________________\n"
          ],
          "name": "stdout"
        }
      ]
    },
    {
      "cell_type": "code",
      "metadata": {
        "colab_type": "code",
        "outputId": "9c42fc6d-7d68-449e-f024-5476b730e9b9",
        "id": "HqjaKVW4iYX-",
        "colab": {
          "base_uri": "https://localhost:8080/",
          "height": 697
        }
      },
      "source": [
        "model.compile(optimizer='adam',\n",
        "              loss='binary_crossentropy',\n",
        "              metrics=['accuracy'])\n",
        "\n",
        "history = model.fit(train_data.shuffle(10000).batch(512),\n",
        "                    epochs=20,\n",
        "                    validation_data=validation_data.batch(512),\n",
        "                    verbose=1)"
      ],
      "execution_count": 19,
      "outputs": [
        {
          "output_type": "stream",
          "text": [
            "Epoch 1/20\n",
            "30/30 [==============================] - 15s 508ms/step - loss: 0.8076 - accuracy: 0.5011 - val_loss: 0.0000e+00 - val_accuracy: 0.0000e+00\n",
            "Epoch 2/20\n",
            "30/30 [==============================] - 12s 402ms/step - loss: 0.7812 - accuracy: 0.5406 - val_loss: 0.7631 - val_accuracy: 0.6694\n",
            "Epoch 3/20\n",
            "30/30 [==============================] - 12s 403ms/step - loss: 0.7524 - accuracy: 0.6211 - val_loss: 0.7262 - val_accuracy: 0.7082\n",
            "Epoch 4/20\n",
            "30/30 [==============================] - 12s 403ms/step - loss: 0.6895 - accuracy: 0.6921 - val_loss: 0.5868 - val_accuracy: 0.7639\n",
            "Epoch 5/20\n",
            "30/30 [==============================] - 12s 400ms/step - loss: 0.5594 - accuracy: 0.7911 - val_loss: 0.4501 - val_accuracy: 0.8497\n",
            "Epoch 6/20\n",
            "30/30 [==============================] - 12s 411ms/step - loss: 0.4440 - accuracy: 0.8573 - val_loss: 0.4021 - val_accuracy: 0.8707\n",
            "Epoch 7/20\n",
            "30/30 [==============================] - 12s 410ms/step - loss: 0.3709 - accuracy: 0.8893 - val_loss: 0.3802 - val_accuracy: 0.8734\n",
            "Epoch 8/20\n",
            "30/30 [==============================] - 12s 405ms/step - loss: 0.3184 - accuracy: 0.9121 - val_loss: 0.3730 - val_accuracy: 0.8749\n",
            "Epoch 9/20\n",
            "30/30 [==============================] - 12s 399ms/step - loss: 0.2817 - accuracy: 0.9287 - val_loss: 0.3804 - val_accuracy: 0.8742\n",
            "Epoch 10/20\n",
            "30/30 [==============================] - 12s 403ms/step - loss: 0.2573 - accuracy: 0.9381 - val_loss: 0.3709 - val_accuracy: 0.8769\n",
            "Epoch 11/20\n",
            "30/30 [==============================] - 12s 414ms/step - loss: 0.2308 - accuracy: 0.9509 - val_loss: 0.3774 - val_accuracy: 0.8768\n",
            "Epoch 12/20\n",
            "30/30 [==============================] - 12s 403ms/step - loss: 0.2114 - accuracy: 0.9562 - val_loss: 0.3933 - val_accuracy: 0.8716\n",
            "Epoch 13/20\n",
            "30/30 [==============================] - 12s 398ms/step - loss: 0.1953 - accuracy: 0.9623 - val_loss: 0.3727 - val_accuracy: 0.8740\n",
            "Epoch 14/20\n",
            "30/30 [==============================] - 12s 396ms/step - loss: 0.1811 - accuracy: 0.9696 - val_loss: 0.4530 - val_accuracy: 0.8557\n",
            "Epoch 15/20\n",
            "30/30 [==============================] - 12s 403ms/step - loss: 0.1910 - accuracy: 0.9657 - val_loss: 0.3773 - val_accuracy: 0.8728\n",
            "Epoch 16/20\n",
            "30/30 [==============================] - 13s 423ms/step - loss: 0.1693 - accuracy: 0.9759 - val_loss: 0.4409 - val_accuracy: 0.8690\n",
            "Epoch 17/20\n",
            "30/30 [==============================] - 13s 435ms/step - loss: 0.1534 - accuracy: 0.9791 - val_loss: 0.3901 - val_accuracy: 0.8698\n",
            "Epoch 18/20\n",
            "30/30 [==============================] - 13s 417ms/step - loss: 0.1501 - accuracy: 0.9797 - val_loss: 0.4506 - val_accuracy: 0.8502\n",
            "Epoch 19/20\n",
            "30/30 [==============================] - 13s 444ms/step - loss: 0.1542 - accuracy: 0.9805 - val_loss: 0.4398 - val_accuracy: 0.8692\n",
            "Epoch 20/20\n",
            "30/30 [==============================] - 13s 420ms/step - loss: 0.1356 - accuracy: 0.9850 - val_loss: 0.4063 - val_accuracy: 0.8691\n"
          ],
          "name": "stdout"
        }
      ]
    },
    {
      "cell_type": "code",
      "metadata": {
        "colab_type": "code",
        "outputId": "d5b5c764-b732-43d3-be8c-53ea73f57be1",
        "id": "hb3uFjqRiYYB",
        "colab": {
          "base_uri": "https://localhost:8080/",
          "height": 68
        }
      },
      "source": [
        "results = model.evaluate(test_data.batch(512), verbose=2)\n",
        "for name, value in zip(model.metrics_names, results):\n",
        "  print(\"%s: %.3f\" % (name, value))"
      ],
      "execution_count": 20,
      "outputs": [
        {
          "output_type": "stream",
          "text": [
            "49/49 - 7s - loss: 0.4444 - accuracy: 0.8552\n",
            "loss: 0.444\n",
            "accuracy: 0.855\n"
          ],
          "name": "stdout"
        }
      ]
    }
  ]
}