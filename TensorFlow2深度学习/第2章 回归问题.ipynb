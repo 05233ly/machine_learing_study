{
 "cells": [
  {
   "cell_type": "code",
   "execution_count": 1,
   "metadata": {},
   "outputs": [],
   "source": [
    "import numpy as np"
   ]
  },
  {
   "cell_type": "code",
   "execution_count": 2,
   "metadata": {},
   "outputs": [],
   "source": [
    "# data = []\n",
    "# for i in range(100):\n",
    "#     x = np.random.uniform(3., 12.)\n",
    "#     # mean=0, std=0.1\n",
    "#     eps = np.random.normal(0., 0.1)\n",
    "#     y = 1.477 * x + 0.089 + eps\n",
    "#     data.append([x, y])\n",
    "# data = np.array(data)\n",
    "# print(data.shape, data)"
   ]
  },
  {
   "cell_type": "code",
   "execution_count": 3,
   "metadata": {},
   "outputs": [],
   "source": [
    "# y = wx + b\n",
    "def compute_error_for_line_given_points(b, w, points):\n",
    "    totalError = 0\n",
    "    for i in range(0, len(points)):\n",
    "        x = points[i, 0]\n",
    "        y = points[i, 1]\n",
    "        # computer mean-squared-error\n",
    "        totalError += (y - (w * x + b)) ** 2\n",
    "    # average loss for each point\n",
    "    return totalError / float(len(points))"
   ]
  },
  {
   "cell_type": "code",
   "execution_count": 4,
   "metadata": {},
   "outputs": [],
   "source": [
    "def step_gradient(b_current, w_current, points, learningRate):\n",
    "    b_gradient = 0\n",
    "    w_gradient = 0\n",
    "    N = float(len(points))\n",
    "    for i in range(0, len(points)):\n",
    "        x = points[i, 0]\n",
    "        y = points[i, 1]\n",
    "        # grad_b = 2(wx+b-y)\n",
    "        b_gradient += (2/N) * ((w_current * x + b_current) - y)\n",
    "        # grad_w = 2(wx+b-y)*x\n",
    "        w_gradient += (2/N) * x * ((w_current * x + b_current) - y)\n",
    "    # update w'\n",
    "    new_b = b_current - (learningRate * b_gradient)\n",
    "    new_w = w_current - (learningRate * w_gradient)\n",
    "    return [new_b, new_w]"
   ]
  },
  {
   "cell_type": "code",
   "execution_count": 5,
   "metadata": {},
   "outputs": [],
   "source": [
    "def gradient_descent_runner(points, starting_b, starting_w, learning_rate, num_iterations):\n",
    "    b = starting_b\n",
    "    w = starting_w\n",
    "    # update for several times\n",
    "    for i in range(num_iterations):\n",
    "        b, w = step_gradient(b, w, np.array(points), learning_rate)\n",
    "    return [b, w]"
   ]
  },
  {
   "cell_type": "code",
   "execution_count": 6,
   "metadata": {},
   "outputs": [],
   "source": [
    "def run():\n",
    "    points = np.genfromtxt(\"data.csv\", delimiter=\",\")\n",
    "    learning_rate = 0.0001\n",
    "    initial_b = 0 # initial y-intercept guess\n",
    "    initial_w = 0 # initial slope guess\n",
    "    num_iterations = 1000\n",
    "    print(\"Starting gradient descent at b = {0}, w = {1}, error = {2}\"\n",
    "          .format(initial_b, initial_w,\n",
    "                  compute_error_for_line_given_points(initial_b, initial_w, points))\n",
    "          )\n",
    "    print(\"Running...\")\n",
    "    [b, w] = gradient_descent_runner(points, initial_b, initial_w, learning_rate, num_iterations)\n",
    "    print(\"After {0} iterations b = {1}, w = {2}, error = {3}\".\n",
    "          format(num_iterations, b, w,\n",
    "                 compute_error_for_line_given_points(b, w, points)))\n",
    "    return b,w"
   ]
  },
  {
   "cell_type": "code",
   "execution_count": 7,
   "metadata": {},
   "outputs": [
    {
     "name": "stdout",
     "output_type": "stream",
     "text": [
      "Starting gradient descent at b = 0, w = 0, error = 5565.107834483211\n",
      "Running...\n",
      "After 1000 iterations b = 0.08893651993741346, w = 1.4777440851894448, error = 112.61481011613473\n"
     ]
    }
   ],
   "source": [
    "if __name__ == '__main__':\n",
    "    b,w = run()"
   ]
  },
  {
   "cell_type": "code",
   "execution_count": 9,
   "metadata": {},
   "outputs": [],
   "source": [
    "points = np.genfromtxt(\"data.csv\", delimiter=\",\")"
   ]
  },
  {
   "cell_type": "code",
   "execution_count": 10,
   "metadata": {},
   "outputs": [],
   "source": [
    "import tensorflow as tf"
   ]
  },
  {
   "cell_type": "code",
   "execution_count": 13,
   "metadata": {},
   "outputs": [
    {
     "data": {
      "text/plain": [
       "(100,)"
      ]
     },
     "execution_count": 13,
     "metadata": {},
     "output_type": "execute_result"
    }
   ],
   "source": [
    "points[:,0].shape"
   ]
  },
  {
   "cell_type": "code",
   "execution_count": 14,
   "metadata": {},
   "outputs": [
    {
     "data": {
      "text/plain": [
       "(100, 1)"
      ]
     },
     "execution_count": 14,
     "metadata": {},
     "output_type": "execute_result"
    }
   ],
   "source": [
    "inputs.shape"
   ]
  },
  {
   "cell_type": "code",
   "execution_count": 12,
   "metadata": {},
   "outputs": [],
   "source": [
    "inputs=points[:,0].reshape(-1,1)\n",
    "outputs=points[:,1].reshape(-1,1)"
   ]
  },
  {
   "cell_type": "code",
   "execution_count": 15,
   "metadata": {},
   "outputs": [
    {
     "data": {
      "image/png": "[encoded data removed]",
      "text/plain": [
       "<Figure size 432x288 with 1 Axes>"
      ]
     },
     "metadata": {
      "needs_background": "light"
     },
     "output_type": "display_data"
    },
    {
     "name": "stdout",
     "output_type": "stream",
     "text": [
      "Current loss: 112.614810\n"
     ]
    }
   ],
   "source": [
    "import matplotlib.pyplot as plt\n",
    "%matplotlib inline\n",
    "plt.scatter(points[:,0].reshape(-1,1), points[:,1].reshape(-1,1), c='b')\n",
    "plt.plot(points[:,0].reshape(-1,1), (w*points[:,0]+b).reshape(-1,1), c='r')\n",
    "plt.show()\n",
    "\n",
    "print('Current loss: %1.6f' % tf.math.reduce_mean(tf.keras.losses.MSE((w*points[:,0]+b).reshape(-1,1), outputs)).numpy())"
   ]
  },
  {
   "cell_type": "markdown",
   "metadata": {},
   "source": [
    "## 方法一 keras高级API"
   ]
  },
  {
   "cell_type": "code",
   "execution_count": 16,
   "metadata": {},
   "outputs": [],
   "source": [
    "import tensorflow as tf"
   ]
  },
  {
   "cell_type": "code",
   "execution_count": 17,
   "metadata": {},
   "outputs": [],
   "source": [
    "points = np.genfromtxt(\"data.csv\", delimiter=\",\")"
   ]
  },
  {
   "cell_type": "code",
   "execution_count": 18,
   "metadata": {},
   "outputs": [],
   "source": [
    "model = tf.keras.models.Sequential([\n",
    "  tf.keras.layers.Dense(1),\n",
    "])\n",
    "\n",
    "model.compile(optimizer=tf.keras.optimizers.SGD(0.00001),\n",
    "              loss='mse',\n",
    "              metrics=['mse'])"
   ]
  },
  {
   "cell_type": "code",
   "execution_count": 19,
   "metadata": {
    "scrolled": false
   },
   "outputs": [
    {
     "name": "stdout",
     "output_type": "stream",
     "text": [
      "Train on 100 samples\n",
      "Epoch 1/20\n",
      "100/100 [==============================] - 1s 11ms/sample - loss: 14924.8233 - mse: 14924.8242\n",
      "Epoch 2/20\n",
      "100/100 [==============================] - 0s 150us/sample - loss: 10064.6679 - mse: 10064.6680\n",
      "Epoch 3/20\n",
      "100/100 [==============================] - 0s 199us/sample - loss: 6747.6957 - mse: 6747.6958\n",
      "Epoch 4/20\n",
      "100/100 [==============================] - 0s 150us/sample - loss: 4497.3061 - mse: 4497.3062\n",
      "Epoch 5/20\n",
      "100/100 [==============================] - 0s 180us/sample - loss: 3006.7463 - mse: 3006.7466\n",
      "Epoch 6/20\n",
      "100/100 [==============================] - 0s 199us/sample - loss: 2046.5315 - mse: 2046.5316\n",
      "Epoch 7/20\n",
      "100/100 [==============================] - 0s 189us/sample - loss: 1405.4423 - mse: 1405.4424\n",
      "Epoch 8/20\n",
      "100/100 [==============================] - 0s 229us/sample - loss: 1000.4899 - mse: 1000.4899\n",
      "Epoch 9/20\n",
      "100/100 [==============================] - 0s 203us/sample - loss: 726.4694 - mse: 726.4694\n",
      "Epoch 10/20\n",
      "100/100 [==============================] - 0s 179us/sample - loss: 498.5110 - mse: 498.5110\n",
      "Epoch 11/20\n",
      "100/100 [==============================] - 0s 190us/sample - loss: 379.3322 - mse: 379.3322\n",
      "Epoch 12/20\n",
      "100/100 [==============================] - 0s 180us/sample - loss: 291.6836 - mse: 291.6836\n",
      "Epoch 13/20\n",
      "100/100 [==============================] - 0s 199us/sample - loss: 232.5105 - mse: 232.5105\n",
      "Epoch 14/20\n",
      "100/100 [==============================] - 0s 209us/sample - loss: 193.0336 - mse: 193.0336\n",
      "Epoch 15/20\n",
      "100/100 [==============================] - 0s 160us/sample - loss: 163.7592 - mse: 163.7592\n",
      "Epoch 16/20\n",
      "100/100 [==============================] - 0s 219us/sample - loss: 146.5818 - mse: 146.5818\n",
      "Epoch 17/20\n",
      "100/100 [==============================] - 0s 160us/sample - loss: 135.6915 - mse: 135.6915\n",
      "Epoch 18/20\n",
      "100/100 [==============================] - 0s 209us/sample - loss: 128.4785 - mse: 128.4785\n",
      "Epoch 19/20\n",
      "100/100 [==============================] - 0s 215us/sample - loss: 123.8358 - mse: 123.8358\n",
      "Epoch 20/20\n",
      "100/100 [==============================] - 0s 170us/sample - loss: 120.4866 - mse: 120.4866\n"
     ]
    }
   ],
   "source": [
    "history=model.fit(points[:,0], points[:,1], epochs=20)"
   ]
  },
  {
   "cell_type": "code",
   "execution_count": 23,
   "metadata": {
    "scrolled": true
   },
   "outputs": [
    {
     "data": {
      "text/plain": [
       "[<tf.Variable 'sequential/dense/kernel:0' shape=(1, 1) dtype=float32, numpy=array([[1.4734448]], dtype=float32)>,\n",
       " <tf.Variable 'sequential/dense/bias:0' shape=(1,) dtype=float32, numpy=array([0.05141822], dtype=float32)>]"
      ]
     },
     "execution_count": 23,
     "metadata": {},
     "output_type": "execute_result"
    }
   ],
   "source": [
    "model.layers[0].weights"
   ]
  },
  {
   "cell_type": "code",
   "execution_count": 24,
   "metadata": {},
   "outputs": [
    {
     "data": {
      "image/png": "[encoded data removed]",
      "text/plain": [
       "<Figure size 432x288 with 1 Axes>"
      ]
     },
     "metadata": {
      "needs_background": "light"
     },
     "output_type": "display_data"
    },
    {
     "name": "stdout",
     "output_type": "stream",
     "text": [
      "Current loss: 112.700371\n"
     ]
    }
   ],
   "source": [
    "import matplotlib.pyplot as plt\n",
    "%matplotlib inline\n",
    "plt.scatter(points[:,0].reshape(-1,1), points[:,1].reshape(-1,1), c='b')\n",
    "plt.plot(points[:,0].reshape(-1,1), model(points[:,0].reshape(-1,1)), c='r')\n",
    "plt.show()\n",
    "\n",
    "print('Current loss: %1.6f' % tf.math.reduce_mean(tf.keras.losses.MSE(model(inputs), outputs)).numpy())"
   ]
  },
  {
   "cell_type": "markdown",
   "metadata": {},
   "source": [
    "## 方法二  自己写训练过程"
   ]
  },
  {
   "cell_type": "code",
   "execution_count": 25,
   "metadata": {},
   "outputs": [],
   "source": [
    "train_ds = tf.data.Dataset.from_tensor_slices(\n",
    "    (points[:,0].reshape(-1,1), points[:,1].reshape(-1,1))).shuffle(100).batch(1)"
   ]
  },
  {
   "cell_type": "code",
   "execution_count": 26,
   "metadata": {},
   "outputs": [
    {
     "data": {
      "text/plain": [
       "(100,)"
      ]
     },
     "execution_count": 26,
     "metadata": {},
     "output_type": "execute_result"
    }
   ],
   "source": [
    "points[:,0].shape"
   ]
  },
  {
   "cell_type": "code",
   "execution_count": 27,
   "metadata": {},
   "outputs": [],
   "source": [
    "inputs=points[:,0].reshape(-1,1)\n",
    "outputs=points[:,1].reshape(-1,1)"
   ]
  },
  {
   "cell_type": "code",
   "execution_count": 28,
   "metadata": {},
   "outputs": [
    {
     "data": {
      "text/plain": [
       "(100, 1)"
      ]
     },
     "execution_count": 28,
     "metadata": {},
     "output_type": "execute_result"
    }
   ],
   "source": [
    "inputs.shape"
   ]
  },
  {
   "cell_type": "code",
   "execution_count": 29,
   "metadata": {},
   "outputs": [],
   "source": [
    "class MyModel(tf.keras.Model):\n",
    "    def __init__(self):\n",
    "        super(MyModel, self).__init__()\n",
    "        self.fc=tf.keras.layers.Dense(1)\n",
    "\n",
    "    def call(self, x):\n",
    "        return self.fc(x)\n",
    "\n",
    "# Create an instance of the model\n",
    "model = MyModel()"
   ]
  },
  {
   "cell_type": "code",
   "execution_count": 30,
   "metadata": {},
   "outputs": [],
   "source": [
    "loss_object = tf.keras.losses.MSE\n",
    "\n",
    "optimizer = tf.keras.optimizers.SGD(0.00001)"
   ]
  },
  {
   "cell_type": "code",
   "execution_count": 31,
   "metadata": {},
   "outputs": [],
   "source": [
    "train_loss = tf.keras.metrics.Mean(name='train_loss')"
   ]
  },
  {
   "cell_type": "code",
   "execution_count": 32,
   "metadata": {},
   "outputs": [],
   "source": [
    "@tf.function\n",
    "def train_step(x, y):\n",
    "    with tf.GradientTape() as tape:\n",
    "        predictions = model(x)\n",
    "        loss = loss_object(predictions, y)\n",
    "    gradients = tape.gradient(loss, model.trainable_variables)\n",
    "    optimizer.apply_gradients(zip(gradients, model.trainable_variables))\n",
    "\n",
    "    train_loss(loss)"
   ]
  },
  {
   "cell_type": "code",
   "execution_count": 34,
   "metadata": {},
   "outputs": [
    {
     "name": "stdout",
     "output_type": "stream",
     "text": [
      "Epoch 1, Loss: 116.639404296875\n",
      "Epoch 2, Loss: 117.14022827148438\n",
      "Epoch 3, Loss: 116.15800476074219\n",
      "Epoch 4, Loss: 113.077392578125\n",
      "Epoch 5, Loss: 117.87914276123047\n",
      "Epoch 6, Loss: 116.74810791015625\n",
      "Epoch 7, Loss: 115.95650482177734\n",
      "Epoch 8, Loss: 117.0356674194336\n",
      "Epoch 9, Loss: 117.20155334472656\n",
      "Epoch 10, Loss: 116.263427734375\n",
      "Epoch 11, Loss: 116.53357696533203\n",
      "Epoch 12, Loss: 117.71051788330078\n",
      "Epoch 13, Loss: 117.1958999633789\n",
      "Epoch 14, Loss: 111.33833312988281\n",
      "Epoch 15, Loss: 119.30535888671875\n",
      "Epoch 16, Loss: 116.7109146118164\n",
      "Epoch 17, Loss: 114.99636840820312\n",
      "Epoch 18, Loss: 114.01504516601562\n",
      "Epoch 19, Loss: 113.89630889892578\n",
      "Epoch 20, Loss: 116.56376647949219\n",
      "Epoch 21, Loss: 115.16777038574219\n",
      "Epoch 22, Loss: 118.04524230957031\n",
      "Epoch 23, Loss: 117.05481719970703\n",
      "Epoch 24, Loss: 116.51722717285156\n",
      "Epoch 25, Loss: 117.42916107177734\n",
      "Epoch 26, Loss: 116.2668685913086\n",
      "Epoch 27, Loss: 117.17070007324219\n",
      "Epoch 28, Loss: 114.16722869873047\n",
      "Epoch 29, Loss: 117.25157165527344\n",
      "Epoch 30, Loss: 118.29401397705078\n",
      "Epoch 31, Loss: 117.17212677001953\n",
      "Epoch 32, Loss: 117.69908905029297\n",
      "Epoch 33, Loss: 115.74142456054688\n",
      "Epoch 34, Loss: 115.81489562988281\n",
      "Epoch 35, Loss: 113.76192474365234\n",
      "Epoch 36, Loss: 114.25467681884766\n",
      "Epoch 37, Loss: 116.69999694824219\n",
      "Epoch 38, Loss: 117.1418685913086\n",
      "Epoch 39, Loss: 116.24935913085938\n",
      "Epoch 40, Loss: 116.41485595703125\n",
      "Epoch 41, Loss: 115.40995788574219\n",
      "Epoch 42, Loss: 117.54153442382812\n",
      "Epoch 43, Loss: 116.90740966796875\n",
      "Epoch 44, Loss: 116.5254135131836\n",
      "Epoch 45, Loss: 116.02325439453125\n",
      "Epoch 46, Loss: 117.7190170288086\n",
      "Epoch 47, Loss: 116.10185241699219\n",
      "Epoch 48, Loss: 114.7313003540039\n",
      "Epoch 49, Loss: 117.26329040527344\n",
      "Epoch 50, Loss: 116.12324523925781\n"
     ]
    }
   ],
   "source": [
    "EPOCHS = 50\n",
    "\n",
    "for epoch in range(EPOCHS):\n",
    "    for x, y in train_ds:\n",
    "        train_step(x, y)\n",
    "\n",
    "\n",
    "    template = 'Epoch {}, Loss: {}'\n",
    "    print(template.format(epoch+1,\n",
    "                        train_loss.result()))\n",
    "    train_loss.reset_states()"
   ]
  },
  {
   "cell_type": "code",
   "execution_count": 35,
   "metadata": {},
   "outputs": [
    {
     "data": {
      "text/plain": [
       "[<tf.Variable 'my_model/dense_1/kernel:0' shape=(1, 1) dtype=float32, numpy=array([[1.4906605]], dtype=float32)>,\n",
       " <tf.Variable 'my_model/dense_1/bias:0' shape=(1,) dtype=float32, numpy=array([0.05678141], dtype=float32)>]"
      ]
     },
     "execution_count": 35,
     "metadata": {},
     "output_type": "execute_result"
    }
   ],
   "source": [
    "model.fc.weights"
   ]
  },
  {
   "cell_type": "code",
   "execution_count": 36,
   "metadata": {},
   "outputs": [
    {
     "data": {
      "image/png": "[encoded data removed]",
      "text/plain": [
       "<Figure size 432x288 with 1 Axes>"
      ]
     },
     "metadata": {
      "needs_background": "light"
     },
     "output_type": "display_data"
    },
    {
     "name": "stdout",
     "output_type": "stream",
     "text": [
      "Current loss: 113.010082\n"
     ]
    }
   ],
   "source": [
    "import matplotlib.pyplot as plt\n",
    "%matplotlib inline\n",
    "plt.scatter(points[:,0].reshape(-1,1), points[:,1].reshape(-1,1), c='b')\n",
    "plt.plot(points[:,0].reshape(-1,1), model(points[:,0].reshape(-1,1)), c='r')\n",
    "plt.show()\n",
    "\n",
    "print('Current loss: %1.6f' % tf.math.reduce_mean(loss_object(model(inputs), outputs)).numpy())"
   ]
  },
  {
   "cell_type": "code",
   "execution_count": null,
   "metadata": {},
   "outputs": [],
   "source": []
  }
 ],
 "metadata": {
  "kernelspec": {
   "display_name": "Python 3",
   "language": "python",
   "name": "python3"
  },
  "language_info": {
   "codemirror_mode": {
    "name": "ipython",
    "version": 3
   },
   "file_extension": ".py",
   "mimetype": "text/x-python",
   "name": "python",
   "nbconvert_exporter": "python",
   "pygments_lexer": "ipython3",
   "version": "3.6.2"
  }
 },
 "nbformat": 4,
 "nbformat_minor": 2
}
