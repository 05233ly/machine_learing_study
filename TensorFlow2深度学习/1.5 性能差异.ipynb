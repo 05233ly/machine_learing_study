{
 "cells": [
  {
   "cell_type": "code",
   "execution_count": 1,
   "metadata": {},
   "outputs": [],
   "source": [
    "import  numpy as np\n",
    "import  matplotlib\n",
    "from    matplotlib import pyplot as plt\n",
    "# Default parameters for plots\n",
    "matplotlib.rcParams['font.size'] = 20\n",
    "matplotlib.rcParams['figure.titlesize'] = 20\n",
    "matplotlib.rcParams['figure.figsize'] = [9, 7]\n",
    "matplotlib.rcParams['font.family'] = ['STKaiti']\n",
    "matplotlib.rcParams['axes.unicode_minus']=False \n",
    "\n",
    "\n",
    "\n",
    "import tensorflow as tf\n",
    "import timeit"
   ]
  },
  {
   "cell_type": "code",
   "execution_count": 2,
   "metadata": {},
   "outputs": [],
   "source": [
    "cpu_data = []\n",
    "gpu_data = []"
   ]
  },
  {
   "cell_type": "code",
   "execution_count": 3,
   "metadata": {},
   "outputs": [
    {
     "name": "stdout",
     "output_type": "stream",
     "text": [
      "/job:localhost/replica:0/task:0/device:CPU:0 /job:localhost/replica:0/task:0/device:CPU:0\n",
      "/job:localhost/replica:0/task:0/device:GPU:0 /job:localhost/replica:0/task:0/device:GPU:0\n",
      "warmup: 0.0007815000000000001 0.2249285\n",
      "run time: 0.0008859999999999979 0.0005977000000000066\n",
      "/job:localhost/replica:0/task:0/device:CPU:0 /job:localhost/replica:0/task:0/device:CPU:0\n",
      "/job:localhost/replica:0/task:0/device:GPU:0 /job:localhost/replica:0/task:0/device:GPU:0\n",
      "warmup: 0.0007121999999999962 0.0005669000000000091\n",
      "run time: 0.0007569000000000048 0.0005485000000000073\n",
      "/job:localhost/replica:0/task:0/device:CPU:0 /job:localhost/replica:0/task:0/device:CPU:0\n",
      "/job:localhost/replica:0/task:0/device:GPU:0 /job:localhost/replica:0/task:0/device:GPU:0\n",
      "warmup: 0.0006473000000000173 0.0005422999999999956\n",
      "run time: 0.0007560000000000067 0.0005645000000000233\n",
      "/job:localhost/replica:0/task:0/device:CPU:0 /job:localhost/replica:0/task:0/device:CPU:0\n",
      "/job:localhost/replica:0/task:0/device:GPU:0 /job:localhost/replica:0/task:0/device:GPU:0\n",
      "warmup: 0.0004665999999999837 0.0005352000000000134\n",
      "run time: 0.0005262999999999796 0.0005336999999999981\n",
      "/job:localhost/replica:0/task:0/device:CPU:0 /job:localhost/replica:0/task:0/device:CPU:0\n",
      "/job:localhost/replica:0/task:0/device:GPU:0 /job:localhost/replica:0/task:0/device:GPU:0\n",
      "warmup: 0.0004877999999999827 0.0005281999999999787\n",
      "run time: 0.0005295999999999912 0.0004967999999999917\n",
      "/job:localhost/replica:0/task:0/device:CPU:0 /job:localhost/replica:0/task:0/device:CPU:0\n",
      "/job:localhost/replica:0/task:0/device:GPU:0 /job:localhost/replica:0/task:0/device:GPU:0\n",
      "warmup: 0.001378199999999996 0.0005703000000000236\n",
      "run time: 0.0012211999999999779 0.0006744000000000194\n",
      "/job:localhost/replica:0/task:0/device:CPU:0 /job:localhost/replica:0/task:0/device:CPU:0\n",
      "/job:localhost/replica:0/task:0/device:GPU:0 /job:localhost/replica:0/task:0/device:GPU:0\n",
      "warmup: 0.010256900000000013 0.0006904999999999828\n",
      "run time: 0.0107989 0.000717499999999982\n",
      "/job:localhost/replica:0/task:0/device:CPU:0 /job:localhost/replica:0/task:0/device:CPU:0\n",
      "/job:localhost/replica:0/task:0/device:GPU:0 /job:localhost/replica:0/task:0/device:GPU:0\n",
      "warmup: 0.08963489999999996 0.0006428000000000544\n",
      "run time: 0.08957789999999999 0.0005750999999999395\n",
      "/job:localhost/replica:0/task:0/device:CPU:0 /job:localhost/replica:0/task:0/device:CPU:0\n",
      "/job:localhost/replica:0/task:0/device:GPU:0 /job:localhost/replica:0/task:0/device:GPU:0\n",
      "warmup: 0.9252897999999998 0.0006551999999997449\n",
      "run time: 0.8978995999999997 0.0006015999999995358\n"
     ]
    }
   ],
   "source": [
    "for n in range(9):\n",
    "    n = 10**n\n",
    "    # 创建在CPU上运算的2个矩阵\n",
    "    with tf.device('/cpu:0'):\n",
    "        cpu_a = tf.random.normal([1, n])\n",
    "        cpu_b = tf.random.normal([n, 1])\n",
    "        print(cpu_a.device, cpu_b.device)\n",
    "    # 创建使用GPU运算的2个矩阵\n",
    "    with tf.device('/gpu:0'):\n",
    "        gpu_a = tf.random.normal([1, n])\n",
    "        gpu_b = tf.random.normal([n, 1])\n",
    "        print(gpu_a.device, gpu_b.device)\n",
    "\n",
    "    def cpu_run():\n",
    "        with tf.device('/cpu:0'):\n",
    "            c = tf.matmul(cpu_a, cpu_b)\n",
    "        return c \n",
    "\n",
    "    def gpu_run():\n",
    "        with tf.device('/gpu:0'):\n",
    "            c = tf.matmul(gpu_a, gpu_b)\n",
    "        return c \n",
    "\n",
    "    # 第一次计算需要热身，避免将初始化阶段时间结算在内\n",
    "    cpu_time = timeit.timeit(cpu_run, number=10)\n",
    "    gpu_time = timeit.timeit(gpu_run, number=10)\n",
    "    print('warmup:', cpu_time, gpu_time)\n",
    "    # 正式计算10次，取平均时间\n",
    "    cpu_time = timeit.timeit(cpu_run, number=10)\n",
    "    gpu_time = timeit.timeit(gpu_run, number=10)\n",
    "    print('run time:', cpu_time, gpu_time)\n",
    "    cpu_data.append(cpu_time/10)\n",
    "    gpu_data.append(gpu_time/10)\n",
    "\n",
    "    del cpu_a,cpu_b,gpu_a,gpu_b"
   ]
  },
  {
   "cell_type": "code",
   "execution_count": 4,
   "metadata": {},
   "outputs": [
    {
     "name": "stderr",
     "output_type": "stream",
     "text": [
      "c:\\users\\sha\\anaconda3\\envs\\tensorflow2\\lib\\site-packages\\ipykernel_launcher.py:12: UserWarning: Attempted to set non-positive bottom ylim on a log-scaled axis.\n",
      "Invalid limit will be ignored.\n",
      "  if sys.path[0] == '':\n"
     ]
    },
    {
     "data": {
      "image/png": "[encoded data removed]",
      "text/plain": [
       "<Figure size 432x288 with 1 Axes>"
      ]
     },
     "metadata": {
      "needs_background": "light"
     },
     "output_type": "display_data"
    }
   ],
   "source": [
    "x = [10**i for i in range(9)]\n",
    "cpu_data = [1000*i for i in cpu_data]\n",
    "gpu_data = [1000*i for i in gpu_data]\n",
    "plt.plot(x, cpu_data, 'C1')\n",
    "plt.plot(x, cpu_data, color='C1', marker='s', label='CPU')\n",
    "plt.plot(x, gpu_data,'C0')\n",
    "plt.plot(x, gpu_data, color='C0', marker='^', label='GPU')\n",
    "\n",
    "\n",
    "plt.gca().set_xscale('log')\n",
    "plt.gca().set_yscale('log')\n",
    "plt.ylim([0,100])\n",
    "plt.xlabel('矩阵大小n:(1xn)@(nx1)')\n",
    "plt.ylabel('运算时间(ms)')\n",
    "plt.legend()\n",
    "plt.show()"
   ]
  }
 ],
 "metadata": {
  "kernelspec": {
   "display_name": "Python 3",
   "language": "python",
   "name": "python3"
  },
  "language_info": {
   "codemirror_mode": {
    "name": "ipython",
    "version": 3
   },
   "file_extension": ".py",
   "mimetype": "text/x-python",
   "name": "python",
   "nbconvert_exporter": "python",
   "pygments_lexer": "ipython3",
   "version": "3.6.2"
  }
 },
 "nbformat": 4,
 "nbformat_minor": 2
}
