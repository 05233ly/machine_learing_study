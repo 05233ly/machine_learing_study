{
 "cells": [
  {
   "cell_type": "code",
   "execution_count": 1,
   "metadata": {},
   "outputs": [
    {
     "name": "stdout",
     "output_type": "stream",
     "text": [
      "tf.Tensor(10.0, shape=(), dtype=float32)\n"
     ]
    }
   ],
   "source": [
    "import tensorflow as tf \n",
    "\n",
    "# 创建4个张量\n",
    "a = tf.constant(1.)\n",
    "b = tf.constant(2.)\n",
    "c = tf.constant(3.)\n",
    "w = tf.constant(4.)\n",
    "\n",
    "\n",
    "with tf.GradientTape() as tape:# 构建梯度环境\n",
    "    tape.watch([w]) # 将w加入梯度跟踪列表\n",
    "    # 构建计算过程\n",
    "    y = a * w**2 + b * w + c\n",
    "# 求导\n",
    "[dy_dw] = tape.gradient(y, [w])\n",
    "print(dy_dw)\n",
    "\n"
   ]
  },
  {
   "cell_type": "code",
   "execution_count": null,
   "metadata": {},
   "outputs": [],
   "source": []
  }
 ],
 "metadata": {
  "kernelspec": {
   "display_name": "Python 3",
   "language": "python",
   "name": "python3"
  },
  "language_info": {
   "codemirror_mode": {
    "name": "ipython",
    "version": 3
   },
   "file_extension": ".py",
   "mimetype": "text/x-python",
   "name": "python",
   "nbconvert_exporter": "python",
   "pygments_lexer": "ipython3",
   "version": "3.6.2"
  }
 },
 "nbformat": 4,
 "nbformat_minor": 2
}
