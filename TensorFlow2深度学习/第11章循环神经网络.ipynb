{
 "cells": [
  {
   "cell_type": "code",
   "execution_count": 1,
   "metadata": {},
   "outputs": [],
   "source": [
    "#%%\n",
    "import tensorflow as tf\n",
    "from tensorflow import keras\n",
    "from tensorflow.keras import layers\n",
    "\n",
    "import matplotlib.pyplot as plt\n",
    "%matplotlib inline"
   ]
  },
  {
   "cell_type": "markdown",
   "metadata": {},
   "source": [
    "## Embedding层"
   ]
  },
  {
   "cell_type": "code",
   "execution_count": 2,
   "metadata": {},
   "outputs": [],
   "source": [
    "#%%\n",
    "x = tf.range(10)\n",
    "x = tf.random.shuffle(x)\n",
    "# 创建共10个单词，每个单词用长度为4的向量表示的层\n",
    "net = layers.Embedding(10, 4)\n",
    "out = net(x)"
   ]
  },
  {
   "cell_type": "code",
   "execution_count": 3,
   "metadata": {},
   "outputs": [
    {
     "name": "stdout",
     "output_type": "stream",
     "text": [
      "(10, 4)\n"
     ]
    }
   ],
   "source": [
    "print(out.shape)"
   ]
  },
  {
   "cell_type": "markdown",
   "metadata": {},
   "source": [
    "## SimpleRNNCell"
   ]
  },
  {
   "cell_type": "code",
   "execution_count": 4,
   "metadata": {},
   "outputs": [
    {
     "data": {
      "text/plain": [
       "[<tf.Variable 'kernel:0' shape=(4, 3) dtype=float32, numpy=\n",
       " array([[ 0.7576244 ,  0.87684464, -0.18167937],\n",
       "        [-0.24517381, -0.0435093 , -0.7579328 ],\n",
       "        [ 0.7295934 ,  0.05551606,  0.0779804 ],\n",
       "        [ 0.50561786,  0.38797855, -0.09666789]], dtype=float32)>,\n",
       " <tf.Variable 'recurrent_kernel:0' shape=(3, 3) dtype=float32, numpy=\n",
       " array([[-0.36170995, -0.9119809 ,  0.19353722],\n",
       "        [ 0.8348372 , -0.22443914,  0.50266683],\n",
       "        [-0.41498524,  0.34339172,  0.84253746]], dtype=float32)>,\n",
       " <tf.Variable 'bias:0' shape=(3,) dtype=float32, numpy=array([0., 0., 0.], dtype=float32)>]"
      ]
     },
     "execution_count": 4,
     "metadata": {},
     "output_type": "execute_result"
    }
   ],
   "source": [
    "cell = layers.SimpleRNNCell(3)\n",
    "cell.build(input_shape=(None,4))\n",
    "cell.trainable_variables"
   ]
  },
  {
   "cell_type": "markdown",
   "metadata": {},
   "source": [
    "### 使用"
   ]
  },
  {
   "cell_type": "code",
   "execution_count": 5,
   "metadata": {},
   "outputs": [
    {
     "name": "stdout",
     "output_type": "stream",
     "text": [
      "(4, 64) (4, 64)\n",
      "3033784686968 3033784686968\n"
     ]
    }
   ],
   "source": [
    "h0 = [tf.zeros([4, 64])]\n",
    "x = tf.random.normal([4, 80, 100])\n",
    "xt = x[:,0,:]\n",
    "# 构建输入特征f=100,序列长度s=80,状态长度=64的Cell\n",
    "cell = layers.SimpleRNNCell(64)\n",
    "out, h1 = cell(xt, h0) # 前向计算\n",
    "print(out.shape, h1[0].shape)\n",
    "print(id(out), id(h1[0])) "
   ]
  },
  {
   "cell_type": "code",
   "execution_count": 9,
   "metadata": {},
   "outputs": [],
   "source": [
    "#%%\n",
    "h = h0\n",
    "# i=0\n",
    "# 在序列长度的维度解开输入，得到xt:[b,f]\n",
    "for xt in tf.unstack(x, axis=1):\n",
    "    out, h = cell(xt, h) # 前向计算\n",
    "#     print(i)\n",
    "#     i=i+1\n",
    "# 最终输出可以聚合每个时间戳上的输出，也可以只取最后时间戳的输出\n",
    "out = out"
   ]
  },
  {
   "cell_type": "markdown",
   "metadata": {},
   "source": [
    "## 多层SimpleRNN"
   ]
  },
  {
   "cell_type": "code",
   "execution_count": 10,
   "metadata": {},
   "outputs": [
    {
     "name": "stdout",
     "output_type": "stream",
     "text": [
      "(4, 100)\n"
     ]
    }
   ],
   "source": [
    "#%%\n",
    "x = tf.random.normal([4,80,100])\n",
    "xt = x[:,0,:] # 取第一个时间戳的输入x0\n",
    "print(xt.shape)\n",
    "# 构建2个Cell,先cell0,后cell1\n",
    "cell0 = layers.SimpleRNNCell(64)\n",
    "cell1 = layers.SimpleRNNCell(64)\n",
    "h0 = [tf.zeros([4,64])] # cell0的初始状态向量\n",
    "h1 = [tf.zeros([4,64])] # cell1的初始状态向量\n",
    "\n",
    "out0, h0 = cell0(xt, h0)\n",
    "out1, h1 = cell1(out0, h1)"
   ]
  },
  {
   "cell_type": "code",
   "execution_count": 12,
   "metadata": {},
   "outputs": [],
   "source": [
    "#%%\n",
    "for xt in tf.unstack(x, axis=1):\n",
    "#     print(xt.shape)\n",
    "    # xtw作为输入，输出为out0\n",
    "    out0, h0 = cell0(xt, h0)\n",
    "    # 上一个cell的输出out0作为本cell的输入\n",
    "    out1, h1 = cell1(out0, h1)"
   ]
  },
  {
   "cell_type": "markdown",
   "metadata": {},
   "source": [
    "### 第二种"
   ]
  },
  {
   "cell_type": "code",
   "execution_count": 17,
   "metadata": {},
   "outputs": [
    {
     "name": "stdout",
     "output_type": "stream",
     "text": [
      "(4, 80, 100)\n"
     ]
    }
   ],
   "source": [
    "print(x.shape)\n",
    "# 保存上一层的所有时间戳上面的输出\n",
    "middle_sequences = []\n",
    "# 计算第一层的所有时间戳上的输出，并保存\n",
    "for xt in tf.unstack(x, axis=1):\n",
    "    out0, h0 = cell0(xt, h0)\n",
    "    middle_sequences.append(out0)\n",
    "# 计算第二层的所有时间戳上的输出\n",
    "# 如果不是末层，需要保存所有时间戳上面的输出\n",
    "for xt in middle_sequences:\n",
    "    out1, h1 = cell1(xt, h1)"
   ]
  },
  {
   "cell_type": "markdown",
   "metadata": {},
   "source": [
    "## SimpleRNN层"
   ]
  },
  {
   "cell_type": "code",
   "execution_count": 18,
   "metadata": {},
   "outputs": [
    {
     "data": {
      "text/plain": [
       "TensorShape([4, 64])"
      ]
     },
     "execution_count": 18,
     "metadata": {},
     "output_type": "execute_result"
    }
   ],
   "source": [
    "layer = layers.SimpleRNN(64)\n",
    "x = tf.random.normal([4, 80, 100])\n",
    "out = layer(x)\n",
    "out.shape"
   ]
  },
  {
   "cell_type": "code",
   "execution_count": 21,
   "metadata": {},
   "outputs": [
    {
     "data": {
      "text/plain": [
       "TensorShape([4, 80, 64])"
      ]
     },
     "execution_count": 21,
     "metadata": {},
     "output_type": "execute_result"
    }
   ],
   "source": [
    "layer = layers.SimpleRNN(64,return_sequences=True)\n",
    "out = layer(x) \n",
    "out.shape"
   ]
  },
  {
   "cell_type": "markdown",
   "metadata": {},
   "source": [
    "### 多层"
   ]
  },
  {
   "cell_type": "code",
   "execution_count": 14,
   "metadata": {},
   "outputs": [
    {
     "data": {
      "text/plain": [
       "TensorShape([4, 64])"
      ]
     },
     "execution_count": 14,
     "metadata": {},
     "output_type": "execute_result"
    }
   ],
   "source": [
    "net = keras.Sequential([ # 构建2层RNN网络\n",
    "# 除最末层外，都需要返回所有时间戳的输出\n",
    "layers.SimpleRNN(64, return_sequences=True),\n",
    "layers.SimpleRNN(64),\n",
    "])\n",
    "out = net(x)\n",
    "out.shape"
   ]
  },
  {
   "cell_type": "markdown",
   "metadata": {},
   "source": [
    "## RNN情感分析实战"
   ]
  },
  {
   "cell_type": "code",
   "execution_count": 23,
   "metadata": {},
   "outputs": [],
   "source": [
    "import  os\n",
    "import  tensorflow as tf\n",
    "import  numpy as np\n",
    "from    tensorflow import keras\n",
    "from    tensorflow.keras import layers, losses, optimizers, Sequential"
   ]
  },
  {
   "cell_type": "code",
   "execution_count": 24,
   "metadata": {},
   "outputs": [],
   "source": [
    "tf.random.set_seed(22)\n",
    "np.random.seed(22)\n",
    "os.environ['TF_CPP_MIN_LOG_LEVEL'] = '2'\n",
    "assert tf.__version__.startswith('2.')"
   ]
  },
  {
   "cell_type": "code",
   "execution_count": 42,
   "metadata": {},
   "outputs": [
    {
     "name": "stdout",
     "output_type": "stream",
     "text": [
      "(25000,) 218 (25000,)\n",
      "(25000,) 68 (25000,)\n"
     ]
    }
   ],
   "source": [
    "batchsz = 512 # 批量大小\n",
    "total_words = 10000 # 词汇表大小N_vocab\n",
    "max_review_len = 80 # 句子最大长度s，大于的句子部分将截断，小于的将填充\n",
    "embedding_len = 100 # 词向量特征长度f\n",
    "# 加载IMDB数据集，此处的数据采用数字编码，一个数字代表一个单词\n",
    "(x_train, y_train), (x_test, y_test) = keras.datasets.imdb.load_data(num_words=total_words)\n",
    "print(x_train.shape, len(x_train[0]), y_train.shape)\n",
    "print(x_test.shape, len(x_test[0]), y_test.shape)"
   ]
  },
  {
   "cell_type": "code",
   "execution_count": 26,
   "metadata": {},
   "outputs": [
    {
     "data": {
      "text/plain": [
       "[1,\n",
       " 14,\n",
       " 22,\n",
       " 16,\n",
       " 43,\n",
       " 530,\n",
       " 973,\n",
       " 1622,\n",
       " 1385,\n",
       " 65,\n",
       " 458,\n",
       " 4468,\n",
       " 66,\n",
       " 3941,\n",
       " 4,\n",
       " 173,\n",
       " 36,\n",
       " 256,\n",
       " 5,\n",
       " 25,\n",
       " 100,\n",
       " 43,\n",
       " 838,\n",
       " 112,\n",
       " 50,\n",
       " 670,\n",
       " 2,\n",
       " 9,\n",
       " 35,\n",
       " 480,\n",
       " 284,\n",
       " 5,\n",
       " 150,\n",
       " 4,\n",
       " 172,\n",
       " 112,\n",
       " 167,\n",
       " 2,\n",
       " 336,\n",
       " 385,\n",
       " 39,\n",
       " 4,\n",
       " 172,\n",
       " 4536,\n",
       " 1111,\n",
       " 17,\n",
       " 546,\n",
       " 38,\n",
       " 13,\n",
       " 447,\n",
       " 4,\n",
       " 192,\n",
       " 50,\n",
       " 16,\n",
       " 6,\n",
       " 147,\n",
       " 2025,\n",
       " 19,\n",
       " 14,\n",
       " 22,\n",
       " 4,\n",
       " 1920,\n",
       " 4613,\n",
       " 469,\n",
       " 4,\n",
       " 22,\n",
       " 71,\n",
       " 87,\n",
       " 12,\n",
       " 16,\n",
       " 43,\n",
       " 530,\n",
       " 38,\n",
       " 76,\n",
       " 15,\n",
       " 13,\n",
       " 1247,\n",
       " 4,\n",
       " 22,\n",
       " 17,\n",
       " 515,\n",
       " 17,\n",
       " 12,\n",
       " 16,\n",
       " 626,\n",
       " 18,\n",
       " 2,\n",
       " 5,\n",
       " 62,\n",
       " 386,\n",
       " 12,\n",
       " 8,\n",
       " 316,\n",
       " 8,\n",
       " 106,\n",
       " 5,\n",
       " 4,\n",
       " 2223,\n",
       " 5244,\n",
       " 16,\n",
       " 480,\n",
       " 66,\n",
       " 3785,\n",
       " 33,\n",
       " 4,\n",
       " 130,\n",
       " 12,\n",
       " 16,\n",
       " 38,\n",
       " 619,\n",
       " 5,\n",
       " 25,\n",
       " 124,\n",
       " 51,\n",
       " 36,\n",
       " 135,\n",
       " 48,\n",
       " 25,\n",
       " 1415,\n",
       " 33,\n",
       " 6,\n",
       " 22,\n",
       " 12,\n",
       " 215,\n",
       " 28,\n",
       " 77,\n",
       " 52,\n",
       " 5,\n",
       " 14,\n",
       " 407,\n",
       " 16,\n",
       " 82,\n",
       " 2,\n",
       " 8,\n",
       " 4,\n",
       " 107,\n",
       " 117,\n",
       " 5952,\n",
       " 15,\n",
       " 256,\n",
       " 4,\n",
       " 2,\n",
       " 7,\n",
       " 3766,\n",
       " 5,\n",
       " 723,\n",
       " 36,\n",
       " 71,\n",
       " 43,\n",
       " 530,\n",
       " 476,\n",
       " 26,\n",
       " 400,\n",
       " 317,\n",
       " 46,\n",
       " 7,\n",
       " 4,\n",
       " 2,\n",
       " 1029,\n",
       " 13,\n",
       " 104,\n",
       " 88,\n",
       " 4,\n",
       " 381,\n",
       " 15,\n",
       " 297,\n",
       " 98,\n",
       " 32,\n",
       " 2071,\n",
       " 56,\n",
       " 26,\n",
       " 141,\n",
       " 6,\n",
       " 194,\n",
       " 7486,\n",
       " 18,\n",
       " 4,\n",
       " 226,\n",
       " 22,\n",
       " 21,\n",
       " 134,\n",
       " 476,\n",
       " 26,\n",
       " 480,\n",
       " 5,\n",
       " 144,\n",
       " 30,\n",
       " 5535,\n",
       " 18,\n",
       " 51,\n",
       " 36,\n",
       " 28,\n",
       " 224,\n",
       " 92,\n",
       " 25,\n",
       " 104,\n",
       " 4,\n",
       " 226,\n",
       " 65,\n",
       " 16,\n",
       " 38,\n",
       " 1334,\n",
       " 88,\n",
       " 12,\n",
       " 16,\n",
       " 283,\n",
       " 5,\n",
       " 16,\n",
       " 4472,\n",
       " 113,\n",
       " 103,\n",
       " 32,\n",
       " 15,\n",
       " 16,\n",
       " 5345,\n",
       " 19,\n",
       " 178,\n",
       " 32]"
      ]
     },
     "execution_count": 26,
     "metadata": {},
     "output_type": "execute_result"
    }
   ],
   "source": [
    "x_train[0]"
   ]
  },
  {
   "cell_type": "code",
   "execution_count": 27,
   "metadata": {},
   "outputs": [],
   "source": [
    "# 数字编码表\n",
    "word_index = keras.datasets.imdb.get_word_index()"
   ]
  },
  {
   "cell_type": "code",
   "execution_count": 28,
   "metadata": {},
   "outputs": [
    {
     "data": {
      "text/plain": [
       "88584"
      ]
     },
     "execution_count": 28,
     "metadata": {},
     "output_type": "execute_result"
    }
   ],
   "source": [
    "len(word_index)"
   ]
  },
  {
   "cell_type": "code",
   "execution_count": 21,
   "metadata": {},
   "outputs": [],
   "source": [
    "# for k,v in word_index.items():\n",
    "#     print(k,v)\n",
    "#%%\n",
    "word_index = {k:(v+3) for k,v in word_index.items()}\n",
    "word_index[\"<PAD>\"] = 0\n",
    "word_index[\"<START>\"] = 1\n",
    "word_index[\"<UNK>\"] = 2  # unknown\n",
    "word_index[\"<UNUSED>\"] = 3\n",
    "# 翻转编码表\n",
    "reverse_word_index = dict([(value, key) for (key, value) in word_index.items()])"
   ]
  },
  {
   "cell_type": "code",
   "execution_count": 22,
   "metadata": {
    "scrolled": true
   },
   "outputs": [
    {
     "data": {
      "text/plain": [
       "88588"
      ]
     },
     "execution_count": 22,
     "metadata": {},
     "output_type": "execute_result"
    }
   ],
   "source": [
    "len(word_index)"
   ]
  },
  {
   "cell_type": "code",
   "execution_count": 30,
   "metadata": {},
   "outputs": [
    {
     "data": {
      "text/plain": [
       "'<START>'"
      ]
     },
     "execution_count": 30,
     "metadata": {},
     "output_type": "execute_result"
    }
   ],
   "source": [
    "reverse_word_index[1]"
   ]
  },
  {
   "cell_type": "code",
   "execution_count": 30,
   "metadata": {},
   "outputs": [],
   "source": [
    "def decode_review(text):\n",
    "    return ' '.join([reverse_word_index.get(i, '?') for i in text])"
   ]
  },
  {
   "cell_type": "code",
   "execution_count": 31,
   "metadata": {},
   "outputs": [
    {
     "data": {
      "text/plain": [
       "\"<START> just got out and cannot believe what a brilliant documentary this is rarely do you walk out of a movie theater in such awe and <UNK> lately movies have become so over hyped that the thrill of discovering something truly special and unique rarely happens <UNK> <UNK> did this to me when it first came out and this movie is doing to me now i didn't know a thing about this before going into it and what a surprise if you hear the concept you might get the feeling that this is one of those <UNK> movies about an amazing triumph covered with over the top music and trying to have us fully convinced of what a great story it is telling but then not letting us in <UNK> this is not that movie the people tell the story this does such a good job of capturing every moment of their involvement while we enter their world and feel every second with them there is so much beyond the climb that makes everything they go through so much more tense touching the void was also a great doc about mountain climbing and showing the intensity in an engaging way but this film is much more of a human story i just saw it today but i will go and say that this is one of the best documentaries i have ever seen\""
      ]
     },
     "execution_count": 31,
     "metadata": {},
     "output_type": "execute_result"
    }
   ],
   "source": [
    "decode_review(x_train[8])"
   ]
  },
  {
   "cell_type": "code",
   "execution_count": 44,
   "metadata": {},
   "outputs": [
    {
     "name": "stdout",
     "output_type": "stream",
     "text": [
      "x_train shape: (25000, 80) tf.Tensor(1, shape=(), dtype=int64) tf.Tensor(0, shape=(), dtype=int64)\n",
      "x_test shape: (25000, 80)\n"
     ]
    }
   ],
   "source": [
    "# x_train:[b, 80]\n",
    "# x_test: [b, 80]\n",
    "# 截断和填充句子，使得等长，此处长句子保留句子后面的部分，短句子在前面填充\n",
    "x_train = keras.preprocessing.sequence.pad_sequences(x_train, maxlen=max_review_len)\n",
    "x_test = keras.preprocessing.sequence.pad_sequences(x_test, maxlen=max_review_len)\n",
    "# 构建数据集，打散，批量，并丢掉最后一个不够batchsz的batch\n",
    "db_train = tf.data.Dataset.from_tensor_slices((x_train, y_train))\n",
    "db_train = db_train.shuffle(1000).batch(batchsz, drop_remainder=True)\n",
    "db_test = tf.data.Dataset.from_tensor_slices((x_test, y_test))\n",
    "db_test = db_test.batch(batchsz, drop_remainder=True)\n",
    "print('x_train shape:', x_train.shape, tf.reduce_max(y_train), tf.reduce_min(y_train))\n",
    "print('x_test shape:', x_test.shape)"
   ]
  },
  {
   "cell_type": "code",
   "execution_count": 33,
   "metadata": {},
   "outputs": [],
   "source": [
    "class MyRNN(keras.Model):\n",
    "    # Cell方式构建多层网络\n",
    "    def __init__(self, units):\n",
    "        super(MyRNN, self).__init__() \n",
    "        # 词向量编码 [b, 80] => [b, 80, 100]\n",
    "        self.embedding = layers.Embedding(total_words, embedding_len,\n",
    "                                          input_length=max_review_len)\n",
    "        # 构建RNN\n",
    "        self.rnn = keras.Sequential([\n",
    "            layers.SimpleRNN(units, dropout=0.5, return_sequences=True),\n",
    "            layers.SimpleRNN(units, dropout=0.5)\n",
    "        ])\n",
    "        # 构建分类网络，用于将CELL的输出特征进行分类，2分类\n",
    "        # [b, 80, 100] => [b, 64] => [b, 1]\n",
    "        self.outlayer = Sequential([\n",
    "            layers.Dense(32),\n",
    "            layers.Dropout(rate=0.5),\n",
    "            layers.ReLU(),\n",
    "            layers.Dense(1)])\n",
    "\n",
    "    def call(self, inputs, training=None):\n",
    "        x = inputs # [b, 80]\n",
    "        # embedding: [b, 80] => [b, 80, 100]\n",
    "        x = self.embedding(x)\n",
    "        # rnn cell compute,[b, 80, 100] => [b, 64]\n",
    "        x = self.rnn(x)\n",
    "        # 末层最后一个输出作为分类网络的输入: [b, 64] => [b, 1]\n",
    "        x = self.outlayer(x,training)\n",
    "        # p(y is pos|x)\n",
    "        prob = tf.sigmoid(x)\n",
    "\n",
    "        return prob"
   ]
  },
  {
   "cell_type": "code",
   "execution_count": 34,
   "metadata": {},
   "outputs": [],
   "source": [
    "units = 64 # RNN状态向量长度f\n",
    "epochs = 50 # 训练epochs\n",
    "\n",
    "model = MyRNN(units)\n",
    "# 装配\n",
    "model.compile(optimizer = optimizers.Adam(0.001),\n",
    "              loss = losses.BinaryCrossentropy(),\n",
    "              metrics=['accuracy'])"
   ]
  },
  {
   "cell_type": "code",
   "execution_count": 35,
   "metadata": {
    "scrolled": true
   },
   "outputs": [
    {
     "name": "stdout",
     "output_type": "stream",
     "text": [
      "Epoch 1/50\n",
      "48/48 [==============================] - 7s 144ms/step - loss: 0.7100 - accuracy: 0.5012 - val_loss: 0.0000e+00 - val_accuracy: 0.0000e+00\n",
      "Epoch 2/50\n",
      "48/48 [==============================] - 5s 106ms/step - loss: 0.6938 - accuracy: 0.5068 - val_loss: 0.6921 - val_accuracy: 0.5366\n",
      "Epoch 3/50\n",
      "48/48 [==============================] - 5s 105ms/step - loss: 0.6858 - accuracy: 0.5490 - val_loss: 0.6220 - val_accuracy: 0.6859\n",
      "Epoch 4/50\n",
      "48/48 [==============================] - 5s 105ms/step - loss: 0.5172 - accuracy: 0.7587 - val_loss: 0.3893 - val_accuracy: 0.8270\n",
      "Epoch 5/50\n",
      "48/48 [==============================] - 5s 105ms/step - loss: 0.3619 - accuracy: 0.8537 - val_loss: 0.4350 - val_accuracy: 0.8291\n",
      "Epoch 6/50\n",
      "48/48 [==============================] - 5s 106ms/step - loss: 0.2958 - accuracy: 0.8867 - val_loss: 0.4873 - val_accuracy: 0.8255\n",
      "Epoch 7/50\n",
      "48/48 [==============================] - 5s 107ms/step - loss: 0.2324 - accuracy: 0.9142 - val_loss: 0.4908 - val_accuracy: 0.8276\n",
      "Epoch 8/50\n",
      "48/48 [==============================] - 5s 107ms/step - loss: 0.1761 - accuracy: 0.9367 - val_loss: 0.5736 - val_accuracy: 0.8206\n",
      "Epoch 9/50\n",
      "48/48 [==============================] - 5s 107ms/step - loss: 0.1402 - accuracy: 0.9511 - val_loss: 0.6763 - val_accuracy: 0.8118\n",
      "Epoch 10/50\n",
      "48/48 [==============================] - 5s 109ms/step - loss: 0.1028 - accuracy: 0.9655 - val_loss: 0.7878 - val_accuracy: 0.8154\n",
      "Epoch 11/50\n",
      "48/48 [==============================] - 5s 110ms/step - loss: 0.0856 - accuracy: 0.9709 - val_loss: 0.8154 - val_accuracy: 0.8199\n",
      "Epoch 12/50\n",
      "48/48 [==============================] - 5s 108ms/step - loss: 0.0680 - accuracy: 0.9768 - val_loss: 0.8636 - val_accuracy: 0.8200\n",
      "Epoch 13/50\n",
      "48/48 [==============================] - 5s 109ms/step - loss: 0.0642 - accuracy: 0.9773 - val_loss: 0.9730 - val_accuracy: 0.8202\n",
      "Epoch 14/50\n",
      "48/48 [==============================] - 5s 108ms/step - loss: 0.0613 - accuracy: 0.9795 - val_loss: 0.9158 - val_accuracy: 0.8178\n",
      "Epoch 15/50\n",
      "48/48 [==============================] - 5s 108ms/step - loss: 0.0458 - accuracy: 0.9845 - val_loss: 0.9723 - val_accuracy: 0.8191\n",
      "Epoch 16/50\n",
      "48/48 [==============================] - 5s 107ms/step - loss: 0.0482 - accuracy: 0.9834 - val_loss: 0.9233 - val_accuracy: 0.8143\n",
      "Epoch 17/50\n",
      "48/48 [==============================] - 5s 109ms/step - loss: 0.0360 - accuracy: 0.9888 - val_loss: 1.0627 - val_accuracy: 0.8171\n",
      "Epoch 18/50\n",
      "48/48 [==============================] - 5s 110ms/step - loss: 0.0332 - accuracy: 0.9888 - val_loss: 1.2337 - val_accuracy: 0.8116\n",
      "Epoch 19/50\n",
      "48/48 [==============================] - 5s 107ms/step - loss: 0.0344 - accuracy: 0.9883 - val_loss: 1.0310 - val_accuracy: 0.8108\n",
      "Epoch 20/50\n",
      "48/48 [==============================] - 5s 109ms/step - loss: 0.0281 - accuracy: 0.9912 - val_loss: 1.0957 - val_accuracy: 0.8204\n",
      "Epoch 21/50\n",
      "48/48 [==============================] - 5s 108ms/step - loss: 0.0270 - accuracy: 0.9916 - val_loss: 1.2245 - val_accuracy: 0.8184\n",
      "Epoch 22/50\n",
      "48/48 [==============================] - 5s 108ms/step - loss: 0.0275 - accuracy: 0.9910 - val_loss: 1.1351 - val_accuracy: 0.8173\n",
      "Epoch 23/50\n",
      "48/48 [==============================] - 5s 111ms/step - loss: 0.0311 - accuracy: 0.9900 - val_loss: 1.0483 - val_accuracy: 0.7873\n",
      "Epoch 24/50\n",
      "48/48 [==============================] - 5s 106ms/step - loss: 0.0307 - accuracy: 0.9902 - val_loss: 1.1349 - val_accuracy: 0.8137\n",
      "Epoch 25/50\n",
      "48/48 [==============================] - 5s 108ms/step - loss: 0.0231 - accuracy: 0.9927 - val_loss: 1.2336 - val_accuracy: 0.8095\n",
      "Epoch 26/50\n",
      "48/48 [==============================] - 5s 108ms/step - loss: 0.0235 - accuracy: 0.9926 - val_loss: 1.1594 - val_accuracy: 0.8105\n",
      "Epoch 27/50\n",
      "48/48 [==============================] - 5s 108ms/step - loss: 0.0224 - accuracy: 0.9924 - val_loss: 1.2103 - val_accuracy: 0.8178\n",
      "Epoch 28/50\n",
      "48/48 [==============================] - 5s 106ms/step - loss: 0.0306 - accuracy: 0.9896 - val_loss: 1.1249 - val_accuracy: 0.8064\n",
      "Epoch 29/50\n",
      "48/48 [==============================] - 5s 106ms/step - loss: 0.0246 - accuracy: 0.9921 - val_loss: 1.1395 - val_accuracy: 0.8084\n",
      "Epoch 30/50\n",
      "48/48 [==============================] - 5s 108ms/step - loss: 0.0259 - accuracy: 0.9915 - val_loss: 1.1502 - val_accuracy: 0.8120\n",
      "Epoch 31/50\n",
      "48/48 [==============================] - 5s 107ms/step - loss: 0.0234 - accuracy: 0.9920 - val_loss: 1.3304 - val_accuracy: 0.8054\n",
      "Epoch 32/50\n",
      "48/48 [==============================] - 5s 107ms/step - loss: 0.0227 - accuracy: 0.9932 - val_loss: 1.1945 - val_accuracy: 0.8121\n",
      "Epoch 33/50\n",
      "48/48 [==============================] - 5s 108ms/step - loss: 0.0209 - accuracy: 0.9934 - val_loss: 1.1770 - val_accuracy: 0.8125\n",
      "Epoch 34/50\n",
      "48/48 [==============================] - 5s 109ms/step - loss: 0.0161 - accuracy: 0.9951 - val_loss: 1.2394 - val_accuracy: 0.8142\n",
      "Epoch 35/50\n",
      "48/48 [==============================] - 5s 108ms/step - loss: 0.0208 - accuracy: 0.9932 - val_loss: 1.2096 - val_accuracy: 0.8050\n",
      "Epoch 36/50\n",
      "48/48 [==============================] - 5s 107ms/step - loss: 0.0223 - accuracy: 0.9932 - val_loss: 1.1673 - val_accuracy: 0.8079\n",
      "Epoch 37/50\n",
      "48/48 [==============================] - 5s 105ms/step - loss: 0.0202 - accuracy: 0.9938 - val_loss: 1.2480 - val_accuracy: 0.8132\n",
      "Epoch 38/50\n",
      "48/48 [==============================] - 5s 107ms/step - loss: 0.0125 - accuracy: 0.9959 - val_loss: 1.3945 - val_accuracy: 0.8127\n",
      "Epoch 39/50\n",
      "48/48 [==============================] - 5s 106ms/step - loss: 0.0199 - accuracy: 0.9943 - val_loss: 1.3452 - val_accuracy: 0.8186\n",
      "Epoch 40/50\n",
      "48/48 [==============================] - 5s 108ms/step - loss: 0.0131 - accuracy: 0.9961 - val_loss: 1.4230 - val_accuracy: 0.8151\n",
      "Epoch 41/50\n",
      "48/48 [==============================] - 5s 109ms/step - loss: 0.0113 - accuracy: 0.9961 - val_loss: 1.3935 - val_accuracy: 0.8129\n",
      "Epoch 42/50\n",
      "48/48 [==============================] - 5s 108ms/step - loss: 0.0134 - accuracy: 0.9956 - val_loss: 1.4523 - val_accuracy: 0.8165\n",
      "Epoch 43/50\n",
      "48/48 [==============================] - 5s 107ms/step - loss: 0.0160 - accuracy: 0.9950 - val_loss: 1.4791 - val_accuracy: 0.8157\n",
      "Epoch 44/50\n",
      "48/48 [==============================] - 5s 110ms/step - loss: 0.0106 - accuracy: 0.9967 - val_loss: 1.5166 - val_accuracy: 0.8094\n",
      "Epoch 45/50\n",
      "48/48 [==============================] - 5s 107ms/step - loss: 0.0156 - accuracy: 0.9949 - val_loss: 1.2850 - val_accuracy: 0.8086\n",
      "Epoch 46/50\n",
      "48/48 [==============================] - 5s 109ms/step - loss: 0.0160 - accuracy: 0.9949 - val_loss: 1.3556 - val_accuracy: 0.8138\n",
      "Epoch 47/50\n",
      "48/48 [==============================] - 5s 109ms/step - loss: 0.0149 - accuracy: 0.9954 - val_loss: 1.5272 - val_accuracy: 0.8139\n",
      "Epoch 48/50\n",
      "48/48 [==============================] - 5s 109ms/step - loss: 0.0125 - accuracy: 0.9966 - val_loss: 1.3368 - val_accuracy: 0.8145\n",
      "Epoch 49/50\n",
      "48/48 [==============================] - 5s 108ms/step - loss: 0.0110 - accuracy: 0.9967 - val_loss: 1.3906 - val_accuracy: 0.8099\n",
      "Epoch 50/50\n",
      "48/48 [==============================] - 5s 107ms/step - loss: 0.0128 - accuracy: 0.9963 - val_loss: 1.4069 - val_accuracy: 0.8151\n"
     ]
    },
    {
     "data": {
      "text/plain": [
       "<tensorflow.python.keras.callbacks.History at 0x1ab97ba3e10>"
      ]
     },
     "execution_count": 35,
     "metadata": {},
     "output_type": "execute_result"
    }
   ],
   "source": [
    "# 训练和验证\n",
    "model.fit(db_train, epochs=epochs, validation_data=db_test)"
   ]
  },
  {
   "cell_type": "code",
   "execution_count": 36,
   "metadata": {},
   "outputs": [
    {
     "name": "stdout",
     "output_type": "stream",
     "text": [
      "48/48 [==============================] - 1s 17ms/step - loss: 1.4069 - accuracy: 0.8151\n"
     ]
    },
    {
     "data": {
      "text/plain": [
       "[1.406923530002435, 0.81514484]"
      ]
     },
     "execution_count": 36,
     "metadata": {},
     "output_type": "execute_result"
    }
   ],
   "source": [
    "# 测试\n",
    "model.evaluate(db_test)"
   ]
  },
  {
   "cell_type": "markdown",
   "metadata": {},
   "source": [
    "## 梯度弥散和梯度爆炸"
   ]
  },
  {
   "cell_type": "code",
   "execution_count": 38,
   "metadata": {},
   "outputs": [
    {
     "data": {
      "text/plain": [
       "<tf.Tensor: id=30927, shape=(2,), dtype=float32, numpy=array([0., 2.], dtype=float32)>"
      ]
     },
     "execution_count": 38,
     "metadata": {},
     "output_type": "execute_result"
    }
   ],
   "source": [
    "W = tf.ones([2,2]) # 任意创建某矩阵\n",
    "eigenvalues = tf.linalg.eigh(W)[0] # 计算特征值\n",
    "eigenvalues"
   ]
  },
  {
   "cell_type": "code",
   "execution_count": 39,
   "metadata": {},
   "outputs": [
    {
     "data": {
      "image/png": "[encoded data removed]",
      "text/plain": [
       "<Figure size 432x288 with 1 Axes>"
      ]
     },
     "metadata": {
      "needs_background": "light"
     },
     "output_type": "display_data"
    }
   ],
   "source": [
    "#%%\n",
    "val = [W]\n",
    "for i in range(10): # 矩阵相乘n次方\n",
    "    val.append([val[-1]@W])\n",
    "# 计算L2范数\n",
    "norm = list(map(lambda x:tf.norm(x).numpy(),val))\n",
    "plt.plot(range(1,12),norm)\n",
    "plt.xlabel('n times')\n",
    "plt.ylabel('L2-norm')\n",
    "# plt.savefig('w_n_times_1.svg')\n",
    "plt.show()"
   ]
  },
  {
   "cell_type": "code",
   "execution_count": 40,
   "metadata": {},
   "outputs": [
    {
     "name": "stdout",
     "output_type": "stream",
     "text": [
      "tf.Tensor([0.  0.8], shape=(2,), dtype=float32)\n"
     ]
    },
    {
     "data": {
      "image/png": "[encoded data removed]",
      "text/plain": [
       "<Figure size 432x288 with 1 Axes>"
      ]
     },
     "metadata": {
      "needs_background": "light"
     },
     "output_type": "display_data"
    }
   ],
   "source": [
    "#%%\n",
    "W = tf.ones([2,2])*0.4 # 任意创建某矩阵\n",
    "eigenvalues = tf.linalg.eigh(W)[0] # 计算特征值\n",
    "print(eigenvalues)\n",
    "val = [W]\n",
    "for i in range(10):\n",
    "    val.append([val[-1]@W])\n",
    "norm = list(map(lambda x:tf.norm(x).numpy(),val))\n",
    "plt.plot(range(1,12),norm)\n",
    "plt.xlabel('n times')\n",
    "plt.ylabel('L2-norm')\n",
    "# plt.savefig('w_n_times_0.svg')\n",
    "plt.show()"
   ]
  },
  {
   "cell_type": "code",
   "execution_count": 41,
   "metadata": {},
   "outputs": [
    {
     "data": {
      "text/plain": [
       "<tf.Tensor: id=31114, shape=(2, 2), dtype=float32, numpy=\n",
       "array([[0.4       , 0.59142506],\n",
       "       [0.6       , 0.6       ]], dtype=float32)>"
      ]
     },
     "execution_count": 41,
     "metadata": {},
     "output_type": "execute_result"
    }
   ],
   "source": [
    "#%%\n",
    "a=tf.random.uniform([2,2])\n",
    "tf.clip_by_value(a,0.4,0.6) # 梯度值裁剪"
   ]
  },
  {
   "cell_type": "code",
   "execution_count": 42,
   "metadata": {},
   "outputs": [
    {
     "data": {
      "text/plain": [
       "(<tf.Tensor: id=31145, shape=(), dtype=float32, numpy=8.08476>,\n",
       " <tf.Tensor: id=31150, shape=(), dtype=float32, numpy=4.9999995>)"
      ]
     },
     "execution_count": 42,
     "metadata": {},
     "output_type": "execute_result"
    }
   ],
   "source": [
    "a=tf.random.uniform([2,2]) * 5\n",
    "# 按范数方式裁剪\n",
    "b = tf.clip_by_norm(a, 5)\n",
    "tf.norm(a),tf.norm(b)"
   ]
  },
  {
   "cell_type": "code",
   "execution_count": 43,
   "metadata": {},
   "outputs": [
    {
     "name": "stdout",
     "output_type": "stream",
     "text": [
      "tf.Tensor(3.2026575, shape=(), dtype=float32) tf.Tensor(2.0, shape=(), dtype=float32)\n"
     ]
    }
   ],
   "source": [
    "w1=tf.random.normal([3,3]) # 创建梯度张量1\n",
    "w2=tf.random.normal([3,3]) # 创建梯度张量2\n",
    "# 计算global norm\n",
    "global_norm=tf.math.sqrt(tf.norm(w1)**2+tf.norm(w2)**2) \n",
    "# 根据global norm和max norm=2裁剪\n",
    "(ww1,ww2),global_norm=tf.clip_by_global_norm([w1,w2],2)\n",
    "# 计算裁剪后的张量组的global norm\n",
    "global_norm2 = tf.math.sqrt(tf.norm(ww1)**2+tf.norm(ww2)**2)\n",
    "print(global_norm, global_norm2)"
   ]
  },
  {
   "cell_type": "code",
   "execution_count": null,
   "metadata": {},
   "outputs": [],
   "source": [
    "with tf.GradientTape() as tape:\n",
    "    logits = model(x) # 前向传播\n",
    "    loss = criteon(y, logits) # 误差计算\n",
    "# 计算梯度值\n",
    "grads = tape.gradient(loss, model.trainable_variables)\n",
    "grads, _ = tf.clip_by_global_norm(grads, 25) # 全局梯度裁剪\n",
    "# 利用裁剪后的梯度张量更新参数\n",
    "optimizer.apply_gradients(zip(grads, model.trainable_variables))"
   ]
  },
  {
   "cell_type": "markdown",
   "metadata": {},
   "source": [
    "## LSTMCell"
   ]
  },
  {
   "cell_type": "code",
   "execution_count": 44,
   "metadata": {},
   "outputs": [
    {
     "data": {
      "text/plain": [
       "(1836571435080, 1836571435080, 1836569425456)"
      ]
     },
     "execution_count": 44,
     "metadata": {},
     "output_type": "execute_result"
    }
   ],
   "source": [
    "x = tf.random.normal([2,80,100])\n",
    "xt = x[:,0,:] # 得到一个时间戳的输入\n",
    "cell = layers.LSTMCell(64) # 创建Cell\n",
    "# 初始化状态和输出List,[h,c]\n",
    "state = [tf.zeros([2,64]),tf.zeros([2,64])]\n",
    "out, state = cell(xt, state) # 前向计算\n",
    "id(out),id(state[0]),id(state[1])"
   ]
  },
  {
   "cell_type": "code",
   "execution_count": 32,
   "metadata": {},
   "outputs": [
    {
     "data": {
      "text/plain": [
       "[<tf.Variable 'kernel:0' shape=(3, 16) dtype=float32, numpy=\n",
       " array([[ 0.11973578,  0.03518277, -0.47716   ,  0.52556413, -0.0078398 ,\n",
       "          0.20304042, -0.3032422 ,  0.55840546,  0.15683568,  0.510279  ,\n",
       "          0.44711846, -0.21903077,  0.12290078,  0.54183084, -0.4215247 ,\n",
       "         -0.00953424],\n",
       "        [ 0.42180926,  0.3431865 , -0.06528306, -0.02494115,  0.0208171 ,\n",
       "          0.1292929 , -0.09635094, -0.4720353 ,  0.12636602, -0.09750342,\n",
       "          0.3340153 , -0.15362537,  0.40015268,  0.29057842, -0.06269979,\n",
       "          0.08761692],\n",
       "        [ 0.5431548 , -0.35553515, -0.47243896,  0.5494618 ,  0.5150735 ,\n",
       "          0.3364609 ,  0.12205857, -0.37847757,  0.4122151 , -0.21188161,\n",
       "          0.22288239,  0.54009086,  0.4181701 ,  0.3864168 ,  0.37283474,\n",
       "          0.02733451]], dtype=float32)>,\n",
       " <tf.Variable 'recurrent_kernel:0' shape=(4, 16) dtype=float32, numpy=\n",
       " array([[-0.24952722, -0.10625644, -0.09382117, -0.10740637, -0.00578529,\n",
       "         -0.21587995, -0.28717503, -0.37882805,  0.1831666 , -0.07238756,\n",
       "         -0.27933535,  0.20882131,  0.55662704, -0.3248466 , -0.07971117,\n",
       "          0.22660956],\n",
       "        [-0.22731578,  0.03481632,  0.00233931,  0.1511055 , -0.09505951,\n",
       "         -0.0363612 ,  0.04866216,  0.02701611, -0.23592822,  0.22070035,\n",
       "         -0.33036262, -0.05263192,  0.00289673, -0.38281167,  0.01394427,\n",
       "         -0.7401301 ],\n",
       "        [ 0.11974192,  0.41868532, -0.1649645 ,  0.10041971, -0.335924  ,\n",
       "         -0.30799806,  0.17687619, -0.1585762 , -0.25144613,  0.2943356 ,\n",
       "         -0.25853342, -0.31481126,  0.06651956,  0.20321155, -0.28007993,\n",
       "          0.26260048],\n",
       "        [-0.4101219 , -0.4314191 ,  0.0322246 , -0.06685387,  0.03725604,\n",
       "         -0.4210332 ,  0.02083345,  0.11911134,  0.0453071 , -0.12959853,\n",
       "         -0.07443255, -0.01558404, -0.26409006,  0.3143381 , -0.49761602,\n",
       "         -0.07801104]], dtype=float32)>,\n",
       " <tf.Variable 'bias:0' shape=(16,) dtype=float32, numpy=\n",
       " array([0., 0., 0., 0., 1., 1., 1., 1., 0., 0., 0., 0., 0., 0., 0., 0.],\n",
       "       dtype=float32)>]"
      ]
     },
     "execution_count": 32,
     "metadata": {},
     "output_type": "execute_result"
    }
   ],
   "source": [
    "net = layers.LSTM(4)\n",
    "net.build(input_shape=(None,5,3))\n",
    "net.trainable_variables"
   ]
  },
  {
   "cell_type": "code",
   "execution_count": 46,
   "metadata": {},
   "outputs": [
    {
     "data": {
      "text/plain": [
       "[<tf.Variable 'kernel:0' shape=(3, 12) dtype=float32, numpy=\n",
       " array([[ 0.40103143, -0.46793008,  0.3814847 ,  0.51146156,  0.3826415 ,\n",
       "          0.3651896 , -0.6017788 ,  0.3965158 , -0.19388166,  0.03471923,\n",
       "         -0.51278925, -0.1108647 ],\n",
       "        [ 0.02897578, -0.47327948, -0.50863713, -0.4810816 ,  0.1730637 ,\n",
       "         -0.12884796,  0.34725022,  0.27582896, -0.33340415, -0.07083064,\n",
       "          0.46814185,  0.6200231 ],\n",
       "        [-0.22236815, -0.04058945,  0.46621603, -0.6206591 , -0.34952667,\n",
       "          0.19986922, -0.12645131,  0.4276741 , -0.23295566, -0.5026454 ,\n",
       "         -0.2553554 , -0.16029504]], dtype=float32)>,\n",
       " <tf.Variable 'recurrent_kernel:0' shape=(4, 12) dtype=float32, numpy=\n",
       " array([[ 0.37123013,  0.03152082, -0.37531132,  0.25066817,  0.24339297,\n",
       "          0.3495937 , -0.00814347, -0.06495688,  0.3055531 , -0.27549997,\n",
       "          0.23408014,  0.49769822],\n",
       "        [-0.2818142 ,  0.45015973, -0.01958858,  0.59077823,  0.03106868,\n",
       "         -0.30167732, -0.22660333,  0.404171  , -0.08966576,  0.09036084,\n",
       "          0.15459627,  0.14748394],\n",
       "        [ 0.29476497,  0.28125638,  0.1888462 , -0.25677034,  0.35446623,\n",
       "          0.01198415,  0.07493002,  0.5079924 ,  0.05434219, -0.08093806,\n",
       "         -0.5671831 ,  0.10841163],\n",
       "        [ 0.47321117,  0.14045438, -0.09842379,  0.03355395,  0.16755381,\n",
       "         -0.66638064, -0.16861595, -0.32769516,  0.23620257, -0.03386554,\n",
       "          0.0157457 , -0.28353372]], dtype=float32)>,\n",
       " <tf.Variable 'bias:0' shape=(2, 12) dtype=float32, numpy=\n",
       " array([[0., 0., 0., 0., 0., 0., 0., 0., 0., 0., 0., 0.],\n",
       "        [0., 0., 0., 0., 0., 0., 0., 0., 0., 0., 0., 0.]], dtype=float32)>]"
      ]
     },
     "execution_count": 46,
     "metadata": {},
     "output_type": "execute_result"
    }
   ],
   "source": [
    "net = layers.GRU(4)\n",
    "net.build(input_shape=(None,5,3))\n",
    "net.trainable_variables"
   ]
  },
  {
   "cell_type": "markdown",
   "metadata": {},
   "source": [
    "### LSTM文本情感实战"
   ]
  },
  {
   "cell_type": "code",
   "execution_count": 48,
   "metadata": {},
   "outputs": [],
   "source": [
    "class MyLSTM(keras.Model):\n",
    "    # Cell方式构建多层网络\n",
    "    def __init__(self, units):\n",
    "        super(MyLSTM, self).__init__() \n",
    "        # 词向量编码 [b, 80] => [b, 80, 100]\n",
    "        self.embedding = layers.Embedding(total_words, embedding_len,\n",
    "                                          input_length=max_review_len)\n",
    "        # 构建RNN\n",
    "        self.rnn = keras.Sequential([\n",
    "            layers.LSTM(units, dropout=0.5, return_sequences=True),\n",
    "            layers.LSTM(units, dropout=0.5)\n",
    "        ])\n",
    "        # 构建分类网络，用于将CELL的输出特征进行分类，2分类\n",
    "        # [b, 80, 100] => [b, 64] => [b, 1]\n",
    "        self.outlayer = Sequential([\n",
    "            layers.Dense(32),\n",
    "            layers.Dropout(rate=0.5),\n",
    "            layers.ReLU(),\n",
    "            layers.Dense(1)])\n",
    "\n",
    "    def call(self, inputs, training=None):\n",
    "        x = inputs # [b, 80]\n",
    "        # embedding: [b, 80] => [b, 80, 100]\n",
    "        x = self.embedding(x)\n",
    "        # rnn cell compute,[b, 80, 100] => [b, 64]\n",
    "        x = self.rnn(x)\n",
    "        # 末层最后一个输出作为分类网络的输入: [b, 64] => [b, 1]\n",
    "        x = self.outlayer(x,training)\n",
    "        # p(y is pos|x)\n",
    "        prob = tf.sigmoid(x)\n",
    "\n",
    "        return prob"
   ]
  },
  {
   "cell_type": "code",
   "execution_count": 49,
   "metadata": {},
   "outputs": [],
   "source": [
    "units = 32 # RNN状态向量长度f\n",
    "epochs = 50 # 训练epochs\n",
    "\n",
    "model = MyLSTM(units)\n",
    "# 装配\n",
    "model.compile(optimizer = optimizers.Adam(0.001),\n",
    "              loss = losses.BinaryCrossentropy(),\n",
    "              metrics=['accuracy'])"
   ]
  },
  {
   "cell_type": "code",
   "execution_count": 50,
   "metadata": {
    "scrolled": true
   },
   "outputs": [
    {
     "name": "stdout",
     "output_type": "stream",
     "text": [
      "Epoch 1/50\n",
      "48/48 [==============================] - 7s 137ms/step - loss: 0.6437 - accuracy: 0.6251 - val_loss: 0.0000e+00 - val_accuracy: 0.0000e+00\n",
      "Epoch 2/50\n",
      "48/48 [==============================] - 2s 46ms/step - loss: 0.4045 - accuracy: 0.8269 - val_loss: 0.3764 - val_accuracy: 0.8317\n",
      "Epoch 3/50\n",
      "48/48 [==============================] - 2s 46ms/step - loss: 0.3077 - accuracy: 0.8788 - val_loss: 0.3683 - val_accuracy: 0.8351\n",
      "Epoch 4/50\n",
      "48/48 [==============================] - 2s 46ms/step - loss: 0.2627 - accuracy: 0.9001 - val_loss: 0.4351 - val_accuracy: 0.8284\n",
      "Epoch 5/50\n",
      "48/48 [==============================] - 2s 46ms/step - loss: 0.2353 - accuracy: 0.9135 - val_loss: 0.4397 - val_accuracy: 0.8291\n",
      "Epoch 6/50\n",
      "48/48 [==============================] - 2s 46ms/step - loss: 0.2073 - accuracy: 0.9227 - val_loss: 0.4576 - val_accuracy: 0.8266\n",
      "Epoch 7/50\n",
      "48/48 [==============================] - 2s 46ms/step - loss: 0.1936 - accuracy: 0.9282 - val_loss: 0.4996 - val_accuracy: 0.8238\n",
      "Epoch 8/50\n",
      "48/48 [==============================] - 2s 46ms/step - loss: 0.1589 - accuracy: 0.9421 - val_loss: 0.5849 - val_accuracy: 0.8188\n",
      "Epoch 9/50\n",
      "48/48 [==============================] - 2s 46ms/step - loss: 0.1413 - accuracy: 0.9479 - val_loss: 0.6845 - val_accuracy: 0.8181\n",
      "Epoch 10/50\n",
      "48/48 [==============================] - 2s 46ms/step - loss: 0.1262 - accuracy: 0.9538 - val_loss: 0.7217 - val_accuracy: 0.8079\n",
      "Epoch 11/50\n",
      "48/48 [==============================] - 2s 46ms/step - loss: 0.1139 - accuracy: 0.9585 - val_loss: 0.7512 - val_accuracy: 0.8134\n",
      "Epoch 12/50\n",
      "48/48 [==============================] - 2s 46ms/step - loss: 0.0985 - accuracy: 0.9652 - val_loss: 0.7679 - val_accuracy: 0.8130\n",
      "Epoch 13/50\n",
      "48/48 [==============================] - 2s 46ms/step - loss: 0.0915 - accuracy: 0.9664 - val_loss: 0.7699 - val_accuracy: 0.8114\n",
      "Epoch 14/50\n",
      "48/48 [==============================] - 2s 46ms/step - loss: 0.0820 - accuracy: 0.9718 - val_loss: 0.9222 - val_accuracy: 0.8094\n",
      "Epoch 15/50\n",
      "48/48 [==============================] - 2s 46ms/step - loss: 0.0664 - accuracy: 0.9772 - val_loss: 1.0656 - val_accuracy: 0.8081\n",
      "Epoch 16/50\n",
      "48/48 [==============================] - 2s 45ms/step - loss: 0.0684 - accuracy: 0.9756 - val_loss: 0.9552 - val_accuracy: 0.8084\n",
      "Epoch 17/50\n",
      "48/48 [==============================] - 2s 46ms/step - loss: 0.0598 - accuracy: 0.9795 - val_loss: 1.0820 - val_accuracy: 0.8030\n",
      "Epoch 18/50\n",
      "48/48 [==============================] - 2s 46ms/step - loss: 0.0547 - accuracy: 0.9808 - val_loss: 1.0442 - val_accuracy: 0.8092\n",
      "Epoch 19/50\n",
      "48/48 [==============================] - 2s 45ms/step - loss: 0.0607 - accuracy: 0.9784 - val_loss: 1.0914 - val_accuracy: 0.8085\n",
      "Epoch 20/50\n",
      "48/48 [==============================] - 2s 45ms/step - loss: 0.0553 - accuracy: 0.9806 - val_loss: 1.0951 - val_accuracy: 0.8058\n",
      "Epoch 21/50\n",
      "48/48 [==============================] - 2s 46ms/step - loss: 0.0425 - accuracy: 0.9851 - val_loss: 1.1307 - val_accuracy: 0.8098\n",
      "Epoch 22/50\n",
      "48/48 [==============================] - 2s 46ms/step - loss: 0.0404 - accuracy: 0.9863 - val_loss: 1.1862 - val_accuracy: 0.8086\n",
      "Epoch 23/50\n",
      "48/48 [==============================] - 2s 46ms/step - loss: 0.0394 - accuracy: 0.9871 - val_loss: 1.2098 - val_accuracy: 0.8087\n",
      "Epoch 24/50\n",
      "48/48 [==============================] - 2s 45ms/step - loss: 0.0349 - accuracy: 0.9880 - val_loss: 1.3385 - val_accuracy: 0.8037\n",
      "Epoch 25/50\n",
      "48/48 [==============================] - 2s 45ms/step - loss: 0.0372 - accuracy: 0.9868 - val_loss: 1.1668 - val_accuracy: 0.8090\n",
      "Epoch 26/50\n",
      "48/48 [==============================] - 2s 46ms/step - loss: 0.0389 - accuracy: 0.9872 - val_loss: 1.1564 - val_accuracy: 0.8094\n",
      "Epoch 27/50\n",
      "48/48 [==============================] - 2s 45ms/step - loss: 0.0287 - accuracy: 0.9901 - val_loss: 1.3206 - val_accuracy: 0.8046\n",
      "Epoch 28/50\n",
      "48/48 [==============================] - 2s 46ms/step - loss: 0.0234 - accuracy: 0.9933 - val_loss: 1.4467 - val_accuracy: 0.8074\n",
      "Epoch 29/50\n",
      "48/48 [==============================] - 2s 45ms/step - loss: 0.0269 - accuracy: 0.9910 - val_loss: 1.4476 - val_accuracy: 0.8061\n",
      "Epoch 30/50\n",
      "48/48 [==============================] - 2s 46ms/step - loss: 0.0235 - accuracy: 0.9916 - val_loss: 1.5729 - val_accuracy: 0.8029\n",
      "Epoch 31/50\n",
      "48/48 [==============================] - 2s 45ms/step - loss: 0.0192 - accuracy: 0.9943 - val_loss: 1.7445 - val_accuracy: 0.8066\n",
      "Epoch 32/50\n",
      "48/48 [==============================] - 2s 46ms/step - loss: 0.0194 - accuracy: 0.9934 - val_loss: 1.6375 - val_accuracy: 0.8075\n",
      "Epoch 33/50\n",
      "48/48 [==============================] - 2s 45ms/step - loss: 0.0183 - accuracy: 0.9938 - val_loss: 1.7212 - val_accuracy: 0.8063\n",
      "Epoch 34/50\n",
      "48/48 [==============================] - 2s 45ms/step - loss: 0.0201 - accuracy: 0.9928 - val_loss: 1.6551 - val_accuracy: 0.8064\n",
      "Epoch 35/50\n",
      "48/48 [==============================] - 2s 45ms/step - loss: 0.0222 - accuracy: 0.9925 - val_loss: 1.5175 - val_accuracy: 0.8062\n",
      "Epoch 36/50\n",
      "48/48 [==============================] - 2s 46ms/step - loss: 0.0243 - accuracy: 0.9919 - val_loss: 1.3720 - val_accuracy: 0.8068\n",
      "Epoch 37/50\n",
      "48/48 [==============================] - 2s 47ms/step - loss: 0.0230 - accuracy: 0.9920 - val_loss: 1.5588 - val_accuracy: 0.8038\n",
      "Epoch 38/50\n",
      "48/48 [==============================] - 2s 45ms/step - loss: 0.0175 - accuracy: 0.9947 - val_loss: 1.5566 - val_accuracy: 0.8029\n",
      "Epoch 39/50\n",
      "48/48 [==============================] - 2s 46ms/step - loss: 0.0150 - accuracy: 0.9949 - val_loss: 1.7297 - val_accuracy: 0.8051\n",
      "Epoch 40/50\n",
      "48/48 [==============================] - 2s 45ms/step - loss: 0.0171 - accuracy: 0.9945 - val_loss: 1.7542 - val_accuracy: 0.8065\n",
      "Epoch 41/50\n",
      "48/48 [==============================] - 2s 45ms/step - loss: 0.0152 - accuracy: 0.9951 - val_loss: 1.7740 - val_accuracy: 0.8064\n",
      "Epoch 42/50\n",
      "48/48 [==============================] - 2s 46ms/step - loss: 0.0162 - accuracy: 0.9948 - val_loss: 1.6316 - val_accuracy: 0.8088\n",
      "Epoch 43/50\n",
      "48/48 [==============================] - 2s 47ms/step - loss: 0.0176 - accuracy: 0.9943 - val_loss: 1.8703 - val_accuracy: 0.8027\n",
      "Epoch 44/50\n",
      "48/48 [==============================] - 2s 47ms/step - loss: 0.0169 - accuracy: 0.9956 - val_loss: 1.6828 - val_accuracy: 0.8053\n",
      "Epoch 45/50\n",
      "48/48 [==============================] - 2s 47ms/step - loss: 0.0153 - accuracy: 0.9950 - val_loss: 1.8893 - val_accuracy: 0.8014\n",
      "Epoch 46/50\n",
      "48/48 [==============================] - 2s 45ms/step - loss: 0.0138 - accuracy: 0.9959 - val_loss: 1.8187 - val_accuracy: 0.8024\n",
      "Epoch 47/50\n",
      "48/48 [==============================] - 2s 47ms/step - loss: 0.0154 - accuracy: 0.9957 - val_loss: 1.8299 - val_accuracy: 0.8043\n",
      "Epoch 48/50\n",
      "48/48 [==============================] - 2s 47ms/step - loss: 0.0180 - accuracy: 0.9950 - val_loss: 1.6443 - val_accuracy: 0.8031\n",
      "Epoch 49/50\n",
      "48/48 [==============================] - 2s 46ms/step - loss: 0.0126 - accuracy: 0.9963 - val_loss: 1.5832 - val_accuracy: 0.8053\n",
      "Epoch 50/50\n",
      "48/48 [==============================] - 2s 46ms/step - loss: 0.0170 - accuracy: 0.9949 - val_loss: 1.5653 - val_accuracy: 0.8026\n"
     ]
    },
    {
     "data": {
      "text/plain": [
       "<tensorflow.python.keras.callbacks.History at 0x1ab9a0c3438>"
      ]
     },
     "execution_count": 50,
     "metadata": {},
     "output_type": "execute_result"
    }
   ],
   "source": [
    "# 训练和验证\n",
    "model.fit(db_train, epochs=epochs, validation_data=db_test)"
   ]
  },
  {
   "cell_type": "code",
   "execution_count": 51,
   "metadata": {},
   "outputs": [
    {
     "name": "stdout",
     "output_type": "stream",
     "text": [
      "48/48 [==============================] - 1s 12ms/step - loss: 1.5653 - accuracy: 0.8026\n"
     ]
    },
    {
     "data": {
      "text/plain": [
       "[1.5652667904893558, 0.8025716]"
      ]
     },
     "execution_count": 51,
     "metadata": {},
     "output_type": "execute_result"
    }
   ],
   "source": [
    "# 测试\n",
    "model.evaluate(db_test)"
   ]
  },
  {
   "cell_type": "markdown",
   "metadata": {},
   "source": [
    "### GRU文本情感分析实战"
   ]
  },
  {
   "cell_type": "code",
   "execution_count": 52,
   "metadata": {},
   "outputs": [],
   "source": [
    "class MyGRU(keras.Model):\n",
    "    # Cell方式构建多层网络\n",
    "    def __init__(self, units):\n",
    "        super(MyGRU, self).__init__() \n",
    "        # 词向量编码 [b, 80] => [b, 80, 100]\n",
    "        self.embedding = layers.Embedding(total_words, embedding_len,\n",
    "                                          input_length=max_review_len)\n",
    "        # 构建RNN\n",
    "        self.rnn = keras.Sequential([\n",
    "            layers.GRU(units, dropout=0.5, return_sequences=True),\n",
    "            layers.GRU(units, dropout=0.5)\n",
    "        ])\n",
    "        # 构建分类网络，用于将CELL的输出特征进行分类，2分类\n",
    "        # [b, 80, 100] => [b, 64] => [b, 1]\n",
    "        self.outlayer = Sequential([\n",
    "            layers.Dense(32),\n",
    "            layers.Dropout(rate=0.5),\n",
    "            layers.ReLU(),\n",
    "            layers.Dense(1)])\n",
    "\n",
    "    def call(self, inputs, training=None):\n",
    "        x = inputs # [b, 80]\n",
    "        # embedding: [b, 80] => [b, 80, 100]\n",
    "        x = self.embedding(x)\n",
    "        # rnn cell compute,[b, 80, 100] => [b, 64]\n",
    "        x = self.rnn(x)\n",
    "        # 末层最后一个输出作为分类网络的输入: [b, 64] => [b, 1]\n",
    "        x = self.outlayer(x,training)\n",
    "        # p(y is pos|x)\n",
    "        prob = tf.sigmoid(x)\n",
    "\n",
    "        return prob"
   ]
  },
  {
   "cell_type": "code",
   "execution_count": 53,
   "metadata": {},
   "outputs": [],
   "source": [
    "units = 32 # RNN状态向量长度f\n",
    "epochs = 50 # 训练epochs\n",
    "\n",
    "model = MyGRU(units)\n",
    "# 装配\n",
    "model.compile(optimizer = optimizers.Adam(0.001),\n",
    "              loss = losses.BinaryCrossentropy(),\n",
    "              metrics=['accuracy'])"
   ]
  },
  {
   "cell_type": "code",
   "execution_count": 54,
   "metadata": {
    "scrolled": true
   },
   "outputs": [
    {
     "name": "stdout",
     "output_type": "stream",
     "text": [
      "Epoch 1/50\n",
      "48/48 [==============================] - 6s 116ms/step - loss: 0.6758 - accuracy: 0.5812 - val_loss: 0.0000e+00 - val_accuracy: 0.0000e+00\n",
      "Epoch 2/50\n",
      "48/48 [==============================] - 2s 45ms/step - loss: 0.4593 - accuracy: 0.7940 - val_loss: 0.3759 - val_accuracy: 0.8321\n",
      "Epoch 3/50\n",
      "48/48 [==============================] - 2s 44ms/step - loss: 0.3197 - accuracy: 0.8713 - val_loss: 0.3675 - val_accuracy: 0.8428\n",
      "Epoch 4/50\n",
      "48/48 [==============================] - 2s 45ms/step - loss: 0.2661 - accuracy: 0.9006 - val_loss: 0.3988 - val_accuracy: 0.8358\n",
      "Epoch 5/50\n",
      "48/48 [==============================] - 2s 44ms/step - loss: 0.2385 - accuracy: 0.9095 - val_loss: 0.4050 - val_accuracy: 0.8319\n",
      "Epoch 6/50\n",
      "48/48 [==============================] - 2s 48ms/step - loss: 0.2051 - accuracy: 0.9245 - val_loss: 0.4339 - val_accuracy: 0.8298\n",
      "Epoch 7/50\n",
      "48/48 [==============================] - 2s 44ms/step - loss: 0.2002 - accuracy: 0.9263 - val_loss: 0.4551 - val_accuracy: 0.8277\n",
      "Epoch 8/50\n",
      "48/48 [==============================] - 2s 44ms/step - loss: 0.1723 - accuracy: 0.9394 - val_loss: 0.5732 - val_accuracy: 0.8211\n",
      "Epoch 9/50\n",
      "48/48 [==============================] - 2s 45ms/step - loss: 0.1543 - accuracy: 0.9462 - val_loss: 0.6210 - val_accuracy: 0.8199\n",
      "Epoch 10/50\n",
      "48/48 [==============================] - 2s 44ms/step - loss: 0.1420 - accuracy: 0.9508 - val_loss: 0.6747 - val_accuracy: 0.8163\n",
      "Epoch 11/50\n",
      "48/48 [==============================] - 2s 44ms/step - loss: 0.1289 - accuracy: 0.9565 - val_loss: 0.7313 - val_accuracy: 0.8165\n",
      "Epoch 12/50\n",
      "48/48 [==============================] - 2s 45ms/step - loss: 0.1255 - accuracy: 0.9553 - val_loss: 0.6820 - val_accuracy: 0.8145\n",
      "Epoch 13/50\n",
      "48/48 [==============================] - 2s 44ms/step - loss: 0.1190 - accuracy: 0.9586 - val_loss: 0.6864 - val_accuracy: 0.8137\n",
      "Epoch 14/50\n",
      "48/48 [==============================] - 2s 44ms/step - loss: 0.1051 - accuracy: 0.9633 - val_loss: 0.7056 - val_accuracy: 0.8125\n",
      "Epoch 15/50\n",
      "48/48 [==============================] - 2s 44ms/step - loss: 0.0997 - accuracy: 0.9653 - val_loss: 0.7213 - val_accuracy: 0.8073\n",
      "Epoch 16/50\n",
      "48/48 [==============================] - 2s 44ms/step - loss: 0.0860 - accuracy: 0.9703 - val_loss: 0.7729 - val_accuracy: 0.8081\n",
      "Epoch 17/50\n",
      "48/48 [==============================] - 2s 44ms/step - loss: 0.0772 - accuracy: 0.9732 - val_loss: 0.8573 - val_accuracy: 0.8063\n",
      "Epoch 18/50\n",
      "48/48 [==============================] - 2s 43ms/step - loss: 0.0651 - accuracy: 0.9781 - val_loss: 0.9120 - val_accuracy: 0.8080\n",
      "Epoch 19/50\n",
      "48/48 [==============================] - 2s 44ms/step - loss: 0.0600 - accuracy: 0.9792 - val_loss: 1.0219 - val_accuracy: 0.8070\n",
      "Epoch 20/50\n",
      "48/48 [==============================] - 2s 43ms/step - loss: 0.0587 - accuracy: 0.9802 - val_loss: 1.0061 - val_accuracy: 0.8044\n",
      "Epoch 21/50\n",
      "48/48 [==============================] - 2s 44ms/step - loss: 0.0576 - accuracy: 0.9798 - val_loss: 1.0029 - val_accuracy: 0.8068\n",
      "Epoch 22/50\n",
      "48/48 [==============================] - 2s 51ms/step - loss: 0.0500 - accuracy: 0.9824 - val_loss: 1.0819 - val_accuracy: 0.8010\n",
      "Epoch 23/50\n",
      "48/48 [==============================] - 2s 48ms/step - loss: 0.0466 - accuracy: 0.9838 - val_loss: 1.1783 - val_accuracy: 0.8032\n",
      "Epoch 24/50\n",
      "48/48 [==============================] - 2s 44ms/step - loss: 0.0483 - accuracy: 0.9838 - val_loss: 1.1172 - val_accuracy: 0.8031\n",
      "Epoch 25/50\n",
      "48/48 [==============================] - 2s 44ms/step - loss: 0.0453 - accuracy: 0.9855 - val_loss: 1.1726 - val_accuracy: 0.8007\n",
      "Epoch 26/50\n",
      "48/48 [==============================] - 2s 43ms/step - loss: 0.0420 - accuracy: 0.9860 - val_loss: 1.2503 - val_accuracy: 0.7992\n",
      "Epoch 27/50\n",
      "48/48 [==============================] - 2s 43ms/step - loss: 0.0359 - accuracy: 0.9879 - val_loss: 1.3346 - val_accuracy: 0.8007\n",
      "Epoch 28/50\n",
      "48/48 [==============================] - 2s 43ms/step - loss: 0.0346 - accuracy: 0.9892 - val_loss: 1.4074 - val_accuracy: 0.8018\n",
      "Epoch 29/50\n",
      "48/48 [==============================] - 2s 44ms/step - loss: 0.0384 - accuracy: 0.9870 - val_loss: 1.3875 - val_accuracy: 0.8035\n",
      "Epoch 30/50\n",
      "48/48 [==============================] - 2s 43ms/step - loss: 0.0357 - accuracy: 0.9873 - val_loss: 1.3687 - val_accuracy: 0.7965\n",
      "Epoch 31/50\n",
      "48/48 [==============================] - 2s 44ms/step - loss: 0.0315 - accuracy: 0.9898 - val_loss: 1.6167 - val_accuracy: 0.7997\n",
      "Epoch 32/50\n",
      "48/48 [==============================] - 2s 44ms/step - loss: 0.0347 - accuracy: 0.9887 - val_loss: 1.2939 - val_accuracy: 0.8034\n",
      "Epoch 33/50\n",
      "48/48 [==============================] - 2s 44ms/step - loss: 0.0326 - accuracy: 0.9895 - val_loss: 1.3549 - val_accuracy: 0.8032\n",
      "Epoch 34/50\n",
      "48/48 [==============================] - 2s 44ms/step - loss: 0.0277 - accuracy: 0.9910 - val_loss: 1.4561 - val_accuracy: 0.8033\n",
      "Epoch 35/50\n",
      "48/48 [==============================] - 2s 44ms/step - loss: 0.0274 - accuracy: 0.9907 - val_loss: 1.4186 - val_accuracy: 0.7992\n",
      "Epoch 36/50\n",
      "48/48 [==============================] - 2s 44ms/step - loss: 0.0270 - accuracy: 0.9913 - val_loss: 1.4233 - val_accuracy: 0.8029\n",
      "Epoch 37/50\n",
      "48/48 [==============================] - 2s 44ms/step - loss: 0.0271 - accuracy: 0.9907 - val_loss: 1.4166 - val_accuracy: 0.8028\n",
      "Epoch 38/50\n",
      "48/48 [==============================] - 2s 43ms/step - loss: 0.0280 - accuracy: 0.9915 - val_loss: 1.4061 - val_accuracy: 0.8032\n",
      "Epoch 39/50\n",
      "48/48 [==============================] - 2s 43ms/step - loss: 0.0252 - accuracy: 0.9919 - val_loss: 1.6110 - val_accuracy: 0.8005\n",
      "Epoch 40/50\n",
      "48/48 [==============================] - 2s 44ms/step - loss: 0.0229 - accuracy: 0.9924 - val_loss: 1.4964 - val_accuracy: 0.8020\n",
      "Epoch 41/50\n",
      "48/48 [==============================] - 2s 44ms/step - loss: 0.0227 - accuracy: 0.9932 - val_loss: 1.5885 - val_accuracy: 0.8024\n",
      "Epoch 42/50\n",
      "48/48 [==============================] - 2s 44ms/step - loss: 0.0237 - accuracy: 0.9922 - val_loss: 1.6163 - val_accuracy: 0.8027\n",
      "Epoch 43/50\n",
      "48/48 [==============================] - 2s 44ms/step - loss: 0.0224 - accuracy: 0.9930 - val_loss: 1.7098 - val_accuracy: 0.8027\n",
      "Epoch 44/50\n",
      "48/48 [==============================] - 2s 43ms/step - loss: 0.0253 - accuracy: 0.9919 - val_loss: 1.6712 - val_accuracy: 0.8008\n",
      "Epoch 45/50\n",
      "48/48 [==============================] - 2s 43ms/step - loss: 0.0215 - accuracy: 0.9926 - val_loss: 1.6413 - val_accuracy: 0.8022\n",
      "Epoch 46/50\n",
      "48/48 [==============================] - 2s 44ms/step - loss: 0.0203 - accuracy: 0.9936 - val_loss: 1.6972 - val_accuracy: 0.8009\n",
      "Epoch 47/50\n",
      "48/48 [==============================] - 2s 44ms/step - loss: 0.0231 - accuracy: 0.9919 - val_loss: 1.6890 - val_accuracy: 0.7999\n",
      "Epoch 48/50\n",
      "48/48 [==============================] - 2s 44ms/step - loss: 0.0220 - accuracy: 0.9931 - val_loss: 1.8268 - val_accuracy: 0.7993\n",
      "Epoch 49/50\n",
      "48/48 [==============================] - 2s 44ms/step - loss: 0.0209 - accuracy: 0.9936 - val_loss: 1.6095 - val_accuracy: 0.8003\n",
      "Epoch 50/50\n",
      "48/48 [==============================] - 2s 44ms/step - loss: 0.0175 - accuracy: 0.9948 - val_loss: 1.8934 - val_accuracy: 0.7992\n"
     ]
    },
    {
     "data": {
      "text/plain": [
       "<tensorflow.python.keras.callbacks.History at 0x1ab98e83518>"
      ]
     },
     "execution_count": 54,
     "metadata": {},
     "output_type": "execute_result"
    }
   ],
   "source": [
    "# 训练和验证\n",
    "model.fit(db_train, epochs=epochs, validation_data=db_test)"
   ]
  },
  {
   "cell_type": "code",
   "execution_count": 55,
   "metadata": {},
   "outputs": [
    {
     "name": "stdout",
     "output_type": "stream",
     "text": [
      "48/48 [==============================] - 1s 11ms/step - loss: 1.8934 - accuracy: 0.7992\n"
     ]
    },
    {
     "data": {
      "text/plain": [
       "[1.8933717434604962, 0.79919434]"
      ]
     },
     "execution_count": 55,
     "metadata": {},
     "output_type": "execute_result"
    }
   ],
   "source": [
    "# 测试\n",
    "model.evaluate(db_test)"
   ]
  },
  {
   "cell_type": "markdown",
   "metadata": {},
   "source": [
    "## 加载预训练模型LSTM"
   ]
  },
  {
   "cell_type": "code",
   "execution_count": 33,
   "metadata": {},
   "outputs": [
    {
     "name": "stdout",
     "output_type": "stream",
     "text": [
      "Indexing word vectors.\n"
     ]
    }
   ],
   "source": [
    "print('Indexing word vectors.')\n",
    "embeddings_index = {}\n",
    "GLOVE_DIR = r'C:\\Users\\sha\\AppData\\Roaming\\mxnet\\embeddings\\glove'\n",
    "with open(os.path.join(GLOVE_DIR, 'glove.6B.100d.txt'),encoding='utf-8') as f:\n",
    "    for line in f:\n",
    "        values = line.split()\n",
    "        word = values[0]\n",
    "        coefs = np.asarray(values[1:], dtype='float32')\n",
    "        embeddings_index[word] = coefs"
   ]
  },
  {
   "cell_type": "code",
   "execution_count": 34,
   "metadata": {},
   "outputs": [
    {
     "name": "stdout",
     "output_type": "stream",
     "text": [
      "Found 400000 word vectors.\n"
     ]
    }
   ],
   "source": [
    "print('Found %s word vectors.' % len(embeddings_index))"
   ]
  },
  {
   "cell_type": "code",
   "execution_count": 35,
   "metadata": {},
   "outputs": [
    {
     "data": {
      "text/plain": [
       "(400000, 88584)"
      ]
     },
     "execution_count": 35,
     "metadata": {},
     "output_type": "execute_result"
    }
   ],
   "source": [
    "len(embeddings_index.keys()),len(word_index.keys())"
   ]
  },
  {
   "cell_type": "code",
   "execution_count": 36,
   "metadata": {},
   "outputs": [],
   "source": [
    "MAX_NUM_WORDS = total_words\n",
    "# prepare embedding matrix\n",
    "num_words = min(MAX_NUM_WORDS, len(word_index))\n",
    "embedding_matrix = np.zeros((num_words, embedding_len))\n",
    "applied_vec_count = 0"
   ]
  },
  {
   "cell_type": "code",
   "execution_count": 37,
   "metadata": {},
   "outputs": [
    {
     "data": {
      "text/plain": [
       "(10000, 100)"
      ]
     },
     "execution_count": 37,
     "metadata": {},
     "output_type": "execute_result"
    }
   ],
   "source": [
    "embedding_matrix.shape"
   ]
  },
  {
   "cell_type": "code",
   "execution_count": 38,
   "metadata": {},
   "outputs": [
    {
     "name": "stdout",
     "output_type": "stream",
     "text": [
      "9796 (10000, 100)\n"
     ]
    }
   ],
   "source": [
    "for word, i in word_index.items():\n",
    "    if i >= MAX_NUM_WORDS:\n",
    "        continue\n",
    "    embedding_vector = embeddings_index.get(word)\n",
    "    # print(word,embedding_vector)\n",
    "    if embedding_vector is not None:\n",
    "        # words not found in embedding index will be all-zeros.\n",
    "        embedding_matrix[i] = embedding_vector\n",
    "        applied_vec_count += 1\n",
    "print(applied_vec_count, embedding_matrix.shape)"
   ]
  },
  {
   "cell_type": "code",
   "execution_count": 39,
   "metadata": {},
   "outputs": [],
   "source": [
    "class MyLSTM(keras.Model):\n",
    "    # Cell方式构建多层网络\n",
    "    def __init__(self, units):\n",
    "        super(MyLSTM, self).__init__() \n",
    "        # 词向量编码 [b, 80] => [b, 80, 100]\n",
    "        self.embedding = layers.Embedding(total_words, embedding_len,\n",
    "                                          input_length=max_review_len,\n",
    "                                          trainable=True)\n",
    "        self.embedding.build(input_shape=(None,max_review_len))\n",
    "        self.embedding.set_weights([embedding_matrix])\n",
    "        # 构建RNN\n",
    "        self.rnn = keras.Sequential([\n",
    "            layers.LSTM(units, dropout=0.5, return_sequences=True),\n",
    "            layers.LSTM(units, dropout=0.5)\n",
    "        ])\n",
    "        # 构建分类网络，用于将CELL的输出特征进行分类，2分类\n",
    "        # [b, 80, 100] => [b, 64] => [b, 1]\n",
    "        self.outlayer = Sequential([\n",
    "            layers.Dense(32),\n",
    "            layers.Dropout(rate=0.5),\n",
    "            layers.ReLU(),\n",
    "            layers.Dense(1)])\n",
    "\n",
    "    def call(self, inputs, training=None):\n",
    "        x = inputs # [b, 80]\n",
    "        # embedding: [b, 80] => [b, 80, 100]\n",
    "        x = self.embedding(x)\n",
    "        # rnn cell compute,[b, 80, 100] => [b, 64]\n",
    "        x = self.rnn(x)\n",
    "        # 末层最后一个输出作为分类网络的输入: [b, 64] => [b, 1]\n",
    "        x = self.outlayer(x,training)\n",
    "        # p(y is pos|x)\n",
    "        prob = tf.sigmoid(x)\n",
    "\n",
    "        return prob"
   ]
  },
  {
   "cell_type": "code",
   "execution_count": 40,
   "metadata": {},
   "outputs": [],
   "source": [
    "units = 32 # RNN状态向量长度f\n",
    "epochs = 50 # 训练epochs\n",
    "\n",
    "model = MyLSTM(units)\n",
    "# 装配\n",
    "model.compile(optimizer = optimizers.Adam(0.001),\n",
    "              loss = losses.BinaryCrossentropy(),\n",
    "              metrics=['accuracy'])"
   ]
  },
  {
   "cell_type": "code",
   "execution_count": 45,
   "metadata": {
    "scrolled": true
   },
   "outputs": [
    {
     "name": "stdout",
     "output_type": "stream",
     "text": [
      "Epoch 1/50\n",
      "48/48 [==============================] - 10s 213ms/step - loss: 0.6937 - accuracy: 0.5037 - val_loss: 0.0000e+00 - val_accuracy: 0.0000e+00\n",
      "Epoch 2/50\n",
      "48/48 [==============================] - 3s 66ms/step - loss: 0.6855 - accuracy: 0.5454 - val_loss: 0.7127 - val_accuracy: 0.5658\n",
      "Epoch 3/50\n",
      "48/48 [==============================] - 3s 67ms/step - loss: 0.6423 - accuracy: 0.6464 - val_loss: 0.5879 - val_accuracy: 0.7035\n",
      "Epoch 4/50\n",
      "48/48 [==============================] - 3s 66ms/step - loss: 0.5665 - accuracy: 0.7194 - val_loss: 0.5112 - val_accuracy: 0.7511\n",
      "Epoch 5/50\n",
      "48/48 [==============================] - 3s 67ms/step - loss: 0.4956 - accuracy: 0.7725 - val_loss: 0.4571 - val_accuracy: 0.7846\n",
      "Epoch 6/50\n",
      "48/48 [==============================] - 3s 64ms/step - loss: 0.4444 - accuracy: 0.8009 - val_loss: 0.4197 - val_accuracy: 0.8084\n",
      "Epoch 7/50\n",
      "48/48 [==============================] - 3s 67ms/step - loss: 0.4140 - accuracy: 0.8194 - val_loss: 0.4040 - val_accuracy: 0.8179\n",
      "Epoch 8/50\n",
      "48/48 [==============================] - 3s 67ms/step - loss: 0.3841 - accuracy: 0.8358 - val_loss: 0.3856 - val_accuracy: 0.8260\n",
      "Epoch 9/50\n",
      "48/48 [==============================] - 3s 68ms/step - loss: 0.3558 - accuracy: 0.8507 - val_loss: 0.3842 - val_accuracy: 0.8315\n",
      "Epoch 10/50\n",
      "48/48 [==============================] - 3s 68ms/step - loss: 0.3440 - accuracy: 0.8590 - val_loss: 0.3835 - val_accuracy: 0.8336\n",
      "Epoch 11/50\n",
      "48/48 [==============================] - 3s 66ms/step - loss: 0.3283 - accuracy: 0.8640 - val_loss: 0.3732 - val_accuracy: 0.8352\n",
      "Epoch 12/50\n",
      "48/48 [==============================] - 3s 69ms/step - loss: 0.3140 - accuracy: 0.8702 - val_loss: 0.3787 - val_accuracy: 0.8393\n",
      "Epoch 13/50\n",
      "48/48 [==============================] - 3s 70ms/step - loss: 0.2998 - accuracy: 0.8766 - val_loss: 0.3862 - val_accuracy: 0.8395\n",
      "Epoch 14/50\n",
      "48/48 [==============================] - 3s 68ms/step - loss: 0.2920 - accuracy: 0.8815 - val_loss: 0.3853 - val_accuracy: 0.8399\n",
      "Epoch 15/50\n",
      "48/48 [==============================] - 3s 68ms/step - loss: 0.2833 - accuracy: 0.8871 - val_loss: 0.3753 - val_accuracy: 0.8414\n",
      "Epoch 16/50\n",
      "48/48 [==============================] - 3s 66ms/step - loss: 0.2720 - accuracy: 0.8916 - val_loss: 0.3925 - val_accuracy: 0.8407\n",
      "Epoch 17/50\n",
      "48/48 [==============================] - 3s 67ms/step - loss: 0.2624 - accuracy: 0.8927 - val_loss: 0.3986 - val_accuracy: 0.8410\n",
      "Epoch 18/50\n",
      "48/48 [==============================] - 3s 67ms/step - loss: 0.2573 - accuracy: 0.8980 - val_loss: 0.3938 - val_accuracy: 0.8413\n",
      "Epoch 19/50\n",
      "48/48 [==============================] - 3s 67ms/step - loss: 0.2473 - accuracy: 0.9016 - val_loss: 0.4093 - val_accuracy: 0.8406\n",
      "Epoch 20/50\n",
      "48/48 [==============================] - 3s 66ms/step - loss: 0.2404 - accuracy: 0.9060 - val_loss: 0.4159 - val_accuracy: 0.8403\n",
      "Epoch 21/50\n",
      "48/48 [==============================] - 3s 66ms/step - loss: 0.2352 - accuracy: 0.9073 - val_loss: 0.4243 - val_accuracy: 0.8403\n",
      "Epoch 22/50\n",
      "48/48 [==============================] - 3s 69ms/step - loss: 0.2276 - accuracy: 0.9122 - val_loss: 0.4195 - val_accuracy: 0.8411\n",
      "Epoch 23/50\n",
      "48/48 [==============================] - 3s 67ms/step - loss: 0.2261 - accuracy: 0.9119 - val_loss: 0.4160 - val_accuracy: 0.8400\n",
      "Epoch 24/50\n",
      "48/48 [==============================] - 3s 66ms/step - loss: 0.2173 - accuracy: 0.9154 - val_loss: 0.4364 - val_accuracy: 0.8399\n",
      "Epoch 25/50\n",
      "48/48 [==============================] - 3s 64ms/step - loss: 0.2097 - accuracy: 0.9167 - val_loss: 0.4585 - val_accuracy: 0.8390\n",
      "Epoch 26/50\n",
      "48/48 [==============================] - 3s 64ms/step - loss: 0.2100 - accuracy: 0.9182 - val_loss: 0.4559 - val_accuracy: 0.8376\n",
      "Epoch 27/50\n",
      "48/48 [==============================] - 3s 65ms/step - loss: 0.2060 - accuracy: 0.9222 - val_loss: 0.4824 - val_accuracy: 0.8365\n",
      "Epoch 28/50\n",
      "48/48 [==============================] - 3s 64ms/step - loss: 0.2019 - accuracy: 0.9220 - val_loss: 0.4481 - val_accuracy: 0.8358\n",
      "Epoch 29/50\n",
      "48/48 [==============================] - 3s 63ms/step - loss: 0.1928 - accuracy: 0.9258 - val_loss: 0.4807 - val_accuracy: 0.8375\n",
      "Epoch 30/50\n",
      "48/48 [==============================] - 3s 65ms/step - loss: 0.1889 - accuracy: 0.9287 - val_loss: 0.4939 - val_accuracy: 0.8376\n",
      "Epoch 31/50\n",
      "48/48 [==============================] - 3s 66ms/step - loss: 0.1803 - accuracy: 0.9301 - val_loss: 0.5268 - val_accuracy: 0.8353\n",
      "Epoch 32/50\n",
      "48/48 [==============================] - 3s 63ms/step - loss: 0.1791 - accuracy: 0.9306 - val_loss: 0.4964 - val_accuracy: 0.8348\n",
      "Epoch 33/50\n",
      "48/48 [==============================] - 3s 67ms/step - loss: 0.1775 - accuracy: 0.9318 - val_loss: 0.5444 - val_accuracy: 0.8338\n",
      "Epoch 34/50\n",
      "48/48 [==============================] - 3s 65ms/step - loss: 0.1728 - accuracy: 0.9329 - val_loss: 0.5388 - val_accuracy: 0.8348\n",
      "Epoch 35/50\n",
      "48/48 [==============================] - 3s 65ms/step - loss: 0.1703 - accuracy: 0.9370 - val_loss: 0.4979 - val_accuracy: 0.8344\n",
      "Epoch 36/50\n",
      "48/48 [==============================] - 3s 67ms/step - loss: 0.1642 - accuracy: 0.9385 - val_loss: 0.5954 - val_accuracy: 0.8319\n",
      "Epoch 37/50\n",
      "48/48 [==============================] - 3s 69ms/step - loss: 0.1644 - accuracy: 0.9379 - val_loss: 0.6031 - val_accuracy: 0.8323\n",
      "Epoch 38/50\n",
      "48/48 [==============================] - 3s 68ms/step - loss: 0.1622 - accuracy: 0.9390 - val_loss: 0.5753 - val_accuracy: 0.8324\n",
      "Epoch 39/50\n",
      "48/48 [==============================] - 3s 67ms/step - loss: 0.1521 - accuracy: 0.9432 - val_loss: 0.5685 - val_accuracy: 0.8319\n",
      "Epoch 40/50\n",
      "48/48 [==============================] - 3s 68ms/step - loss: 0.1493 - accuracy: 0.9457 - val_loss: 0.5786 - val_accuracy: 0.8322\n",
      "Epoch 41/50\n",
      "48/48 [==============================] - 3s 66ms/step - loss: 0.1490 - accuracy: 0.9439 - val_loss: 0.5897 - val_accuracy: 0.8317\n",
      "Epoch 42/50\n",
      "48/48 [==============================] - 3s 71ms/step - loss: 0.1430 - accuracy: 0.9442 - val_loss: 0.5969 - val_accuracy: 0.8332\n",
      "Epoch 43/50\n",
      "48/48 [==============================] - 3s 65ms/step - loss: 0.1423 - accuracy: 0.9472 - val_loss: 0.5893 - val_accuracy: 0.8315\n",
      "Epoch 44/50\n",
      "48/48 [==============================] - 3s 65ms/step - loss: 0.1399 - accuracy: 0.9495 - val_loss: 0.6657 - val_accuracy: 0.8289\n",
      "Epoch 45/50\n",
      "48/48 [==============================] - 3s 64ms/step - loss: 0.1338 - accuracy: 0.9489 - val_loss: 0.6216 - val_accuracy: 0.8312\n",
      "Epoch 46/50\n",
      "48/48 [==============================] - 3s 65ms/step - loss: 0.1337 - accuracy: 0.9509 - val_loss: 0.6579 - val_accuracy: 0.8313\n",
      "Epoch 47/50\n",
      "48/48 [==============================] - 3s 64ms/step - loss: 0.1288 - accuracy: 0.9516 - val_loss: 0.6661 - val_accuracy: 0.8307\n",
      "Epoch 48/50\n",
      "48/48 [==============================] - 3s 68ms/step - loss: 0.1246 - accuracy: 0.9534 - val_loss: 0.6794 - val_accuracy: 0.8308\n",
      "Epoch 49/50\n",
      "48/48 [==============================] - 3s 66ms/step - loss: 0.1199 - accuracy: 0.9569 - val_loss: 0.7093 - val_accuracy: 0.8295\n",
      "Epoch 50/50\n",
      "48/48 [==============================] - 3s 66ms/step - loss: 0.1195 - accuracy: 0.9549 - val_loss: 0.6964 - val_accuracy: 0.8309\n"
     ]
    },
    {
     "data": {
      "text/plain": [
       "<tensorflow.python.keras.callbacks.History at 0x2c387f49048>"
      ]
     },
     "execution_count": 45,
     "metadata": {},
     "output_type": "execute_result"
    }
   ],
   "source": [
    "# 训练和验证\n",
    "model.fit(db_train, epochs=epochs, validation_data=db_test)"
   ]
  },
  {
   "cell_type": "code",
   "execution_count": 46,
   "metadata": {},
   "outputs": [
    {
     "name": "stdout",
     "output_type": "stream",
     "text": [
      "48/48 [==============================] - 1s 17ms/step - loss: 0.6964 - accuracy: 0.8309\n"
     ]
    },
    {
     "data": {
      "text/plain": [
       "[0.6964077167212963, 0.8308919]"
      ]
     },
     "execution_count": 46,
     "metadata": {},
     "output_type": "execute_result"
    }
   ],
   "source": [
    "# 测试\n",
    "model.evaluate(db_test)"
   ]
  },
  {
   "cell_type": "markdown",
   "metadata": {},
   "source": [
    "## 使用Cell构建基本RNN文本情感分析网络"
   ]
  },
  {
   "cell_type": "code",
   "execution_count": 47,
   "metadata": {},
   "outputs": [],
   "source": [
    "class MyRNNCell(keras.Model):\n",
    "    # Cell方式构建多层网络\n",
    "    def __init__(self, units):\n",
    "        super(MyRNNCell, self).__init__()\n",
    "        # [b, 64]，构建Cell初始化状态向量，重复使用\n",
    "        self.state0 = [tf.zeros([batchsz, units])]\n",
    "        self.state1 = [tf.zeros([batchsz, units])]\n",
    "        # 词向量编码 [b, 80] => [b, 80, 100]\n",
    "        self.embedding = layers.Embedding(total_words, embedding_len,\n",
    "                                          input_length=max_review_len)\n",
    "        # 构建2个Cell\n",
    "        self.rnn_cell0 = layers.SimpleRNNCell(units, dropout=0.5)\n",
    "        self.rnn_cell1 = layers.SimpleRNNCell(units, dropout=0.5)\n",
    "        # 构建分类网络，用于将CELL的输出特征进行分类，2分类\n",
    "        # [b, 80, 100] => [b, 64] => [b, 1]\n",
    "        self.outlayer = Sequential([\n",
    "            layers.Dense(units),\n",
    "            layers.Dropout(rate=0.5),\n",
    "            layers.ReLU(),\n",
    "            layers.Dense(1)])\n",
    "\n",
    "    def call(self, inputs, training=None):\n",
    "        x = inputs # [b, 80]\n",
    "        # embedding: [b, 80] => [b, 80, 100]\n",
    "        x = self.embedding(x)\n",
    "        # rnn cell compute,[b, 80, 100] => [b, 64]\n",
    "        state0 = self.state0\n",
    "        state1 = self.state1\n",
    "        for word in tf.unstack(x, axis=1): # word: [b, 100] \n",
    "            out0, state0 = self.rnn_cell0(word, state0, training) \n",
    "            out1, state1 = self.rnn_cell1(out0, state1, training)\n",
    "        # 末层最后一个输出作为分类网络的输入: [b, 64] => [b, 1]\n",
    "        x = self.outlayer(out1, training)\n",
    "        # p(y is pos|x)\n",
    "        prob = tf.sigmoid(x)\n",
    "\n",
    "        return prob"
   ]
  },
  {
   "cell_type": "code",
   "execution_count": 48,
   "metadata": {},
   "outputs": [],
   "source": [
    "units = 64 # RNN状态向量长度f\n",
    "epochs = 2 # 训练epochs\n",
    "\n",
    "model = MyRNNCell(units)\n",
    "# 装配\n",
    "model.compile(optimizer = optimizers.RMSprop(0.001),\n",
    "              loss = losses.BinaryCrossentropy(),\n",
    "              metrics=['accuracy'])"
   ]
  },
  {
   "cell_type": "code",
   "execution_count": 49,
   "metadata": {},
   "outputs": [
    {
     "name": "stdout",
     "output_type": "stream",
     "text": [
      "(512, 80) (512,)\n",
      "(512, 80) (512,)\n"
     ]
    }
   ],
   "source": [
    "for x,y in db_train:\n",
    "    print(x.shape,y.shape)\n",
    "    break\n",
    "for x,y in db_test:\n",
    "    print(x.shape,y.shape)\n",
    "    break"
   ]
  },
  {
   "cell_type": "code",
   "execution_count": 50,
   "metadata": {},
   "outputs": [],
   "source": [
    "# tf.config.experimental_run_functions_eagerly(True)"
   ]
  },
  {
   "cell_type": "code",
   "execution_count": 51,
   "metadata": {},
   "outputs": [
    {
     "name": "stdout",
     "output_type": "stream",
     "text": [
      "Epoch 1/2\n",
      "      1/Unknown - 5s 5s/step"
     ]
    },
    {
     "ename": "_SymbolicException",
     "evalue": "Inputs to eager execution function cannot be Keras symbolic tensors, but found [<tf.Tensor 'my_rnn_cell/simple_rnn_cell_8/cond/Identity:0' shape=(None, 100) dtype=float32>, <tf.Tensor 'my_rnn_cell/simple_rnn_cell_9/cond/Identity:0' shape=(512, 64) dtype=float32>]",
     "output_type": "error",
     "traceback": [
      "\u001b[1;31m---------------------------------------------------------------------------\u001b[0m",
      "\u001b[1;31mTypeError\u001b[0m                                 Traceback (most recent call last)",
      "\u001b[1;32mc:\\users\\sha\\anaconda3\\envs\\tensorflow2\\lib\\site-packages\\tensorflow_core\\python\\eager\\execute.py\u001b[0m in \u001b[0;36mquick_execute\u001b[1;34m(op_name, num_outputs, inputs, attrs, ctx, name)\u001b[0m\n\u001b[0;32m     60\u001b[0m                                                \u001b[0mop_name\u001b[0m\u001b[1;33m,\u001b[0m \u001b[0minputs\u001b[0m\u001b[1;33m,\u001b[0m \u001b[0mattrs\u001b[0m\u001b[1;33m,\u001b[0m\u001b[1;33m\u001b[0m\u001b[0m\n\u001b[1;32m---> 61\u001b[1;33m                                                num_outputs)\n\u001b[0m\u001b[0;32m     62\u001b[0m   \u001b[1;32mexcept\u001b[0m \u001b[0mcore\u001b[0m\u001b[1;33m.\u001b[0m\u001b[0m_NotOkStatusException\u001b[0m \u001b[1;32mas\u001b[0m \u001b[0me\u001b[0m\u001b[1;33m:\u001b[0m\u001b[1;33m\u001b[0m\u001b[0m\n",
      "\u001b[1;31mTypeError\u001b[0m: An op outside of the function building code is being passed\na \"Graph\" tensor. It is possible to have Graph tensors\nleak out of the function building context by including a\ntf.init_scope in your function building code.\nFor example, the following function will fail:\n  @tf.function\n  def has_init_scope():\n    my_constant = tf.constant(1.)\n    with tf.init_scope():\n      added = my_constant * 2\nThe graph tensor has name: my_rnn_cell/simple_rnn_cell_8/cond/Identity:0",
      "\nDuring handling of the above exception, another exception occurred:\n",
      "\u001b[1;31m_SymbolicException\u001b[0m                        Traceback (most recent call last)",
      "\u001b[1;32m<ipython-input-51-c03931c51918>\u001b[0m in \u001b[0;36m<module>\u001b[1;34m\u001b[0m\n\u001b[1;32m----> 1\u001b[1;33m \u001b[0mmodel\u001b[0m\u001b[1;33m.\u001b[0m\u001b[0mfit\u001b[0m\u001b[1;33m(\u001b[0m\u001b[0mdb_train\u001b[0m\u001b[1;33m,\u001b[0m \u001b[0mepochs\u001b[0m\u001b[1;33m=\u001b[0m\u001b[0mepochs\u001b[0m\u001b[1;33m,\u001b[0m \u001b[0mvalidation_data\u001b[0m\u001b[1;33m=\u001b[0m\u001b[0mdb_test\u001b[0m\u001b[1;33m)\u001b[0m\u001b[1;33m\u001b[0m\u001b[0m\n\u001b[0m",
      "\u001b[1;32mc:\\users\\sha\\anaconda3\\envs\\tensorflow2\\lib\\site-packages\\tensorflow_core\\python\\keras\\engine\\training.py\u001b[0m in \u001b[0;36mfit\u001b[1;34m(self, x, y, batch_size, epochs, verbose, callbacks, validation_split, validation_data, shuffle, class_weight, sample_weight, initial_epoch, steps_per_epoch, validation_steps, validation_freq, max_queue_size, workers, use_multiprocessing, **kwargs)\u001b[0m\n\u001b[0;32m    726\u001b[0m         \u001b[0mmax_queue_size\u001b[0m\u001b[1;33m=\u001b[0m\u001b[0mmax_queue_size\u001b[0m\u001b[1;33m,\u001b[0m\u001b[1;33m\u001b[0m\u001b[0m\n\u001b[0;32m    727\u001b[0m         \u001b[0mworkers\u001b[0m\u001b[1;33m=\u001b[0m\u001b[0mworkers\u001b[0m\u001b[1;33m,\u001b[0m\u001b[1;33m\u001b[0m\u001b[0m\n\u001b[1;32m--> 728\u001b[1;33m         use_multiprocessing=use_multiprocessing)\n\u001b[0m\u001b[0;32m    729\u001b[0m \u001b[1;33m\u001b[0m\u001b[0m\n\u001b[0;32m    730\u001b[0m   def evaluate(self,\n",
      "\u001b[1;32mc:\\users\\sha\\anaconda3\\envs\\tensorflow2\\lib\\site-packages\\tensorflow_core\\python\\keras\\engine\\training_v2.py\u001b[0m in \u001b[0;36mfit\u001b[1;34m(self, model, x, y, batch_size, epochs, verbose, callbacks, validation_split, validation_data, shuffle, class_weight, sample_weight, initial_epoch, steps_per_epoch, validation_steps, validation_freq, **kwargs)\u001b[0m\n\u001b[0;32m    322\u001b[0m                 \u001b[0mmode\u001b[0m\u001b[1;33m=\u001b[0m\u001b[0mModeKeys\u001b[0m\u001b[1;33m.\u001b[0m\u001b[0mTRAIN\u001b[0m\u001b[1;33m,\u001b[0m\u001b[1;33m\u001b[0m\u001b[0m\n\u001b[0;32m    323\u001b[0m                 \u001b[0mtraining_context\u001b[0m\u001b[1;33m=\u001b[0m\u001b[0mtraining_context\u001b[0m\u001b[1;33m,\u001b[0m\u001b[1;33m\u001b[0m\u001b[0m\n\u001b[1;32m--> 324\u001b[1;33m                 total_epochs=epochs)\n\u001b[0m\u001b[0;32m    325\u001b[0m             \u001b[0mcbks\u001b[0m\u001b[1;33m.\u001b[0m\u001b[0mmake_logs\u001b[0m\u001b[1;33m(\u001b[0m\u001b[0mmodel\u001b[0m\u001b[1;33m,\u001b[0m \u001b[0mepoch_logs\u001b[0m\u001b[1;33m,\u001b[0m \u001b[0mtraining_result\u001b[0m\u001b[1;33m,\u001b[0m \u001b[0mModeKeys\u001b[0m\u001b[1;33m.\u001b[0m\u001b[0mTRAIN\u001b[0m\u001b[1;33m)\u001b[0m\u001b[1;33m\u001b[0m\u001b[0m\n\u001b[0;32m    326\u001b[0m \u001b[1;33m\u001b[0m\u001b[0m\n",
      "\u001b[1;32mc:\\users\\sha\\anaconda3\\envs\\tensorflow2\\lib\\site-packages\\tensorflow_core\\python\\keras\\engine\\training_v2.py\u001b[0m in \u001b[0;36mrun_one_epoch\u001b[1;34m(model, iterator, execution_function, dataset_size, batch_size, strategy, steps_per_epoch, num_samples, mode, training_context, total_epochs)\u001b[0m\n\u001b[0;32m    121\u001b[0m         step=step, mode=mode, size=current_batch_size) as batch_logs:\n\u001b[0;32m    122\u001b[0m       \u001b[1;32mtry\u001b[0m\u001b[1;33m:\u001b[0m\u001b[1;33m\u001b[0m\u001b[0m\n\u001b[1;32m--> 123\u001b[1;33m         \u001b[0mbatch_outs\u001b[0m \u001b[1;33m=\u001b[0m \u001b[0mexecution_function\u001b[0m\u001b[1;33m(\u001b[0m\u001b[0miterator\u001b[0m\u001b[1;33m)\u001b[0m\u001b[1;33m\u001b[0m\u001b[0m\n\u001b[0m\u001b[0;32m    124\u001b[0m       \u001b[1;32mexcept\u001b[0m \u001b[1;33m(\u001b[0m\u001b[0mStopIteration\u001b[0m\u001b[1;33m,\u001b[0m \u001b[0merrors\u001b[0m\u001b[1;33m.\u001b[0m\u001b[0mOutOfRangeError\u001b[0m\u001b[1;33m)\u001b[0m\u001b[1;33m:\u001b[0m\u001b[1;33m\u001b[0m\u001b[0m\n\u001b[0;32m    125\u001b[0m         \u001b[1;31m# TODO(kaftan): File bug about tf function and errors.OutOfRangeError?\u001b[0m\u001b[1;33m\u001b[0m\u001b[1;33m\u001b[0m\u001b[0m\n",
      "\u001b[1;32mc:\\users\\sha\\anaconda3\\envs\\tensorflow2\\lib\\site-packages\\tensorflow_core\\python\\keras\\engine\\training_v2_utils.py\u001b[0m in \u001b[0;36mexecution_function\u001b[1;34m(input_fn)\u001b[0m\n\u001b[0;32m     84\u001b[0m     \u001b[1;31m# `numpy` translates Tensors to values in Eager mode.\u001b[0m\u001b[1;33m\u001b[0m\u001b[1;33m\u001b[0m\u001b[0m\n\u001b[0;32m     85\u001b[0m     return nest.map_structure(_non_none_constant_value,\n\u001b[1;32m---> 86\u001b[1;33m                               distributed_function(input_fn))\n\u001b[0m\u001b[0;32m     87\u001b[0m \u001b[1;33m\u001b[0m\u001b[0m\n\u001b[0;32m     88\u001b[0m   \u001b[1;32mreturn\u001b[0m \u001b[0mexecution_function\u001b[0m\u001b[1;33m\u001b[0m\u001b[0m\n",
      "\u001b[1;32mc:\\users\\sha\\anaconda3\\envs\\tensorflow2\\lib\\site-packages\\tensorflow_core\\python\\eager\\def_function.py\u001b[0m in \u001b[0;36m__call__\u001b[1;34m(self, *args, **kwds)\u001b[0m\n\u001b[0;32m    455\u001b[0m \u001b[1;33m\u001b[0m\u001b[0m\n\u001b[0;32m    456\u001b[0m     \u001b[0mtracing_count\u001b[0m \u001b[1;33m=\u001b[0m \u001b[0mself\u001b[0m\u001b[1;33m.\u001b[0m\u001b[0m_get_tracing_count\u001b[0m\u001b[1;33m(\u001b[0m\u001b[1;33m)\u001b[0m\u001b[1;33m\u001b[0m\u001b[0m\n\u001b[1;32m--> 457\u001b[1;33m     \u001b[0mresult\u001b[0m \u001b[1;33m=\u001b[0m \u001b[0mself\u001b[0m\u001b[1;33m.\u001b[0m\u001b[0m_call\u001b[0m\u001b[1;33m(\u001b[0m\u001b[1;33m*\u001b[0m\u001b[0margs\u001b[0m\u001b[1;33m,\u001b[0m \u001b[1;33m**\u001b[0m\u001b[0mkwds\u001b[0m\u001b[1;33m)\u001b[0m\u001b[1;33m\u001b[0m\u001b[0m\n\u001b[0m\u001b[0;32m    458\u001b[0m     \u001b[1;32mif\u001b[0m \u001b[0mtracing_count\u001b[0m \u001b[1;33m==\u001b[0m \u001b[0mself\u001b[0m\u001b[1;33m.\u001b[0m\u001b[0m_get_tracing_count\u001b[0m\u001b[1;33m(\u001b[0m\u001b[1;33m)\u001b[0m\u001b[1;33m:\u001b[0m\u001b[1;33m\u001b[0m\u001b[0m\n\u001b[0;32m    459\u001b[0m       \u001b[0mself\u001b[0m\u001b[1;33m.\u001b[0m\u001b[0m_call_counter\u001b[0m\u001b[1;33m.\u001b[0m\u001b[0mcalled_without_tracing\u001b[0m\u001b[1;33m(\u001b[0m\u001b[1;33m)\u001b[0m\u001b[1;33m\u001b[0m\u001b[0m\n",
      "\u001b[1;32mc:\\users\\sha\\anaconda3\\envs\\tensorflow2\\lib\\site-packages\\tensorflow_core\\python\\eager\\def_function.py\u001b[0m in \u001b[0;36m_call\u001b[1;34m(self, *args, **kwds)\u001b[0m\n\u001b[0;32m    518\u001b[0m         \u001b[1;31m# Lifting succeeded, so variables are initialized and we can run the\u001b[0m\u001b[1;33m\u001b[0m\u001b[1;33m\u001b[0m\u001b[0m\n\u001b[0;32m    519\u001b[0m         \u001b[1;31m# stateless function.\u001b[0m\u001b[1;33m\u001b[0m\u001b[1;33m\u001b[0m\u001b[0m\n\u001b[1;32m--> 520\u001b[1;33m         \u001b[1;32mreturn\u001b[0m \u001b[0mself\u001b[0m\u001b[1;33m.\u001b[0m\u001b[0m_stateless_fn\u001b[0m\u001b[1;33m(\u001b[0m\u001b[1;33m*\u001b[0m\u001b[0margs\u001b[0m\u001b[1;33m,\u001b[0m \u001b[1;33m**\u001b[0m\u001b[0mkwds\u001b[0m\u001b[1;33m)\u001b[0m\u001b[1;33m\u001b[0m\u001b[0m\n\u001b[0m\u001b[0;32m    521\u001b[0m     \u001b[1;32melse\u001b[0m\u001b[1;33m:\u001b[0m\u001b[1;33m\u001b[0m\u001b[0m\n\u001b[0;32m    522\u001b[0m       \u001b[0mcanon_args\u001b[0m\u001b[1;33m,\u001b[0m \u001b[0mcanon_kwds\u001b[0m \u001b[1;33m=\u001b[0m\u001b[0;31m \u001b[0m\u001b[0;31m\\\u001b[0m\u001b[1;33m\u001b[0m\u001b[0m\n",
      "\u001b[1;32mc:\\users\\sha\\anaconda3\\envs\\tensorflow2\\lib\\site-packages\\tensorflow_core\\python\\eager\\function.py\u001b[0m in \u001b[0;36m__call__\u001b[1;34m(self, *args, **kwargs)\u001b[0m\n\u001b[0;32m   1821\u001b[0m     \u001b[1;34m\"\"\"Calls a graph function specialized to the inputs.\"\"\"\u001b[0m\u001b[1;33m\u001b[0m\u001b[0m\n\u001b[0;32m   1822\u001b[0m     \u001b[0mgraph_function\u001b[0m\u001b[1;33m,\u001b[0m \u001b[0margs\u001b[0m\u001b[1;33m,\u001b[0m \u001b[0mkwargs\u001b[0m \u001b[1;33m=\u001b[0m \u001b[0mself\u001b[0m\u001b[1;33m.\u001b[0m\u001b[0m_maybe_define_function\u001b[0m\u001b[1;33m(\u001b[0m\u001b[0margs\u001b[0m\u001b[1;33m,\u001b[0m \u001b[0mkwargs\u001b[0m\u001b[1;33m)\u001b[0m\u001b[1;33m\u001b[0m\u001b[0m\n\u001b[1;32m-> 1823\u001b[1;33m     \u001b[1;32mreturn\u001b[0m \u001b[0mgraph_function\u001b[0m\u001b[1;33m.\u001b[0m\u001b[0m_filtered_call\u001b[0m\u001b[1;33m(\u001b[0m\u001b[0margs\u001b[0m\u001b[1;33m,\u001b[0m \u001b[0mkwargs\u001b[0m\u001b[1;33m)\u001b[0m  \u001b[1;31m# pylint: disable=protected-access\u001b[0m\u001b[1;33m\u001b[0m\u001b[0m\n\u001b[0m\u001b[0;32m   1824\u001b[0m \u001b[1;33m\u001b[0m\u001b[0m\n\u001b[0;32m   1825\u001b[0m   \u001b[1;33m@\u001b[0m\u001b[0mproperty\u001b[0m\u001b[1;33m\u001b[0m\u001b[0m\n",
      "\u001b[1;32mc:\\users\\sha\\anaconda3\\envs\\tensorflow2\\lib\\site-packages\\tensorflow_core\\python\\eager\\function.py\u001b[0m in \u001b[0;36m_filtered_call\u001b[1;34m(self, args, kwargs)\u001b[0m\n\u001b[0;32m   1139\u001b[0m          if isinstance(t, (ops.Tensor,\n\u001b[0;32m   1140\u001b[0m                            resource_variable_ops.BaseResourceVariable))),\n\u001b[1;32m-> 1141\u001b[1;33m         self.captured_inputs)\n\u001b[0m\u001b[0;32m   1142\u001b[0m \u001b[1;33m\u001b[0m\u001b[0m\n\u001b[0;32m   1143\u001b[0m   \u001b[1;32mdef\u001b[0m \u001b[0m_call_flat\u001b[0m\u001b[1;33m(\u001b[0m\u001b[0mself\u001b[0m\u001b[1;33m,\u001b[0m \u001b[0margs\u001b[0m\u001b[1;33m,\u001b[0m \u001b[0mcaptured_inputs\u001b[0m\u001b[1;33m,\u001b[0m \u001b[0mcancellation_manager\u001b[0m\u001b[1;33m=\u001b[0m\u001b[1;32mNone\u001b[0m\u001b[1;33m)\u001b[0m\u001b[1;33m:\u001b[0m\u001b[1;33m\u001b[0m\u001b[0m\n",
      "\u001b[1;32mc:\\users\\sha\\anaconda3\\envs\\tensorflow2\\lib\\site-packages\\tensorflow_core\\python\\eager\\function.py\u001b[0m in \u001b[0;36m_call_flat\u001b[1;34m(self, args, captured_inputs, cancellation_manager)\u001b[0m\n\u001b[0;32m   1222\u001b[0m     \u001b[1;32mif\u001b[0m \u001b[0mexecuting_eagerly\u001b[0m\u001b[1;33m:\u001b[0m\u001b[1;33m\u001b[0m\u001b[0m\n\u001b[0;32m   1223\u001b[0m       flat_outputs = forward_function.call(\n\u001b[1;32m-> 1224\u001b[1;33m           ctx, args, cancellation_manager=cancellation_manager)\n\u001b[0m\u001b[0;32m   1225\u001b[0m     \u001b[1;32melse\u001b[0m\u001b[1;33m:\u001b[0m\u001b[1;33m\u001b[0m\u001b[0m\n\u001b[0;32m   1226\u001b[0m       \u001b[0mgradient_name\u001b[0m \u001b[1;33m=\u001b[0m \u001b[0mself\u001b[0m\u001b[1;33m.\u001b[0m\u001b[0m_delayed_rewrite_functions\u001b[0m\u001b[1;33m.\u001b[0m\u001b[0mregister\u001b[0m\u001b[1;33m(\u001b[0m\u001b[1;33m)\u001b[0m\u001b[1;33m\u001b[0m\u001b[0m\n",
      "\u001b[1;32mc:\\users\\sha\\anaconda3\\envs\\tensorflow2\\lib\\site-packages\\tensorflow_core\\python\\eager\\function.py\u001b[0m in \u001b[0;36mcall\u001b[1;34m(self, ctx, args, cancellation_manager)\u001b[0m\n\u001b[0;32m    509\u001b[0m               \u001b[0minputs\u001b[0m\u001b[1;33m=\u001b[0m\u001b[0margs\u001b[0m\u001b[1;33m,\u001b[0m\u001b[1;33m\u001b[0m\u001b[0m\n\u001b[0;32m    510\u001b[0m               \u001b[0mattrs\u001b[0m\u001b[1;33m=\u001b[0m\u001b[1;33m(\u001b[0m\u001b[1;34m\"executor_type\"\u001b[0m\u001b[1;33m,\u001b[0m \u001b[0mexecutor_type\u001b[0m\u001b[1;33m,\u001b[0m \u001b[1;34m\"config_proto\"\u001b[0m\u001b[1;33m,\u001b[0m \u001b[0mconfig\u001b[0m\u001b[1;33m)\u001b[0m\u001b[1;33m,\u001b[0m\u001b[1;33m\u001b[0m\u001b[0m\n\u001b[1;32m--> 511\u001b[1;33m               ctx=ctx)\n\u001b[0m\u001b[0;32m    512\u001b[0m         \u001b[1;32melse\u001b[0m\u001b[1;33m:\u001b[0m\u001b[1;33m\u001b[0m\u001b[0m\n\u001b[0;32m    513\u001b[0m           outputs = execute.execute_with_cancellation(\n",
      "\u001b[1;32mc:\\users\\sha\\anaconda3\\envs\\tensorflow2\\lib\\site-packages\\tensorflow_core\\python\\eager\\execute.py\u001b[0m in \u001b[0;36mquick_execute\u001b[1;34m(op_name, num_outputs, inputs, attrs, ctx, name)\u001b[0m\n\u001b[0;32m     73\u001b[0m       raise core._SymbolicException(\n\u001b[0;32m     74\u001b[0m           \u001b[1;34m\"Inputs to eager execution function cannot be Keras symbolic \"\u001b[0m\u001b[1;33m\u001b[0m\u001b[0m\n\u001b[1;32m---> 75\u001b[1;33m           \"tensors, but found {}\".format(keras_symbolic_tensors))\n\u001b[0m\u001b[0;32m     76\u001b[0m     \u001b[1;32mraise\u001b[0m \u001b[0me\u001b[0m\u001b[1;33m\u001b[0m\u001b[0m\n\u001b[0;32m     77\u001b[0m   \u001b[1;31m# pylint: enable=protected-access\u001b[0m\u001b[1;33m\u001b[0m\u001b[1;33m\u001b[0m\u001b[0m\n",
      "\u001b[1;31m_SymbolicException\u001b[0m: Inputs to eager execution function cannot be Keras symbolic tensors, but found [<tf.Tensor 'my_rnn_cell/simple_rnn_cell_8/cond/Identity:0' shape=(None, 100) dtype=float32>, <tf.Tensor 'my_rnn_cell/simple_rnn_cell_9/cond/Identity:0' shape=(512, 64) dtype=float32>]"
     ]
    }
   ],
   "source": [
    "model.fit(db_train, epochs=epochs, validation_data=db_test)"
   ]
  },
  {
   "cell_type": "code",
   "execution_count": null,
   "metadata": {},
   "outputs": [],
   "source": [
    "# 测试\n",
    "model.evaluate(db_test)"
   ]
  },
  {
   "cell_type": "code",
   "execution_count": null,
   "metadata": {},
   "outputs": [],
   "source": []
  },
  {
   "cell_type": "markdown",
   "metadata": {},
   "source": [
    "## 使用Cell构建基本RNN文本情感分析网络"
   ]
  },
  {
   "cell_type": "code",
   "execution_count": 157,
   "metadata": {},
   "outputs": [],
   "source": [
    "class MyRNNCell(keras.Model):\n",
    "    # Cell\n",
    "    def __init__(self, units):\n",
    "        super(MyRNNCell, self).__init__()\n",
    "        # [b, 64]\n",
    "        self.state0 = [tf.zeros([batchsz, units])]\n",
    "        self.state1 = [tf.zeros([batchsz, units])]\n",
    "        #  [b, 80] => [b, 80, 100]\n",
    "        self.embedding = layers.Embedding(total_words, embedding_len,\n",
    "                                          input_length=max_review_len)\n",
    "        # 构建2个Cell\n",
    "        self.rnn_cell0 = layers.SimpleRNNCell(units, dropout=0.5)\n",
    "        self.rnn_cell1 = layers.SimpleRNNCell(units, dropout=0.5)\n",
    "        # [b, 80, 100] => [b, 64] => [b, 1]\n",
    "        self.outlayer = Sequential([\n",
    "            layers.Dense(units),\n",
    "            layers.Dropout(rate=0.5),\n",
    "            layers.ReLU(),\n",
    "            layers.Dense(1)])\n",
    "\n",
    "    def call(self, inputs, training=None):\n",
    "        x = inputs # [b, 80]\n",
    "        # embedding: [b, 80] => [b, 80, 100]\n",
    "        x = self.embedding(x)\n",
    "        # rnn cell compute,[b, 80, 100] => [b, 64]\n",
    "        state0 = self.state0\n",
    "        state1 = self.state1\n",
    "        for word in tf.unstack(x, axis=1): # word: [b, 100] \n",
    "            out0, state0 = self.rnn_cell0(word, state0, training) \n",
    "            out1, state1 = self.rnn_cell1(out0, state1, training)\n",
    "        # [b, 64] => [b, 1]\n",
    "        x = self.outlayer(out1, training)\n",
    "        # p(y is pos|x)\n",
    "        prob = tf.sigmoid(x)\n",
    "\n",
    "        return prob"
   ]
  },
  {
   "cell_type": "code",
   "execution_count": 158,
   "metadata": {},
   "outputs": [],
   "source": [
    "units = 64 # RNN\n",
    "epochs = 2 # epochs\n",
    "\n",
    "model = MyRNNCell(units)\n",
    "# \n",
    "# model.compile(optimizer = optimizers.RMSprop(0.001),\n",
    "#               loss = losses.BinaryCrossentropy(),\n",
    "#               metrics=['accuracy'])"
   ]
  },
  {
   "cell_type": "code",
   "execution_count": 159,
   "metadata": {},
   "outputs": [
    {
     "name": "stdout",
     "output_type": "stream",
     "text": [
      "(128, 80) (128,)\n",
      "(128, 80) (128,)\n"
     ]
    }
   ],
   "source": [
    "for x,y in db_train:\n",
    "    print(x.shape,y.shape)\n",
    "    break\n",
    "for x,y in db_test:\n",
    "    print(x.shape,y.shape)\n",
    "    break"
   ]
  },
  {
   "cell_type": "code",
   "execution_count": 160,
   "metadata": {},
   "outputs": [],
   "source": [
    "# tf.config.experimental_run_functions_eagerly(False)"
   ]
  },
  {
   "cell_type": "code",
   "execution_count": 161,
   "metadata": {},
   "outputs": [],
   "source": [
    "loss_object = tf.keras.losses.BinaryCrossentropy()\n",
    "\n",
    "optimizer = tf.keras.optimizers.Adam()"
   ]
  },
  {
   "cell_type": "code",
   "execution_count": 162,
   "metadata": {},
   "outputs": [],
   "source": [
    "train_loss = tf.keras.metrics.Mean(name='train_loss')\n",
    "train_accuracy = tf.keras.metrics.BinaryAccuracy(name='train_accuracy')\n",
    "\n",
    "test_loss = tf.keras.metrics.Mean(name='test_loss')\n",
    "test_accuracy = tf.keras.metrics.BinaryAccuracy(name='test_accuracy')"
   ]
  },
  {
   "cell_type": "code",
   "execution_count": 163,
   "metadata": {},
   "outputs": [],
   "source": [
    "@tf.function\n",
    "def train_step(x, y):\n",
    "    with tf.GradientTape() as tape:\n",
    "        predictions = model(x)\n",
    "        loss = loss_object(y, predictions)\n",
    "    gradients = tape.gradient(loss, model.trainable_variables)\n",
    "    optimizer.apply_gradients(zip(gradients, model.trainable_variables))\n",
    "\n",
    "    train_loss(loss)\n",
    "    train_accuracy(y, predictions)"
   ]
  },
  {
   "cell_type": "code",
   "execution_count": 164,
   "metadata": {},
   "outputs": [],
   "source": [
    "@tf.function\n",
    "def test_step(test_x, test_y):\n",
    "    predictions = model(test_x)\n",
    "    t_loss = loss_object(test_y, predictions)\n",
    "\n",
    "    test_loss(t_loss)\n",
    "    test_accuracy(test_y, predictions)"
   ]
  },
  {
   "cell_type": "code",
   "execution_count": 165,
   "metadata": {},
   "outputs": [
    {
     "ename": "TypeError",
     "evalue": "An op outside of the function building code is being passed\na \"Graph\" tensor. It is possible to have Graph tensors\nleak out of the function building context by including a\ntf.init_scope in your function building code.\nFor example, the following function will fail:\n  @tf.function\n  def has_init_scope():\n    my_constant = tf.constant(1.)\n    with tf.init_scope():\n      added = my_constant * 2\nThe graph tensor has name: my_rnn_cell_12/simple_rnn_cell_36/ones_like:0",
     "output_type": "error",
     "traceback": [
      "\u001b[1;31m---------------------------------------------------------------------------\u001b[0m",
      "\u001b[1;31mTypeError\u001b[0m                                 Traceback (most recent call last)",
      "\u001b[1;32m<ipython-input-165-d59a3afffc48>\u001b[0m in \u001b[0;36m<module>\u001b[1;34m\u001b[0m\n\u001b[0;32m      3\u001b[0m \u001b[1;32mfor\u001b[0m \u001b[0mepoch\u001b[0m \u001b[1;32min\u001b[0m \u001b[0mrange\u001b[0m\u001b[1;33m(\u001b[0m\u001b[0mEPOCHS\u001b[0m\u001b[1;33m)\u001b[0m\u001b[1;33m:\u001b[0m\u001b[1;33m\u001b[0m\u001b[0m\n\u001b[0;32m      4\u001b[0m     \u001b[1;32mfor\u001b[0m \u001b[0mx\u001b[0m\u001b[1;33m,\u001b[0m \u001b[0my\u001b[0m \u001b[1;32min\u001b[0m \u001b[0mdb_train\u001b[0m\u001b[1;33m:\u001b[0m\u001b[1;33m\u001b[0m\u001b[0m\n\u001b[1;32m----> 5\u001b[1;33m         \u001b[0mtrain_step\u001b[0m\u001b[1;33m(\u001b[0m\u001b[0mx\u001b[0m\u001b[1;33m,\u001b[0m \u001b[0my\u001b[0m\u001b[1;33m)\u001b[0m\u001b[1;33m\u001b[0m\u001b[0m\n\u001b[0m\u001b[0;32m      6\u001b[0m \u001b[1;33m\u001b[0m\u001b[0m\n\u001b[0;32m      7\u001b[0m     \u001b[1;32mfor\u001b[0m \u001b[0mtest_x\u001b[0m\u001b[1;33m,\u001b[0m \u001b[0mtest_y\u001b[0m \u001b[1;32min\u001b[0m \u001b[0mdb_test\u001b[0m\u001b[1;33m:\u001b[0m\u001b[1;33m\u001b[0m\u001b[0m\n",
      "\u001b[1;32mc:\\users\\sha\\anaconda3\\envs\\tensorflow2\\lib\\site-packages\\tensorflow_core\\python\\eager\\def_function.py\u001b[0m in \u001b[0;36m__call__\u001b[1;34m(self, *args, **kwds)\u001b[0m\n\u001b[0;32m    455\u001b[0m \u001b[1;33m\u001b[0m\u001b[0m\n\u001b[0;32m    456\u001b[0m     \u001b[0mtracing_count\u001b[0m \u001b[1;33m=\u001b[0m \u001b[0mself\u001b[0m\u001b[1;33m.\u001b[0m\u001b[0m_get_tracing_count\u001b[0m\u001b[1;33m(\u001b[0m\u001b[1;33m)\u001b[0m\u001b[1;33m\u001b[0m\u001b[0m\n\u001b[1;32m--> 457\u001b[1;33m     \u001b[0mresult\u001b[0m \u001b[1;33m=\u001b[0m \u001b[0mself\u001b[0m\u001b[1;33m.\u001b[0m\u001b[0m_call\u001b[0m\u001b[1;33m(\u001b[0m\u001b[1;33m*\u001b[0m\u001b[0margs\u001b[0m\u001b[1;33m,\u001b[0m \u001b[1;33m**\u001b[0m\u001b[0mkwds\u001b[0m\u001b[1;33m)\u001b[0m\u001b[1;33m\u001b[0m\u001b[0m\n\u001b[0m\u001b[0;32m    458\u001b[0m     \u001b[1;32mif\u001b[0m \u001b[0mtracing_count\u001b[0m \u001b[1;33m==\u001b[0m \u001b[0mself\u001b[0m\u001b[1;33m.\u001b[0m\u001b[0m_get_tracing_count\u001b[0m\u001b[1;33m(\u001b[0m\u001b[1;33m)\u001b[0m\u001b[1;33m:\u001b[0m\u001b[1;33m\u001b[0m\u001b[0m\n\u001b[0;32m    459\u001b[0m       \u001b[0mself\u001b[0m\u001b[1;33m.\u001b[0m\u001b[0m_call_counter\u001b[0m\u001b[1;33m.\u001b[0m\u001b[0mcalled_without_tracing\u001b[0m\u001b[1;33m(\u001b[0m\u001b[1;33m)\u001b[0m\u001b[1;33m\u001b[0m\u001b[0m\n",
      "\u001b[1;32mc:\\users\\sha\\anaconda3\\envs\\tensorflow2\\lib\\site-packages\\tensorflow_core\\python\\eager\\def_function.py\u001b[0m in \u001b[0;36m_call\u001b[1;34m(self, *args, **kwds)\u001b[0m\n\u001b[0;32m    518\u001b[0m         \u001b[1;31m# Lifting succeeded, so variables are initialized and we can run the\u001b[0m\u001b[1;33m\u001b[0m\u001b[1;33m\u001b[0m\u001b[0m\n\u001b[0;32m    519\u001b[0m         \u001b[1;31m# stateless function.\u001b[0m\u001b[1;33m\u001b[0m\u001b[1;33m\u001b[0m\u001b[0m\n\u001b[1;32m--> 520\u001b[1;33m         \u001b[1;32mreturn\u001b[0m \u001b[0mself\u001b[0m\u001b[1;33m.\u001b[0m\u001b[0m_stateless_fn\u001b[0m\u001b[1;33m(\u001b[0m\u001b[1;33m*\u001b[0m\u001b[0margs\u001b[0m\u001b[1;33m,\u001b[0m \u001b[1;33m**\u001b[0m\u001b[0mkwds\u001b[0m\u001b[1;33m)\u001b[0m\u001b[1;33m\u001b[0m\u001b[0m\n\u001b[0m\u001b[0;32m    521\u001b[0m     \u001b[1;32melse\u001b[0m\u001b[1;33m:\u001b[0m\u001b[1;33m\u001b[0m\u001b[0m\n\u001b[0;32m    522\u001b[0m       \u001b[0mcanon_args\u001b[0m\u001b[1;33m,\u001b[0m \u001b[0mcanon_kwds\u001b[0m \u001b[1;33m=\u001b[0m\u001b[0;31m \u001b[0m\u001b[0;31m\\\u001b[0m\u001b[1;33m\u001b[0m\u001b[0m\n",
      "\u001b[1;32mc:\\users\\sha\\anaconda3\\envs\\tensorflow2\\lib\\site-packages\\tensorflow_core\\python\\eager\\function.py\u001b[0m in \u001b[0;36m__call__\u001b[1;34m(self, *args, **kwargs)\u001b[0m\n\u001b[0;32m   1821\u001b[0m     \u001b[1;34m\"\"\"Calls a graph function specialized to the inputs.\"\"\"\u001b[0m\u001b[1;33m\u001b[0m\u001b[0m\n\u001b[0;32m   1822\u001b[0m     \u001b[0mgraph_function\u001b[0m\u001b[1;33m,\u001b[0m \u001b[0margs\u001b[0m\u001b[1;33m,\u001b[0m \u001b[0mkwargs\u001b[0m \u001b[1;33m=\u001b[0m \u001b[0mself\u001b[0m\u001b[1;33m.\u001b[0m\u001b[0m_maybe_define_function\u001b[0m\u001b[1;33m(\u001b[0m\u001b[0margs\u001b[0m\u001b[1;33m,\u001b[0m \u001b[0mkwargs\u001b[0m\u001b[1;33m)\u001b[0m\u001b[1;33m\u001b[0m\u001b[0m\n\u001b[1;32m-> 1823\u001b[1;33m     \u001b[1;32mreturn\u001b[0m \u001b[0mgraph_function\u001b[0m\u001b[1;33m.\u001b[0m\u001b[0m_filtered_call\u001b[0m\u001b[1;33m(\u001b[0m\u001b[0margs\u001b[0m\u001b[1;33m,\u001b[0m \u001b[0mkwargs\u001b[0m\u001b[1;33m)\u001b[0m  \u001b[1;31m# pylint: disable=protected-access\u001b[0m\u001b[1;33m\u001b[0m\u001b[0m\n\u001b[0m\u001b[0;32m   1824\u001b[0m \u001b[1;33m\u001b[0m\u001b[0m\n\u001b[0;32m   1825\u001b[0m   \u001b[1;33m@\u001b[0m\u001b[0mproperty\u001b[0m\u001b[1;33m\u001b[0m\u001b[0m\n",
      "\u001b[1;32mc:\\users\\sha\\anaconda3\\envs\\tensorflow2\\lib\\site-packages\\tensorflow_core\\python\\eager\\function.py\u001b[0m in \u001b[0;36m_filtered_call\u001b[1;34m(self, args, kwargs)\u001b[0m\n\u001b[0;32m   1139\u001b[0m          if isinstance(t, (ops.Tensor,\n\u001b[0;32m   1140\u001b[0m                            resource_variable_ops.BaseResourceVariable))),\n\u001b[1;32m-> 1141\u001b[1;33m         self.captured_inputs)\n\u001b[0m\u001b[0;32m   1142\u001b[0m \u001b[1;33m\u001b[0m\u001b[0m\n\u001b[0;32m   1143\u001b[0m   \u001b[1;32mdef\u001b[0m \u001b[0m_call_flat\u001b[0m\u001b[1;33m(\u001b[0m\u001b[0mself\u001b[0m\u001b[1;33m,\u001b[0m \u001b[0margs\u001b[0m\u001b[1;33m,\u001b[0m \u001b[0mcaptured_inputs\u001b[0m\u001b[1;33m,\u001b[0m \u001b[0mcancellation_manager\u001b[0m\u001b[1;33m=\u001b[0m\u001b[1;32mNone\u001b[0m\u001b[1;33m)\u001b[0m\u001b[1;33m:\u001b[0m\u001b[1;33m\u001b[0m\u001b[0m\n",
      "\u001b[1;32mc:\\users\\sha\\anaconda3\\envs\\tensorflow2\\lib\\site-packages\\tensorflow_core\\python\\eager\\function.py\u001b[0m in \u001b[0;36m_call_flat\u001b[1;34m(self, args, captured_inputs, cancellation_manager)\u001b[0m\n\u001b[0;32m   1222\u001b[0m     \u001b[1;32mif\u001b[0m \u001b[0mexecuting_eagerly\u001b[0m\u001b[1;33m:\u001b[0m\u001b[1;33m\u001b[0m\u001b[0m\n\u001b[0;32m   1223\u001b[0m       flat_outputs = forward_function.call(\n\u001b[1;32m-> 1224\u001b[1;33m           ctx, args, cancellation_manager=cancellation_manager)\n\u001b[0m\u001b[0;32m   1225\u001b[0m     \u001b[1;32melse\u001b[0m\u001b[1;33m:\u001b[0m\u001b[1;33m\u001b[0m\u001b[0m\n\u001b[0;32m   1226\u001b[0m       \u001b[0mgradient_name\u001b[0m \u001b[1;33m=\u001b[0m \u001b[0mself\u001b[0m\u001b[1;33m.\u001b[0m\u001b[0m_delayed_rewrite_functions\u001b[0m\u001b[1;33m.\u001b[0m\u001b[0mregister\u001b[0m\u001b[1;33m(\u001b[0m\u001b[1;33m)\u001b[0m\u001b[1;33m\u001b[0m\u001b[0m\n",
      "\u001b[1;32mc:\\users\\sha\\anaconda3\\envs\\tensorflow2\\lib\\site-packages\\tensorflow_core\\python\\eager\\function.py\u001b[0m in \u001b[0;36mcall\u001b[1;34m(self, ctx, args, cancellation_manager)\u001b[0m\n\u001b[0;32m    509\u001b[0m               \u001b[0minputs\u001b[0m\u001b[1;33m=\u001b[0m\u001b[0margs\u001b[0m\u001b[1;33m,\u001b[0m\u001b[1;33m\u001b[0m\u001b[0m\n\u001b[0;32m    510\u001b[0m               \u001b[0mattrs\u001b[0m\u001b[1;33m=\u001b[0m\u001b[1;33m(\u001b[0m\u001b[1;34m\"executor_type\"\u001b[0m\u001b[1;33m,\u001b[0m \u001b[0mexecutor_type\u001b[0m\u001b[1;33m,\u001b[0m \u001b[1;34m\"config_proto\"\u001b[0m\u001b[1;33m,\u001b[0m \u001b[0mconfig\u001b[0m\u001b[1;33m)\u001b[0m\u001b[1;33m,\u001b[0m\u001b[1;33m\u001b[0m\u001b[0m\n\u001b[1;32m--> 511\u001b[1;33m               ctx=ctx)\n\u001b[0m\u001b[0;32m    512\u001b[0m         \u001b[1;32melse\u001b[0m\u001b[1;33m:\u001b[0m\u001b[1;33m\u001b[0m\u001b[0m\n\u001b[0;32m    513\u001b[0m           outputs = execute.execute_with_cancellation(\n",
      "\u001b[1;32mc:\\users\\sha\\anaconda3\\envs\\tensorflow2\\lib\\site-packages\\tensorflow_core\\python\\eager\\execute.py\u001b[0m in \u001b[0;36mquick_execute\u001b[1;34m(op_name, num_outputs, inputs, attrs, ctx, name)\u001b[0m\n\u001b[0;32m     74\u001b[0m           \u001b[1;34m\"Inputs to eager execution function cannot be Keras symbolic \"\u001b[0m\u001b[1;33m\u001b[0m\u001b[0m\n\u001b[0;32m     75\u001b[0m           \"tensors, but found {}\".format(keras_symbolic_tensors))\n\u001b[1;32m---> 76\u001b[1;33m     \u001b[1;32mraise\u001b[0m \u001b[0me\u001b[0m\u001b[1;33m\u001b[0m\u001b[0m\n\u001b[0m\u001b[0;32m     77\u001b[0m   \u001b[1;31m# pylint: enable=protected-access\u001b[0m\u001b[1;33m\u001b[0m\u001b[1;33m\u001b[0m\u001b[0m\n\u001b[0;32m     78\u001b[0m   \u001b[1;32mreturn\u001b[0m \u001b[0mtensors\u001b[0m\u001b[1;33m\u001b[0m\u001b[0m\n",
      "\u001b[1;32mc:\\users\\sha\\anaconda3\\envs\\tensorflow2\\lib\\site-packages\\tensorflow_core\\python\\eager\\execute.py\u001b[0m in \u001b[0;36mquick_execute\u001b[1;34m(op_name, num_outputs, inputs, attrs, ctx, name)\u001b[0m\n\u001b[0;32m     59\u001b[0m     tensors = pywrap_tensorflow.TFE_Py_Execute(ctx._handle, device_name,\n\u001b[0;32m     60\u001b[0m                                                \u001b[0mop_name\u001b[0m\u001b[1;33m,\u001b[0m \u001b[0minputs\u001b[0m\u001b[1;33m,\u001b[0m \u001b[0mattrs\u001b[0m\u001b[1;33m,\u001b[0m\u001b[1;33m\u001b[0m\u001b[0m\n\u001b[1;32m---> 61\u001b[1;33m                                                num_outputs)\n\u001b[0m\u001b[0;32m     62\u001b[0m   \u001b[1;32mexcept\u001b[0m \u001b[0mcore\u001b[0m\u001b[1;33m.\u001b[0m\u001b[0m_NotOkStatusException\u001b[0m \u001b[1;32mas\u001b[0m \u001b[0me\u001b[0m\u001b[1;33m:\u001b[0m\u001b[1;33m\u001b[0m\u001b[0m\n\u001b[0;32m     63\u001b[0m     \u001b[1;32mif\u001b[0m \u001b[0mname\u001b[0m \u001b[1;32mis\u001b[0m \u001b[1;32mnot\u001b[0m \u001b[1;32mNone\u001b[0m\u001b[1;33m:\u001b[0m\u001b[1;33m\u001b[0m\u001b[0m\n",
      "\u001b[1;31mTypeError\u001b[0m: An op outside of the function building code is being passed\na \"Graph\" tensor. It is possible to have Graph tensors\nleak out of the function building context by including a\ntf.init_scope in your function building code.\nFor example, the following function will fail:\n  @tf.function\n  def has_init_scope():\n    my_constant = tf.constant(1.)\n    with tf.init_scope():\n      added = my_constant * 2\nThe graph tensor has name: my_rnn_cell_12/simple_rnn_cell_36/ones_like:0"
     ]
    }
   ],
   "source": [
    "EPOCHS = 5\n",
    "\n",
    "for epoch in range(EPOCHS):\n",
    "    for x, y in db_train:\n",
    "        train_step(x, y)\n",
    "\n",
    "    for test_x, test_y in db_test:\n",
    "        test_step(test_x, test_y)\n",
    "\n",
    "    template = 'Epoch {}, Loss: {:.4f}, Accuracy: {:.4f}, Test Loss: {:.4f}, Test Accuracy: {:.4f}'\n",
    "    print (template.format(epoch+1,\n",
    "                         train_loss.result(),\n",
    "                         train_accuracy.result()*100,\n",
    "                         test_loss.result(),\n",
    "                         test_accuracy.result()*100))"
   ]
  },
  {
   "cell_type": "code",
   "execution_count": null,
   "metadata": {},
   "outputs": [],
   "source": []
  }
 ],
 "metadata": {
  "kernelspec": {
   "display_name": "Python 3",
   "language": "python",
   "name": "python3"
  },
  "language_info": {
   "codemirror_mode": {
    "name": "ipython",
    "version": 3
   },
   "file_extension": ".py",
   "mimetype": "text/x-python",
   "name": "python",
   "nbconvert_exporter": "python",
   "pygments_lexer": "ipython3",
   "version": "3.6.2"
  }
 },
 "nbformat": 4,
 "nbformat_minor": 2
}
